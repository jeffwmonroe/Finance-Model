{
 "cells": [
  {
   "cell_type": "code",
   "execution_count": 1,
   "outputs": [],
   "source": [
    "from finance_model.chart_of_accounts import ChartOfAccounts, unpickle_accounts\n",
    "import pandas as pd\n",
    "import matplotlib.pyplot as plt\n",
    "import numpy as np\n",
    "import pickle"
   ],
   "metadata": {
    "collapsed": false,
    "ExecuteTime": {
     "end_time": "2023-08-12T18:56:09.004376400Z",
     "start_time": "2023-08-12T18:56:08.586553200Z"
    }
   }
  },
  {
   "cell_type": "code",
   "execution_count": 2,
   "outputs": [
    {
     "name": "stdout",
     "output_type": "stream",
     "text": [
      "Total duration for function <unpickle_accounts> is 0.0007894999871496111\n"
     ]
    }
   ],
   "source": [
    "accounts = unpickle_accounts()\n",
    "# accounts = ChartOfAccounts()"
   ],
   "metadata": {
    "collapsed": false,
    "ExecuteTime": {
     "end_time": "2023-08-12T18:56:09.008980100Z",
     "start_time": "2023-08-12T18:56:09.005377100Z"
    }
   }
  },
  {
   "cell_type": "code",
   "execution_count": null,
   "outputs": [],
   "source": [
    "# accounts.account_mapping\n",
    "# accounts.trial_balances"
   ],
   "metadata": {
    "collapsed": false
   }
  },
  {
   "cell_type": "markdown",
   "source": [
    "# Margin Calculations"
   ],
   "metadata": {
    "collapsed": false
   }
  },
  {
   "cell_type": "code",
   "execution_count": null,
   "outputs": [],
   "source": [
    "data, label, sub_data_names = accounts.get_data_to_plot('bs_is', 'is', 'category', yearly=True)\n",
    "gross_profit = data['revenue'] + data['cost of goods sold']\n",
    "net_profit = gross_profit + data['operating expenses'] + data['other expenses']\n",
    "\n",
    "revenue = data['revenue']\n",
    "net_margin = net_profit / revenue\n",
    "net_margin.name = 'net margin'\n",
    "gross_margin = gross_profit / revenue\n",
    "gross_margin.name = 'gross margin'\n",
    "\n",
    "margins = pd.concat([gross_margin,net_margin], axis=1)\n",
    "margins"
   ],
   "metadata": {
    "collapsed": false
   }
  },
  {
   "cell_type": "markdown",
   "source": [
    "# Working Capital Calculations"
   ],
   "metadata": {
    "collapsed": false
   }
  },
  {
   "cell_type": "code",
   "execution_count": null,
   "outputs": [],
   "source": [
    "asset_data, asset_label, sub_data_names = accounts.get_data_to_plot('category', 'assets', 'sub_category', yearly=True)\n",
    "liability_data, liability_label, sub_data_names = accounts.get_data_to_plot('category', 'Liabilities', 'sub_category', yearly=True)\n",
    "al_data = pd.concat([asset_data, liability_data], axis=1)\n",
    "working_capital = al_data['current assets'] + al_data['current liabilities']\n",
    "working_capital.name = 'working capital'\n",
    "working_capital"
   ],
   "metadata": {
    "collapsed": false
   }
  },
  {
   "cell_type": "code",
   "execution_count": null,
   "outputs": [],
   "source": [
    "asset_data"
   ],
   "metadata": {
    "collapsed": false
   }
  },
  {
   "cell_type": "code",
   "execution_count": null,
   "outputs": [],
   "source": [
    "current_asset_data, ca_label, ca_sub_data = accounts.get_data_to_plot('sub_category', 'current assets', 'sub_account', yearly=True)\n",
    "current_asset_data"
   ],
   "metadata": {
    "collapsed": false
   }
  },
  {
   "cell_type": "code",
   "execution_count": null,
   "outputs": [],
   "source": [
    "working_capital - current_asset_data['cash and equivelents']\n"
   ],
   "metadata": {
    "collapsed": false
   }
  },
  {
   "cell_type": "markdown",
   "source": [
    "## Getting Working Capital Info for Export"
   ],
   "metadata": {
    "collapsed": false
   }
  },
  {
   "cell_type": "code",
   "execution_count": 4,
   "outputs": [
    {
     "data": {
      "text/plain": "           bs_is     category           sub_category  \\\naccount_no                                             \n11040         bs       assets         current assets   \n11050         bs       assets         current assets   \n11060         bs       assets         current assets   \n11100         bs       assets         current assets   \n11500         bs       assets         current assets   \n11600         bs       assets         current assets   \n12000         bs       assets         current assets   \n12050         bs       assets         current assets   \n12500         bs       assets         current assets   \n17500         bs       assets           other assets   \n19200         bs       assets           other assets   \n19500         bs       assets           other assets   \n20000         bs  Liabilities    current liabilities   \n20005         bs  Liabilities    current liabilities   \n20020         bs  Liabilities    current liabilities   \n20300         bs  Liabilities    current liabilities   \n20400         bs  Liabilities    current liabilities   \n20500         bs  Liabilities    current liabilities   \n20700         bs  Liabilities    current liabilities   \n20750         bs  Liabilities    current liabilities   \n20800         bs  Liabilities    current liabilities   \n20900         bs  Liabilities    current liabilities   \n21000         bs  Liabilities  long term liabilities   \n21050         bs  Liabilities  long term liabilities   \n22250         bs  Liabilities  long term liabilities   \n22400         bs  Liabilities  long term liabilities   \n22550         bs  Liabilities  long term liabilities   \n22600         bs  Liabilities  long term liabilities   \n22650         bs  Liabilities  long term liabilities   \n24000         bs  Liabilities  long term liabilities   \n\n                            sub_account                         account  \\\naccount_no                                                                \n11040              cash and equivelents                   PNC Operating   \n11050              cash and equivelents                     PNC Payroll   \n11060              cash and equivelents                PNC Money Market   \n11100              cash and equivelents                Wells Fargo Bank   \n11500              cash and equivelents        Cash on Hand, Petty Cash   \n11600               accounts receivable      Accounts Receivable, Other   \n12000               accounts receivable             Accounts Receivable   \n12050               accounts receivable  Accounts Receivable, Employees   \n12500               accounts receivable          Deposits & Prepaid A/R   \n17500                      other assets                Prepaid Expenses   \n19200                      other assets               Intangible Assets   \n19500                      other assets        Accumulated Amortization   \n20000                  accounts payable                Accounts Payable   \n20005                  accounts payable           Negative Cash Balance   \n20020                  accounts payable        Accrued Accounts Payable   \n20300                  accrued expenses           Accrued Bonus Payable   \n20400         other current liabilities  Notes Payable 2014 Infiniti JX   \n20500         other current liabilities    Notes Payable Nat. Coop Bank   \n20700         other current liabilities     Notes Payable  2014 Transit   \n20750         other current liabilities      Wells Fargo Line of Credit   \n20800         other current liabilities     Notes Payable 2018 Chrysler   \n20900         other current liabilities         Payroll Protection Loan   \n21000                  accrued Expenses                     Accured PTO   \n21050                  accrued Expenses              Accured Sick Leave   \n22250       other long term liabilities                FFCRA Tax Credit   \n22400       other long term liabilities                 MD Unemployment   \n22550       other long term liabilities                 AFLAC Insurance   \n22600       other long term liabilities                   401 K Payable   \n22650       other long term liabilities     Employee 401 K Loan Payable   \n24000       other long term liabilities   Notes Payable, NCB, Long Term   \n\n            2017-12-31  2018-12-31  2019-12-31  2020-12-31  2021-12-31  \\\naccount_no                                                               \n11040        106161.11   132985.04        0.00    91887.83   195671.37   \n11050           157.16      578.46       34.70     3354.75     2827.51   \n11060             0.00        0.00        0.00        9.86        0.00   \n11100          1235.53     1235.53        0.00        0.00        0.00   \n11500           100.00      100.00       95.29      126.73      126.73   \n11600             0.00        0.00    10129.24        0.00        0.00   \n12000        768095.81   783485.54   993525.97  1238718.48  1173292.39   \n12050          2284.20     4661.70     3288.20        0.00        0.00   \n12500             0.00        0.00        0.00        0.00        0.00   \n17500          9212.68      106.36      348.00      232.00      116.00   \n19200       1942707.07  1942707.07  1942707.07  1942707.07  1942707.07   \n19500      -1942707.07 -1942707.07 -1942707.07 -1942707.07 -1942707.07   \n20000             0.00        0.00    -8931.79    -4767.59        0.00   \n20005             0.00        0.00   -23737.03        0.00        0.00   \n20020             0.00        0.00        0.00        0.00        0.00   \n20300             0.00        0.00        0.00        0.00        0.00   \n20400        -15553.18    -6771.88        0.00        0.00        0.00   \n20500             0.00        0.00        0.00        0.00        0.00   \n20700         -5291.68        0.00        0.00        0.00        0.00   \n20750             0.00        0.00        0.00        0.00        0.00   \n20800             0.00   -24448.38   -18695.82   -12943.26    -7190.70   \n20900             0.00        0.00        0.00        0.00        0.00   \n21000       -133953.44  -139895.15  -109685.38   -94395.76   -87258.04   \n21050             0.00        0.00    -8508.78   -26239.94   -25351.30   \n22250             0.00        0.00        0.00        0.00        0.00   \n22400             0.00        0.00        0.00        0.00        0.00   \n22550             0.00        0.00        0.00        0.00        0.00   \n22600             0.00        0.00        0.00        0.00        0.00   \n22650             0.00        0.00        0.00        0.00        0.00   \n24000             0.00        0.00        0.00        0.00        0.00   \n\n            2022-12-31  2023-06-30  \naccount_no                          \n11040         27065.96   690167.41  \n11050           201.03     1826.61  \n11060             0.00        0.00  \n11100             0.00        0.00  \n11500           100.00      100.00  \n11600             0.00        0.00  \n12000       1533534.57   774831.71  \n12050             0.00        0.00  \n12500             0.00        0.00  \n17500           377.00      377.00  \n19200             0.00        0.00  \n19500             0.00        0.00  \n20000             0.00   -77286.68  \n20005             0.00        0.00  \n20020             0.00       -0.01  \n20300             0.00   -22500.00  \n20400             0.00        0.00  \n20500             0.00        0.00  \n20700             0.00        0.00  \n20750             0.00        0.00  \n20800         -1438.14        0.00  \n20900             0.00        0.00  \n21000        -91980.11   -89811.59  \n21050        -25701.71   -25701.71  \n22250             0.00        0.00  \n22400             0.00        0.00  \n22550             0.00        0.00  \n22600             0.00        0.00  \n22650             0.00        0.00  \n24000             0.00        0.00  ",
      "text/html": "<div>\n<style scoped>\n    .dataframe tbody tr th:only-of-type {\n        vertical-align: middle;\n    }\n\n    .dataframe tbody tr th {\n        vertical-align: top;\n    }\n\n    .dataframe thead th {\n        text-align: right;\n    }\n</style>\n<table border=\"1\" class=\"dataframe\">\n  <thead>\n    <tr style=\"text-align: right;\">\n      <th></th>\n      <th>bs_is</th>\n      <th>category</th>\n      <th>sub_category</th>\n      <th>sub_account</th>\n      <th>account</th>\n      <th>2017-12-31</th>\n      <th>2018-12-31</th>\n      <th>2019-12-31</th>\n      <th>2020-12-31</th>\n      <th>2021-12-31</th>\n      <th>2022-12-31</th>\n      <th>2023-06-30</th>\n    </tr>\n    <tr>\n      <th>account_no</th>\n      <th></th>\n      <th></th>\n      <th></th>\n      <th></th>\n      <th></th>\n      <th></th>\n      <th></th>\n      <th></th>\n      <th></th>\n      <th></th>\n      <th></th>\n      <th></th>\n    </tr>\n  </thead>\n  <tbody>\n    <tr>\n      <th>11040</th>\n      <td>bs</td>\n      <td>assets</td>\n      <td>current assets</td>\n      <td>cash and equivelents</td>\n      <td>PNC Operating</td>\n      <td>106161.11</td>\n      <td>132985.04</td>\n      <td>0.00</td>\n      <td>91887.83</td>\n      <td>195671.37</td>\n      <td>27065.96</td>\n      <td>690167.41</td>\n    </tr>\n    <tr>\n      <th>11050</th>\n      <td>bs</td>\n      <td>assets</td>\n      <td>current assets</td>\n      <td>cash and equivelents</td>\n      <td>PNC Payroll</td>\n      <td>157.16</td>\n      <td>578.46</td>\n      <td>34.70</td>\n      <td>3354.75</td>\n      <td>2827.51</td>\n      <td>201.03</td>\n      <td>1826.61</td>\n    </tr>\n    <tr>\n      <th>11060</th>\n      <td>bs</td>\n      <td>assets</td>\n      <td>current assets</td>\n      <td>cash and equivelents</td>\n      <td>PNC Money Market</td>\n      <td>0.00</td>\n      <td>0.00</td>\n      <td>0.00</td>\n      <td>9.86</td>\n      <td>0.00</td>\n      <td>0.00</td>\n      <td>0.00</td>\n    </tr>\n    <tr>\n      <th>11100</th>\n      <td>bs</td>\n      <td>assets</td>\n      <td>current assets</td>\n      <td>cash and equivelents</td>\n      <td>Wells Fargo Bank</td>\n      <td>1235.53</td>\n      <td>1235.53</td>\n      <td>0.00</td>\n      <td>0.00</td>\n      <td>0.00</td>\n      <td>0.00</td>\n      <td>0.00</td>\n    </tr>\n    <tr>\n      <th>11500</th>\n      <td>bs</td>\n      <td>assets</td>\n      <td>current assets</td>\n      <td>cash and equivelents</td>\n      <td>Cash on Hand, Petty Cash</td>\n      <td>100.00</td>\n      <td>100.00</td>\n      <td>95.29</td>\n      <td>126.73</td>\n      <td>126.73</td>\n      <td>100.00</td>\n      <td>100.00</td>\n    </tr>\n    <tr>\n      <th>11600</th>\n      <td>bs</td>\n      <td>assets</td>\n      <td>current assets</td>\n      <td>accounts receivable</td>\n      <td>Accounts Receivable, Other</td>\n      <td>0.00</td>\n      <td>0.00</td>\n      <td>10129.24</td>\n      <td>0.00</td>\n      <td>0.00</td>\n      <td>0.00</td>\n      <td>0.00</td>\n    </tr>\n    <tr>\n      <th>12000</th>\n      <td>bs</td>\n      <td>assets</td>\n      <td>current assets</td>\n      <td>accounts receivable</td>\n      <td>Accounts Receivable</td>\n      <td>768095.81</td>\n      <td>783485.54</td>\n      <td>993525.97</td>\n      <td>1238718.48</td>\n      <td>1173292.39</td>\n      <td>1533534.57</td>\n      <td>774831.71</td>\n    </tr>\n    <tr>\n      <th>12050</th>\n      <td>bs</td>\n      <td>assets</td>\n      <td>current assets</td>\n      <td>accounts receivable</td>\n      <td>Accounts Receivable, Employees</td>\n      <td>2284.20</td>\n      <td>4661.70</td>\n      <td>3288.20</td>\n      <td>0.00</td>\n      <td>0.00</td>\n      <td>0.00</td>\n      <td>0.00</td>\n    </tr>\n    <tr>\n      <th>12500</th>\n      <td>bs</td>\n      <td>assets</td>\n      <td>current assets</td>\n      <td>accounts receivable</td>\n      <td>Deposits &amp; Prepaid A/R</td>\n      <td>0.00</td>\n      <td>0.00</td>\n      <td>0.00</td>\n      <td>0.00</td>\n      <td>0.00</td>\n      <td>0.00</td>\n      <td>0.00</td>\n    </tr>\n    <tr>\n      <th>17500</th>\n      <td>bs</td>\n      <td>assets</td>\n      <td>other assets</td>\n      <td>other assets</td>\n      <td>Prepaid Expenses</td>\n      <td>9212.68</td>\n      <td>106.36</td>\n      <td>348.00</td>\n      <td>232.00</td>\n      <td>116.00</td>\n      <td>377.00</td>\n      <td>377.00</td>\n    </tr>\n    <tr>\n      <th>19200</th>\n      <td>bs</td>\n      <td>assets</td>\n      <td>other assets</td>\n      <td>other assets</td>\n      <td>Intangible Assets</td>\n      <td>1942707.07</td>\n      <td>1942707.07</td>\n      <td>1942707.07</td>\n      <td>1942707.07</td>\n      <td>1942707.07</td>\n      <td>0.00</td>\n      <td>0.00</td>\n    </tr>\n    <tr>\n      <th>19500</th>\n      <td>bs</td>\n      <td>assets</td>\n      <td>other assets</td>\n      <td>other assets</td>\n      <td>Accumulated Amortization</td>\n      <td>-1942707.07</td>\n      <td>-1942707.07</td>\n      <td>-1942707.07</td>\n      <td>-1942707.07</td>\n      <td>-1942707.07</td>\n      <td>0.00</td>\n      <td>0.00</td>\n    </tr>\n    <tr>\n      <th>20000</th>\n      <td>bs</td>\n      <td>Liabilities</td>\n      <td>current liabilities</td>\n      <td>accounts payable</td>\n      <td>Accounts Payable</td>\n      <td>0.00</td>\n      <td>0.00</td>\n      <td>-8931.79</td>\n      <td>-4767.59</td>\n      <td>0.00</td>\n      <td>0.00</td>\n      <td>-77286.68</td>\n    </tr>\n    <tr>\n      <th>20005</th>\n      <td>bs</td>\n      <td>Liabilities</td>\n      <td>current liabilities</td>\n      <td>accounts payable</td>\n      <td>Negative Cash Balance</td>\n      <td>0.00</td>\n      <td>0.00</td>\n      <td>-23737.03</td>\n      <td>0.00</td>\n      <td>0.00</td>\n      <td>0.00</td>\n      <td>0.00</td>\n    </tr>\n    <tr>\n      <th>20020</th>\n      <td>bs</td>\n      <td>Liabilities</td>\n      <td>current liabilities</td>\n      <td>accounts payable</td>\n      <td>Accrued Accounts Payable</td>\n      <td>0.00</td>\n      <td>0.00</td>\n      <td>0.00</td>\n      <td>0.00</td>\n      <td>0.00</td>\n      <td>0.00</td>\n      <td>-0.01</td>\n    </tr>\n    <tr>\n      <th>20300</th>\n      <td>bs</td>\n      <td>Liabilities</td>\n      <td>current liabilities</td>\n      <td>accrued expenses</td>\n      <td>Accrued Bonus Payable</td>\n      <td>0.00</td>\n      <td>0.00</td>\n      <td>0.00</td>\n      <td>0.00</td>\n      <td>0.00</td>\n      <td>0.00</td>\n      <td>-22500.00</td>\n    </tr>\n    <tr>\n      <th>20400</th>\n      <td>bs</td>\n      <td>Liabilities</td>\n      <td>current liabilities</td>\n      <td>other current liabilities</td>\n      <td>Notes Payable 2014 Infiniti JX</td>\n      <td>-15553.18</td>\n      <td>-6771.88</td>\n      <td>0.00</td>\n      <td>0.00</td>\n      <td>0.00</td>\n      <td>0.00</td>\n      <td>0.00</td>\n    </tr>\n    <tr>\n      <th>20500</th>\n      <td>bs</td>\n      <td>Liabilities</td>\n      <td>current liabilities</td>\n      <td>other current liabilities</td>\n      <td>Notes Payable Nat. Coop Bank</td>\n      <td>0.00</td>\n      <td>0.00</td>\n      <td>0.00</td>\n      <td>0.00</td>\n      <td>0.00</td>\n      <td>0.00</td>\n      <td>0.00</td>\n    </tr>\n    <tr>\n      <th>20700</th>\n      <td>bs</td>\n      <td>Liabilities</td>\n      <td>current liabilities</td>\n      <td>other current liabilities</td>\n      <td>Notes Payable  2014 Transit</td>\n      <td>-5291.68</td>\n      <td>0.00</td>\n      <td>0.00</td>\n      <td>0.00</td>\n      <td>0.00</td>\n      <td>0.00</td>\n      <td>0.00</td>\n    </tr>\n    <tr>\n      <th>20750</th>\n      <td>bs</td>\n      <td>Liabilities</td>\n      <td>current liabilities</td>\n      <td>other current liabilities</td>\n      <td>Wells Fargo Line of Credit</td>\n      <td>0.00</td>\n      <td>0.00</td>\n      <td>0.00</td>\n      <td>0.00</td>\n      <td>0.00</td>\n      <td>0.00</td>\n      <td>0.00</td>\n    </tr>\n    <tr>\n      <th>20800</th>\n      <td>bs</td>\n      <td>Liabilities</td>\n      <td>current liabilities</td>\n      <td>other current liabilities</td>\n      <td>Notes Payable 2018 Chrysler</td>\n      <td>0.00</td>\n      <td>-24448.38</td>\n      <td>-18695.82</td>\n      <td>-12943.26</td>\n      <td>-7190.70</td>\n      <td>-1438.14</td>\n      <td>0.00</td>\n    </tr>\n    <tr>\n      <th>20900</th>\n      <td>bs</td>\n      <td>Liabilities</td>\n      <td>current liabilities</td>\n      <td>other current liabilities</td>\n      <td>Payroll Protection Loan</td>\n      <td>0.00</td>\n      <td>0.00</td>\n      <td>0.00</td>\n      <td>0.00</td>\n      <td>0.00</td>\n      <td>0.00</td>\n      <td>0.00</td>\n    </tr>\n    <tr>\n      <th>21000</th>\n      <td>bs</td>\n      <td>Liabilities</td>\n      <td>long term liabilities</td>\n      <td>accrued Expenses</td>\n      <td>Accured PTO</td>\n      <td>-133953.44</td>\n      <td>-139895.15</td>\n      <td>-109685.38</td>\n      <td>-94395.76</td>\n      <td>-87258.04</td>\n      <td>-91980.11</td>\n      <td>-89811.59</td>\n    </tr>\n    <tr>\n      <th>21050</th>\n      <td>bs</td>\n      <td>Liabilities</td>\n      <td>long term liabilities</td>\n      <td>accrued Expenses</td>\n      <td>Accured Sick Leave</td>\n      <td>0.00</td>\n      <td>0.00</td>\n      <td>-8508.78</td>\n      <td>-26239.94</td>\n      <td>-25351.30</td>\n      <td>-25701.71</td>\n      <td>-25701.71</td>\n    </tr>\n    <tr>\n      <th>22250</th>\n      <td>bs</td>\n      <td>Liabilities</td>\n      <td>long term liabilities</td>\n      <td>other long term liabilities</td>\n      <td>FFCRA Tax Credit</td>\n      <td>0.00</td>\n      <td>0.00</td>\n      <td>0.00</td>\n      <td>0.00</td>\n      <td>0.00</td>\n      <td>0.00</td>\n      <td>0.00</td>\n    </tr>\n    <tr>\n      <th>22400</th>\n      <td>bs</td>\n      <td>Liabilities</td>\n      <td>long term liabilities</td>\n      <td>other long term liabilities</td>\n      <td>MD Unemployment</td>\n      <td>0.00</td>\n      <td>0.00</td>\n      <td>0.00</td>\n      <td>0.00</td>\n      <td>0.00</td>\n      <td>0.00</td>\n      <td>0.00</td>\n    </tr>\n    <tr>\n      <th>22550</th>\n      <td>bs</td>\n      <td>Liabilities</td>\n      <td>long term liabilities</td>\n      <td>other long term liabilities</td>\n      <td>AFLAC Insurance</td>\n      <td>0.00</td>\n      <td>0.00</td>\n      <td>0.00</td>\n      <td>0.00</td>\n      <td>0.00</td>\n      <td>0.00</td>\n      <td>0.00</td>\n    </tr>\n    <tr>\n      <th>22600</th>\n      <td>bs</td>\n      <td>Liabilities</td>\n      <td>long term liabilities</td>\n      <td>other long term liabilities</td>\n      <td>401 K Payable</td>\n      <td>0.00</td>\n      <td>0.00</td>\n      <td>0.00</td>\n      <td>0.00</td>\n      <td>0.00</td>\n      <td>0.00</td>\n      <td>0.00</td>\n    </tr>\n    <tr>\n      <th>22650</th>\n      <td>bs</td>\n      <td>Liabilities</td>\n      <td>long term liabilities</td>\n      <td>other long term liabilities</td>\n      <td>Employee 401 K Loan Payable</td>\n      <td>0.00</td>\n      <td>0.00</td>\n      <td>0.00</td>\n      <td>0.00</td>\n      <td>0.00</td>\n      <td>0.00</td>\n      <td>0.00</td>\n    </tr>\n    <tr>\n      <th>24000</th>\n      <td>bs</td>\n      <td>Liabilities</td>\n      <td>long term liabilities</td>\n      <td>other long term liabilities</td>\n      <td>Notes Payable, NCB, Long Term</td>\n      <td>0.00</td>\n      <td>0.00</td>\n      <td>0.00</td>\n      <td>0.00</td>\n      <td>0.00</td>\n      <td>0.00</td>\n      <td>0.00</td>\n    </tr>\n  </tbody>\n</table>\n</div>"
     },
     "execution_count": 4,
     "metadata": {},
     "output_type": "execute_result"
    }
   ],
   "source": [
    "categories = [\"current assets\", \"other assets\", \"accounts payable\", \"current liabilities\", \"long term liabilities\"]\n",
    "data = accounts.get_data_rows('sub_category', categories, yearly=True)\n",
    "data"
   ],
   "metadata": {
    "collapsed": false,
    "ExecuteTime": {
     "end_time": "2023-08-12T18:56:22.713955800Z",
     "start_time": "2023-08-12T18:56:22.684360300Z"
    }
   }
  },
  {
   "cell_type": "code",
   "execution_count": 5,
   "outputs": [],
   "source": [
    "data.to_csv('working capital.csv')"
   ],
   "metadata": {
    "collapsed": false,
    "ExecuteTime": {
     "end_time": "2023-08-12T18:59:09.164977700Z",
     "start_time": "2023-08-12T18:59:09.137443800Z"
    }
   }
  },
  {
   "cell_type": "code",
   "execution_count": null,
   "outputs": [],
   "source": [
    "accounts.detailed_account_mapping"
   ],
   "metadata": {
    "collapsed": false
   }
  },
  {
   "cell_type": "code",
   "execution_count": null,
   "outputs": [],
   "source": [
    "data['cost of goods sold'] / data['revenue']"
   ],
   "metadata": {
    "collapsed": false
   }
  },
  {
   "cell_type": "code",
   "execution_count": null,
   "outputs": [],
   "source": [
    "accounts.trial_balances[70100]"
   ],
   "metadata": {
    "collapsed": false
   }
  },
  {
   "cell_type": "markdown",
   "source": [
    "# Calculations\n"
   ],
   "metadata": {
    "collapsed": false
   }
  },
  {
   "cell_type": "code",
   "execution_count": null,
   "outputs": [],
   "source": [
    "accounts.account_mapping"
   ],
   "metadata": {
    "collapsed": false
   }
  },
  {
   "cell_type": "code",
   "execution_count": null,
   "outputs": [],
   "source": [
    "accounts.account_mapping.columns.to_list()[2:]"
   ],
   "metadata": {
    "collapsed": false
   }
  },
  {
   "cell_type": "code",
   "execution_count": null,
   "outputs": [],
   "source": [
    "rev_data, label, sub_data_names = accounts.get_data_to_plot('sub_account', 'contract', 'account', yearly=True)"
   ],
   "metadata": {
    "collapsed": false
   }
  },
  {
   "cell_type": "code",
   "execution_count": null,
   "outputs": [],
   "source": [
    "rev_data = rev_data.T * -1\n",
    "\n",
    "rev_data"
   ],
   "metadata": {
    "collapsed": false
   }
  },
  {
   "cell_type": "code",
   "execution_count": null,
   "outputs": [],
   "source": [
    "rev_data.to_excel(\"documents/revenue by contracts.xlsx\")"
   ],
   "metadata": {
    "collapsed": false
   }
  },
  {
   "cell_type": "code",
   "execution_count": null,
   "outputs": [],
   "source": [
    "sub_data_names"
   ],
   "metadata": {
    "collapsed": false
   }
  },
  {
   "cell_type": "code",
   "execution_count": null,
   "outputs": [],
   "source": [
    "exp_data, label, sub_data_names = accounts.get_data_to_plot('category', 'operating expenses', 'account', yearly=True)"
   ],
   "metadata": {
    "collapsed": false
   }
  },
  {
   "cell_type": "code",
   "execution_count": null,
   "outputs": [],
   "source": [
    "exp_data"
   ],
   "metadata": {
    "collapsed": false
   }
  },
  {
   "cell_type": "code",
   "execution_count": null,
   "outputs": [],
   "source": [
    "exp_data['PTO']"
   ],
   "metadata": {
    "collapsed": false
   }
  },
  {
   "cell_type": "code",
   "execution_count": null,
   "outputs": [],
   "source": [
    "salaries = ['Bonus Expense', 'Direct  Overhead Labor', 'Gen. & Admin Labor']\n",
    "exp_data.loc[:, salaries].sum(axis=1)"
   ],
   "metadata": {
    "collapsed": false
   }
  },
  {
   "cell_type": "code",
   "execution_count": null,
   "outputs": [],
   "source": [
    "fin_map = pd.read_excel('documents/finance map.xlsx')\n",
    "benefit_bool = fin_map['bank cat'] == 'Employee Benefits'\n",
    "wage_bool = fin_map['bank cat'] == 'Salaries & Wages'"
   ],
   "metadata": {
    "collapsed": false
   }
  },
  {
   "cell_type": "code",
   "execution_count": null,
   "outputs": [],
   "source": [
    "wage = fin_map.loc[wage_bool, 'trial balance'].to_list()\n",
    "exp_data.loc[:, wage].T"
   ],
   "metadata": {
    "collapsed": false
   }
  },
  {
   "cell_type": "code",
   "execution_count": null,
   "outputs": [],
   "source": [
    "benefit = fin_map.loc[benefit_bool, 'trial balance'].to_list()\n",
    "exp_data.loc[:, benefit].T"
   ],
   "metadata": {
    "collapsed": false
   }
  },
  {
   "cell_type": "code",
   "execution_count": null,
   "outputs": [],
   "source": [
    "fica = exp_data['FICA & Med. Withholding']"
   ],
   "metadata": {
    "collapsed": false
   }
  },
  {
   "cell_type": "code",
   "execution_count": null,
   "outputs": [],
   "source": [
    "fica / revenue"
   ],
   "metadata": {
    "collapsed": false
   }
  },
  {
   "cell_type": "code",
   "execution_count": null,
   "outputs": [],
   "source": [
    "cogs_data, label, sub_data_names = accounts.get_data_to_plot('sub_account', 'cost of goods sold', 'account', yearly=True)"
   ],
   "metadata": {
    "collapsed": false
   }
  },
  {
   "cell_type": "code",
   "execution_count": null,
   "outputs": [],
   "source": [
    "cogs_data.T"
   ],
   "metadata": {
    "collapsed": false
   }
  },
  {
   "cell_type": "code",
   "execution_count": null,
   "outputs": [],
   "source": [
    "revenue"
   ],
   "metadata": {
    "collapsed": false
   }
  },
  {
   "cell_type": "markdown",
   "source": [
    "# Trial Balance Read Code"
   ],
   "metadata": {
    "collapsed": false
   }
  },
  {
   "cell_type": "code",
   "execution_count": null,
   "outputs": [],
   "source": [
    "from finance_model.read_trial_balances import read_trial_balance, clean_trial_balance\n",
    "\n",
    "file_name = 'HazTrain TB.2023 by month GENAESIS Confidential.xlsx'\n",
    "path = f'documents\\\\trial_balances\\\\{file_name}'\n",
    "xls = pd.ExcelFile(path)\n",
    "year = 2023\n",
    "month = 5\n",
    "\n",
    "jun23 = read_trial_balance(xls, year, month)"
   ],
   "metadata": {
    "collapsed": false
   }
  },
  {
   "cell_type": "code",
   "execution_count": null,
   "outputs": [],
   "source": [
    "jun23"
   ],
   "metadata": {
    "collapsed": false
   }
  },
  {
   "cell_type": "code",
   "execution_count": null,
   "outputs": [],
   "source": [
    "clean_trial_balance(jun23)"
   ],
   "metadata": {
    "collapsed": false
   }
  },
  {
   "cell_type": "code",
   "execution_count": null,
   "outputs": [],
   "source": [
    "    jun23 = jun23.set_axis([\"id\", \"description\", \"debit\", \"credit\"], axis=1)\n",
    "    jun23 = jun23.astype({'id': int})\n",
    "    jun23 = jun23.set_index('id')\n",
    "\n"
   ],
   "metadata": {
    "collapsed": false
   }
  },
  {
   "cell_type": "code",
   "execution_count": null,
   "outputs": [],
   "source": [
    "jun23"
   ],
   "metadata": {
    "collapsed": false
   }
  },
  {
   "cell_type": "code",
   "execution_count": null,
   "outputs": [],
   "source": [
    "jun23[[0]]"
   ],
   "metadata": {
    "collapsed": false
   }
  },
  {
   "cell_type": "code",
   "execution_count": null,
   "outputs": [],
   "source": [
    "xls.close()"
   ],
   "metadata": {
    "collapsed": false
   }
  },
  {
   "cell_type": "code",
   "execution_count": null,
   "outputs": [],
   "source": [
    "0 in jun23.index"
   ],
   "metadata": {
    "collapsed": false
   }
  },
  {
   "cell_type": "code",
   "execution_count": null,
   "outputs": [],
   "source": [],
   "metadata": {
    "collapsed": false
   }
  }
 ],
 "metadata": {
  "kernelspec": {
   "display_name": "Python 3",
   "language": "python",
   "name": "python3"
  },
  "language_info": {
   "codemirror_mode": {
    "name": "ipython",
    "version": 2
   },
   "file_extension": ".py",
   "mimetype": "text/x-python",
   "name": "python",
   "nbconvert_exporter": "python",
   "pygments_lexer": "ipython2",
   "version": "2.7.6"
  }
 },
 "nbformat": 4,
 "nbformat_minor": 0
}
