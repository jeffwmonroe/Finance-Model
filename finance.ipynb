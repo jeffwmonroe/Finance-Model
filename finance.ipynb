{
 "cells": [
  {
   "cell_type": "code",
   "execution_count": 1,
   "outputs": [],
   "source": [
    "from finance_model.chart_of_accounts import ChartOfAccounts, unpickle_accounts\n",
    "import pandas as pd\n",
    "import matplotlib.pyplot as plt\n",
    "import numpy as np\n",
    "import pickle"
   ],
   "metadata": {
    "collapsed": false,
    "ExecuteTime": {
     "end_time": "2023-08-06T17:56:30.451244500Z",
     "start_time": "2023-08-06T17:56:29.989539300Z"
    }
   }
  },
  {
   "cell_type": "code",
   "execution_count": 2,
   "outputs": [
    {
     "name": "stdout",
     "output_type": "stream",
     "text": [
      "Total duration for function <unpickle_accounts> is 0.0010633999481797218\n"
     ]
    }
   ],
   "source": [
    "accounts = unpickle_accounts()\n",
    "# accounts = ChartOfAccounts()"
   ],
   "metadata": {
    "collapsed": false,
    "ExecuteTime": {
     "end_time": "2023-08-06T17:56:30.459214700Z",
     "start_time": "2023-08-06T17:56:30.452754900Z"
    }
   }
  },
  {
   "cell_type": "code",
   "execution_count": 5,
   "outputs": [
    {
     "data": {
      "text/plain": "                 11040    11050  11060     11100  11500  11600       12000  \\\n2017-01-31   206481.42   359.08    0.0  96544.28  100.0    0.0  1207531.78   \n2017-02-28   593226.37   186.51    0.0   1235.53  100.0    0.0   939495.12   \n2017-03-31   519427.85   283.56    0.0   1235.53  100.0    0.0  1195027.36   \n2017-04-30   614920.67    88.73    0.0   1235.53  100.0    0.0  1246457.11   \n2017-05-31   634201.97   110.36    0.0   1235.53  100.0    0.0   902211.29   \n...                ...      ...    ...       ...    ...    ...         ...   \n2023-01-31   737289.83  1207.69    0.0      0.00  100.0    0.0  1082932.01   \n2023-02-28  1238993.67  1817.49    0.0      0.00  100.0    0.0   964546.39   \n2023-03-31  1089580.81  1833.92    0.0      0.00  100.0    0.0  1231335.82   \n2023-04-30  1367670.96  2953.41    0.0      0.00  100.0    0.0  1349454.86   \n2023-05-31  1312552.22  2347.36    0.0      0.00  100.0    0.0  1301002.33   \n\n             12050  12500    14700  ...  85000    86000    87000    88000  \\\n2017-01-31     0.0    0.0  13100.0  ...    0.0   9000.0   854.44   646.50   \n2017-02-28     0.0    0.0  13100.0  ...    0.0  18000.0  1733.79   929.00   \n2017-03-31     0.0    0.0  13100.0  ...    0.0  27000.0  2646.39  1031.50   \n2017-04-30  2958.5    0.0  13100.0  ...    0.0  36000.0  3853.76  1629.00   \n2017-05-31  2866.5    0.0  13100.0  ...    0.0  45000.0  4751.65  1660.25   \n...            ...    ...      ...  ...    ...      ...      ...      ...   \n2023-01-31     0.0    0.0  13100.0  ...  210.0  11000.0  1144.22   714.85   \n2023-02-28     0.0    0.0  13100.0  ...  210.0  22000.0  2520.05  1159.85   \n2023-03-31     0.0    0.0  13100.0  ...  210.0  33000.0  4015.54  1279.85   \n2023-04-30     0.0    0.0  13100.0  ...  210.0  44000.0  4871.91  2034.85   \n2023-05-31     0.0    0.0  13100.0  ...  210.0  55000.0  6327.62  2094.85   \n\n              89000    91000  91500    91700  94000    95000  \n2017-01-31      0.0   410.39    0.0   306.62    0.0    84.48  \n2017-02-28      0.0  1089.22    0.0   306.62    0.0   -59.51  \n2017-03-31      0.0  1400.64    0.0   790.51    0.0   108.86  \n2017-04-30      0.0  1633.95    0.0  1097.13    0.0   163.85  \n2017-05-31      0.0  1876.95    0.0  1097.13  300.0   172.36  \n...             ...      ...    ...      ...    ...      ...  \n2023-01-31      0.0     0.00    0.0     0.00    0.0     0.00  \n2023-02-28      0.0     0.00    0.0   857.01    0.0    14.66  \n2023-03-31 -54990.0     0.00    0.0   857.01    0.0   672.58  \n2023-04-30 -54990.0     0.00    0.0   857.01    0.0  1006.33  \n2023-05-31 -33990.0     0.00    0.0   857.01  300.0   729.23  \n\n[77 rows x 118 columns]",
      "text/html": "<div>\n<style scoped>\n    .dataframe tbody tr th:only-of-type {\n        vertical-align: middle;\n    }\n\n    .dataframe tbody tr th {\n        vertical-align: top;\n    }\n\n    .dataframe thead th {\n        text-align: right;\n    }\n</style>\n<table border=\"1\" class=\"dataframe\">\n  <thead>\n    <tr style=\"text-align: right;\">\n      <th></th>\n      <th>11040</th>\n      <th>11050</th>\n      <th>11060</th>\n      <th>11100</th>\n      <th>11500</th>\n      <th>11600</th>\n      <th>12000</th>\n      <th>12050</th>\n      <th>12500</th>\n      <th>14700</th>\n      <th>...</th>\n      <th>85000</th>\n      <th>86000</th>\n      <th>87000</th>\n      <th>88000</th>\n      <th>89000</th>\n      <th>91000</th>\n      <th>91500</th>\n      <th>91700</th>\n      <th>94000</th>\n      <th>95000</th>\n    </tr>\n  </thead>\n  <tbody>\n    <tr>\n      <th>2017-01-31</th>\n      <td>206481.42</td>\n      <td>359.08</td>\n      <td>0.0</td>\n      <td>96544.28</td>\n      <td>100.0</td>\n      <td>0.0</td>\n      <td>1207531.78</td>\n      <td>0.0</td>\n      <td>0.0</td>\n      <td>13100.0</td>\n      <td>...</td>\n      <td>0.0</td>\n      <td>9000.0</td>\n      <td>854.44</td>\n      <td>646.50</td>\n      <td>0.0</td>\n      <td>410.39</td>\n      <td>0.0</td>\n      <td>306.62</td>\n      <td>0.0</td>\n      <td>84.48</td>\n    </tr>\n    <tr>\n      <th>2017-02-28</th>\n      <td>593226.37</td>\n      <td>186.51</td>\n      <td>0.0</td>\n      <td>1235.53</td>\n      <td>100.0</td>\n      <td>0.0</td>\n      <td>939495.12</td>\n      <td>0.0</td>\n      <td>0.0</td>\n      <td>13100.0</td>\n      <td>...</td>\n      <td>0.0</td>\n      <td>18000.0</td>\n      <td>1733.79</td>\n      <td>929.00</td>\n      <td>0.0</td>\n      <td>1089.22</td>\n      <td>0.0</td>\n      <td>306.62</td>\n      <td>0.0</td>\n      <td>-59.51</td>\n    </tr>\n    <tr>\n      <th>2017-03-31</th>\n      <td>519427.85</td>\n      <td>283.56</td>\n      <td>0.0</td>\n      <td>1235.53</td>\n      <td>100.0</td>\n      <td>0.0</td>\n      <td>1195027.36</td>\n      <td>0.0</td>\n      <td>0.0</td>\n      <td>13100.0</td>\n      <td>...</td>\n      <td>0.0</td>\n      <td>27000.0</td>\n      <td>2646.39</td>\n      <td>1031.50</td>\n      <td>0.0</td>\n      <td>1400.64</td>\n      <td>0.0</td>\n      <td>790.51</td>\n      <td>0.0</td>\n      <td>108.86</td>\n    </tr>\n    <tr>\n      <th>2017-04-30</th>\n      <td>614920.67</td>\n      <td>88.73</td>\n      <td>0.0</td>\n      <td>1235.53</td>\n      <td>100.0</td>\n      <td>0.0</td>\n      <td>1246457.11</td>\n      <td>2958.5</td>\n      <td>0.0</td>\n      <td>13100.0</td>\n      <td>...</td>\n      <td>0.0</td>\n      <td>36000.0</td>\n      <td>3853.76</td>\n      <td>1629.00</td>\n      <td>0.0</td>\n      <td>1633.95</td>\n      <td>0.0</td>\n      <td>1097.13</td>\n      <td>0.0</td>\n      <td>163.85</td>\n    </tr>\n    <tr>\n      <th>2017-05-31</th>\n      <td>634201.97</td>\n      <td>110.36</td>\n      <td>0.0</td>\n      <td>1235.53</td>\n      <td>100.0</td>\n      <td>0.0</td>\n      <td>902211.29</td>\n      <td>2866.5</td>\n      <td>0.0</td>\n      <td>13100.0</td>\n      <td>...</td>\n      <td>0.0</td>\n      <td>45000.0</td>\n      <td>4751.65</td>\n      <td>1660.25</td>\n      <td>0.0</td>\n      <td>1876.95</td>\n      <td>0.0</td>\n      <td>1097.13</td>\n      <td>300.0</td>\n      <td>172.36</td>\n    </tr>\n    <tr>\n      <th>...</th>\n      <td>...</td>\n      <td>...</td>\n      <td>...</td>\n      <td>...</td>\n      <td>...</td>\n      <td>...</td>\n      <td>...</td>\n      <td>...</td>\n      <td>...</td>\n      <td>...</td>\n      <td>...</td>\n      <td>...</td>\n      <td>...</td>\n      <td>...</td>\n      <td>...</td>\n      <td>...</td>\n      <td>...</td>\n      <td>...</td>\n      <td>...</td>\n      <td>...</td>\n      <td>...</td>\n    </tr>\n    <tr>\n      <th>2023-01-31</th>\n      <td>737289.83</td>\n      <td>1207.69</td>\n      <td>0.0</td>\n      <td>0.00</td>\n      <td>100.0</td>\n      <td>0.0</td>\n      <td>1082932.01</td>\n      <td>0.0</td>\n      <td>0.0</td>\n      <td>13100.0</td>\n      <td>...</td>\n      <td>210.0</td>\n      <td>11000.0</td>\n      <td>1144.22</td>\n      <td>714.85</td>\n      <td>0.0</td>\n      <td>0.00</td>\n      <td>0.0</td>\n      <td>0.00</td>\n      <td>0.0</td>\n      <td>0.00</td>\n    </tr>\n    <tr>\n      <th>2023-02-28</th>\n      <td>1238993.67</td>\n      <td>1817.49</td>\n      <td>0.0</td>\n      <td>0.00</td>\n      <td>100.0</td>\n      <td>0.0</td>\n      <td>964546.39</td>\n      <td>0.0</td>\n      <td>0.0</td>\n      <td>13100.0</td>\n      <td>...</td>\n      <td>210.0</td>\n      <td>22000.0</td>\n      <td>2520.05</td>\n      <td>1159.85</td>\n      <td>0.0</td>\n      <td>0.00</td>\n      <td>0.0</td>\n      <td>857.01</td>\n      <td>0.0</td>\n      <td>14.66</td>\n    </tr>\n    <tr>\n      <th>2023-03-31</th>\n      <td>1089580.81</td>\n      <td>1833.92</td>\n      <td>0.0</td>\n      <td>0.00</td>\n      <td>100.0</td>\n      <td>0.0</td>\n      <td>1231335.82</td>\n      <td>0.0</td>\n      <td>0.0</td>\n      <td>13100.0</td>\n      <td>...</td>\n      <td>210.0</td>\n      <td>33000.0</td>\n      <td>4015.54</td>\n      <td>1279.85</td>\n      <td>-54990.0</td>\n      <td>0.00</td>\n      <td>0.0</td>\n      <td>857.01</td>\n      <td>0.0</td>\n      <td>672.58</td>\n    </tr>\n    <tr>\n      <th>2023-04-30</th>\n      <td>1367670.96</td>\n      <td>2953.41</td>\n      <td>0.0</td>\n      <td>0.00</td>\n      <td>100.0</td>\n      <td>0.0</td>\n      <td>1349454.86</td>\n      <td>0.0</td>\n      <td>0.0</td>\n      <td>13100.0</td>\n      <td>...</td>\n      <td>210.0</td>\n      <td>44000.0</td>\n      <td>4871.91</td>\n      <td>2034.85</td>\n      <td>-54990.0</td>\n      <td>0.00</td>\n      <td>0.0</td>\n      <td>857.01</td>\n      <td>0.0</td>\n      <td>1006.33</td>\n    </tr>\n    <tr>\n      <th>2023-05-31</th>\n      <td>1312552.22</td>\n      <td>2347.36</td>\n      <td>0.0</td>\n      <td>0.00</td>\n      <td>100.0</td>\n      <td>0.0</td>\n      <td>1301002.33</td>\n      <td>0.0</td>\n      <td>0.0</td>\n      <td>13100.0</td>\n      <td>...</td>\n      <td>210.0</td>\n      <td>55000.0</td>\n      <td>6327.62</td>\n      <td>2094.85</td>\n      <td>-33990.0</td>\n      <td>0.00</td>\n      <td>0.0</td>\n      <td>857.01</td>\n      <td>300.0</td>\n      <td>729.23</td>\n    </tr>\n  </tbody>\n</table>\n<p>77 rows × 118 columns</p>\n</div>"
     },
     "execution_count": 5,
     "metadata": {},
     "output_type": "execute_result"
    }
   ],
   "source": [
    "accounts.account_mapping\n",
    "accounts.trial_balances"
   ],
   "metadata": {
    "collapsed": false,
    "ExecuteTime": {
     "end_time": "2023-08-06T17:56:50.479671300Z",
     "start_time": "2023-08-06T17:56:50.475206Z"
    }
   }
  },
  {
   "cell_type": "code",
   "execution_count": 4,
   "outputs": [
    {
     "name": "stdout",
     "output_type": "stream",
     "text": [
      "get_data_to_plot bs_is\n",
      "Total duration for function <get_data_to_plot> is 0.00484040001174435\n"
     ]
    }
   ],
   "source": [
    "data, label, sub_data_names = accounts.get_data_to_plot('bs_is', 'is', 'category', yearly=True)"
   ],
   "metadata": {
    "collapsed": false,
    "ExecuteTime": {
     "end_time": "2023-08-06T17:56:41.923154100Z",
     "start_time": "2023-08-06T17:56:41.919703200Z"
    }
   }
  },
  {
   "cell_type": "code",
   "execution_count": null,
   "outputs": [],
   "source": [
    "data"
   ],
   "metadata": {
    "collapsed": false
   }
  },
  {
   "cell_type": "code",
   "execution_count": null,
   "outputs": [],
   "source": [
    "net_profit = data['revenue'] + data['cost of goods sold'] + data['operating expenses'] + data['other expenses']\n"
   ],
   "metadata": {
    "collapsed": false
   }
  },
  {
   "cell_type": "code",
   "execution_count": null,
   "outputs": [],
   "source": [
    "revenue = data['revenue']\n"
   ],
   "metadata": {
    "collapsed": false
   }
  },
  {
   "cell_type": "code",
   "execution_count": null,
   "outputs": [],
   "source": [
    "net_margin = net_profit / revenue"
   ],
   "metadata": {
    "collapsed": false
   }
  },
  {
   "cell_type": "code",
   "execution_count": null,
   "outputs": [],
   "source": [
    "net_margin"
   ],
   "metadata": {
    "collapsed": false
   }
  },
  {
   "cell_type": "markdown",
   "source": [],
   "metadata": {
    "collapsed": false
   }
  },
  {
   "cell_type": "code",
   "execution_count": 6,
   "outputs": [],
   "source": [
    "tb = accounts.trial_balances.copy()\n",
    "if True:\n",
    "    tb['year'] = [date[:4] for date in tb.index]\n",
    "    grp = tb.groupby('year')\n",
    "    tb = grp.tail(1).iloc[:, :-1]\n",
    "tb = tb.T"
   ],
   "metadata": {
    "collapsed": false,
    "ExecuteTime": {
     "end_time": "2023-08-06T17:57:52.719577300Z",
     "start_time": "2023-08-06T17:57:52.710060700Z"
    }
   }
  },
  {
   "cell_type": "code",
   "execution_count": 36,
   "outputs": [
    {
     "data": {
      "text/plain": "2017-12-31    339872.78\n2018-12-31    336203.01\n2019-12-31    320366.60\n2020-12-31    387749.11\n2021-12-31    348786.20\n2022-12-31    355613.74\n2023-05-31    143933.77\ndtype: float64"
     },
     "execution_count": 36,
     "metadata": {},
     "output_type": "execute_result"
    }
   ],
   "source": [
    "tb\n",
    "year_grp = grp.tail(1)\n",
    "grp.size()\n",
    "grp.groups\n",
    "grp.first()\n",
    "\n",
    "year_grp[[70100, 81100, 81200]]\n",
    "\n",
    "year_grp.loc[:,[70100, 81100, 81200]].sum(axis=1)"
   ],
   "metadata": {
    "collapsed": false,
    "ExecuteTime": {
     "end_time": "2023-08-06T19:01:13.848745800Z",
     "start_time": "2023-08-06T19:01:13.839774Z"
    }
   }
  },
  {
   "cell_type": "code",
   "execution_count": 21,
   "outputs": [
    {
     "name": "stdout",
     "output_type": "stream",
     "text": [
      "acc = (11040, PNC Operating, debit, bs)\"\n",
      "acc = (11050, PNC Payroll, debit, bs)\"\n",
      "acc = (11060, PNC Money Market, debit, bs)\"\n",
      "acc = (11100, Wells Fargo Bank, debit, bs)\"\n",
      "acc = (11500, Cash on Hand, Petty Cash, debit, bs)\"\n",
      "acc = (11600, Accounts Receivable, Other, debit, bs)\"\n",
      "acc = (12000, Accounts Receivable, debit, bs)\"\n",
      "acc = (12050, Accounts Receivable, Employees, debit, bs)\"\n",
      "acc = (12500, Deposits & Prepaid A/R, credit, bs)\"\n",
      "acc = (14700, Furniture & Fixtures, debit, bs)\"\n",
      "acc = (15000, Machinery & Equipment, debit, bs)\"\n",
      "acc = (15200, Building, debit, bs)\"\n",
      "acc = (15700, Vehicles, debit, bs)\"\n",
      "acc = (16000, Accumulated Depreciation, credit, bs)\"\n",
      "acc = (17500, Prepaid Expenses, debit, bs)\"\n",
      "acc = (19200, Intangible Assets, debit, bs)\"\n",
      "acc = (19500, Accumulated Amortization, credit, bs)\"\n",
      "acc = (20000, Accounts Payable, credit, bs)\"\n",
      "acc = (20005, Negative Cash Balance, credit, bs)\"\n",
      "acc = (20020, Accrued Accounts Payable, credit, bs)\"\n",
      "acc = (20300, Accrued Bonus Payable, credit, bs)\"\n",
      "acc = (20400, Notes Payable 2014 Infiniti JX, credit, bs)\"\n",
      "acc = (20500, Notes Payable Nat. Coop Bank, credit, bs)\"\n",
      "acc = (20700, Notes Payable  2014 Transit, credit, bs)\"\n",
      "acc = (20750, Wells Fargo Line of Credit, credit, bs)\"\n",
      "acc = (20800, Notes Payable 2018 Chrysler, credit, bs)\"\n",
      "acc = (20900, Payroll Protection Loan, credit, bs)\"\n",
      "acc = (21000, Accured PTO, credit, bs)\"\n",
      "acc = (21050, Accured Sick Leave, credit, bs)\"\n",
      "acc = (22250, FFCRA Tax Credit, credit, bs)\"\n",
      "acc = (22400, MD Unemployment, credit, bs)\"\n",
      "acc = (22550, AFLAC Insurance, credit, bs)\"\n",
      "acc = (22600, 401 K Payable, debit, bs)\"\n",
      "acc = (22650, Employee 401 K Loan Payable, debit, bs)\"\n",
      "acc = (24000, Notes Payable, NCB, Long Term, credit, bs)\"\n",
      "acc = (27000, Capitol Stock, credit, bs)\"\n",
      "acc = (27100, Distributions, debit, bs)\"\n",
      "acc = (27600, Owners Equity, credit, bs)\"\n",
      "acc = (28000, Retained Earnings, credit, bs)\"\n",
      "acc = (30100, CECOS, credit, is)\"\n",
      "acc = (30150, CECOS Support, credit, is)\"\n",
      "acc = (30220, PAX/ MATERIALS CONTRACT, credit, is)\"\n",
      "acc = (30250, Regional Haz. Waste, credit, is)\"\n",
      "acc = (30300, NAVOSH/HSIRM, credit, is)\"\n",
      "acc = (30350, Ft Belvoir Contract, credit, is)\"\n",
      "acc = (30400, EPA, credit, is)\"\n",
      "acc = (30600, Private Industry, credit, is)\"\n",
      "acc = (30800, GOVERNMENT, credit, is)\"\n",
      "acc = (30900, GSA, credit, is)\"\n",
      "acc = (31000, WACO/LOCAL PRIVATE, credit, is)\"\n",
      "acc = (31100, ENVIROSPECTRUM, credit, is)\"\n",
      "acc = (34500, Interest  Income, credit, is)\"\n",
      "acc = (34600, Other Income, credit, is)\"\n",
      "acc = (34601, Paycheck Protection PNC  Loan, credit, is)\"\n",
      "acc = (35000, Gain/Loss on Sale, credit, is)\"\n",
      "acc = (40010, Grant Income, credit, is)\"\n",
      "acc = (40011, PPP Forgiveness Income, credit, is)\"\n",
      "acc = (41000, Direct Labor, debit, is)\"\n",
      "acc = (42000, Contracted Services, debit, is)\"\n",
      "acc = (43000, Travel, debit, is)\"\n",
      "acc = (47000, Direct Material Expenses, debit, is)\"\n",
      "acc = (48000, Other Direct Costs, debit, is)\"\n",
      "acc = (50150, Bonus Expense, debit, is)\"\n",
      "acc = (50160, PTO, debit, is)\"\n",
      "acc = (50165, Sick Leave Expense, debit, is)\"\n",
      "acc = (50170, 401 K  Employer Match, debit, is)\"\n",
      "acc = (50180, Paid Holidays, debit, is)\"\n",
      "acc = (50300, Health Benefits, debit, is)\"\n",
      "acc = (50350, SCA Health & Welfare, debit, is)\"\n",
      "acc = (50400, Disability & Life Insurance, debit, is)\"\n",
      "acc = (50600, FICA & Med. Withholding, debit, is)\"\n",
      "acc = (50800, 401 K Adm. Fees/Principal, debit, is)\"\n",
      "acc = (50900, FUTA Payable, debit, is)\"\n",
      "acc = (51000, MD Unemployment Expense, debit, is)\"\n",
      "acc = (51500, Florida Unemployment, debit, is)\"\n",
      "acc = (52000, Workmans Compensation, debit, is)\"\n",
      "acc = (52500, Other Fringe, debit, is)\"\n",
      "acc = (52510, EPSL1, debit, is)\"\n",
      "acc = (52515, EPSL2, debit, is)\"\n",
      "acc = (52520, Employee Retention Credit, credit, is)\"\n",
      "acc = (53000, Employee Relations, debit, is)\"\n",
      "acc = (54000, Engineering Materials, debit, is)\"\n",
      "acc = (55000, Hazmart Expenses, debit, is)\"\n",
      "acc = (60100, IFF Fee/GSA, debit, is)\"\n",
      "acc = (60500, Payroll Suspense, debit, is)\"\n",
      "acc = (61000, Licenses & Certifications, debit, is)\"\n",
      "acc = (62000, Insurance Expense, debit, is)\"\n",
      "acc = (63000, Postage & Shipping, debit, is)\"\n",
      "acc = (64000, Computer Equipment & Software, debit, is)\"\n",
      "acc = (65000, Repair & Maintenance, Bldg., debit, is)\"\n",
      "acc = (67000, Telephone, debit, is)\"\n",
      "acc = (67500, Training Materials & Supplies, debit, is)\"\n",
      "acc = (68000, Utilities, debit, is)\"\n",
      "acc = (69000, Depreciation, debit, is)\"\n",
      "acc = (70100, Direct  Overhead Labor, debit, is)\"\n",
      "acc = (71000, Internet & E mail expenses, debit, is)\"\n",
      "acc = (72500, Office Supplies & Expenses, debit, is)\"\n",
      "acc = (73500, Rentals & Leases,  Equipment, debit, is)\"\n",
      "acc = (74500, Rentals & Leases, Auto, debit, is)\"\n",
      "acc = (75500, Misc. Expenses, debit, is)\"\n",
      "acc = (78000, Travel, Not job related, debit, is)\"\n",
      "acc = (78500, Meals & Entertainment, debit, is)\"\n",
      "acc = (79500, Vehicle Maintenance & Expenses, debit, is)\"\n",
      "acc = (81000, Officers Salary, debit, is)\"\n",
      "acc = (81100, Gen. & Admin Labor, debit, is)\"\n",
      "acc = (81200, Bid & Proposal Labor, debit, is)\"\n",
      "acc = (83000, Legal & Accounting, debit, is)\"\n",
      "acc = (84000, Advertising & Marketing Expens, debit, is)\"\n",
      "acc = (85000, Consulting Fees, debit, is)\"\n",
      "acc = (86000, Rentals, Office, debit, is)\"\n",
      "acc = (87000, Bank Charges & Credit Card Fee, debit, is)\"\n",
      "acc = (88000, Dues & Subscriptions, debit, is)\"\n",
      "acc = (89000, Tax filing fees, debit, is)\"\n",
      "acc = (91000, Interest Expense, debit, is)\"\n",
      "acc = (91500, Contributions, debit, is)\"\n",
      "acc = (91700, Officer Insurance, debit, is)\"\n",
      "acc = (94000, Personal Property Taxes, debit, is)\"\n",
      "acc = (95000, Misc. Unallowable Expense, debit, is)\"\n"
     ]
    }
   ],
   "source": [
    "acc_nos = [key for key in accounts.accounts.keys()]\n",
    "acc_nos.sort()\n",
    "for acc in acc_nos:\n",
    "    print(f'acc = {accounts.accounts[acc]}')"
   ],
   "metadata": {
    "collapsed": false,
    "ExecuteTime": {
     "end_time": "2023-08-06T18:47:53.867011500Z",
     "start_time": "2023-08-06T18:47:53.863473Z"
    }
   }
  },
  {
   "cell_type": "code",
   "execution_count": 23,
   "outputs": [
    {
     "data": {
      "text/plain": "     account_no bs_is        category    sub_category           sub_account  \\\n0         11040    bs          assets  current assets  cash and equivelents   \n1         11050    bs          assets  current assets  cash and equivelents   \n2         11060    bs          assets  current assets  cash and equivelents   \n3         11100    bs          assets  current assets  cash and equivelents   \n4         11500    bs          assets  current assets  cash and equivelents   \n..          ...   ...             ...             ...                   ...   \n113       91000    is  other expenses     Unallowable           Unallowable   \n114       91500    is  other expenses     Unallowable           Unallowable   \n115       91700    is  other expenses     Unallowable           Unallowable   \n116       94000    is  other expenses     Unallowable           Unallowable   \n117       95000    is  other expenses     Unallowable           Unallowable   \n\n                       account  \n0                PNC Operating  \n1                  PNC Payroll  \n2             PNC Money Market  \n3             Wells Fargo Bank  \n4     Cash on Hand, Petty Cash  \n..                         ...  \n113           Interest Expense  \n114              Contributions  \n115          Officer Insurance  \n116    Personal Property Taxes  \n117  Misc. Unallowable Expense  \n\n[118 rows x 6 columns]",
      "text/html": "<div>\n<style scoped>\n    .dataframe tbody tr th:only-of-type {\n        vertical-align: middle;\n    }\n\n    .dataframe tbody tr th {\n        vertical-align: top;\n    }\n\n    .dataframe thead th {\n        text-align: right;\n    }\n</style>\n<table border=\"1\" class=\"dataframe\">\n  <thead>\n    <tr style=\"text-align: right;\">\n      <th></th>\n      <th>account_no</th>\n      <th>bs_is</th>\n      <th>category</th>\n      <th>sub_category</th>\n      <th>sub_account</th>\n      <th>account</th>\n    </tr>\n  </thead>\n  <tbody>\n    <tr>\n      <th>0</th>\n      <td>11040</td>\n      <td>bs</td>\n      <td>assets</td>\n      <td>current assets</td>\n      <td>cash and equivelents</td>\n      <td>PNC Operating</td>\n    </tr>\n    <tr>\n      <th>1</th>\n      <td>11050</td>\n      <td>bs</td>\n      <td>assets</td>\n      <td>current assets</td>\n      <td>cash and equivelents</td>\n      <td>PNC Payroll</td>\n    </tr>\n    <tr>\n      <th>2</th>\n      <td>11060</td>\n      <td>bs</td>\n      <td>assets</td>\n      <td>current assets</td>\n      <td>cash and equivelents</td>\n      <td>PNC Money Market</td>\n    </tr>\n    <tr>\n      <th>3</th>\n      <td>11100</td>\n      <td>bs</td>\n      <td>assets</td>\n      <td>current assets</td>\n      <td>cash and equivelents</td>\n      <td>Wells Fargo Bank</td>\n    </tr>\n    <tr>\n      <th>4</th>\n      <td>11500</td>\n      <td>bs</td>\n      <td>assets</td>\n      <td>current assets</td>\n      <td>cash and equivelents</td>\n      <td>Cash on Hand, Petty Cash</td>\n    </tr>\n    <tr>\n      <th>...</th>\n      <td>...</td>\n      <td>...</td>\n      <td>...</td>\n      <td>...</td>\n      <td>...</td>\n      <td>...</td>\n    </tr>\n    <tr>\n      <th>113</th>\n      <td>91000</td>\n      <td>is</td>\n      <td>other expenses</td>\n      <td>Unallowable</td>\n      <td>Unallowable</td>\n      <td>Interest Expense</td>\n    </tr>\n    <tr>\n      <th>114</th>\n      <td>91500</td>\n      <td>is</td>\n      <td>other expenses</td>\n      <td>Unallowable</td>\n      <td>Unallowable</td>\n      <td>Contributions</td>\n    </tr>\n    <tr>\n      <th>115</th>\n      <td>91700</td>\n      <td>is</td>\n      <td>other expenses</td>\n      <td>Unallowable</td>\n      <td>Unallowable</td>\n      <td>Officer Insurance</td>\n    </tr>\n    <tr>\n      <th>116</th>\n      <td>94000</td>\n      <td>is</td>\n      <td>other expenses</td>\n      <td>Unallowable</td>\n      <td>Unallowable</td>\n      <td>Personal Property Taxes</td>\n    </tr>\n    <tr>\n      <th>117</th>\n      <td>95000</td>\n      <td>is</td>\n      <td>other expenses</td>\n      <td>Unallowable</td>\n      <td>Unallowable</td>\n      <td>Misc. Unallowable Expense</td>\n    </tr>\n  </tbody>\n</table>\n<p>118 rows × 6 columns</p>\n</div>"
     },
     "execution_count": 23,
     "metadata": {},
     "output_type": "execute_result"
    }
   ],
   "source": [
    "accounts.detailed_account_mapping"
   ],
   "metadata": {
    "collapsed": false,
    "ExecuteTime": {
     "end_time": "2023-08-06T18:52:08.673648300Z",
     "start_time": "2023-08-06T18:52:08.664201500Z"
    }
   }
  },
  {
   "cell_type": "code",
   "execution_count": 25,
   "outputs": [
    {
     "data": {
      "text/plain": "2017-01-31     22538.84\n2017-02-28     43697.84\n2017-03-31     60115.42\n2017-04-30     77130.97\n2017-05-31    100154.76\n                ...    \n2023-01-31     19562.75\n2023-02-28     41254.85\n2023-03-31     61454.99\n2023-04-30     81731.14\n2023-05-31    103726.56\nName: 70100, Length: 77, dtype: float64"
     },
     "execution_count": 25,
     "metadata": {},
     "output_type": "execute_result"
    }
   ],
   "source": [
    "accounts.trial_balances[70100]"
   ],
   "metadata": {
    "collapsed": false,
    "ExecuteTime": {
     "end_time": "2023-08-06T18:55:02.654345700Z",
     "start_time": "2023-08-06T18:55:02.645164700Z"
    }
   }
  },
  {
   "cell_type": "markdown",
   "source": [
    "# Calculations\n"
   ],
   "metadata": {
    "collapsed": false
   }
  },
  {
   "cell_type": "code",
   "execution_count": 37,
   "outputs": [
    {
     "data": {
      "text/plain": "      low   high bs_is            category             sub_category  \\\n0   11000  11599    bs              assets           current assets   \n1   11600  13000    bs              assets           current assets   \n2   14700  16000    bs              assets  property and equiptment   \n3   17500  19999    bs              assets             other assets   \n4   20000  20200    bs         Liabilities      current liabilities   \n5   20300  20399    bs         Liabilities      current liabilities   \n6   20400  20999    bs         Liabilities      current liabilities   \n7   21000  21999    bs         Liabilities    long term liabilities   \n8   22000  24999    bs         Liabilities    long term liabilities   \n9   27000  28999    bs              equity                   equity   \n10  30000  31199    is             revenue                 contract   \n11  34000  40999    is             revenue            other revenue   \n12  41000  48000    is  cost of goods sold       cost of goods sold   \n13  50000  55000    is  operating expenses                   Fringe   \n14  60000  69000    is  operating expenses           Service Center   \n15  70000  79999    is  operating expenses                 Overhead   \n16  80000  89999    is  operating expenses                      G&A   \n17  90000  95999    is      other expenses              Unallowable   \n\n                    sub_account  \n0          cash and equivelents  \n1           accounts receivable  \n2       property and equiptment  \n3                  other assets  \n4              accounts payable  \n5              accrued expenses  \n6     other current liabilities  \n7              accrued Expenses  \n8   other long term liabilities  \n9                        equity  \n10                     contract  \n11                other revenue  \n12           cost of goods sold  \n13                       Fringe  \n14               Service Center  \n15                     Overhead  \n16                          G&A  \n17                  Unallowable  ",
      "text/html": "<div>\n<style scoped>\n    .dataframe tbody tr th:only-of-type {\n        vertical-align: middle;\n    }\n\n    .dataframe tbody tr th {\n        vertical-align: top;\n    }\n\n    .dataframe thead th {\n        text-align: right;\n    }\n</style>\n<table border=\"1\" class=\"dataframe\">\n  <thead>\n    <tr style=\"text-align: right;\">\n      <th></th>\n      <th>low</th>\n      <th>high</th>\n      <th>bs_is</th>\n      <th>category</th>\n      <th>sub_category</th>\n      <th>sub_account</th>\n    </tr>\n  </thead>\n  <tbody>\n    <tr>\n      <th>0</th>\n      <td>11000</td>\n      <td>11599</td>\n      <td>bs</td>\n      <td>assets</td>\n      <td>current assets</td>\n      <td>cash and equivelents</td>\n    </tr>\n    <tr>\n      <th>1</th>\n      <td>11600</td>\n      <td>13000</td>\n      <td>bs</td>\n      <td>assets</td>\n      <td>current assets</td>\n      <td>accounts receivable</td>\n    </tr>\n    <tr>\n      <th>2</th>\n      <td>14700</td>\n      <td>16000</td>\n      <td>bs</td>\n      <td>assets</td>\n      <td>property and equiptment</td>\n      <td>property and equiptment</td>\n    </tr>\n    <tr>\n      <th>3</th>\n      <td>17500</td>\n      <td>19999</td>\n      <td>bs</td>\n      <td>assets</td>\n      <td>other assets</td>\n      <td>other assets</td>\n    </tr>\n    <tr>\n      <th>4</th>\n      <td>20000</td>\n      <td>20200</td>\n      <td>bs</td>\n      <td>Liabilities</td>\n      <td>current liabilities</td>\n      <td>accounts payable</td>\n    </tr>\n    <tr>\n      <th>5</th>\n      <td>20300</td>\n      <td>20399</td>\n      <td>bs</td>\n      <td>Liabilities</td>\n      <td>current liabilities</td>\n      <td>accrued expenses</td>\n    </tr>\n    <tr>\n      <th>6</th>\n      <td>20400</td>\n      <td>20999</td>\n      <td>bs</td>\n      <td>Liabilities</td>\n      <td>current liabilities</td>\n      <td>other current liabilities</td>\n    </tr>\n    <tr>\n      <th>7</th>\n      <td>21000</td>\n      <td>21999</td>\n      <td>bs</td>\n      <td>Liabilities</td>\n      <td>long term liabilities</td>\n      <td>accrued Expenses</td>\n    </tr>\n    <tr>\n      <th>8</th>\n      <td>22000</td>\n      <td>24999</td>\n      <td>bs</td>\n      <td>Liabilities</td>\n      <td>long term liabilities</td>\n      <td>other long term liabilities</td>\n    </tr>\n    <tr>\n      <th>9</th>\n      <td>27000</td>\n      <td>28999</td>\n      <td>bs</td>\n      <td>equity</td>\n      <td>equity</td>\n      <td>equity</td>\n    </tr>\n    <tr>\n      <th>10</th>\n      <td>30000</td>\n      <td>31199</td>\n      <td>is</td>\n      <td>revenue</td>\n      <td>contract</td>\n      <td>contract</td>\n    </tr>\n    <tr>\n      <th>11</th>\n      <td>34000</td>\n      <td>40999</td>\n      <td>is</td>\n      <td>revenue</td>\n      <td>other revenue</td>\n      <td>other revenue</td>\n    </tr>\n    <tr>\n      <th>12</th>\n      <td>41000</td>\n      <td>48000</td>\n      <td>is</td>\n      <td>cost of goods sold</td>\n      <td>cost of goods sold</td>\n      <td>cost of goods sold</td>\n    </tr>\n    <tr>\n      <th>13</th>\n      <td>50000</td>\n      <td>55000</td>\n      <td>is</td>\n      <td>operating expenses</td>\n      <td>Fringe</td>\n      <td>Fringe</td>\n    </tr>\n    <tr>\n      <th>14</th>\n      <td>60000</td>\n      <td>69000</td>\n      <td>is</td>\n      <td>operating expenses</td>\n      <td>Service Center</td>\n      <td>Service Center</td>\n    </tr>\n    <tr>\n      <th>15</th>\n      <td>70000</td>\n      <td>79999</td>\n      <td>is</td>\n      <td>operating expenses</td>\n      <td>Overhead</td>\n      <td>Overhead</td>\n    </tr>\n    <tr>\n      <th>16</th>\n      <td>80000</td>\n      <td>89999</td>\n      <td>is</td>\n      <td>operating expenses</td>\n      <td>G&amp;A</td>\n      <td>G&amp;A</td>\n    </tr>\n    <tr>\n      <th>17</th>\n      <td>90000</td>\n      <td>95999</td>\n      <td>is</td>\n      <td>other expenses</td>\n      <td>Unallowable</td>\n      <td>Unallowable</td>\n    </tr>\n  </tbody>\n</table>\n</div>"
     },
     "execution_count": 37,
     "metadata": {},
     "output_type": "execute_result"
    }
   ],
   "source": [
    "accounts.account_mapping"
   ],
   "metadata": {
    "collapsed": false,
    "ExecuteTime": {
     "end_time": "2023-08-07T21:04:32.531163200Z",
     "start_time": "2023-08-07T21:04:32.522792700Z"
    }
   }
  },
  {
   "cell_type": "code",
   "execution_count": 38,
   "outputs": [
    {
     "data": {
      "text/plain": "['bs_is', 'category', 'sub_category', 'sub_account']"
     },
     "execution_count": 38,
     "metadata": {},
     "output_type": "execute_result"
    }
   ],
   "source": [
    "accounts.account_mapping.columns.to_list()[2:]"
   ],
   "metadata": {
    "collapsed": false,
    "ExecuteTime": {
     "end_time": "2023-08-07T21:18:07.482523100Z",
     "start_time": "2023-08-07T21:18:07.467522900Z"
    }
   }
  },
  {
   "cell_type": "code",
   "execution_count": null,
   "outputs": [],
   "source": [],
   "metadata": {
    "collapsed": false
   }
  }
 ],
 "metadata": {
  "kernelspec": {
   "display_name": "Python 3",
   "language": "python",
   "name": "python3"
  },
  "language_info": {
   "codemirror_mode": {
    "name": "ipython",
    "version": 2
   },
   "file_extension": ".py",
   "mimetype": "text/x-python",
   "name": "python",
   "nbconvert_exporter": "python",
   "pygments_lexer": "ipython2",
   "version": "2.7.6"
  }
 },
 "nbformat": 4,
 "nbformat_minor": 0
}
