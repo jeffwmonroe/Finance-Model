{
 "cells": [
  {
   "cell_type": "code",
   "execution_count": 1,
   "outputs": [],
   "source": [
    "from finance_model.chart_of_accounts import ChartOfAccounts, unpickle_accounts\n",
    "import pandas as pd\n",
    "import matplotlib.pyplot as plt\n",
    "import numpy as np\n",
    "import pickle"
   ],
   "metadata": {
    "collapsed": false,
    "ExecuteTime": {
     "end_time": "2023-10-31T14:48:45.388602300Z",
     "start_time": "2023-10-31T14:48:44.062887Z"
    }
   }
  },
  {
   "cell_type": "code",
   "execution_count": 2,
   "outputs": [
    {
     "name": "stdout",
     "output_type": "stream",
     "text": [
      "Total duration for function <unpickle_accounts> is 0.006485600024461746\n"
     ]
    }
   ],
   "source": [
    "pickle = True\n",
    "\n",
    "if pickle:\n",
    "    accounts = unpickle_accounts()\n",
    "else:\n",
    "    accounts = ChartOfAccounts()\n",
    "    accounts.account_mapping\n",
    "    accounts.trial_balances"
   ],
   "metadata": {
    "collapsed": false,
    "ExecuteTime": {
     "end_time": "2023-10-31T14:48:45.397222900Z",
     "start_time": "2023-10-31T14:48:45.387602300Z"
    }
   }
  },
  {
   "cell_type": "code",
   "execution_count": 3,
   "outputs": [
    {
     "data": {
      "text/plain": "     account_no bs_is        category    sub_category           sub_account  \\\n0         11040    bs          assets  current assets  cash and equivelents   \n1         11050    bs          assets  current assets  cash and equivelents   \n2         11060    bs          assets  current assets  cash and equivelents   \n3         11100    bs          assets  current assets  cash and equivelents   \n4         11500    bs          assets  current assets  cash and equivelents   \n..          ...   ...             ...             ...                   ...   \n114       91000    is  other expenses     Unallowable           Unallowable   \n115       91500    is  other expenses     Unallowable           Unallowable   \n116       91700    is  other expenses     Unallowable           Unallowable   \n117       94000    is  other expenses     Unallowable           Unallowable   \n118       95000    is  other expenses     Unallowable           Unallowable   \n\n                       account  \n0                PNC Operating  \n1                  PNC Payroll  \n2             PNC Money Market  \n3             Wells Fargo Bank  \n4     Cash on Hand, Petty Cash  \n..                         ...  \n114           Interest Expense  \n115              Contributions  \n116          Officer Insurance  \n117    Personal Property Taxes  \n118  Misc. Unallowable Expense  \n\n[119 rows x 6 columns]",
      "text/html": "<div>\n<style scoped>\n    .dataframe tbody tr th:only-of-type {\n        vertical-align: middle;\n    }\n\n    .dataframe tbody tr th {\n        vertical-align: top;\n    }\n\n    .dataframe thead th {\n        text-align: right;\n    }\n</style>\n<table border=\"1\" class=\"dataframe\">\n  <thead>\n    <tr style=\"text-align: right;\">\n      <th></th>\n      <th>account_no</th>\n      <th>bs_is</th>\n      <th>category</th>\n      <th>sub_category</th>\n      <th>sub_account</th>\n      <th>account</th>\n    </tr>\n  </thead>\n  <tbody>\n    <tr>\n      <th>0</th>\n      <td>11040</td>\n      <td>bs</td>\n      <td>assets</td>\n      <td>current assets</td>\n      <td>cash and equivelents</td>\n      <td>PNC Operating</td>\n    </tr>\n    <tr>\n      <th>1</th>\n      <td>11050</td>\n      <td>bs</td>\n      <td>assets</td>\n      <td>current assets</td>\n      <td>cash and equivelents</td>\n      <td>PNC Payroll</td>\n    </tr>\n    <tr>\n      <th>2</th>\n      <td>11060</td>\n      <td>bs</td>\n      <td>assets</td>\n      <td>current assets</td>\n      <td>cash and equivelents</td>\n      <td>PNC Money Market</td>\n    </tr>\n    <tr>\n      <th>3</th>\n      <td>11100</td>\n      <td>bs</td>\n      <td>assets</td>\n      <td>current assets</td>\n      <td>cash and equivelents</td>\n      <td>Wells Fargo Bank</td>\n    </tr>\n    <tr>\n      <th>4</th>\n      <td>11500</td>\n      <td>bs</td>\n      <td>assets</td>\n      <td>current assets</td>\n      <td>cash and equivelents</td>\n      <td>Cash on Hand, Petty Cash</td>\n    </tr>\n    <tr>\n      <th>...</th>\n      <td>...</td>\n      <td>...</td>\n      <td>...</td>\n      <td>...</td>\n      <td>...</td>\n      <td>...</td>\n    </tr>\n    <tr>\n      <th>114</th>\n      <td>91000</td>\n      <td>is</td>\n      <td>other expenses</td>\n      <td>Unallowable</td>\n      <td>Unallowable</td>\n      <td>Interest Expense</td>\n    </tr>\n    <tr>\n      <th>115</th>\n      <td>91500</td>\n      <td>is</td>\n      <td>other expenses</td>\n      <td>Unallowable</td>\n      <td>Unallowable</td>\n      <td>Contributions</td>\n    </tr>\n    <tr>\n      <th>116</th>\n      <td>91700</td>\n      <td>is</td>\n      <td>other expenses</td>\n      <td>Unallowable</td>\n      <td>Unallowable</td>\n      <td>Officer Insurance</td>\n    </tr>\n    <tr>\n      <th>117</th>\n      <td>94000</td>\n      <td>is</td>\n      <td>other expenses</td>\n      <td>Unallowable</td>\n      <td>Unallowable</td>\n      <td>Personal Property Taxes</td>\n    </tr>\n    <tr>\n      <th>118</th>\n      <td>95000</td>\n      <td>is</td>\n      <td>other expenses</td>\n      <td>Unallowable</td>\n      <td>Unallowable</td>\n      <td>Misc. Unallowable Expense</td>\n    </tr>\n  </tbody>\n</table>\n<p>119 rows × 6 columns</p>\n</div>"
     },
     "execution_count": 3,
     "metadata": {},
     "output_type": "execute_result"
    }
   ],
   "source": [
    "accounts.account_mapping\n",
    "accounts.accounts[40010]\n",
    "a = accounts.get_account_mapping(40010)\n",
    "accounts.detailed_account_mapping"
   ],
   "metadata": {
    "collapsed": false,
    "ExecuteTime": {
     "end_time": "2023-10-31T14:48:45.413705300Z",
     "start_time": "2023-10-31T14:48:45.397723800Z"
    }
   }
  },
  {
   "cell_type": "markdown",
   "source": [
    "# Revenue Calculations"
   ],
   "metadata": {
    "collapsed": false
   }
  },
  {
   "cell_type": "code",
   "execution_count": 4,
   "outputs": [
    {
     "name": "stdout",
     "output_type": "stream",
     "text": [
      "get_data_to_plot bs_is\n",
      "level = bs_is\n",
      "Total duration for function <get_data_to_plot> is 0.007697400000324706\n"
     ]
    },
    {
     "data": {
      "text/plain": "2017-12-31   -7652539.23\n2018-12-31   -7742140.86\n2019-12-31   -8539304.75\n2020-12-31   -8348033.51\n2021-12-31   -7731340.50\n2022-12-31   -9089565.49\n2023-08-31   -6926625.16\nName: revenue, dtype: float64"
     },
     "execution_count": 4,
     "metadata": {},
     "output_type": "execute_result"
    }
   ],
   "source": [
    "data, label, sub_data_names = accounts.get_data_to_plot('bs_is', 'is', 'category', yearly=True)\n",
    "gross_profit = data['revenue'] + data['cost of goods sold']\n",
    "net_profit = gross_profit + data['operating expenses'] + data['other expenses']\n",
    "\n",
    "revenue = data['revenue']\n",
    "revenue\n",
    "# revenue[6] * 12 / 7\n"
   ],
   "metadata": {
    "collapsed": false,
    "ExecuteTime": {
     "end_time": "2023-10-27T21:02:15.116049600Z",
     "start_time": "2023-10-27T21:02:15.101853400Z"
    }
   }
  },
  {
   "cell_type": "markdown",
   "source": [
    "# Margin Calculations"
   ],
   "metadata": {
    "collapsed": false
   }
  },
  {
   "cell_type": "code",
   "execution_count": 5,
   "outputs": [
    {
     "data": {
      "text/plain": "            gross margin  net margin\n2017-12-31      0.447866    0.144987\n2018-12-31      0.437323    0.128829\n2019-12-31      0.438476    0.145744\n2020-12-31      0.530915    0.229212\n2021-12-31      0.554046    0.328672\n2022-12-31      0.423909    0.127389\n2023-08-31      0.370551    0.146273",
      "text/html": "<div>\n<style scoped>\n    .dataframe tbody tr th:only-of-type {\n        vertical-align: middle;\n    }\n\n    .dataframe tbody tr th {\n        vertical-align: top;\n    }\n\n    .dataframe thead th {\n        text-align: right;\n    }\n</style>\n<table border=\"1\" class=\"dataframe\">\n  <thead>\n    <tr style=\"text-align: right;\">\n      <th></th>\n      <th>gross margin</th>\n      <th>net margin</th>\n    </tr>\n  </thead>\n  <tbody>\n    <tr>\n      <th>2017-12-31</th>\n      <td>0.447866</td>\n      <td>0.144987</td>\n    </tr>\n    <tr>\n      <th>2018-12-31</th>\n      <td>0.437323</td>\n      <td>0.128829</td>\n    </tr>\n    <tr>\n      <th>2019-12-31</th>\n      <td>0.438476</td>\n      <td>0.145744</td>\n    </tr>\n    <tr>\n      <th>2020-12-31</th>\n      <td>0.530915</td>\n      <td>0.229212</td>\n    </tr>\n    <tr>\n      <th>2021-12-31</th>\n      <td>0.554046</td>\n      <td>0.328672</td>\n    </tr>\n    <tr>\n      <th>2022-12-31</th>\n      <td>0.423909</td>\n      <td>0.127389</td>\n    </tr>\n    <tr>\n      <th>2023-08-31</th>\n      <td>0.370551</td>\n      <td>0.146273</td>\n    </tr>\n  </tbody>\n</table>\n</div>"
     },
     "execution_count": 5,
     "metadata": {},
     "output_type": "execute_result"
    }
   ],
   "source": [
    "\n",
    "net_margin = net_profit / revenue\n",
    "net_margin.name = 'net margin'\n",
    "gross_margin = gross_profit / revenue\n",
    "gross_margin.name = 'gross margin'\n",
    "\n",
    "margins = pd.concat([gross_margin,net_margin], axis=1)\n",
    "margins\n",
    "\n"
   ],
   "metadata": {
    "collapsed": false,
    "ExecuteTime": {
     "end_time": "2023-10-27T21:02:17.991728700Z",
     "start_time": "2023-10-27T21:02:17.933862500Z"
    }
   }
  },
  {
   "cell_type": "markdown",
   "source": [
    "# Working Capital Calculations"
   ],
   "metadata": {
    "collapsed": false
   }
  },
  {
   "cell_type": "code",
   "execution_count": 6,
   "outputs": [
    {
     "name": "stdout",
     "output_type": "stream",
     "text": [
      "get_data_to_plot category\n",
      "level = category\n",
      "Total duration for function <get_data_to_plot> is 0.0042644999994081445\n",
      "get_data_to_plot category\n",
      "level = category\n",
      "Total duration for function <get_data_to_plot> is 0.0038615999983449\n"
     ]
    },
    {
     "data": {
      "text/plain": "2017-12-31     857188.95\n2018-12-31     891826.01\n2019-12-31     955708.76\n2020-12-31    1316386.80\n2021-12-31    1364727.30\n2022-12-31    1559463.42\n2023-08-31    1845427.33\nName: working capital, dtype: float64"
     },
     "execution_count": 6,
     "metadata": {},
     "output_type": "execute_result"
    }
   ],
   "source": [
    "asset_data, asset_label, sub_data_names = accounts.get_data_to_plot('category', 'assets', 'sub_category', yearly=True)\n",
    "liability_data, liability_label, sub_data_names = accounts.get_data_to_plot('category', 'Liabilities', 'sub_category', yearly=True)\n",
    "al_data = pd.concat([asset_data, liability_data], axis=1)\n",
    "working_capital = al_data['current assets'] + al_data['current liabilities']\n",
    "working_capital.name = 'working capital'\n",
    "working_capital"
   ],
   "metadata": {
    "collapsed": false,
    "ExecuteTime": {
     "end_time": "2023-10-27T21:02:20.356575Z",
     "start_time": "2023-10-27T21:02:20.325517400Z"
    }
   }
  },
  {
   "cell_type": "code",
   "execution_count": 7,
   "outputs": [
    {
     "data": {
      "text/plain": "category    cost of goods sold  operating expenses  other expenses     revenue\n2017-12-31          4225229.11          2311968.51         5824.66 -7652539.23\n2018-12-31          4356327.82          2380507.70         7895.31 -7742140.86\n2019-12-31          4795027.36          2496942.19         2783.51 -8539304.75\n2020-12-31          3915939.74          2511344.51         7278.73 -8348033.51\n2021-12-31          3447824.77          1737638.27         4805.94 -7731340.50\n2022-12-31          5236419.23          2689231.92         6002.26 -9089565.49\n2023-08-31          4359960.12          1549829.80         3658.75 -6926625.16",
      "text/html": "<div>\n<style scoped>\n    .dataframe tbody tr th:only-of-type {\n        vertical-align: middle;\n    }\n\n    .dataframe tbody tr th {\n        vertical-align: top;\n    }\n\n    .dataframe thead th {\n        text-align: right;\n    }\n</style>\n<table border=\"1\" class=\"dataframe\">\n  <thead>\n    <tr style=\"text-align: right;\">\n      <th>category</th>\n      <th>cost of goods sold</th>\n      <th>operating expenses</th>\n      <th>other expenses</th>\n      <th>revenue</th>\n    </tr>\n  </thead>\n  <tbody>\n    <tr>\n      <th>2017-12-31</th>\n      <td>4225229.11</td>\n      <td>2311968.51</td>\n      <td>5824.66</td>\n      <td>-7652539.23</td>\n    </tr>\n    <tr>\n      <th>2018-12-31</th>\n      <td>4356327.82</td>\n      <td>2380507.70</td>\n      <td>7895.31</td>\n      <td>-7742140.86</td>\n    </tr>\n    <tr>\n      <th>2019-12-31</th>\n      <td>4795027.36</td>\n      <td>2496942.19</td>\n      <td>2783.51</td>\n      <td>-8539304.75</td>\n    </tr>\n    <tr>\n      <th>2020-12-31</th>\n      <td>3915939.74</td>\n      <td>2511344.51</td>\n      <td>7278.73</td>\n      <td>-8348033.51</td>\n    </tr>\n    <tr>\n      <th>2021-12-31</th>\n      <td>3447824.77</td>\n      <td>1737638.27</td>\n      <td>4805.94</td>\n      <td>-7731340.50</td>\n    </tr>\n    <tr>\n      <th>2022-12-31</th>\n      <td>5236419.23</td>\n      <td>2689231.92</td>\n      <td>6002.26</td>\n      <td>-9089565.49</td>\n    </tr>\n    <tr>\n      <th>2023-08-31</th>\n      <td>4359960.12</td>\n      <td>1549829.80</td>\n      <td>3658.75</td>\n      <td>-6926625.16</td>\n    </tr>\n  </tbody>\n</table>\n</div>"
     },
     "execution_count": 7,
     "metadata": {},
     "output_type": "execute_result"
    }
   ],
   "source": [
    "asset_data\n",
    "data"
   ],
   "metadata": {
    "collapsed": false,
    "ExecuteTime": {
     "end_time": "2023-10-27T21:02:35.534075500Z",
     "start_time": "2023-10-27T21:02:35.437827500Z"
    }
   }
  },
  {
   "cell_type": "code",
   "execution_count": 8,
   "outputs": [
    {
     "name": "stdout",
     "output_type": "stream",
     "text": [
      "get_data_to_plot sub_category\n",
      "level = sub_category\n",
      "Total duration for function <get_data_to_plot> is 0.004363399999419926\n"
     ]
    },
    {
     "data": {
      "text/plain": "sub_account  accounts receivable  cash and equivelents\n2017-12-31             770380.01             107653.80\n2018-12-31             788147.24             134899.03\n2019-12-31            1006943.41                129.99\n2020-12-31            1238718.48              95379.17\n2021-12-31            1173292.39             198625.61\n2022-12-31            1533534.57              27366.99\n2023-08-31             942201.02            1330936.53",
      "text/html": "<div>\n<style scoped>\n    .dataframe tbody tr th:only-of-type {\n        vertical-align: middle;\n    }\n\n    .dataframe tbody tr th {\n        vertical-align: top;\n    }\n\n    .dataframe thead th {\n        text-align: right;\n    }\n</style>\n<table border=\"1\" class=\"dataframe\">\n  <thead>\n    <tr style=\"text-align: right;\">\n      <th>sub_account</th>\n      <th>accounts receivable</th>\n      <th>cash and equivelents</th>\n    </tr>\n  </thead>\n  <tbody>\n    <tr>\n      <th>2017-12-31</th>\n      <td>770380.01</td>\n      <td>107653.80</td>\n    </tr>\n    <tr>\n      <th>2018-12-31</th>\n      <td>788147.24</td>\n      <td>134899.03</td>\n    </tr>\n    <tr>\n      <th>2019-12-31</th>\n      <td>1006943.41</td>\n      <td>129.99</td>\n    </tr>\n    <tr>\n      <th>2020-12-31</th>\n      <td>1238718.48</td>\n      <td>95379.17</td>\n    </tr>\n    <tr>\n      <th>2021-12-31</th>\n      <td>1173292.39</td>\n      <td>198625.61</td>\n    </tr>\n    <tr>\n      <th>2022-12-31</th>\n      <td>1533534.57</td>\n      <td>27366.99</td>\n    </tr>\n    <tr>\n      <th>2023-08-31</th>\n      <td>942201.02</td>\n      <td>1330936.53</td>\n    </tr>\n  </tbody>\n</table>\n</div>"
     },
     "execution_count": 8,
     "metadata": {},
     "output_type": "execute_result"
    }
   ],
   "source": [
    "current_asset_data, ca_label, ca_sub_data = accounts.get_data_to_plot('sub_category', 'current assets', 'sub_account', yearly=True)\n",
    "current_asset_data"
   ],
   "metadata": {
    "collapsed": false,
    "ExecuteTime": {
     "end_time": "2023-10-27T21:02:35.939539600Z",
     "start_time": "2023-10-27T21:02:35.858068300Z"
    }
   }
  },
  {
   "cell_type": "code",
   "execution_count": null,
   "outputs": [],
   "source": [
    "working_capital - current_asset_data['cash and equivelents']\n"
   ],
   "metadata": {
    "collapsed": false
   }
  },
  {
   "cell_type": "markdown",
   "source": [
    "## Getting Working Capital Info for Export"
   ],
   "metadata": {
    "collapsed": false
   }
  },
  {
   "cell_type": "code",
   "execution_count": null,
   "outputs": [],
   "source": [
    "categories = [\"current assets\", \"other assets\", \"property and equiptment\", \"accounts payable\", \"current liabilities\", \"long term liabilities\"]\n",
    "data = accounts.get_data_rows('sub_category', categories, yearly=True)\n",
    "data"
   ],
   "metadata": {
    "collapsed": false
   }
  },
  {
   "cell_type": "code",
   "execution_count": null,
   "outputs": [],
   "source": [
    "data.to_csv('working capital.csv')"
   ],
   "metadata": {
    "collapsed": false
   }
  },
  {
   "cell_type": "code",
   "execution_count": null,
   "outputs": [],
   "source": [
    "accounts.detailed_account_mapping"
   ],
   "metadata": {
    "collapsed": false
   }
  },
  {
   "cell_type": "code",
   "execution_count": null,
   "outputs": [],
   "source": [
    "data['cost of goods sold'] / data['revenue']"
   ],
   "metadata": {
    "collapsed": false
   }
  },
  {
   "cell_type": "code",
   "execution_count": null,
   "outputs": [],
   "source": [
    "accounts.trial_balances[70100]"
   ],
   "metadata": {
    "collapsed": false
   }
  },
  {
   "cell_type": "markdown",
   "source": [
    "# Discresionary Expenses"
   ],
   "metadata": {
    "collapsed": false
   }
  },
  {
   "cell_type": "code",
   "execution_count": null,
   "outputs": [],
   "source": [
    "dis_oh  = accounts.get_data_to_plot('sub_account', 'Overhead', 'account', yearly=True)[0]\n",
    "\n",
    "dis_oh[['Travel, Not job related', 'Meals & Entertainment']]\n",
    "\n",
    "\n",
    "# accounts.accounts"
   ],
   "metadata": {
    "collapsed": false
   }
  },
  {
   "cell_type": "code",
   "execution_count": null,
   "outputs": [],
   "source": [
    "dis_unallowable  = accounts.get_data_to_plot('sub_account', 'Unallowable', 'account', yearly=True)[0]\n",
    "dis_unallowable"
   ],
   "metadata": {
    "collapsed": false
   }
  },
  {
   "cell_type": "code",
   "execution_count": null,
   "outputs": [],
   "source": [
    "nonrecurring  = accounts.get_data_to_plot('sub_account', 'other revenue', 'account', yearly=True)[0]\n",
    "nonrecurring\n",
    "# accounts.accounts\n",
    "# accounts.trial_balances"
   ],
   "metadata": {
    "collapsed": false
   }
  },
  {
   "cell_type": "markdown",
   "source": [
    "# Calculations\n"
   ],
   "metadata": {
    "collapsed": false
   }
  },
  {
   "cell_type": "code",
   "execution_count": null,
   "outputs": [],
   "source": [
    "accounts.account_mapping"
   ],
   "metadata": {
    "collapsed": false
   }
  },
  {
   "cell_type": "code",
   "execution_count": null,
   "outputs": [],
   "source": [
    "accounts.account_mapping.columns.to_list()[2:]"
   ],
   "metadata": {
    "collapsed": false
   }
  },
  {
   "cell_type": "code",
   "execution_count": null,
   "outputs": [],
   "source": [
    "rev_data, label, sub_data_names = accounts.get_data_to_plot('sub_account', 'contract', 'account', yearly=True)"
   ],
   "metadata": {
    "collapsed": false
   }
  },
  {
   "cell_type": "code",
   "execution_count": null,
   "outputs": [],
   "source": [
    "rev_data = rev_data.T * -1\n",
    "\n",
    "rev_data"
   ],
   "metadata": {
    "collapsed": false
   }
  },
  {
   "cell_type": "code",
   "execution_count": null,
   "outputs": [],
   "source": [
    "rev_data.to_excel(\"documents/revenue by contracts.xlsx\")"
   ],
   "metadata": {
    "collapsed": false
   }
  },
  {
   "cell_type": "code",
   "execution_count": null,
   "outputs": [],
   "source": [
    "sub_data_names"
   ],
   "metadata": {
    "collapsed": false
   }
  },
  {
   "cell_type": "code",
   "execution_count": null,
   "outputs": [],
   "source": [
    "exp_data, label, sub_data_names = accounts.get_data_to_plot('category', 'operating expenses', 'account', yearly=True)"
   ],
   "metadata": {
    "collapsed": false
   }
  },
  {
   "cell_type": "code",
   "execution_count": null,
   "outputs": [],
   "source": [
    "exp_data"
   ],
   "metadata": {
    "collapsed": false
   }
  },
  {
   "cell_type": "code",
   "execution_count": null,
   "outputs": [],
   "source": [
    "exp_data['PTO']"
   ],
   "metadata": {
    "collapsed": false
   }
  },
  {
   "cell_type": "code",
   "execution_count": null,
   "outputs": [],
   "source": [
    "salaries = ['Bonus Expense', 'Direct  Overhead Labor', 'Gen. & Admin Labor']\n",
    "exp_data.loc[:, salaries].sum(axis=1)"
   ],
   "metadata": {
    "collapsed": false
   }
  },
  {
   "cell_type": "code",
   "execution_count": null,
   "outputs": [],
   "source": [
    "fin_map = pd.read_excel('documents/finance map.xlsx')\n",
    "benefit_bool = fin_map['bank cat'] == 'Employee Benefits'\n",
    "wage_bool = fin_map['bank cat'] == 'Salaries & Wages'"
   ],
   "metadata": {
    "collapsed": false
   }
  },
  {
   "cell_type": "code",
   "execution_count": null,
   "outputs": [],
   "source": [
    "wage = fin_map.loc[wage_bool, 'trial balance'].to_list()\n",
    "exp_data.loc[:, wage].T"
   ],
   "metadata": {
    "collapsed": false
   }
  },
  {
   "cell_type": "code",
   "execution_count": null,
   "outputs": [],
   "source": [
    "benefit = fin_map.loc[benefit_bool, 'trial balance'].to_list()\n",
    "exp_data.loc[:, benefit].T"
   ],
   "metadata": {
    "collapsed": false
   }
  },
  {
   "cell_type": "code",
   "execution_count": null,
   "outputs": [],
   "source": [
    "fica = exp_data['FICA & Med. Withholding']"
   ],
   "metadata": {
    "collapsed": false
   }
  },
  {
   "cell_type": "code",
   "execution_count": null,
   "outputs": [],
   "source": [
    "fica / revenue"
   ],
   "metadata": {
    "collapsed": false
   }
  },
  {
   "cell_type": "code",
   "execution_count": null,
   "outputs": [],
   "source": [
    "cogs_data, label, sub_data_names = accounts.get_data_to_plot('sub_account', 'cost of goods sold', 'account', yearly=True)"
   ],
   "metadata": {
    "collapsed": false
   }
  },
  {
   "cell_type": "code",
   "execution_count": null,
   "outputs": [],
   "source": [
    "cogs_data.T"
   ],
   "metadata": {
    "collapsed": false
   }
  },
  {
   "cell_type": "code",
   "execution_count": null,
   "outputs": [],
   "source": [
    "revenue"
   ],
   "metadata": {
    "collapsed": false
   }
  },
  {
   "cell_type": "markdown",
   "source": [
    "# Trial Balance Read Code"
   ],
   "metadata": {
    "collapsed": false
   }
  },
  {
   "cell_type": "code",
   "execution_count": null,
   "outputs": [],
   "source": [
    "from finance_model.read_trial_balances import read_trial_balance, clean_trial_balance\n",
    "\n",
    "file_name = 'HazTrain TB.2023 by month GENAESIS Confidential.xlsx'\n",
    "path = f'documents\\\\trial_balances\\\\{file_name}'\n",
    "xls = pd.ExcelFile(path)\n",
    "year = 2023\n",
    "month = 5\n",
    "\n",
    "jun23 = read_trial_balance(xls, year, month)"
   ],
   "metadata": {
    "collapsed": false
   }
  },
  {
   "cell_type": "code",
   "execution_count": null,
   "outputs": [],
   "source": [
    "jun23"
   ],
   "metadata": {
    "collapsed": false
   }
  },
  {
   "cell_type": "code",
   "execution_count": null,
   "outputs": [],
   "source": [
    "clean_trial_balance(jun23)"
   ],
   "metadata": {
    "collapsed": false
   }
  },
  {
   "cell_type": "code",
   "execution_count": null,
   "outputs": [],
   "source": [
    "jun23"
   ],
   "metadata": {
    "collapsed": false
   }
  },
  {
   "cell_type": "code",
   "execution_count": null,
   "outputs": [],
   "source": [
    "jun23[[0]]"
   ],
   "metadata": {
    "collapsed": false
   }
  },
  {
   "cell_type": "code",
   "execution_count": null,
   "outputs": [],
   "source": [
    "xls.close()"
   ],
   "metadata": {
    "collapsed": false
   }
  },
  {
   "cell_type": "code",
   "execution_count": null,
   "outputs": [],
   "source": [
    "0 in jun23.index"
   ],
   "metadata": {
    "collapsed": false
   }
  },
  {
   "cell_type": "code",
   "execution_count": null,
   "outputs": [],
   "source": [],
   "metadata": {
    "collapsed": false
   }
  }
 ],
 "metadata": {
  "kernelspec": {
   "display_name": "Python 3",
   "language": "python",
   "name": "python3"
  },
  "language_info": {
   "codemirror_mode": {
    "name": "ipython",
    "version": 2
   },
   "file_extension": ".py",
   "mimetype": "text/x-python",
   "name": "python",
   "nbconvert_exporter": "python",
   "pygments_lexer": "ipython2",
   "version": "2.7.6"
  }
 },
 "nbformat": 4,
 "nbformat_minor": 0
}
