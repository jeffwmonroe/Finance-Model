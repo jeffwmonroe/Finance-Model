{
 "cells": [
  {
   "cell_type": "code",
   "execution_count": 1,
   "outputs": [],
   "source": [
    "from finance_model.chart_of_accounts import ChartOfAccounts, unpickle_accounts\n",
    "import pandas as pd\n",
    "import matplotlib.pyplot as plt\n",
    "import numpy as np\n",
    "import pickle"
   ],
   "metadata": {
    "collapsed": false,
    "ExecuteTime": {
     "end_time": "2023-07-30T21:37:32.383481100Z",
     "start_time": "2023-07-30T21:37:31.790073200Z"
    }
   }
  },
  {
   "cell_type": "code",
   "execution_count": 2,
   "outputs": [
    {
     "name": "stdout",
     "output_type": "stream",
     "text": [
      "Total duration for function <unpickle_accounts> is 0.0007958000060170889\n"
     ]
    }
   ],
   "source": [
    "accounts = unpickle_accounts()\n",
    "# accounts = ChartOfAccounts()"
   ],
   "metadata": {
    "collapsed": false,
    "ExecuteTime": {
     "end_time": "2023-07-30T21:37:32.387928Z",
     "start_time": "2023-07-30T21:37:32.383481100Z"
    }
   }
  },
  {
   "cell_type": "code",
   "execution_count": 3,
   "outputs": [
    {
     "data": {
      "text/plain": "      low   high bs_is            category             sub_category  \\\n0   11000  11599    bs              assets           current assets   \n1   11600  13000    bs              assets           current assets   \n2   14700  16000    bs              assets  property and equiptment   \n3   17500  19999    bs              assets             other assets   \n4   20000  20200    bs         Liabilities      current liabilities   \n5   20300  20399    bs         Liabilities      current liabilities   \n6   20400  20999    bs         Liabilities      current liabilities   \n7   21000  21999    bs         Liabilities    long term liabilities   \n8   22000  24999    bs         Liabilities    long term liabilities   \n9   27000  28999    bs              equity                   equity   \n10  30000  31199    is             revenue                 contract   \n11  34000  40999    is             revenue            other revenue   \n12  41000  48000    is  cost of goods sold       cost of goods sold   \n13  50000  55000    is  operating expenses                   Fringe   \n14  60000  69000    is  operating expenses           Service Center   \n15  70000  79999    is  operating expenses                 Overhead   \n16  80000  89999    is  operating expenses                      G&A   \n17  90000  95999    is      other expenses              Unallowable   \n\n                    sub_account  \n0          cash and equivelents  \n1           accounts receivable  \n2       property and equiptment  \n3                  other assets  \n4              accounts payable  \n5              accrued expenses  \n6     other current liabilities  \n7              accrued Expenses  \n8   other long term liabilities  \n9                        equity  \n10                     contract  \n11                other revenue  \n12           cost of goods sold  \n13                       Fringe  \n14               Service Center  \n15                     Overhead  \n16                          G&A  \n17                  Unallowable  ",
      "text/html": "<div>\n<style scoped>\n    .dataframe tbody tr th:only-of-type {\n        vertical-align: middle;\n    }\n\n    .dataframe tbody tr th {\n        vertical-align: top;\n    }\n\n    .dataframe thead th {\n        text-align: right;\n    }\n</style>\n<table border=\"1\" class=\"dataframe\">\n  <thead>\n    <tr style=\"text-align: right;\">\n      <th></th>\n      <th>low</th>\n      <th>high</th>\n      <th>bs_is</th>\n      <th>category</th>\n      <th>sub_category</th>\n      <th>sub_account</th>\n    </tr>\n  </thead>\n  <tbody>\n    <tr>\n      <th>0</th>\n      <td>11000</td>\n      <td>11599</td>\n      <td>bs</td>\n      <td>assets</td>\n      <td>current assets</td>\n      <td>cash and equivelents</td>\n    </tr>\n    <tr>\n      <th>1</th>\n      <td>11600</td>\n      <td>13000</td>\n      <td>bs</td>\n      <td>assets</td>\n      <td>current assets</td>\n      <td>accounts receivable</td>\n    </tr>\n    <tr>\n      <th>2</th>\n      <td>14700</td>\n      <td>16000</td>\n      <td>bs</td>\n      <td>assets</td>\n      <td>property and equiptment</td>\n      <td>property and equiptment</td>\n    </tr>\n    <tr>\n      <th>3</th>\n      <td>17500</td>\n      <td>19999</td>\n      <td>bs</td>\n      <td>assets</td>\n      <td>other assets</td>\n      <td>other assets</td>\n    </tr>\n    <tr>\n      <th>4</th>\n      <td>20000</td>\n      <td>20200</td>\n      <td>bs</td>\n      <td>Liabilities</td>\n      <td>current liabilities</td>\n      <td>accounts payable</td>\n    </tr>\n    <tr>\n      <th>5</th>\n      <td>20300</td>\n      <td>20399</td>\n      <td>bs</td>\n      <td>Liabilities</td>\n      <td>current liabilities</td>\n      <td>accrued expenses</td>\n    </tr>\n    <tr>\n      <th>6</th>\n      <td>20400</td>\n      <td>20999</td>\n      <td>bs</td>\n      <td>Liabilities</td>\n      <td>current liabilities</td>\n      <td>other current liabilities</td>\n    </tr>\n    <tr>\n      <th>7</th>\n      <td>21000</td>\n      <td>21999</td>\n      <td>bs</td>\n      <td>Liabilities</td>\n      <td>long term liabilities</td>\n      <td>accrued Expenses</td>\n    </tr>\n    <tr>\n      <th>8</th>\n      <td>22000</td>\n      <td>24999</td>\n      <td>bs</td>\n      <td>Liabilities</td>\n      <td>long term liabilities</td>\n      <td>other long term liabilities</td>\n    </tr>\n    <tr>\n      <th>9</th>\n      <td>27000</td>\n      <td>28999</td>\n      <td>bs</td>\n      <td>equity</td>\n      <td>equity</td>\n      <td>equity</td>\n    </tr>\n    <tr>\n      <th>10</th>\n      <td>30000</td>\n      <td>31199</td>\n      <td>is</td>\n      <td>revenue</td>\n      <td>contract</td>\n      <td>contract</td>\n    </tr>\n    <tr>\n      <th>11</th>\n      <td>34000</td>\n      <td>40999</td>\n      <td>is</td>\n      <td>revenue</td>\n      <td>other revenue</td>\n      <td>other revenue</td>\n    </tr>\n    <tr>\n      <th>12</th>\n      <td>41000</td>\n      <td>48000</td>\n      <td>is</td>\n      <td>cost of goods sold</td>\n      <td>cost of goods sold</td>\n      <td>cost of goods sold</td>\n    </tr>\n    <tr>\n      <th>13</th>\n      <td>50000</td>\n      <td>55000</td>\n      <td>is</td>\n      <td>operating expenses</td>\n      <td>Fringe</td>\n      <td>Fringe</td>\n    </tr>\n    <tr>\n      <th>14</th>\n      <td>60000</td>\n      <td>69000</td>\n      <td>is</td>\n      <td>operating expenses</td>\n      <td>Service Center</td>\n      <td>Service Center</td>\n    </tr>\n    <tr>\n      <th>15</th>\n      <td>70000</td>\n      <td>79999</td>\n      <td>is</td>\n      <td>operating expenses</td>\n      <td>Overhead</td>\n      <td>Overhead</td>\n    </tr>\n    <tr>\n      <th>16</th>\n      <td>80000</td>\n      <td>89999</td>\n      <td>is</td>\n      <td>operating expenses</td>\n      <td>G&amp;A</td>\n      <td>G&amp;A</td>\n    </tr>\n    <tr>\n      <th>17</th>\n      <td>90000</td>\n      <td>95999</td>\n      <td>is</td>\n      <td>other expenses</td>\n      <td>Unallowable</td>\n      <td>Unallowable</td>\n    </tr>\n  </tbody>\n</table>\n</div>"
     },
     "execution_count": 3,
     "metadata": {},
     "output_type": "execute_result"
    }
   ],
   "source": [
    "accounts.account_mapping"
   ],
   "metadata": {
    "collapsed": false,
    "ExecuteTime": {
     "end_time": "2023-07-30T21:37:32.399101100Z",
     "start_time": "2023-07-30T21:37:32.388427200Z"
    }
   }
  },
  {
   "cell_type": "code",
   "execution_count": 6,
   "outputs": [
    {
     "name": "stdout",
     "output_type": "stream",
     "text": [
      "get_data_to_plot sub_account\n"
     ]
    }
   ],
   "source": [
    "data, label, sub_data_names = accounts.get_data_to_plot('sub_account', 'cash and equivelents', 'account')"
   ],
   "metadata": {
    "collapsed": false,
    "ExecuteTime": {
     "end_time": "2023-07-30T21:38:21.019788900Z",
     "start_time": "2023-07-30T21:38:21.013100700Z"
    }
   }
  },
  {
   "cell_type": "code",
   "execution_count": 7,
   "outputs": [
    {
     "data": {
      "text/plain": "account     Cash on Hand, Petty Cash  PNC Money Market  PNC Operating  \\\n2017-01-31                     100.0               0.0      206481.42   \n2017-02-28                     100.0               0.0      593226.37   \n2017-03-31                     100.0               0.0      519427.85   \n2017-04-30                     100.0               0.0      614920.67   \n2017-05-31                     100.0               0.0      634201.97   \n...                              ...               ...            ...   \n2023-01-31                     100.0               0.0      737289.83   \n2023-02-28                     100.0               0.0     1238993.67   \n2023-03-31                     100.0               0.0     1089580.81   \n2023-04-30                     100.0               0.0     1367670.96   \n2023-05-31                     100.0               0.0     1312552.22   \n\naccount     PNC Payroll  Wells Fargo Bank  \n2017-01-31       359.08          96544.28  \n2017-02-28       186.51           1235.53  \n2017-03-31       283.56           1235.53  \n2017-04-30        88.73           1235.53  \n2017-05-31       110.36           1235.53  \n...                 ...               ...  \n2023-01-31      1207.69              0.00  \n2023-02-28      1817.49              0.00  \n2023-03-31      1833.92              0.00  \n2023-04-30      2953.41              0.00  \n2023-05-31      2347.36              0.00  \n\n[77 rows x 5 columns]",
      "text/html": "<div>\n<style scoped>\n    .dataframe tbody tr th:only-of-type {\n        vertical-align: middle;\n    }\n\n    .dataframe tbody tr th {\n        vertical-align: top;\n    }\n\n    .dataframe thead th {\n        text-align: right;\n    }\n</style>\n<table border=\"1\" class=\"dataframe\">\n  <thead>\n    <tr style=\"text-align: right;\">\n      <th>account</th>\n      <th>Cash on Hand, Petty Cash</th>\n      <th>PNC Money Market</th>\n      <th>PNC Operating</th>\n      <th>PNC Payroll</th>\n      <th>Wells Fargo Bank</th>\n    </tr>\n  </thead>\n  <tbody>\n    <tr>\n      <th>2017-01-31</th>\n      <td>100.0</td>\n      <td>0.0</td>\n      <td>206481.42</td>\n      <td>359.08</td>\n      <td>96544.28</td>\n    </tr>\n    <tr>\n      <th>2017-02-28</th>\n      <td>100.0</td>\n      <td>0.0</td>\n      <td>593226.37</td>\n      <td>186.51</td>\n      <td>1235.53</td>\n    </tr>\n    <tr>\n      <th>2017-03-31</th>\n      <td>100.0</td>\n      <td>0.0</td>\n      <td>519427.85</td>\n      <td>283.56</td>\n      <td>1235.53</td>\n    </tr>\n    <tr>\n      <th>2017-04-30</th>\n      <td>100.0</td>\n      <td>0.0</td>\n      <td>614920.67</td>\n      <td>88.73</td>\n      <td>1235.53</td>\n    </tr>\n    <tr>\n      <th>2017-05-31</th>\n      <td>100.0</td>\n      <td>0.0</td>\n      <td>634201.97</td>\n      <td>110.36</td>\n      <td>1235.53</td>\n    </tr>\n    <tr>\n      <th>...</th>\n      <td>...</td>\n      <td>...</td>\n      <td>...</td>\n      <td>...</td>\n      <td>...</td>\n    </tr>\n    <tr>\n      <th>2023-01-31</th>\n      <td>100.0</td>\n      <td>0.0</td>\n      <td>737289.83</td>\n      <td>1207.69</td>\n      <td>0.00</td>\n    </tr>\n    <tr>\n      <th>2023-02-28</th>\n      <td>100.0</td>\n      <td>0.0</td>\n      <td>1238993.67</td>\n      <td>1817.49</td>\n      <td>0.00</td>\n    </tr>\n    <tr>\n      <th>2023-03-31</th>\n      <td>100.0</td>\n      <td>0.0</td>\n      <td>1089580.81</td>\n      <td>1833.92</td>\n      <td>0.00</td>\n    </tr>\n    <tr>\n      <th>2023-04-30</th>\n      <td>100.0</td>\n      <td>0.0</td>\n      <td>1367670.96</td>\n      <td>2953.41</td>\n      <td>0.00</td>\n    </tr>\n    <tr>\n      <th>2023-05-31</th>\n      <td>100.0</td>\n      <td>0.0</td>\n      <td>1312552.22</td>\n      <td>2347.36</td>\n      <td>0.00</td>\n    </tr>\n  </tbody>\n</table>\n<p>77 rows × 5 columns</p>\n</div>"
     },
     "execution_count": 7,
     "metadata": {},
     "output_type": "execute_result"
    }
   ],
   "source": [
    "data"
   ],
   "metadata": {
    "collapsed": false,
    "ExecuteTime": {
     "end_time": "2023-07-30T21:38:28.225053400Z",
     "start_time": "2023-07-30T21:38:28.210938Z"
    }
   }
  },
  {
   "cell_type": "code",
   "execution_count": 0,
   "outputs": [],
   "source": [
    "label"
   ],
   "metadata": {
    "collapsed": false
   }
  },
  {
   "cell_type": "code",
   "execution_count": 9,
   "outputs": [
    {
     "data": {
      "text/plain": "['Cash on Hand, Petty Cash',\n 'PNC Money Market',\n 'PNC Operating',\n 'PNC Payroll',\n 'Wells Fargo Bank']"
     },
     "execution_count": 9,
     "metadata": {},
     "output_type": "execute_result"
    }
   ],
   "source": [
    "sub_data_names"
   ],
   "metadata": {
    "collapsed": false,
    "ExecuteTime": {
     "end_time": "2023-07-30T21:38:58.029591100Z",
     "start_time": "2023-07-30T21:38:58.008325Z"
    }
   }
  },
  {
   "cell_type": "code",
   "execution_count": null,
   "outputs": [],
   "source": [
    "import matplotlib.dates as mdates\n",
    "from matplotlib import ticker\n",
    "\n",
    "width = 0.8\n",
    "\n",
    "fig, ax = plt.subplots()\n",
    "# ax.xaxis.set_major_locator(mdates.MonthLocator())\n",
    "# ax.xaxis.set_major_formatter(mdates.DateFormatter('%m'))\n",
    "ax.xaxis.set_major_locator(ticker.MultipleLocator(3))\n",
    "bottom = np.zeros(len(data.index))\n",
    "\n",
    "date_axis = [mdates.datestr2num(dt[:-3]) for dt in data.index]\n",
    "date_axis = [pd.to_datetime(dt).strftime('%m-%y') for dt in data.index]\n",
    "data.set_axis(date_axis)\n",
    "\n",
    "p = ax.bar(date_axis, data.iloc[:,0], width, label=\"sex\", bottom=bottom)"
   ],
   "metadata": {
    "collapsed": false
   }
  },
  {
   "cell_type": "code",
   "execution_count": null,
   "outputs": [],
   "source": [
    "data\n",
    "col\n",
    "# mdates.datestr2num(data.index[0])\n",
    "# date_axis = [mdates.date2num(dt) for dt in data.index]\n",
    "# data.iloc[:,0]"
   ],
   "metadata": {
    "collapsed": false
   }
  },
  {
   "cell_type": "code",
   "execution_count": null,
   "outputs": [],
   "source": [
    "species = ('Adelie', 'Chinstrap', 'Gentoo')\n",
    "sex_counts = {\n",
    "    'Male': np.array([73, 34, 61]),\n",
    "    'Female': np.array([73, 34, 58]),\n",
    "}\n",
    "width = 0.6  # the width of the bars: can also be len(x) sequence\n",
    "\n",
    "\n",
    "fig, ax = plt.subplots()\n",
    "bottom = np.zeros(3)\n",
    "\n",
    "for sex, sex_count in sex_counts.items():\n",
    "    p = ax.bar(species, sex_count, width, label=sex, bottom=bottom)\n",
    "    bottom += sex_count\n",
    "\n",
    "    ax.bar_label(p, label_type='center')\n",
    "\n",
    "ax.set_title('Number of penguins by sex')\n",
    "ax.legend()\n",
    "\n",
    "plt.show()"
   ],
   "metadata": {
    "collapsed": false
   }
  },
  {
   "cell_type": "code",
   "execution_count": null,
   "outputs": [],
   "source": [
    "data.index[0][:-3]"
   ],
   "metadata": {
    "collapsed": false
   }
  },
  {
   "cell_type": "code",
   "execution_count": null,
   "outputs": [],
   "source": [
    "import numpy as np\n",
    "import matplotlib.pyplot as plt\n",
    "import pandas as pd\n",
    "\n",
    "plt.style.use('ggplot')\n",
    "\n",
    "datelist = pd.date_range('2000-01-01', periods=20,freq='Q')\n",
    "\n",
    "bar_series = ['series0', 'series1', 'series2']\n",
    "values = np.random.randn(20, 3)\n",
    "\n",
    "df = pd.DataFrame(values,index=datelist,columns=bar_series)\n",
    "\n",
    "fig = plt.figure(figsize=(10,10))\n",
    "ax1 = fig.add_subplot(111)\n",
    "\n",
    "import matplotlib.dates as mdates\n",
    "\n",
    "ax1.xaxis.set_major_locator(mdates.YearLocator())\n",
    "ax1.xaxis.set_major_formatter(mdates.DateFormatter('%Y'))\n",
    "\n",
    "p1 = plt.bar(df.index, df['series0'], width = 50 )\n",
    "p2 = plt.bar(df.index, df['series1'], width = 50 )\n",
    "p3 = plt.bar(df.index, df['series2'], width = 50 )\n",
    "\n",
    "plt.legend((p1[0], p2[0], p3[0]), ('series0', 'series1', 'series2'))\n",
    "\n",
    "plt.show()"
   ],
   "metadata": {
    "collapsed": false
   }
  },
  {
   "cell_type": "code",
   "execution_count": null,
   "outputs": [],
   "source": [
    "df"
   ],
   "metadata": {
    "collapsed": false
   }
  },
  {
   "cell_type": "code",
   "execution_count": null,
   "outputs": [],
   "source": [
    "accounts.account_mapping"
   ],
   "metadata": {
    "collapsed": false
   }
  },
  {
   "cell_type": "code",
   "execution_count": null,
   "outputs": [],
   "source": [],
   "metadata": {
    "collapsed": false
   }
  }
 ],
 "metadata": {
  "kernelspec": {
   "display_name": "Python 3",
   "language": "python",
   "name": "python3"
  },
  "language_info": {
   "codemirror_mode": {
    "name": "ipython",
    "version": 2
   },
   "file_extension": ".py",
   "mimetype": "text/x-python",
   "name": "python",
   "nbconvert_exporter": "python",
   "pygments_lexer": "ipython2",
   "version": "2.7.6"
  }
 },
 "nbformat": 4,
 "nbformat_minor": 0
}
