{
 "cells": [
  {
   "cell_type": "code",
   "execution_count": 1,
   "outputs": [],
   "source": [
    "import main\n",
    "import pandas as pd\n",
    "import matplotlib.pyplot as plt\n",
    "import numpy as np\n",
    "from finance_model import ChartOfAccounts"
   ],
   "metadata": {
    "collapsed": false,
    "ExecuteTime": {
     "end_time": "2023-07-28T22:39:33.766211Z",
     "start_time": "2023-07-28T22:39:32.973703400Z"
    }
   }
  },
  {
   "cell_type": "code",
   "execution_count": 2,
   "outputs": [
    {
     "name": "stdout",
     "output_type": "stream",
     "text": [
      "Finance model:\n",
      "year = 2017\n",
      "year: month = 2017 - jan\n",
      "adding: [11040] PNC Operating, debit, bs\n",
      "adding: [11050] PNC Payroll, debit, bs\n",
      "adding: [11100] Wells Fargo Bank, debit, bs\n",
      "adding: [11500] Cash on Hand, Petty Cash, debit, bs\n",
      "adding: [12000] Accounts Receivable, debit, bs\n",
      "adding: [14700] Furniture & Fixtures, debit, bs\n",
      "adding: [15000] Machinery & Equipment, debit, bs\n",
      "adding: [15200] Building, debit, bs\n",
      "adding: [15700] Vehicles, debit, bs\n",
      "adding: [16000] Accumulated Depreciation, credit, bs\n",
      "adding: [17500] Prepaid Expenses, debit, bs\n",
      "adding: [19200] Intangible Assets, debit, bs\n",
      "adding: [19500] Accumulated Amortization, credit, bs\n",
      "adding: [20000] Accounts Payable, credit, bs\n",
      "adding: [20020] Accrued Accounts Payable, credit, bs\n",
      "adding: [20300] Accrued Bonus Payable, credit, bs\n",
      "adding: [20400] Notes Payable 2014 Infiniti JX, credit, bs\n",
      "adding: [20500] Notes Payable Nat. Coop Bank, credit, bs\n",
      "adding: [20700] Notes Payable  2014 Transit, credit, bs\n",
      "adding: [20750] Wells Fargo Line of Credit, credit, bs\n",
      "adding: [21000] Accured PTO, credit, bs\n",
      "adding: [22550] AFLAC Insurance, credit, bs\n",
      "adding: [24000] Notes Payable, NCB, Long Term, credit, bs\n",
      "adding: [27000] Capitol Stock, credit, bs\n",
      "adding: [27600] Owners Equity, credit, bs\n",
      "adding: [28000] Retained Earnings, credit, bs\n",
      "adding: [30100] CECOS, credit, is\n",
      "adding: [30150] CECOS Support, credit, is\n",
      "adding: [30220] PAX/ MATERIALS CONTRACT, credit, is\n",
      "adding: [30250] Regional Haz. Waste, credit, is\n",
      "adding: [30300] NAVOSH/HSIRM, credit, is\n",
      "adding: [30400] EPA, credit, is\n",
      "adding: [30600] Private Industry, credit, is\n",
      "adding: [30800] GOVERNMENT, credit, is\n",
      "adding: [30900] GSA, credit, is\n",
      "adding: [31000] WACO/LOCAL PRIVATE, credit, is\n",
      "adding: [34500] Interest  Income, credit, is\n",
      "adding: [41000] Direct Labor, debit, is\n",
      "adding: [42000] Contracted Services, debit, is\n",
      "adding: [43000] Travel, debit, is\n",
      "adding: [47000] Direct Material Expenses, debit, is\n",
      "adding: [48000] Other Direct Costs, debit, is\n",
      "adding: [50150] Bonus Expense, debit, is\n",
      "adding: [50160] PTO, debit, is\n",
      "adding: [50170] 401 K  Employer Match, debit, is\n",
      "adding: [50180] Paid Holidays, debit, is\n",
      "adding: [50300] Health Benefits, debit, is\n",
      "adding: [50350] SCA Health & Welfare, debit, is\n",
      "adding: [50400] Disability & Life Insurance, debit, is\n",
      "adding: [50600] FICA & Med. Withholding, debit, is\n",
      "adding: [50900] FUTA Payable, debit, is\n",
      "adding: [51000] MD Unemployment Expense, debit, is\n",
      "adding: [51500] Florida Unemployment, debit, is\n",
      "adding: [52000] Workmans Compensation, debit, is\n",
      "adding: [53000] Employee Relations, debit, is\n",
      "adding: [54000] Engineering Materials, debit, is\n",
      "adding: [55000] Hazmart Expenses, debit, is\n",
      "adding: [60100] IFF Fee/GSA, debit, is\n",
      "adding: [62000] Insurance Expense, debit, is\n",
      "adding: [63000] Postage & Shipping, debit, is\n",
      "adding: [65000] Repair & Maintenance, Bldg., debit, is\n",
      "adding: [67000] Telephone, debit, is\n",
      "adding: [67500] Training Materials & Supplies, debit, is\n",
      "adding: [68000] Utilities, debit, is\n",
      "adding: [69000] Depreciation, debit, is\n",
      "adding: [70100] Direct  Overhead Labor, debit, is\n",
      "adding: [71000] Internet & E mail expenses, debit, is\n",
      "adding: [72500] Office Supplies & Expenses, debit, is\n",
      "adding: [73500] Rentals & Leases,  Equipment, debit, is\n",
      "adding: [74500] Rentals & Leases, Auto, debit, is\n",
      "adding: [75500] Misc. Expenses, debit, is\n",
      "adding: [78000] Travel, Not job related, debit, is\n",
      "adding: [79500] Vehicle Maintenance & Expenses, debit, is\n",
      "adding: [81000] Officers Salary, debit, is\n",
      "adding: [81100] Gen. & Admin Labor, debit, is\n",
      "adding: [83000] Legal & Accounting, debit, is\n",
      "adding: [86000] Rentals, Office, debit, is\n",
      "adding: [87000] Bank Charges & Credit Card Fee, debit, is\n",
      "adding: [88000] Dues & Subscriptions, debit, is\n",
      "adding: [91000] Interest Expense, debit, is\n",
      "adding: [91700] Officer Insurance, debit, is\n",
      "adding: [95000] Misc. Unallowable Expense, debit, is\n",
      "year: month = 2017 - feb\n",
      "adding: [22650] Employee 401 K Loan Payable, debit, bs\n",
      "adding: [61000] Licenses & Certifications, debit, is\n",
      "adding: [64000] Computer Equipment & Software, debit, is\n",
      "year: month = 2017 - mar\n",
      "adding: [84000] Advertising & Marketing Expens, debit, is\n",
      "year: month = 2017 - apr\n",
      "adding: [12050] Accounts Receivable, Employees, debit, bs\n",
      "year: month = 2017 - may\n",
      "adding: [27100] Distributions, debit, bs\n",
      "adding: [30350] Ft Belvoir Contract, credit, is\n",
      "adding: [52500] Other Fringe, debit, is\n",
      "adding: [78500] Meals & Entertainment, debit, is\n",
      "adding: [94000] Personal Property Taxes, debit, is\n",
      "year: month = 2017 - jun\n",
      "year: month = 2017 - jul\n",
      "year: month = 2017 - aug\n",
      "year: month = 2017 - sep\n",
      "year: month = 2017 - oct\n",
      "year: month = 2017 - nov\n",
      "year: month = 2017 - dec\n",
      "year = 2018\n",
      "year: month = 2018 - jan\n",
      "year: month = 2018 - feb\n",
      "year: month = 2018 - mar\n",
      "adding: [20800] Notes Payable 2018 Chrysler, credit, bs\n",
      "adding: [35000] Gain/Loss on Sale, credit, is\n",
      "adding: [85000] Consulting Fees, debit, is\n",
      "year: month = 2018 - apr\n",
      "adding: [81200] Bid & Proposal Labor, debit, is\n",
      "year: month = 2018 - may\n",
      "year: month = 2018 - jun\n",
      "adding: [91500] Contributions, debit, is\n",
      "year: month = 2018 - jul\n",
      "year: month = 2018 - aug\n",
      "year: month = 2018 - sep\n",
      "adding: [50165] Sick Leave Expense, debit, is\n",
      "year: month = 2018 - oct\n",
      "year: month = 2018 - nov\n",
      "adding: [89000] Tax filing fees, debit, is\n",
      "year: month = 2018 - dec\n",
      "year = 2019\n",
      "year: month = 2019 - jan\n",
      "year: month = 2019 - feb\n",
      "year: month = 2019 - mar\n",
      "adding: [31100] ENVIROSPECTRUM, credit, is\n",
      "year: month = 2019 - apr\n",
      "year: month = 2019 - may\n",
      "year: month = 2019 - jun\n",
      "adding: [12500] Deposits & Prepaid A/R, credit, bs\n",
      "year: month = 2019 - jul\n",
      "year: month = 2019 - aug\n",
      "year: month = 2019 - sep\n",
      "year: month = 2019 - oct\n",
      "year: month = 2019 - nov\n",
      "year: month = 2019 - dec\n",
      "adding: [11600] Accounts Receivable, Other, debit, bs\n",
      "adding: [20005] Negative Cash Balance, credit, bs\n",
      "adding: [21050] Accured Sick Leave, credit, bs\n",
      "year = 2020\n",
      "year: month = 2020 - jan\n",
      "year: month = 2020 - feb\n",
      "year: month = 2020 - mar\n",
      "year: month = 2020 - apr\n",
      "adding: [20900] Payroll Protection Loan, credit, bs\n",
      "year: month = 2020 - may\n",
      "adding: [22250] FFCRA Tax Credit, credit, bs\n",
      "adding: [52510] EPSL1, debit, is\n",
      "adding: [52515] EPSL2, debit, is\n",
      "year: month = 2020 - jun\n",
      "year: month = 2020 - jul\n",
      "year: month = 2020 - aug\n",
      "adding: [22600] 401 K Payable, debit, bs\n",
      "year: month = 2020 - sep\n",
      "year: month = 2020 - oct\n",
      "year: month = 2020 - nov\n",
      "year: month = 2020 - dec\n",
      "adding: [11060] PNC Money Market, debit, bs\n",
      "adding: [40010] Grant Income, credit, is\n",
      "adding: [40011] PPP Forgiveness Income, credit, is\n",
      "year = 2021\n",
      "year: month = 2021 - jan\n",
      "adding: [34601] Paycheck Protection PNC  Loan, credit, is\n",
      "year: month = 2021 - feb\n",
      "year: month = 2021 - mar\n",
      "year: month = 2021 - apr\n",
      "year: month = 2021 - may\n",
      "year: month = 2021 - jun\n",
      "year: month = 2021 - jul\n",
      "year: month = 2021 - aug\n",
      "year: month = 2021 - sep\n",
      "year: month = 2021 - oct\n",
      "year: month = 2021 - nov\n",
      "adding: [52520] Employee Retention Credit, credit, is\n",
      "year: month = 2021 - dec\n",
      "year = 2022\n",
      "year: month = 2022 - jan\n",
      "year: month = 2022 - feb\n",
      "year: month = 2022 - mar\n",
      "adding: [22400] MD Unemployment, credit, bs\n",
      "adding: [60500] Payroll Suspense, debit, is\n",
      "year: month = 2022 - apr\n",
      "year: month = 2022 - may\n",
      "year: month = 2022 - jun\n",
      "year: month = 2022 - jul\n",
      "year: month = 2022 - aug\n",
      "year: month = 2022 - sep\n",
      "year: month = 2022 - oct\n",
      "adding: [50800] 401 K Adm. Fees/Principal, debit, is\n",
      "year: month = 2022 - nov\n",
      "year: month = 2022 - dec\n",
      "year = 2023\n",
      "Too few months in 2023\n",
      "year: month = 2023 - jan\n",
      "year: month = 2023 - feb\n",
      "year: month = 2023 - mar\n",
      "adding: [34600] Other Income, credit, is\n",
      "year: month = 2023 - apr\n",
      "year: month = 2023 - may\n"
     ]
    }
   ],
   "source": [
    "tb, accounts = main.read_all_trial_balances()"
   ],
   "metadata": {
    "collapsed": false,
    "ExecuteTime": {
     "end_time": "2023-07-28T22:39:42.161968100Z",
     "start_time": "2023-07-28T22:39:35.190887600Z"
    }
   }
  },
  {
   "cell_type": "code",
   "execution_count": 3,
   "outputs": [
    {
     "data": {
      "text/plain": "<matplotlib.legend.Legend at 0x1ff9306d490>"
     },
     "execution_count": 3,
     "metadata": {},
     "output_type": "execute_result"
    },
    {
     "data": {
      "text/plain": "<Figure size 600x400 with 1 Axes>",
      "image/png": "[encoded data removed]"
     },
     "metadata": {},
     "output_type": "display_data"
    }
   ],
   "source": [
    "fig, ax = plt.subplots(figsize=(6, 4), layout='constrained')\n",
    "\n",
    "x = np.linspace(0, 2, 100)\n",
    "ax.plot(tb.index, tb[11040], label='11040')\n",
    "# ax.plot(x, x**2, label = 'quadradic')\n",
    "ax.set_xlabel(\"time\")\n",
    "ax.set_ylabel(\"height\")\n",
    "ax.set_title('simple plot')\n",
    "ax.legend()"
   ],
   "metadata": {
    "collapsed": false,
    "ExecuteTime": {
     "end_time": "2023-07-28T22:39:42.491843100Z",
     "start_time": "2023-07-28T22:39:42.157468700Z"
    }
   }
  },
  {
   "cell_type": "code",
   "execution_count": 4,
   "outputs": [
    {
     "data": {
      "text/plain": "2017-01-31     206481.42\n2017-02-28     593226.37\n2017-03-31     519427.85\n2017-04-30     614920.67\n2017-05-31     634201.97\n                 ...    \n2023-01-31     737289.83\n2023-02-28    1238993.67\n2023-03-31    1089580.81\n2023-04-30    1367670.96\n2023-05-31    1312552.22\nName: 11040, Length: 77, dtype: float64"
     },
     "execution_count": 4,
     "metadata": {},
     "output_type": "execute_result"
    }
   ],
   "source": [
    "tb[11040]"
   ],
   "metadata": {
    "collapsed": false,
    "ExecuteTime": {
     "end_time": "2023-07-28T22:39:49.996105700Z",
     "start_time": "2023-07-28T22:39:49.968310600Z"
    }
   }
  },
  {
   "cell_type": "code",
   "execution_count": 11,
   "outputs": [],
   "source": [
    "val = tb.columns[30]\n"
   ],
   "metadata": {
    "collapsed": false,
    "ExecuteTime": {
     "end_time": "2023-07-28T22:41:10.149380800Z",
     "start_time": "2023-07-28T22:41:10.134326700Z"
    }
   }
  },
  {
   "cell_type": "code",
   "execution_count": 12,
   "outputs": [],
   "source": [
    "map = accounts.account_mapping"
   ],
   "metadata": {
    "collapsed": false,
    "ExecuteTime": {
     "end_time": "2023-07-28T22:41:11.219297600Z",
     "start_time": "2023-07-28T22:41:11.194040300Z"
    }
   }
  },
  {
   "cell_type": "code",
   "execution_count": 13,
   "outputs": [],
   "source": [
    "j = map[val < map['low']]"
   ],
   "metadata": {
    "collapsed": false,
    "ExecuteTime": {
     "end_time": "2023-07-28T22:41:11.945215500Z",
     "start_time": "2023-07-28T22:41:11.930636800Z"
    }
   }
  },
  {
   "cell_type": "code",
   "execution_count": 14,
   "outputs": [
    {
     "data": {
      "text/plain": "27000"
     },
     "execution_count": 14,
     "metadata": {},
     "output_type": "execute_result"
    }
   ],
   "source": [
    "j.iloc[0,0]"
   ],
   "metadata": {
    "collapsed": false,
    "ExecuteTime": {
     "end_time": "2023-07-28T22:41:12.534877300Z",
     "start_time": "2023-07-28T22:41:12.521277900Z"
    }
   }
  },
  {
   "cell_type": "code",
   "execution_count": 15,
   "outputs": [
    {
     "data": {
      "text/plain": "      low   high bs_is            category             sub_category  \\\n0   11000  11599    bs              assets           current assets   \n1   11600  13000    bs              assets           current assets   \n2   14700  16000    bs              assets  property and equiptment   \n3   17500  19999    bs              assets             other assets   \n4   20000  20200    bs         Liabilities      current liabilities   \n5   20300  20399    bs         Liabilities      current liabilities   \n6   20400  20999    bs         Liabilities      current liabilities   \n7   21000  21999    bs         Liabilities    long term liabilities   \n8   22000  24999    bs         Liabilities    long term liabilities   \n9   27000  28999    bs              equity                      NaN   \n10  30000  31199    is             revenue                 contract   \n11  34000  40999    is             revenue                    other   \n12  41000  48000    is  cost of goods sold                      NaN   \n13  50000  55000    is  operating expenses                   Fringe   \n14  60000  69000    is  operating expenses           Service Center   \n15  70000  79999    is  operating expenses                 Overhead   \n16  80000  89999    is  operating expenses                      G&A   \n17  90000  95999    is      other expenses              Unallowable   \n\n             sub_account  \n0   cash and equivelents  \n1    accounts receivable  \n2                    NaN  \n3                    NaN  \n4       accounts payable  \n5       accrued expenses  \n6                  other  \n7       Accrued Expenses  \n8                  Other  \n9                    NaN  \n10                   NaN  \n11                   NaN  \n12                   NaN  \n13                   NaN  \n14                   NaN  \n15                   NaN  \n16                   NaN  \n17                   NaN  ",
      "text/html": "<div>\n<style scoped>\n    .dataframe tbody tr th:only-of-type {\n        vertical-align: middle;\n    }\n\n    .dataframe tbody tr th {\n        vertical-align: top;\n    }\n\n    .dataframe thead th {\n        text-align: right;\n    }\n</style>\n<table border=\"1\" class=\"dataframe\">\n  <thead>\n    <tr style=\"text-align: right;\">\n      <th></th>\n      <th>low</th>\n      <th>high</th>\n      <th>bs_is</th>\n      <th>category</th>\n      <th>sub_category</th>\n      <th>sub_account</th>\n    </tr>\n  </thead>\n  <tbody>\n    <tr>\n      <th>0</th>\n      <td>11000</td>\n      <td>11599</td>\n      <td>bs</td>\n      <td>assets</td>\n      <td>current assets</td>\n      <td>cash and equivelents</td>\n    </tr>\n    <tr>\n      <th>1</th>\n      <td>11600</td>\n      <td>13000</td>\n      <td>bs</td>\n      <td>assets</td>\n      <td>current assets</td>\n      <td>accounts receivable</td>\n    </tr>\n    <tr>\n      <th>2</th>\n      <td>14700</td>\n      <td>16000</td>\n      <td>bs</td>\n      <td>assets</td>\n      <td>property and equiptment</td>\n      <td>NaN</td>\n    </tr>\n    <tr>\n      <th>3</th>\n      <td>17500</td>\n      <td>19999</td>\n      <td>bs</td>\n      <td>assets</td>\n      <td>other assets</td>\n      <td>NaN</td>\n    </tr>\n    <tr>\n      <th>4</th>\n      <td>20000</td>\n      <td>20200</td>\n      <td>bs</td>\n      <td>Liabilities</td>\n      <td>current liabilities</td>\n      <td>accounts payable</td>\n    </tr>\n    <tr>\n      <th>5</th>\n      <td>20300</td>\n      <td>20399</td>\n      <td>bs</td>\n      <td>Liabilities</td>\n      <td>current liabilities</td>\n      <td>accrued expenses</td>\n    </tr>\n    <tr>\n      <th>6</th>\n      <td>20400</td>\n      <td>20999</td>\n      <td>bs</td>\n      <td>Liabilities</td>\n      <td>current liabilities</td>\n      <td>other</td>\n    </tr>\n    <tr>\n      <th>7</th>\n      <td>21000</td>\n      <td>21999</td>\n      <td>bs</td>\n      <td>Liabilities</td>\n      <td>long term liabilities</td>\n      <td>Accrued Expenses</td>\n    </tr>\n    <tr>\n      <th>8</th>\n      <td>22000</td>\n      <td>24999</td>\n      <td>bs</td>\n      <td>Liabilities</td>\n      <td>long term liabilities</td>\n      <td>Other</td>\n    </tr>\n    <tr>\n      <th>9</th>\n      <td>27000</td>\n      <td>28999</td>\n      <td>bs</td>\n      <td>equity</td>\n      <td>NaN</td>\n      <td>NaN</td>\n    </tr>\n    <tr>\n      <th>10</th>\n      <td>30000</td>\n      <td>31199</td>\n      <td>is</td>\n      <td>revenue</td>\n      <td>contract</td>\n      <td>NaN</td>\n    </tr>\n    <tr>\n      <th>11</th>\n      <td>34000</td>\n      <td>40999</td>\n      <td>is</td>\n      <td>revenue</td>\n      <td>other</td>\n      <td>NaN</td>\n    </tr>\n    <tr>\n      <th>12</th>\n      <td>41000</td>\n      <td>48000</td>\n      <td>is</td>\n      <td>cost of goods sold</td>\n      <td>NaN</td>\n      <td>NaN</td>\n    </tr>\n    <tr>\n      <th>13</th>\n      <td>50000</td>\n      <td>55000</td>\n      <td>is</td>\n      <td>operating expenses</td>\n      <td>Fringe</td>\n      <td>NaN</td>\n    </tr>\n    <tr>\n      <th>14</th>\n      <td>60000</td>\n      <td>69000</td>\n      <td>is</td>\n      <td>operating expenses</td>\n      <td>Service Center</td>\n      <td>NaN</td>\n    </tr>\n    <tr>\n      <th>15</th>\n      <td>70000</td>\n      <td>79999</td>\n      <td>is</td>\n      <td>operating expenses</td>\n      <td>Overhead</td>\n      <td>NaN</td>\n    </tr>\n    <tr>\n      <th>16</th>\n      <td>80000</td>\n      <td>89999</td>\n      <td>is</td>\n      <td>operating expenses</td>\n      <td>G&amp;A</td>\n      <td>NaN</td>\n    </tr>\n    <tr>\n      <th>17</th>\n      <td>90000</td>\n      <td>95999</td>\n      <td>is</td>\n      <td>other expenses</td>\n      <td>Unallowable</td>\n      <td>NaN</td>\n    </tr>\n  </tbody>\n</table>\n</div>"
     },
     "execution_count": 15,
     "metadata": {},
     "output_type": "execute_result"
    }
   ],
   "source": [
    "accounts.account_mapping"
   ],
   "metadata": {
    "collapsed": false,
    "ExecuteTime": {
     "end_time": "2023-07-28T22:41:13.509822100Z",
     "start_time": "2023-07-28T22:41:13.494898700Z"
    }
   }
  },
  {
   "cell_type": "code",
   "execution_count": 35,
   "outputs": [
    {
     "name": "stdout",
     "output_type": "stream",
     "text": [
      "<calendar._localized_month object at 0x000001FFDE78AE10>\n",
      "\n",
      "January\n",
      "February\n",
      "March\n",
      "April\n",
      "May\n",
      "June\n",
      "July\n",
      "August\n",
      "September\n",
      "October\n",
      "November\n",
      "December\n"
     ]
    }
   ],
   "source": [
    "import calendar\n",
    "\n",
    "print(calendar.month_name)\n",
    "for i in calendar.month_name:\n",
    "    print (i)"
   ],
   "metadata": {
    "collapsed": false,
    "ExecuteTime": {
     "end_time": "2023-07-28T23:21:20.462294900Z",
     "start_time": "2023-07-28T23:21:20.450785200Z"
    }
   }
  },
  {
   "cell_type": "code",
   "execution_count": 42,
   "outputs": [
    {
     "data": {
      "text/plain": "[2017, 2018, 2019, 2020, 2021, 2022, 2023]"
     },
     "execution_count": 42,
     "metadata": {},
     "output_type": "execute_result"
    }
   ],
   "source": [
    "[i for i in range(2017, 2024)]"
   ],
   "metadata": {
    "collapsed": false,
    "ExecuteTime": {
     "end_time": "2023-07-28T23:34:29.928694200Z",
     "start_time": "2023-07-28T23:34:29.919104Z"
    }
   }
  },
  {
   "cell_type": "code",
   "execution_count": 18,
   "outputs": [],
   "source": [
    "a = pd.Series([1, 2, 3, 4])\n"
   ],
   "metadata": {
    "collapsed": false,
    "ExecuteTime": {
     "end_time": "2023-07-28T22:41:17.440000400Z",
     "start_time": "2023-07-28T22:41:17.425662200Z"
    }
   }
  },
  {
   "cell_type": "code",
   "execution_count": 19,
   "outputs": [
    {
     "data": {
      "text/plain": "0    1\n1    2\n2    3\n3    4\ndtype: int64"
     },
     "execution_count": 19,
     "metadata": {},
     "output_type": "execute_result"
    }
   ],
   "source": [
    "a"
   ],
   "metadata": {
    "collapsed": false,
    "ExecuteTime": {
     "end_time": "2023-07-28T22:41:18.338638400Z",
     "start_time": "2023-07-28T22:41:18.326255100Z"
    }
   }
  },
  {
   "cell_type": "code",
   "execution_count": 20,
   "outputs": [],
   "source": [
    "b = pd.Series([4, 3, 2, 1])"
   ],
   "metadata": {
    "collapsed": false,
    "ExecuteTime": {
     "end_time": "2023-07-28T22:41:19.364539700Z",
     "start_time": "2023-07-28T22:41:19.352531900Z"
    }
   }
  },
  {
   "cell_type": "code",
   "execution_count": 21,
   "outputs": [
    {
     "data": {
      "text/plain": "0    4\n1    3\n2    2\n3    1\ndtype: int64"
     },
     "execution_count": 21,
     "metadata": {},
     "output_type": "execute_result"
    }
   ],
   "source": [
    "b"
   ],
   "metadata": {
    "collapsed": false,
    "ExecuteTime": {
     "end_time": "2023-07-28T22:41:24.668404900Z",
     "start_time": "2023-07-28T22:41:24.655481500Z"
    }
   }
  },
  {
   "cell_type": "code",
   "execution_count": 22,
   "outputs": [
    {
     "data": {
      "text/plain": "0    5\n1    5\n2    5\n3    5\ndtype: int64"
     },
     "execution_count": 22,
     "metadata": {},
     "output_type": "execute_result"
    }
   ],
   "source": [
    "a + b"
   ],
   "metadata": {
    "collapsed": false,
    "ExecuteTime": {
     "end_time": "2023-07-28T22:41:25.592062200Z",
     "start_time": "2023-07-28T22:41:25.576942900Z"
    }
   }
  },
  {
   "cell_type": "code",
   "execution_count": 23,
   "outputs": [
    {
     "data": {
      "text/plain": "0    5\n1    5\n2    5\n3    5\ndtype: int64"
     },
     "execution_count": 23,
     "metadata": {},
     "output_type": "execute_result"
    }
   ],
   "source": [
    "sum([a,b])"
   ],
   "metadata": {
    "collapsed": false,
    "ExecuteTime": {
     "end_time": "2023-07-28T22:41:26.513388600Z",
     "start_time": "2023-07-28T22:41:26.500311800Z"
    }
   }
  },
  {
   "cell_type": "code",
   "execution_count": 24,
   "outputs": [
    {
     "data": {
      "text/plain": "[{'A': 13, 'B': 80, 'C': 14, 'D': 31, 'E': 71},\n {'A': 22, 'B': 27, 'C': 36, 'D': 13, 'E': 56},\n {'A': 5, 'B': 91, 'C': 35, 'D': 30, 'E': 9},\n {'A': 51, 'B': 84, 'C': 33, 'D': 57, 'E': 66},\n {'A': 30, 'B': 39, 'C': 68, 'D': 17, 'E': 57}]"
     },
     "execution_count": 24,
     "metadata": {},
     "output_type": "execute_result"
    }
   ],
   "source": [
    "import numpy as np\n",
    "row_list= []\n",
    "for i in range (0,5):\n",
    "    row_list.append(dict( (a,np.random.randint(100)) for a in ['A','B','C','D','E']))\n",
    "row_list"
   ],
   "metadata": {
    "collapsed": false,
    "ExecuteTime": {
     "end_time": "2023-07-28T22:41:27.795957100Z",
     "start_time": "2023-07-28T22:41:27.781363900Z"
    }
   }
  },
  {
   "cell_type": "code",
   "execution_count": 25,
   "outputs": [
    {
     "data": {
      "text/plain": "['E', 'D', 'C', 'B', 'A']"
     },
     "execution_count": 25,
     "metadata": {},
     "output_type": "execute_result"
    }
   ],
   "source": [
    "df = pd.DataFrame(row_list)\n",
    "cols = df.columns.tolist()\n",
    "cols.sort(reverse=True)\n",
    "cols"
   ],
   "metadata": {
    "collapsed": false,
    "ExecuteTime": {
     "end_time": "2023-07-28T22:41:31.898862100Z",
     "start_time": "2023-07-28T22:41:31.894335900Z"
    }
   }
  },
  {
   "cell_type": "code",
   "execution_count": 26,
   "outputs": [],
   "source": [
    "tdf = pd.DataFrame(row_list).set_index('A')\n"
   ],
   "metadata": {
    "collapsed": false,
    "ExecuteTime": {
     "end_time": "2023-07-28T22:41:33.751255100Z",
     "start_time": "2023-07-28T22:41:33.735541700Z"
    }
   }
  },
  {
   "cell_type": "code",
   "execution_count": 27,
   "outputs": [
    {
     "data": {
      "text/plain": "[{'B': 80, 'C': 14, 'D': 31, 'E': 71},\n {'B': 27, 'C': 36, 'D': 13, 'E': 56},\n {'B': 91, 'C': 35, 'D': 30, 'E': 9},\n {'B': 84, 'C': 33, 'D': 57, 'E': 66},\n {'B': 39, 'C': 68, 'D': 17, 'E': 57}]"
     },
     "execution_count": 27,
     "metadata": {},
     "output_type": "execute_result"
    }
   ],
   "source": [
    "tdf.to_dict(orient='records', index=True)"
   ],
   "metadata": {
    "collapsed": false,
    "ExecuteTime": {
     "end_time": "2023-07-28T22:41:34.436186300Z",
     "start_time": "2023-07-28T22:41:34.424678300Z"
    }
   }
  },
  {
   "cell_type": "code",
   "execution_count": 28,
   "outputs": [
    {
     "data": {
      "text/plain": "{13: {'B': 80, 'C': 14, 'D': 31, 'E': 71},\n 22: {'B': 27, 'C': 36, 'D': 13, 'E': 56},\n 5: {'B': 91, 'C': 35, 'D': 30, 'E': 9},\n 51: {'B': 84, 'C': 33, 'D': 57, 'E': 66},\n 30: {'B': 39, 'C': 68, 'D': 17, 'E': 57}}"
     },
     "execution_count": 28,
     "metadata": {},
     "output_type": "execute_result"
    }
   ],
   "source": [
    "tdf.to_dict('index')"
   ],
   "metadata": {
    "collapsed": false,
    "ExecuteTime": {
     "end_time": "2023-07-28T22:41:35.412225300Z",
     "start_time": "2023-07-28T22:41:35.400820400Z"
    }
   }
  },
  {
   "cell_type": "code",
   "execution_count": 29,
   "outputs": [],
   "source": [
    "df['total']=0"
   ],
   "metadata": {
    "collapsed": false,
    "ExecuteTime": {
     "end_time": "2023-07-28T22:41:36.459653700Z",
     "start_time": "2023-07-28T22:41:36.453144500Z"
    }
   }
  },
  {
   "cell_type": "code",
   "execution_count": 30,
   "outputs": [
    {
     "data": {
      "text/plain": "A        13\nB        80\nC        14\nD        31\nE        71\ntotal     0\nName: 0, dtype: int64"
     },
     "execution_count": 30,
     "metadata": {},
     "output_type": "execute_result"
    }
   ],
   "source": [
    "df.iloc[0]"
   ],
   "metadata": {
    "collapsed": false,
    "ExecuteTime": {
     "end_time": "2023-07-28T22:41:37.004533300Z",
     "start_time": "2023-07-28T22:41:36.995119800Z"
    }
   }
  },
  {
   "cell_type": "code",
   "execution_count": 31,
   "outputs": [
    {
     "data": {
      "text/plain": "A        121\nB        321\nC        186\nD        148\nE        259\ntotal      0\ndtype: int64"
     },
     "execution_count": 31,
     "metadata": {},
     "output_type": "execute_result"
    }
   ],
   "source": [
    "df[df.columns].sum()"
   ],
   "metadata": {
    "collapsed": false,
    "ExecuteTime": {
     "end_time": "2023-07-28T22:41:37.830622900Z",
     "start_time": "2023-07-28T22:41:37.819894600Z"
    }
   }
  },
  {
   "cell_type": "code",
   "execution_count": null,
   "outputs": [],
   "source": [],
   "metadata": {
    "collapsed": false
   }
  }
 ],
 "metadata": {
  "kernelspec": {
   "display_name": "Python 3",
   "language": "python",
   "name": "python3"
  },
  "language_info": {
   "codemirror_mode": {
    "name": "ipython",
    "version": 2
   },
   "file_extension": ".py",
   "mimetype": "text/x-python",
   "name": "python",
   "nbconvert_exporter": "python",
   "pygments_lexer": "ipython2",
   "version": "2.7.6"
  }
 },
 "nbformat": 4,
 "nbformat_minor": 0
}
