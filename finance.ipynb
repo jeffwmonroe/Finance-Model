{
 "cells": [
  {
   "cell_type": "code",
   "execution_count": 1,
   "outputs": [],
   "source": [
    "from finance_model.chart_of_accounts import ChartOfAccounts, unpickle_accounts\n",
    "import pandas as pd\n",
    "import matplotlib.pyplot as plt\n",
    "import numpy as np\n",
    "import pickle"
   ],
   "metadata": {
    "collapsed": false,
    "ExecuteTime": {
     "end_time": "2023-09-12T14:12:09.573949200Z",
     "start_time": "2023-09-12T14:12:09.147665500Z"
    }
   }
  },
  {
   "cell_type": "code",
   "execution_count": 2,
   "outputs": [
    {
     "name": "stdout",
     "output_type": "stream",
     "text": [
      "Total duration for function <unpickle_accounts> is 0.0008492000051774085\n"
     ]
    }
   ],
   "source": [
    "pickle = True\n",
    "\n",
    "if pickle:\n",
    "    accounts = unpickle_accounts()\n",
    "else:\n",
    "    accounts = ChartOfAccounts()\n",
    "    accounts.account_mapping\n",
    "    accounts.trial_balances"
   ],
   "metadata": {
    "collapsed": false,
    "ExecuteTime": {
     "end_time": "2023-09-12T14:12:09.578320900Z",
     "start_time": "2023-09-12T14:12:09.574449100Z"
    }
   }
  },
  {
   "cell_type": "code",
   "execution_count": 2,
   "outputs": [],
   "source": [],
   "metadata": {
    "collapsed": false,
    "ExecuteTime": {
     "end_time": "2023-09-12T14:12:09.581515900Z",
     "start_time": "2023-09-12T14:12:09.579322Z"
    }
   }
  },
  {
   "cell_type": "markdown",
   "source": [
    "# Revenue Calculations"
   ],
   "metadata": {
    "collapsed": false
   }
  },
  {
   "cell_type": "code",
   "execution_count": 3,
   "outputs": [
    {
     "name": "stdout",
     "output_type": "stream",
     "text": [
      "get_data_to_plot bs_is\n",
      "level = bs_is\n",
      "Total duration for function <get_data_to_plot> is 0.004369400005089119\n"
     ]
    },
    {
     "data": {
      "text/plain": "2017-12-31   -7652539.23\n2018-12-31   -7742140.86\n2019-12-31   -8539304.75\n2020-12-31   -8348033.51\n2021-12-31   -7731340.50\n2022-12-31   -9089565.49\n2023-07-31   -6159104.58\nName: revenue, dtype: float64"
     },
     "execution_count": 3,
     "metadata": {},
     "output_type": "execute_result"
    }
   ],
   "source": [
    "data, label, sub_data_names = accounts.get_data_to_plot('bs_is', 'is', 'category', yearly=True)\n",
    "gross_profit = data['revenue'] + data['cost of goods sold']\n",
    "net_profit = gross_profit + data['operating expenses'] + data['other expenses']\n",
    "\n",
    "revenue = data['revenue']\n",
    "revenue\n",
    "# revenue[6] * 12 / 7\n"
   ],
   "metadata": {
    "collapsed": false,
    "ExecuteTime": {
     "end_time": "2023-09-12T14:12:09.595680700Z",
     "start_time": "2023-09-12T14:12:09.582019300Z"
    }
   }
  },
  {
   "cell_type": "markdown",
   "source": [
    "# Margin Calculations"
   ],
   "metadata": {
    "collapsed": false
   }
  },
  {
   "cell_type": "code",
   "execution_count": 4,
   "outputs": [
    {
     "data": {
      "text/plain": "            gross margin  net margin\n2017-12-31      0.447866    0.144987\n2018-12-31      0.437323    0.128829\n2019-12-31      0.438476    0.145744\n2020-12-31      0.530915    0.229212\n2021-12-31      0.554046    0.328672\n2022-12-31      0.423909    0.127389\n2023-07-31      0.367076    0.143514",
      "text/html": "<div>\n<style scoped>\n    .dataframe tbody tr th:only-of-type {\n        vertical-align: middle;\n    }\n\n    .dataframe tbody tr th {\n        vertical-align: top;\n    }\n\n    .dataframe thead th {\n        text-align: right;\n    }\n</style>\n<table border=\"1\" class=\"dataframe\">\n  <thead>\n    <tr style=\"text-align: right;\">\n      <th></th>\n      <th>gross margin</th>\n      <th>net margin</th>\n    </tr>\n  </thead>\n  <tbody>\n    <tr>\n      <th>2017-12-31</th>\n      <td>0.447866</td>\n      <td>0.144987</td>\n    </tr>\n    <tr>\n      <th>2018-12-31</th>\n      <td>0.437323</td>\n      <td>0.128829</td>\n    </tr>\n    <tr>\n      <th>2019-12-31</th>\n      <td>0.438476</td>\n      <td>0.145744</td>\n    </tr>\n    <tr>\n      <th>2020-12-31</th>\n      <td>0.530915</td>\n      <td>0.229212</td>\n    </tr>\n    <tr>\n      <th>2021-12-31</th>\n      <td>0.554046</td>\n      <td>0.328672</td>\n    </tr>\n    <tr>\n      <th>2022-12-31</th>\n      <td>0.423909</td>\n      <td>0.127389</td>\n    </tr>\n    <tr>\n      <th>2023-07-31</th>\n      <td>0.367076</td>\n      <td>0.143514</td>\n    </tr>\n  </tbody>\n</table>\n</div>"
     },
     "execution_count": 4,
     "metadata": {},
     "output_type": "execute_result"
    }
   ],
   "source": [
    "\n",
    "net_margin = net_profit / revenue\n",
    "net_margin.name = 'net margin'\n",
    "gross_margin = gross_profit / revenue\n",
    "gross_margin.name = 'gross margin'\n",
    "\n",
    "margins = pd.concat([gross_margin,net_margin], axis=1)\n",
    "margins\n",
    "\n"
   ],
   "metadata": {
    "collapsed": false,
    "ExecuteTime": {
     "end_time": "2023-09-12T14:12:12.372863100Z",
     "start_time": "2023-09-12T14:12:12.365849800Z"
    }
   }
  },
  {
   "cell_type": "markdown",
   "source": [
    "# Working Capital Calculations"
   ],
   "metadata": {
    "collapsed": false
   }
  },
  {
   "cell_type": "code",
   "execution_count": 5,
   "outputs": [
    {
     "name": "stdout",
     "output_type": "stream",
     "text": [
      "get_data_to_plot category\n",
      "level = category\n",
      "Total duration for function <get_data_to_plot> is 0.004253999999491498\n",
      "get_data_to_plot category\n",
      "level = category\n",
      "Total duration for function <get_data_to_plot> is 0.002891700016334653\n"
     ]
    },
    {
     "data": {
      "text/plain": "2017-12-31     857188.95\n2018-12-31     891826.01\n2019-12-31     955708.76\n2020-12-31    1316386.80\n2021-12-31    1364727.30\n2022-12-31    1559463.42\n2023-07-31    1726883.58\nName: working capital, dtype: float64"
     },
     "execution_count": 5,
     "metadata": {},
     "output_type": "execute_result"
    }
   ],
   "source": [
    "asset_data, asset_label, sub_data_names = accounts.get_data_to_plot('category', 'assets', 'sub_category', yearly=True)\n",
    "liability_data, liability_label, sub_data_names = accounts.get_data_to_plot('category', 'Liabilities', 'sub_category', yearly=True)\n",
    "al_data = pd.concat([asset_data, liability_data], axis=1)\n",
    "working_capital = al_data['current assets'] + al_data['current liabilities']\n",
    "working_capital.name = 'working capital'\n",
    "working_capital"
   ],
   "metadata": {
    "collapsed": false,
    "ExecuteTime": {
     "end_time": "2023-09-12T14:12:38.328214300Z",
     "start_time": "2023-09-12T14:12:38.308074900Z"
    }
   }
  },
  {
   "cell_type": "code",
   "execution_count": 6,
   "outputs": [
    {
     "data": {
      "text/plain": "sub_category  current assets  other assets  property and equiptment\n2017-12-31         878033.81       9212.68                 85370.72\n2018-12-31         923046.27        106.36                 80191.72\n2019-12-31        1007073.40        348.00                 51608.92\n2020-12-31        1334097.65        232.00                 39269.74\n2021-12-31        1371918.00        116.00                123453.67\n2022-12-31        1560901.56        377.00                 91355.58\n2023-07-31        2117476.37        377.00                 89660.25",
      "text/html": "<div>\n<style scoped>\n    .dataframe tbody tr th:only-of-type {\n        vertical-align: middle;\n    }\n\n    .dataframe tbody tr th {\n        vertical-align: top;\n    }\n\n    .dataframe thead th {\n        text-align: right;\n    }\n</style>\n<table border=\"1\" class=\"dataframe\">\n  <thead>\n    <tr style=\"text-align: right;\">\n      <th>sub_category</th>\n      <th>current assets</th>\n      <th>other assets</th>\n      <th>property and equiptment</th>\n    </tr>\n  </thead>\n  <tbody>\n    <tr>\n      <th>2017-12-31</th>\n      <td>878033.81</td>\n      <td>9212.68</td>\n      <td>85370.72</td>\n    </tr>\n    <tr>\n      <th>2018-12-31</th>\n      <td>923046.27</td>\n      <td>106.36</td>\n      <td>80191.72</td>\n    </tr>\n    <tr>\n      <th>2019-12-31</th>\n      <td>1007073.40</td>\n      <td>348.00</td>\n      <td>51608.92</td>\n    </tr>\n    <tr>\n      <th>2020-12-31</th>\n      <td>1334097.65</td>\n      <td>232.00</td>\n      <td>39269.74</td>\n    </tr>\n    <tr>\n      <th>2021-12-31</th>\n      <td>1371918.00</td>\n      <td>116.00</td>\n      <td>123453.67</td>\n    </tr>\n    <tr>\n      <th>2022-12-31</th>\n      <td>1560901.56</td>\n      <td>377.00</td>\n      <td>91355.58</td>\n    </tr>\n    <tr>\n      <th>2023-07-31</th>\n      <td>2117476.37</td>\n      <td>377.00</td>\n      <td>89660.25</td>\n    </tr>\n  </tbody>\n</table>\n</div>"
     },
     "execution_count": 6,
     "metadata": {},
     "output_type": "execute_result"
    }
   ],
   "source": [
    "asset_data"
   ],
   "metadata": {
    "collapsed": false,
    "ExecuteTime": {
     "end_time": "2023-09-12T14:13:00.077844700Z",
     "start_time": "2023-09-12T14:13:00.058565300Z"
    }
   }
  },
  {
   "cell_type": "code",
   "execution_count": 7,
   "outputs": [
    {
     "name": "stdout",
     "output_type": "stream",
     "text": [
      "get_data_to_plot sub_category\n",
      "level = sub_category\n",
      "Total duration for function <get_data_to_plot> is 0.004209499980788678\n"
     ]
    },
    {
     "data": {
      "text/plain": "sub_account  accounts receivable  cash and equivelents\n2017-12-31             770380.01             107653.80\n2018-12-31             788147.24             134899.03\n2019-12-31            1006943.41                129.99\n2020-12-31            1238718.48              95379.17\n2021-12-31            1173292.39             198625.61\n2022-12-31            1533534.57              27366.99\n2023-07-31            1316834.43             800641.94",
      "text/html": "<div>\n<style scoped>\n    .dataframe tbody tr th:only-of-type {\n        vertical-align: middle;\n    }\n\n    .dataframe tbody tr th {\n        vertical-align: top;\n    }\n\n    .dataframe thead th {\n        text-align: right;\n    }\n</style>\n<table border=\"1\" class=\"dataframe\">\n  <thead>\n    <tr style=\"text-align: right;\">\n      <th>sub_account</th>\n      <th>accounts receivable</th>\n      <th>cash and equivelents</th>\n    </tr>\n  </thead>\n  <tbody>\n    <tr>\n      <th>2017-12-31</th>\n      <td>770380.01</td>\n      <td>107653.80</td>\n    </tr>\n    <tr>\n      <th>2018-12-31</th>\n      <td>788147.24</td>\n      <td>134899.03</td>\n    </tr>\n    <tr>\n      <th>2019-12-31</th>\n      <td>1006943.41</td>\n      <td>129.99</td>\n    </tr>\n    <tr>\n      <th>2020-12-31</th>\n      <td>1238718.48</td>\n      <td>95379.17</td>\n    </tr>\n    <tr>\n      <th>2021-12-31</th>\n      <td>1173292.39</td>\n      <td>198625.61</td>\n    </tr>\n    <tr>\n      <th>2022-12-31</th>\n      <td>1533534.57</td>\n      <td>27366.99</td>\n    </tr>\n    <tr>\n      <th>2023-07-31</th>\n      <td>1316834.43</td>\n      <td>800641.94</td>\n    </tr>\n  </tbody>\n</table>\n</div>"
     },
     "execution_count": 7,
     "metadata": {},
     "output_type": "execute_result"
    }
   ],
   "source": [
    "current_asset_data, ca_label, ca_sub_data = accounts.get_data_to_plot('sub_category', 'current assets', 'sub_account', yearly=True)\n",
    "current_asset_data"
   ],
   "metadata": {
    "collapsed": false,
    "ExecuteTime": {
     "end_time": "2023-09-12T14:13:01.039936Z",
     "start_time": "2023-09-12T14:13:01.008632Z"
    }
   }
  },
  {
   "cell_type": "code",
   "execution_count": 8,
   "outputs": [
    {
     "data": {
      "text/plain": "2017-12-31     749535.15\n2018-12-31     756926.98\n2019-12-31     955578.77\n2020-12-31    1221007.63\n2021-12-31    1166101.69\n2022-12-31    1532096.43\n2023-07-31     926241.64\ndtype: float64"
     },
     "execution_count": 8,
     "metadata": {},
     "output_type": "execute_result"
    }
   ],
   "source": [
    "working_capital - current_asset_data['cash and equivelents']\n"
   ],
   "metadata": {
    "collapsed": false,
    "ExecuteTime": {
     "end_time": "2023-09-12T14:13:03.744304500Z",
     "start_time": "2023-09-12T14:13:03.737750900Z"
    }
   }
  },
  {
   "cell_type": "markdown",
   "source": [
    "## Getting Working Capital Info for Export"
   ],
   "metadata": {
    "collapsed": false
   }
  },
  {
   "cell_type": "code",
   "execution_count": 13,
   "outputs": [
    {
     "data": {
      "text/plain": "           bs_is     category             sub_category  \\\naccount_no                                               \n11040         bs       assets           current assets   \n11050         bs       assets           current assets   \n11060         bs       assets           current assets   \n11100         bs       assets           current assets   \n11500         bs       assets           current assets   \n11600         bs       assets           current assets   \n12000         bs       assets           current assets   \n12050         bs       assets           current assets   \n12500         bs       assets           current assets   \n14700         bs       assets  property and equiptment   \n15000         bs       assets  property and equiptment   \n15200         bs       assets  property and equiptment   \n15700         bs       assets  property and equiptment   \n16000         bs       assets  property and equiptment   \n17500         bs       assets             other assets   \n19200         bs       assets             other assets   \n19500         bs       assets             other assets   \n20000         bs  Liabilities      current liabilities   \n20005         bs  Liabilities      current liabilities   \n20020         bs  Liabilities      current liabilities   \n20300         bs  Liabilities      current liabilities   \n20400         bs  Liabilities      current liabilities   \n20500         bs  Liabilities      current liabilities   \n20700         bs  Liabilities      current liabilities   \n20750         bs  Liabilities      current liabilities   \n20800         bs  Liabilities      current liabilities   \n20900         bs  Liabilities      current liabilities   \n21000         bs  Liabilities    long term liabilities   \n21050         bs  Liabilities    long term liabilities   \n22250         bs  Liabilities    long term liabilities   \n22400         bs  Liabilities    long term liabilities   \n22550         bs  Liabilities    long term liabilities   \n22600         bs  Liabilities    long term liabilities   \n22650         bs  Liabilities    long term liabilities   \n23400         bs  Liabilities    long term liabilities   \n24000         bs  Liabilities    long term liabilities   \n\n                            sub_account                         account  \\\naccount_no                                                                \n11040              cash and equivelents                   PNC Operating   \n11050              cash and equivelents                     PNC Payroll   \n11060              cash and equivelents                PNC Money Market   \n11100              cash and equivelents                Wells Fargo Bank   \n11500              cash and equivelents        Cash on Hand, Petty Cash   \n11600               accounts receivable      Accounts Receivable, Other   \n12000               accounts receivable             Accounts Receivable   \n12050               accounts receivable  Accounts Receivable, Employees   \n12500               accounts receivable          Deposits & Prepaid A/R   \n14700           property and equiptment            Furniture & Fixtures   \n15000           property and equiptment           Machinery & Equipment   \n15200           property and equiptment                        Building   \n15700           property and equiptment                        Vehicles   \n16000           property and equiptment        Accumulated Depreciation   \n17500                      other assets                Prepaid Expenses   \n19200                      other assets               Intangible Assets   \n19500                      other assets        Accumulated Amortization   \n20000                  accounts payable                Accounts Payable   \n20005                  accounts payable           Negative Cash Balance   \n20020                  accounts payable        Accrued Accounts Payable   \n20300                  accrued expenses           Accrued Bonus Payable   \n20400         other current liabilities  Notes Payable 2014 Infiniti JX   \n20500         other current liabilities    Notes Payable Nat. Coop Bank   \n20700         other current liabilities     Notes Payable  2014 Transit   \n20750         other current liabilities      Wells Fargo Line of Credit   \n20800         other current liabilities     Notes Payable 2018 Chrysler   \n20900         other current liabilities         Payroll Protection Loan   \n21000                  accrued Expenses                     Accured PTO   \n21050                  accrued Expenses              Accured Sick Leave   \n22250       other long term liabilities                FFCRA Tax Credit   \n22400       other long term liabilities                 MD Unemployment   \n22550       other long term liabilities                 AFLAC Insurance   \n22600       other long term liabilities                   401 K Payable   \n22650       other long term liabilities     Employee 401 K Loan Payable   \n23400       other long term liabilities                 Deferred Income   \n24000       other long term liabilities   Notes Payable, NCB, Long Term   \n\n            2017-12-31  2018-12-31  2019-12-31  2020-12-31  2021-12-31  \\\naccount_no                                                               \n11040        106161.11   132985.04        0.00    91887.83   195671.37   \n11050           157.16      578.46       34.70     3354.75     2827.51   \n11060             0.00        0.00        0.00        9.86        0.00   \n11100          1235.53     1235.53        0.00        0.00        0.00   \n11500           100.00      100.00       95.29      126.73      126.73   \n11600             0.00        0.00    10129.24        0.00        0.00   \n12000        768095.81   783485.54   993525.97  1238718.48  1173292.39   \n12050          2284.20     4661.70     3288.20        0.00        0.00   \n12500             0.00        0.00        0.00        0.00        0.00   \n14700         13100.00    13100.00    13100.00    13100.00    13100.00   \n15000        107787.00   107787.00   107787.00   107787.00   111809.70   \n15200         43496.00    43496.00    43496.00    43496.00    43496.00   \n15700        254985.96   215334.76   215420.94   215420.94   253197.33   \n16000       -333998.24  -299526.04  -328195.02  -340534.20  -298149.36   \n17500          9212.68      106.36      348.00      232.00      116.00   \n19200       1942707.07  1942707.07  1942707.07  1942707.07  1942707.07   \n19500      -1942707.07 -1942707.07 -1942707.07 -1942707.07 -1942707.07   \n20000             0.00        0.00    -8931.79    -4767.59        0.00   \n20005             0.00        0.00   -23737.03        0.00        0.00   \n20020             0.00        0.00        0.00        0.00        0.00   \n20300             0.00        0.00        0.00        0.00        0.00   \n20400        -15553.18    -6771.88        0.00        0.00        0.00   \n20500             0.00        0.00        0.00        0.00        0.00   \n20700         -5291.68        0.00        0.00        0.00        0.00   \n20750             0.00        0.00        0.00        0.00        0.00   \n20800             0.00   -24448.38   -18695.82   -12943.26    -7190.70   \n20900             0.00        0.00        0.00        0.00        0.00   \n21000       -133953.44  -139895.15  -109685.38   -94395.76   -87258.04   \n21050             0.00        0.00    -8508.78   -26239.94   -25351.30   \n22250             0.00        0.00        0.00        0.00        0.00   \n22400             0.00        0.00        0.00        0.00        0.00   \n22550             0.00        0.00        0.00        0.00        0.00   \n22600             0.00        0.00        0.00        0.00        0.00   \n22650             0.00        0.00        0.00        0.00        0.00   \n23400             0.00        0.00        0.00        0.00        0.00   \n24000             0.00        0.00        0.00        0.00        0.00   \n\n            2022-12-31  2023-07-31  \naccount_no                          \n11040         27065.96   799700.97  \n11050           201.03      840.97  \n11060             0.00        0.00  \n11100             0.00        0.00  \n11500           100.00      100.00  \n11600             0.00        0.00  \n12000       1533534.57  1316834.43  \n12050             0.00        0.00  \n12500             0.00        0.00  \n14700         13100.00    13100.00  \n15000        111809.70   111809.70  \n15200         43496.00    43496.00  \n15700        253111.15   253111.15  \n16000       -330161.27  -331856.60  \n17500           377.00      377.00  \n19200             0.00        0.00  \n19500             0.00        0.00  \n20000             0.00  -215634.10  \n20005             0.00        0.00  \n20020             0.00  -143458.69  \n20300             0.00   -31500.00  \n20400             0.00        0.00  \n20500             0.00        0.00  \n20700             0.00        0.00  \n20750             0.00        0.00  \n20800         -1438.14        0.00  \n20900             0.00        0.00  \n21000        -91980.11   -86785.09  \n21050        -25701.71   -25701.71  \n22250             0.00        0.00  \n22400             0.00        0.00  \n22550             0.00        0.00  \n22600             0.00        0.00  \n22650             0.00        0.00  \n23400             0.00   -37000.00  \n24000             0.00        0.00  ",
      "text/html": "<div>\n<style scoped>\n    .dataframe tbody tr th:only-of-type {\n        vertical-align: middle;\n    }\n\n    .dataframe tbody tr th {\n        vertical-align: top;\n    }\n\n    .dataframe thead th {\n        text-align: right;\n    }\n</style>\n<table border=\"1\" class=\"dataframe\">\n  <thead>\n    <tr style=\"text-align: right;\">\n      <th></th>\n      <th>bs_is</th>\n      <th>category</th>\n      <th>sub_category</th>\n      <th>sub_account</th>\n      <th>account</th>\n      <th>2017-12-31</th>\n      <th>2018-12-31</th>\n      <th>2019-12-31</th>\n      <th>2020-12-31</th>\n      <th>2021-12-31</th>\n      <th>2022-12-31</th>\n      <th>2023-07-31</th>\n    </tr>\n    <tr>\n      <th>account_no</th>\n      <th></th>\n      <th></th>\n      <th></th>\n      <th></th>\n      <th></th>\n      <th></th>\n      <th></th>\n      <th></th>\n      <th></th>\n      <th></th>\n      <th></th>\n      <th></th>\n    </tr>\n  </thead>\n  <tbody>\n    <tr>\n      <th>11040</th>\n      <td>bs</td>\n      <td>assets</td>\n      <td>current assets</td>\n      <td>cash and equivelents</td>\n      <td>PNC Operating</td>\n      <td>106161.11</td>\n      <td>132985.04</td>\n      <td>0.00</td>\n      <td>91887.83</td>\n      <td>195671.37</td>\n      <td>27065.96</td>\n      <td>799700.97</td>\n    </tr>\n    <tr>\n      <th>11050</th>\n      <td>bs</td>\n      <td>assets</td>\n      <td>current assets</td>\n      <td>cash and equivelents</td>\n      <td>PNC Payroll</td>\n      <td>157.16</td>\n      <td>578.46</td>\n      <td>34.70</td>\n      <td>3354.75</td>\n      <td>2827.51</td>\n      <td>201.03</td>\n      <td>840.97</td>\n    </tr>\n    <tr>\n      <th>11060</th>\n      <td>bs</td>\n      <td>assets</td>\n      <td>current assets</td>\n      <td>cash and equivelents</td>\n      <td>PNC Money Market</td>\n      <td>0.00</td>\n      <td>0.00</td>\n      <td>0.00</td>\n      <td>9.86</td>\n      <td>0.00</td>\n      <td>0.00</td>\n      <td>0.00</td>\n    </tr>\n    <tr>\n      <th>11100</th>\n      <td>bs</td>\n      <td>assets</td>\n      <td>current assets</td>\n      <td>cash and equivelents</td>\n      <td>Wells Fargo Bank</td>\n      <td>1235.53</td>\n      <td>1235.53</td>\n      <td>0.00</td>\n      <td>0.00</td>\n      <td>0.00</td>\n      <td>0.00</td>\n      <td>0.00</td>\n    </tr>\n    <tr>\n      <th>11500</th>\n      <td>bs</td>\n      <td>assets</td>\n      <td>current assets</td>\n      <td>cash and equivelents</td>\n      <td>Cash on Hand, Petty Cash</td>\n      <td>100.00</td>\n      <td>100.00</td>\n      <td>95.29</td>\n      <td>126.73</td>\n      <td>126.73</td>\n      <td>100.00</td>\n      <td>100.00</td>\n    </tr>\n    <tr>\n      <th>11600</th>\n      <td>bs</td>\n      <td>assets</td>\n      <td>current assets</td>\n      <td>accounts receivable</td>\n      <td>Accounts Receivable, Other</td>\n      <td>0.00</td>\n      <td>0.00</td>\n      <td>10129.24</td>\n      <td>0.00</td>\n      <td>0.00</td>\n      <td>0.00</td>\n      <td>0.00</td>\n    </tr>\n    <tr>\n      <th>12000</th>\n      <td>bs</td>\n      <td>assets</td>\n      <td>current assets</td>\n      <td>accounts receivable</td>\n      <td>Accounts Receivable</td>\n      <td>768095.81</td>\n      <td>783485.54</td>\n      <td>993525.97</td>\n      <td>1238718.48</td>\n      <td>1173292.39</td>\n      <td>1533534.57</td>\n      <td>1316834.43</td>\n    </tr>\n    <tr>\n      <th>12050</th>\n      <td>bs</td>\n      <td>assets</td>\n      <td>current assets</td>\n      <td>accounts receivable</td>\n      <td>Accounts Receivable, Employees</td>\n      <td>2284.20</td>\n      <td>4661.70</td>\n      <td>3288.20</td>\n      <td>0.00</td>\n      <td>0.00</td>\n      <td>0.00</td>\n      <td>0.00</td>\n    </tr>\n    <tr>\n      <th>12500</th>\n      <td>bs</td>\n      <td>assets</td>\n      <td>current assets</td>\n      <td>accounts receivable</td>\n      <td>Deposits &amp; Prepaid A/R</td>\n      <td>0.00</td>\n      <td>0.00</td>\n      <td>0.00</td>\n      <td>0.00</td>\n      <td>0.00</td>\n      <td>0.00</td>\n      <td>0.00</td>\n    </tr>\n    <tr>\n      <th>14700</th>\n      <td>bs</td>\n      <td>assets</td>\n      <td>property and equiptment</td>\n      <td>property and equiptment</td>\n      <td>Furniture &amp; Fixtures</td>\n      <td>13100.00</td>\n      <td>13100.00</td>\n      <td>13100.00</td>\n      <td>13100.00</td>\n      <td>13100.00</td>\n      <td>13100.00</td>\n      <td>13100.00</td>\n    </tr>\n    <tr>\n      <th>15000</th>\n      <td>bs</td>\n      <td>assets</td>\n      <td>property and equiptment</td>\n      <td>property and equiptment</td>\n      <td>Machinery &amp; Equipment</td>\n      <td>107787.00</td>\n      <td>107787.00</td>\n      <td>107787.00</td>\n      <td>107787.00</td>\n      <td>111809.70</td>\n      <td>111809.70</td>\n      <td>111809.70</td>\n    </tr>\n    <tr>\n      <th>15200</th>\n      <td>bs</td>\n      <td>assets</td>\n      <td>property and equiptment</td>\n      <td>property and equiptment</td>\n      <td>Building</td>\n      <td>43496.00</td>\n      <td>43496.00</td>\n      <td>43496.00</td>\n      <td>43496.00</td>\n      <td>43496.00</td>\n      <td>43496.00</td>\n      <td>43496.00</td>\n    </tr>\n    <tr>\n      <th>15700</th>\n      <td>bs</td>\n      <td>assets</td>\n      <td>property and equiptment</td>\n      <td>property and equiptment</td>\n      <td>Vehicles</td>\n      <td>254985.96</td>\n      <td>215334.76</td>\n      <td>215420.94</td>\n      <td>215420.94</td>\n      <td>253197.33</td>\n      <td>253111.15</td>\n      <td>253111.15</td>\n    </tr>\n    <tr>\n      <th>16000</th>\n      <td>bs</td>\n      <td>assets</td>\n      <td>property and equiptment</td>\n      <td>property and equiptment</td>\n      <td>Accumulated Depreciation</td>\n      <td>-333998.24</td>\n      <td>-299526.04</td>\n      <td>-328195.02</td>\n      <td>-340534.20</td>\n      <td>-298149.36</td>\n      <td>-330161.27</td>\n      <td>-331856.60</td>\n    </tr>\n    <tr>\n      <th>17500</th>\n      <td>bs</td>\n      <td>assets</td>\n      <td>other assets</td>\n      <td>other assets</td>\n      <td>Prepaid Expenses</td>\n      <td>9212.68</td>\n      <td>106.36</td>\n      <td>348.00</td>\n      <td>232.00</td>\n      <td>116.00</td>\n      <td>377.00</td>\n      <td>377.00</td>\n    </tr>\n    <tr>\n      <th>19200</th>\n      <td>bs</td>\n      <td>assets</td>\n      <td>other assets</td>\n      <td>other assets</td>\n      <td>Intangible Assets</td>\n      <td>1942707.07</td>\n      <td>1942707.07</td>\n      <td>1942707.07</td>\n      <td>1942707.07</td>\n      <td>1942707.07</td>\n      <td>0.00</td>\n      <td>0.00</td>\n    </tr>\n    <tr>\n      <th>19500</th>\n      <td>bs</td>\n      <td>assets</td>\n      <td>other assets</td>\n      <td>other assets</td>\n      <td>Accumulated Amortization</td>\n      <td>-1942707.07</td>\n      <td>-1942707.07</td>\n      <td>-1942707.07</td>\n      <td>-1942707.07</td>\n      <td>-1942707.07</td>\n      <td>0.00</td>\n      <td>0.00</td>\n    </tr>\n    <tr>\n      <th>20000</th>\n      <td>bs</td>\n      <td>Liabilities</td>\n      <td>current liabilities</td>\n      <td>accounts payable</td>\n      <td>Accounts Payable</td>\n      <td>0.00</td>\n      <td>0.00</td>\n      <td>-8931.79</td>\n      <td>-4767.59</td>\n      <td>0.00</td>\n      <td>0.00</td>\n      <td>-215634.10</td>\n    </tr>\n    <tr>\n      <th>20005</th>\n      <td>bs</td>\n      <td>Liabilities</td>\n      <td>current liabilities</td>\n      <td>accounts payable</td>\n      <td>Negative Cash Balance</td>\n      <td>0.00</td>\n      <td>0.00</td>\n      <td>-23737.03</td>\n      <td>0.00</td>\n      <td>0.00</td>\n      <td>0.00</td>\n      <td>0.00</td>\n    </tr>\n    <tr>\n      <th>20020</th>\n      <td>bs</td>\n      <td>Liabilities</td>\n      <td>current liabilities</td>\n      <td>accounts payable</td>\n      <td>Accrued Accounts Payable</td>\n      <td>0.00</td>\n      <td>0.00</td>\n      <td>0.00</td>\n      <td>0.00</td>\n      <td>0.00</td>\n      <td>0.00</td>\n      <td>-143458.69</td>\n    </tr>\n    <tr>\n      <th>20300</th>\n      <td>bs</td>\n      <td>Liabilities</td>\n      <td>current liabilities</td>\n      <td>accrued expenses</td>\n      <td>Accrued Bonus Payable</td>\n      <td>0.00</td>\n      <td>0.00</td>\n      <td>0.00</td>\n      <td>0.00</td>\n      <td>0.00</td>\n      <td>0.00</td>\n      <td>-31500.00</td>\n    </tr>\n    <tr>\n      <th>20400</th>\n      <td>bs</td>\n      <td>Liabilities</td>\n      <td>current liabilities</td>\n      <td>other current liabilities</td>\n      <td>Notes Payable 2014 Infiniti JX</td>\n      <td>-15553.18</td>\n      <td>-6771.88</td>\n      <td>0.00</td>\n      <td>0.00</td>\n      <td>0.00</td>\n      <td>0.00</td>\n      <td>0.00</td>\n    </tr>\n    <tr>\n      <th>20500</th>\n      <td>bs</td>\n      <td>Liabilities</td>\n      <td>current liabilities</td>\n      <td>other current liabilities</td>\n      <td>Notes Payable Nat. Coop Bank</td>\n      <td>0.00</td>\n      <td>0.00</td>\n      <td>0.00</td>\n      <td>0.00</td>\n      <td>0.00</td>\n      <td>0.00</td>\n      <td>0.00</td>\n    </tr>\n    <tr>\n      <th>20700</th>\n      <td>bs</td>\n      <td>Liabilities</td>\n      <td>current liabilities</td>\n      <td>other current liabilities</td>\n      <td>Notes Payable  2014 Transit</td>\n      <td>-5291.68</td>\n      <td>0.00</td>\n      <td>0.00</td>\n      <td>0.00</td>\n      <td>0.00</td>\n      <td>0.00</td>\n      <td>0.00</td>\n    </tr>\n    <tr>\n      <th>20750</th>\n      <td>bs</td>\n      <td>Liabilities</td>\n      <td>current liabilities</td>\n      <td>other current liabilities</td>\n      <td>Wells Fargo Line of Credit</td>\n      <td>0.00</td>\n      <td>0.00</td>\n      <td>0.00</td>\n      <td>0.00</td>\n      <td>0.00</td>\n      <td>0.00</td>\n      <td>0.00</td>\n    </tr>\n    <tr>\n      <th>20800</th>\n      <td>bs</td>\n      <td>Liabilities</td>\n      <td>current liabilities</td>\n      <td>other current liabilities</td>\n      <td>Notes Payable 2018 Chrysler</td>\n      <td>0.00</td>\n      <td>-24448.38</td>\n      <td>-18695.82</td>\n      <td>-12943.26</td>\n      <td>-7190.70</td>\n      <td>-1438.14</td>\n      <td>0.00</td>\n    </tr>\n    <tr>\n      <th>20900</th>\n      <td>bs</td>\n      <td>Liabilities</td>\n      <td>current liabilities</td>\n      <td>other current liabilities</td>\n      <td>Payroll Protection Loan</td>\n      <td>0.00</td>\n      <td>0.00</td>\n      <td>0.00</td>\n      <td>0.00</td>\n      <td>0.00</td>\n      <td>0.00</td>\n      <td>0.00</td>\n    </tr>\n    <tr>\n      <th>21000</th>\n      <td>bs</td>\n      <td>Liabilities</td>\n      <td>long term liabilities</td>\n      <td>accrued Expenses</td>\n      <td>Accured PTO</td>\n      <td>-133953.44</td>\n      <td>-139895.15</td>\n      <td>-109685.38</td>\n      <td>-94395.76</td>\n      <td>-87258.04</td>\n      <td>-91980.11</td>\n      <td>-86785.09</td>\n    </tr>\n    <tr>\n      <th>21050</th>\n      <td>bs</td>\n      <td>Liabilities</td>\n      <td>long term liabilities</td>\n      <td>accrued Expenses</td>\n      <td>Accured Sick Leave</td>\n      <td>0.00</td>\n      <td>0.00</td>\n      <td>-8508.78</td>\n      <td>-26239.94</td>\n      <td>-25351.30</td>\n      <td>-25701.71</td>\n      <td>-25701.71</td>\n    </tr>\n    <tr>\n      <th>22250</th>\n      <td>bs</td>\n      <td>Liabilities</td>\n      <td>long term liabilities</td>\n      <td>other long term liabilities</td>\n      <td>FFCRA Tax Credit</td>\n      <td>0.00</td>\n      <td>0.00</td>\n      <td>0.00</td>\n      <td>0.00</td>\n      <td>0.00</td>\n      <td>0.00</td>\n      <td>0.00</td>\n    </tr>\n    <tr>\n      <th>22400</th>\n      <td>bs</td>\n      <td>Liabilities</td>\n      <td>long term liabilities</td>\n      <td>other long term liabilities</td>\n      <td>MD Unemployment</td>\n      <td>0.00</td>\n      <td>0.00</td>\n      <td>0.00</td>\n      <td>0.00</td>\n      <td>0.00</td>\n      <td>0.00</td>\n      <td>0.00</td>\n    </tr>\n    <tr>\n      <th>22550</th>\n      <td>bs</td>\n      <td>Liabilities</td>\n      <td>long term liabilities</td>\n      <td>other long term liabilities</td>\n      <td>AFLAC Insurance</td>\n      <td>0.00</td>\n      <td>0.00</td>\n      <td>0.00</td>\n      <td>0.00</td>\n      <td>0.00</td>\n      <td>0.00</td>\n      <td>0.00</td>\n    </tr>\n    <tr>\n      <th>22600</th>\n      <td>bs</td>\n      <td>Liabilities</td>\n      <td>long term liabilities</td>\n      <td>other long term liabilities</td>\n      <td>401 K Payable</td>\n      <td>0.00</td>\n      <td>0.00</td>\n      <td>0.00</td>\n      <td>0.00</td>\n      <td>0.00</td>\n      <td>0.00</td>\n      <td>0.00</td>\n    </tr>\n    <tr>\n      <th>22650</th>\n      <td>bs</td>\n      <td>Liabilities</td>\n      <td>long term liabilities</td>\n      <td>other long term liabilities</td>\n      <td>Employee 401 K Loan Payable</td>\n      <td>0.00</td>\n      <td>0.00</td>\n      <td>0.00</td>\n      <td>0.00</td>\n      <td>0.00</td>\n      <td>0.00</td>\n      <td>0.00</td>\n    </tr>\n    <tr>\n      <th>23400</th>\n      <td>bs</td>\n      <td>Liabilities</td>\n      <td>long term liabilities</td>\n      <td>other long term liabilities</td>\n      <td>Deferred Income</td>\n      <td>0.00</td>\n      <td>0.00</td>\n      <td>0.00</td>\n      <td>0.00</td>\n      <td>0.00</td>\n      <td>0.00</td>\n      <td>-37000.00</td>\n    </tr>\n    <tr>\n      <th>24000</th>\n      <td>bs</td>\n      <td>Liabilities</td>\n      <td>long term liabilities</td>\n      <td>other long term liabilities</td>\n      <td>Notes Payable, NCB, Long Term</td>\n      <td>0.00</td>\n      <td>0.00</td>\n      <td>0.00</td>\n      <td>0.00</td>\n      <td>0.00</td>\n      <td>0.00</td>\n      <td>0.00</td>\n    </tr>\n  </tbody>\n</table>\n</div>"
     },
     "execution_count": 13,
     "metadata": {},
     "output_type": "execute_result"
    }
   ],
   "source": [
    "categories = [\"current assets\", \"other assets\", \"property and equiptment\", \"accounts payable\", \"current liabilities\", \"long term liabilities\"]\n",
    "data = accounts.get_data_rows('sub_category', categories, yearly=True)\n",
    "data"
   ],
   "metadata": {
    "collapsed": false,
    "ExecuteTime": {
     "end_time": "2023-09-12T14:22:06.542110100Z",
     "start_time": "2023-09-12T14:22:06.515222600Z"
    }
   }
  },
  {
   "cell_type": "code",
   "execution_count": 14,
   "outputs": [],
   "source": [
    "data.to_csv('working capital.csv')"
   ],
   "metadata": {
    "collapsed": false,
    "ExecuteTime": {
     "end_time": "2023-09-12T14:22:08.144103300Z",
     "start_time": "2023-09-12T14:22:08.140603200Z"
    }
   }
  },
  {
   "cell_type": "code",
   "execution_count": null,
   "outputs": [],
   "source": [
    "accounts.detailed_account_mapping"
   ],
   "metadata": {
    "collapsed": false
   }
  },
  {
   "cell_type": "code",
   "execution_count": null,
   "outputs": [],
   "source": [
    "data['cost of goods sold'] / data['revenue']"
   ],
   "metadata": {
    "collapsed": false
   }
  },
  {
   "cell_type": "code",
   "execution_count": null,
   "outputs": [],
   "source": [
    "accounts.trial_balances[70100]"
   ],
   "metadata": {
    "collapsed": false
   }
  },
  {
   "cell_type": "markdown",
   "source": [
    "# Discresionary Expenses"
   ],
   "metadata": {
    "collapsed": false
   }
  },
  {
   "cell_type": "code",
   "execution_count": 3,
   "outputs": [
    {
     "name": "stdout",
     "output_type": "stream",
     "text": [
      "get_data_to_plot sub_account\n",
      "level = sub_account\n",
      "Total duration for function <get_data_to_plot> is 0.004776499990839511\n"
     ]
    },
    {
     "data": {
      "text/plain": "account     Travel, Not job related  Meals & Entertainment\n2017-12-31                  7020.75                1580.35\n2018-12-31                  7895.27                 831.30\n2019-12-31                  7407.62                 997.80\n2020-12-31                 -2152.77                 502.92\n2021-12-31                  4715.40                  98.84\n2022-12-31                   665.74                2837.13\n2023-07-31                 12569.75                 130.18",
      "text/html": "<div>\n<style scoped>\n    .dataframe tbody tr th:only-of-type {\n        vertical-align: middle;\n    }\n\n    .dataframe tbody tr th {\n        vertical-align: top;\n    }\n\n    .dataframe thead th {\n        text-align: right;\n    }\n</style>\n<table border=\"1\" class=\"dataframe\">\n  <thead>\n    <tr style=\"text-align: right;\">\n      <th>account</th>\n      <th>Travel, Not job related</th>\n      <th>Meals &amp; Entertainment</th>\n    </tr>\n  </thead>\n  <tbody>\n    <tr>\n      <th>2017-12-31</th>\n      <td>7020.75</td>\n      <td>1580.35</td>\n    </tr>\n    <tr>\n      <th>2018-12-31</th>\n      <td>7895.27</td>\n      <td>831.30</td>\n    </tr>\n    <tr>\n      <th>2019-12-31</th>\n      <td>7407.62</td>\n      <td>997.80</td>\n    </tr>\n    <tr>\n      <th>2020-12-31</th>\n      <td>-2152.77</td>\n      <td>502.92</td>\n    </tr>\n    <tr>\n      <th>2021-12-31</th>\n      <td>4715.40</td>\n      <td>98.84</td>\n    </tr>\n    <tr>\n      <th>2022-12-31</th>\n      <td>665.74</td>\n      <td>2837.13</td>\n    </tr>\n    <tr>\n      <th>2023-07-31</th>\n      <td>12569.75</td>\n      <td>130.18</td>\n    </tr>\n  </tbody>\n</table>\n</div>"
     },
     "execution_count": 3,
     "metadata": {},
     "output_type": "execute_result"
    }
   ],
   "source": [
    "dis_oh  = accounts.get_data_to_plot('sub_account', 'Overhead', 'account', yearly=True)[0]\n",
    "\n",
    "dis_oh[['Travel, Not job related', 'Meals & Entertainment']]\n",
    "\n",
    "\n",
    "# accounts.accounts"
   ],
   "metadata": {
    "collapsed": false,
    "ExecuteTime": {
     "end_time": "2023-09-11T21:03:45.590779500Z",
     "start_time": "2023-09-11T21:03:45.577096800Z"
    }
   }
  },
  {
   "cell_type": "code",
   "execution_count": 4,
   "outputs": [
    {
     "name": "stdout",
     "output_type": "stream",
     "text": [
      "get_data_to_plot sub_account\n",
      "level = sub_account\n",
      "Total duration for function <get_data_to_plot> is 0.003968399978475645\n"
     ]
    },
    {
     "data": {
      "text/plain": "account     Contributions  Interest Expense  Misc. Unallowable Expense  \\\n2017-12-31            0.0           2085.85                       0.00   \n2018-12-31          105.0           2238.65                     691.13   \n2019-12-31            0.0              3.77                       0.00   \n2020-12-31            0.0             13.20                       7.81   \n2021-12-31            0.0              0.00                      54.02   \n2022-12-31            0.0            756.32                       0.00   \n2023-07-31            0.0            -34.75                     716.52   \n\naccount     Officer Insurance  Personal Property Taxes  \n2017-12-31            2678.15                  1060.66  \n2018-12-31            3808.91                  1051.62  \n2019-12-31            2571.03                   208.71  \n2020-12-31            4285.05                  2972.67  \n2021-12-31            3428.04                  1323.88  \n2022-12-31            3428.04                  1817.90  \n2023-07-31            1858.11                   868.46  ",
      "text/html": "<div>\n<style scoped>\n    .dataframe tbody tr th:only-of-type {\n        vertical-align: middle;\n    }\n\n    .dataframe tbody tr th {\n        vertical-align: top;\n    }\n\n    .dataframe thead th {\n        text-align: right;\n    }\n</style>\n<table border=\"1\" class=\"dataframe\">\n  <thead>\n    <tr style=\"text-align: right;\">\n      <th>account</th>\n      <th>Contributions</th>\n      <th>Interest Expense</th>\n      <th>Misc. Unallowable Expense</th>\n      <th>Officer Insurance</th>\n      <th>Personal Property Taxes</th>\n    </tr>\n  </thead>\n  <tbody>\n    <tr>\n      <th>2017-12-31</th>\n      <td>0.0</td>\n      <td>2085.85</td>\n      <td>0.00</td>\n      <td>2678.15</td>\n      <td>1060.66</td>\n    </tr>\n    <tr>\n      <th>2018-12-31</th>\n      <td>105.0</td>\n      <td>2238.65</td>\n      <td>691.13</td>\n      <td>3808.91</td>\n      <td>1051.62</td>\n    </tr>\n    <tr>\n      <th>2019-12-31</th>\n      <td>0.0</td>\n      <td>3.77</td>\n      <td>0.00</td>\n      <td>2571.03</td>\n      <td>208.71</td>\n    </tr>\n    <tr>\n      <th>2020-12-31</th>\n      <td>0.0</td>\n      <td>13.20</td>\n      <td>7.81</td>\n      <td>4285.05</td>\n      <td>2972.67</td>\n    </tr>\n    <tr>\n      <th>2021-12-31</th>\n      <td>0.0</td>\n      <td>0.00</td>\n      <td>54.02</td>\n      <td>3428.04</td>\n      <td>1323.88</td>\n    </tr>\n    <tr>\n      <th>2022-12-31</th>\n      <td>0.0</td>\n      <td>756.32</td>\n      <td>0.00</td>\n      <td>3428.04</td>\n      <td>1817.90</td>\n    </tr>\n    <tr>\n      <th>2023-07-31</th>\n      <td>0.0</td>\n      <td>-34.75</td>\n      <td>716.52</td>\n      <td>1858.11</td>\n      <td>868.46</td>\n    </tr>\n  </tbody>\n</table>\n</div>"
     },
     "execution_count": 4,
     "metadata": {},
     "output_type": "execute_result"
    }
   ],
   "source": [
    "dis_unallowable  = accounts.get_data_to_plot('sub_account', 'Unallowable', 'account', yearly=True)[0]\n",
    "dis_unallowable"
   ],
   "metadata": {
    "collapsed": false,
    "ExecuteTime": {
     "end_time": "2023-09-11T21:03:49.393407Z",
     "start_time": "2023-09-11T21:03:49.379073300Z"
    }
   }
  },
  {
   "cell_type": "code",
   "execution_count": 18,
   "outputs": [
    {
     "name": "stdout",
     "output_type": "stream",
     "text": [
      "get_data_to_plot sub_account\n",
      "level = sub_account\n",
      "Total duration for function <get_data_to_plot> is 0.0036943999875802547\n"
     ]
    },
    {
     "data": {
      "text/plain": "account     Gain/Loss on Sale  Grant Income  Interest  Income  Other Income  \\\n2017-12-31                0.0          0.00          -2441.92           0.0   \n2018-12-31            -2000.0          0.00          -5534.71           0.0   \n2019-12-31                0.0          0.00          -7182.06           0.0   \n2020-12-31                0.0     -15400.33          -1282.74           0.0   \n2021-12-31            -5500.0     -22369.92          -1129.29           0.0   \n2022-12-31                0.0          0.00          -9729.95           0.0   \n2023-07-31           -21000.0          0.00         -14569.90       -3331.3   \n\naccount     PPP Forgiveness Income  Paycheck Protection PNC  Loan  \n2017-12-31                     0.0                            0.0  \n2018-12-31                     0.0                            0.0  \n2019-12-31                     0.0                            0.0  \n2020-12-31               -872500.0                            0.0  \n2021-12-31               -926210.0                            0.0  \n2022-12-31                     0.0                            0.0  \n2023-07-31                     0.0                            0.0  ",
      "text/html": "<div>\n<style scoped>\n    .dataframe tbody tr th:only-of-type {\n        vertical-align: middle;\n    }\n\n    .dataframe tbody tr th {\n        vertical-align: top;\n    }\n\n    .dataframe thead th {\n        text-align: right;\n    }\n</style>\n<table border=\"1\" class=\"dataframe\">\n  <thead>\n    <tr style=\"text-align: right;\">\n      <th>account</th>\n      <th>Gain/Loss on Sale</th>\n      <th>Grant Income</th>\n      <th>Interest  Income</th>\n      <th>Other Income</th>\n      <th>PPP Forgiveness Income</th>\n      <th>Paycheck Protection PNC  Loan</th>\n    </tr>\n  </thead>\n  <tbody>\n    <tr>\n      <th>2017-12-31</th>\n      <td>0.0</td>\n      <td>0.00</td>\n      <td>-2441.92</td>\n      <td>0.0</td>\n      <td>0.0</td>\n      <td>0.0</td>\n    </tr>\n    <tr>\n      <th>2018-12-31</th>\n      <td>-2000.0</td>\n      <td>0.00</td>\n      <td>-5534.71</td>\n      <td>0.0</td>\n      <td>0.0</td>\n      <td>0.0</td>\n    </tr>\n    <tr>\n      <th>2019-12-31</th>\n      <td>0.0</td>\n      <td>0.00</td>\n      <td>-7182.06</td>\n      <td>0.0</td>\n      <td>0.0</td>\n      <td>0.0</td>\n    </tr>\n    <tr>\n      <th>2020-12-31</th>\n      <td>0.0</td>\n      <td>-15400.33</td>\n      <td>-1282.74</td>\n      <td>0.0</td>\n      <td>-872500.0</td>\n      <td>0.0</td>\n    </tr>\n    <tr>\n      <th>2021-12-31</th>\n      <td>-5500.0</td>\n      <td>-22369.92</td>\n      <td>-1129.29</td>\n      <td>0.0</td>\n      <td>-926210.0</td>\n      <td>0.0</td>\n    </tr>\n    <tr>\n      <th>2022-12-31</th>\n      <td>0.0</td>\n      <td>0.00</td>\n      <td>-9729.95</td>\n      <td>0.0</td>\n      <td>0.0</td>\n      <td>0.0</td>\n    </tr>\n    <tr>\n      <th>2023-07-31</th>\n      <td>-21000.0</td>\n      <td>0.00</td>\n      <td>-14569.90</td>\n      <td>-3331.3</td>\n      <td>0.0</td>\n      <td>0.0</td>\n    </tr>\n  </tbody>\n</table>\n</div>"
     },
     "execution_count": 18,
     "metadata": {},
     "output_type": "execute_result"
    }
   ],
   "source": [
    "nonrecurring  = accounts.get_data_to_plot('sub_account', 'other revenue', 'account', yearly=True)[0]\n",
    "nonrecurring\n",
    "# accounts.accounts\n",
    "# accounts.trial_balances"
   ],
   "metadata": {
    "collapsed": false,
    "ExecuteTime": {
     "end_time": "2023-09-11T21:15:27.050883Z",
     "start_time": "2023-09-11T21:15:27.022599900Z"
    }
   }
  },
  {
   "cell_type": "markdown",
   "source": [
    "# Calculations\n"
   ],
   "metadata": {
    "collapsed": false
   }
  },
  {
   "cell_type": "code",
   "execution_count": null,
   "outputs": [],
   "source": [
    "accounts.account_mapping"
   ],
   "metadata": {
    "collapsed": false
   }
  },
  {
   "cell_type": "code",
   "execution_count": null,
   "outputs": [],
   "source": [
    "accounts.account_mapping.columns.to_list()[2:]"
   ],
   "metadata": {
    "collapsed": false
   }
  },
  {
   "cell_type": "code",
   "execution_count": null,
   "outputs": [],
   "source": [
    "rev_data, label, sub_data_names = accounts.get_data_to_plot('sub_account', 'contract', 'account', yearly=True)"
   ],
   "metadata": {
    "collapsed": false
   }
  },
  {
   "cell_type": "code",
   "execution_count": null,
   "outputs": [],
   "source": [
    "rev_data = rev_data.T * -1\n",
    "\n",
    "rev_data"
   ],
   "metadata": {
    "collapsed": false
   }
  },
  {
   "cell_type": "code",
   "execution_count": null,
   "outputs": [],
   "source": [
    "rev_data.to_excel(\"documents/revenue by contracts.xlsx\")"
   ],
   "metadata": {
    "collapsed": false
   }
  },
  {
   "cell_type": "code",
   "execution_count": null,
   "outputs": [],
   "source": [
    "sub_data_names"
   ],
   "metadata": {
    "collapsed": false
   }
  },
  {
   "cell_type": "code",
   "execution_count": null,
   "outputs": [],
   "source": [
    "exp_data, label, sub_data_names = accounts.get_data_to_plot('category', 'operating expenses', 'account', yearly=True)"
   ],
   "metadata": {
    "collapsed": false
   }
  },
  {
   "cell_type": "code",
   "execution_count": null,
   "outputs": [],
   "source": [
    "exp_data"
   ],
   "metadata": {
    "collapsed": false
   }
  },
  {
   "cell_type": "code",
   "execution_count": null,
   "outputs": [],
   "source": [
    "exp_data['PTO']"
   ],
   "metadata": {
    "collapsed": false
   }
  },
  {
   "cell_type": "code",
   "execution_count": null,
   "outputs": [],
   "source": [
    "salaries = ['Bonus Expense', 'Direct  Overhead Labor', 'Gen. & Admin Labor']\n",
    "exp_data.loc[:, salaries].sum(axis=1)"
   ],
   "metadata": {
    "collapsed": false
   }
  },
  {
   "cell_type": "code",
   "execution_count": null,
   "outputs": [],
   "source": [
    "fin_map = pd.read_excel('documents/finance map.xlsx')\n",
    "benefit_bool = fin_map['bank cat'] == 'Employee Benefits'\n",
    "wage_bool = fin_map['bank cat'] == 'Salaries & Wages'"
   ],
   "metadata": {
    "collapsed": false
   }
  },
  {
   "cell_type": "code",
   "execution_count": null,
   "outputs": [],
   "source": [
    "wage = fin_map.loc[wage_bool, 'trial balance'].to_list()\n",
    "exp_data.loc[:, wage].T"
   ],
   "metadata": {
    "collapsed": false
   }
  },
  {
   "cell_type": "code",
   "execution_count": null,
   "outputs": [],
   "source": [
    "benefit = fin_map.loc[benefit_bool, 'trial balance'].to_list()\n",
    "exp_data.loc[:, benefit].T"
   ],
   "metadata": {
    "collapsed": false
   }
  },
  {
   "cell_type": "code",
   "execution_count": null,
   "outputs": [],
   "source": [
    "fica = exp_data['FICA & Med. Withholding']"
   ],
   "metadata": {
    "collapsed": false
   }
  },
  {
   "cell_type": "code",
   "execution_count": null,
   "outputs": [],
   "source": [
    "fica / revenue"
   ],
   "metadata": {
    "collapsed": false
   }
  },
  {
   "cell_type": "code",
   "execution_count": null,
   "outputs": [],
   "source": [
    "cogs_data, label, sub_data_names = accounts.get_data_to_plot('sub_account', 'cost of goods sold', 'account', yearly=True)"
   ],
   "metadata": {
    "collapsed": false
   }
  },
  {
   "cell_type": "code",
   "execution_count": null,
   "outputs": [],
   "source": [
    "cogs_data.T"
   ],
   "metadata": {
    "collapsed": false
   }
  },
  {
   "cell_type": "code",
   "execution_count": null,
   "outputs": [],
   "source": [
    "revenue"
   ],
   "metadata": {
    "collapsed": false
   }
  },
  {
   "cell_type": "markdown",
   "source": [
    "# Trial Balance Read Code"
   ],
   "metadata": {
    "collapsed": false
   }
  },
  {
   "cell_type": "code",
   "execution_count": null,
   "outputs": [],
   "source": [
    "from finance_model.read_trial_balances import read_trial_balance, clean_trial_balance\n",
    "\n",
    "file_name = 'HazTrain TB.2023 by month GENAESIS Confidential.xlsx'\n",
    "path = f'documents\\\\trial_balances\\\\{file_name}'\n",
    "xls = pd.ExcelFile(path)\n",
    "year = 2023\n",
    "month = 5\n",
    "\n",
    "jun23 = read_trial_balance(xls, year, month)"
   ],
   "metadata": {
    "collapsed": false
   }
  },
  {
   "cell_type": "code",
   "execution_count": null,
   "outputs": [],
   "source": [
    "jun23"
   ],
   "metadata": {
    "collapsed": false
   }
  },
  {
   "cell_type": "code",
   "execution_count": null,
   "outputs": [],
   "source": [
    "clean_trial_balance(jun23)"
   ],
   "metadata": {
    "collapsed": false
   }
  },
  {
   "cell_type": "code",
   "execution_count": null,
   "outputs": [],
   "source": [
    "    jun23 = jun23.set_axis([\"id\", \"description\", \"debit\", \"credit\"], axis=1)\n",
    "    jun23 = jun23.astype({'id': int})\n",
    "    jun23 = jun23.set_index('id')\n",
    "\n"
   ],
   "metadata": {
    "collapsed": false
   }
  },
  {
   "cell_type": "code",
   "execution_count": null,
   "outputs": [],
   "source": [
    "jun23"
   ],
   "metadata": {
    "collapsed": false
   }
  },
  {
   "cell_type": "code",
   "execution_count": null,
   "outputs": [],
   "source": [
    "jun23[[0]]"
   ],
   "metadata": {
    "collapsed": false
   }
  },
  {
   "cell_type": "code",
   "execution_count": null,
   "outputs": [],
   "source": [
    "xls.close()"
   ],
   "metadata": {
    "collapsed": false
   }
  },
  {
   "cell_type": "code",
   "execution_count": null,
   "outputs": [],
   "source": [
    "0 in jun23.index"
   ],
   "metadata": {
    "collapsed": false
   }
  },
  {
   "cell_type": "code",
   "execution_count": null,
   "outputs": [],
   "source": [],
   "metadata": {
    "collapsed": false
   }
  }
 ],
 "metadata": {
  "kernelspec": {
   "display_name": "Python 3",
   "language": "python",
   "name": "python3"
  },
  "language_info": {
   "codemirror_mode": {
    "name": "ipython",
    "version": 2
   },
   "file_extension": ".py",
   "mimetype": "text/x-python",
   "name": "python",
   "nbconvert_exporter": "python",
   "pygments_lexer": "ipython2",
   "version": "2.7.6"
  }
 },
 "nbformat": 4,
 "nbformat_minor": 0
}
