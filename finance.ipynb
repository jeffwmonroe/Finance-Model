{
 "cells": [
  {
   "cell_type": "code",
   "execution_count": 7,
   "outputs": [],
   "source": [
    "from finance_model.chart_of_accounts import ChartOfAccounts, unpickle_accounts\n",
    "import pandas as pd\n",
    "import matplotlib.pyplot as plt\n",
    "import numpy as np\n",
    "import pickle"
   ],
   "metadata": {
    "collapsed": false,
    "ExecuteTime": {
     "end_time": "2023-07-30T00:40:34.195802400Z",
     "start_time": "2023-07-30T00:40:34.186073700Z"
    }
   }
  },
  {
   "cell_type": "code",
   "execution_count": 8,
   "outputs": [
    {
     "name": "stdout",
     "output_type": "stream",
     "text": [
      "Total duration for function <unpickle_accounts> is 0.0010417000157758594\n"
     ]
    }
   ],
   "source": [
    "accounts = unpickle_accounts()\n",
    "# accounts = ChartOfAccounts()"
   ],
   "metadata": {
    "collapsed": false,
    "ExecuteTime": {
     "end_time": "2023-07-30T00:40:35.027979100Z",
     "start_time": "2023-07-30T00:40:35.018860Z"
    }
   }
  },
  {
   "cell_type": "code",
   "execution_count": 9,
   "outputs": [
    {
     "data": {
      "text/plain": "      low   high bs_is            category             sub_category  \\\n0   11000  11599    bs              assets           current assets   \n1   11600  13000    bs              assets           current assets   \n2   14700  16000    bs              assets  property and equiptment   \n3   17500  19999    bs              assets             other assets   \n4   20000  20200    bs         Liabilities      current liabilities   \n5   20300  20399    bs         Liabilities      current liabilities   \n6   20400  20999    bs         Liabilities      current liabilities   \n7   21000  21999    bs         Liabilities    long term liabilities   \n8   22000  24999    bs         Liabilities    long term liabilities   \n9   27000  28999    bs              equity                   equity   \n10  30000  31199    is             revenue                 contract   \n11  34000  40999    is             revenue                    other   \n12  41000  48000    is  cost of goods sold       cost of goods sold   \n13  50000  55000    is  operating expenses                   Fringe   \n14  60000  69000    is  operating expenses           Service Center   \n15  70000  79999    is  operating expenses                 Overhead   \n16  80000  89999    is  operating expenses                      G&A   \n17  90000  95999    is      other expenses              Unallowable   \n\n                sub_account  \n0      cash and equivelents  \n1       accounts receivable  \n2   property and equiptment  \n3              other assets  \n4          accounts payable  \n5          accrued expenses  \n6                     other  \n7          Accrued Expenses  \n8                     Other  \n9                    equity  \n10                 contract  \n11                    other  \n12       cost of goods sold  \n13                   Fringe  \n14           Service Center  \n15                 Overhead  \n16                      G&A  \n17              Unallowable  ",
      "text/html": "<div>\n<style scoped>\n    .dataframe tbody tr th:only-of-type {\n        vertical-align: middle;\n    }\n\n    .dataframe tbody tr th {\n        vertical-align: top;\n    }\n\n    .dataframe thead th {\n        text-align: right;\n    }\n</style>\n<table border=\"1\" class=\"dataframe\">\n  <thead>\n    <tr style=\"text-align: right;\">\n      <th></th>\n      <th>low</th>\n      <th>high</th>\n      <th>bs_is</th>\n      <th>category</th>\n      <th>sub_category</th>\n      <th>sub_account</th>\n    </tr>\n  </thead>\n  <tbody>\n    <tr>\n      <th>0</th>\n      <td>11000</td>\n      <td>11599</td>\n      <td>bs</td>\n      <td>assets</td>\n      <td>current assets</td>\n      <td>cash and equivelents</td>\n    </tr>\n    <tr>\n      <th>1</th>\n      <td>11600</td>\n      <td>13000</td>\n      <td>bs</td>\n      <td>assets</td>\n      <td>current assets</td>\n      <td>accounts receivable</td>\n    </tr>\n    <tr>\n      <th>2</th>\n      <td>14700</td>\n      <td>16000</td>\n      <td>bs</td>\n      <td>assets</td>\n      <td>property and equiptment</td>\n      <td>property and equiptment</td>\n    </tr>\n    <tr>\n      <th>3</th>\n      <td>17500</td>\n      <td>19999</td>\n      <td>bs</td>\n      <td>assets</td>\n      <td>other assets</td>\n      <td>other assets</td>\n    </tr>\n    <tr>\n      <th>4</th>\n      <td>20000</td>\n      <td>20200</td>\n      <td>bs</td>\n      <td>Liabilities</td>\n      <td>current liabilities</td>\n      <td>accounts payable</td>\n    </tr>\n    <tr>\n      <th>5</th>\n      <td>20300</td>\n      <td>20399</td>\n      <td>bs</td>\n      <td>Liabilities</td>\n      <td>current liabilities</td>\n      <td>accrued expenses</td>\n    </tr>\n    <tr>\n      <th>6</th>\n      <td>20400</td>\n      <td>20999</td>\n      <td>bs</td>\n      <td>Liabilities</td>\n      <td>current liabilities</td>\n      <td>other</td>\n    </tr>\n    <tr>\n      <th>7</th>\n      <td>21000</td>\n      <td>21999</td>\n      <td>bs</td>\n      <td>Liabilities</td>\n      <td>long term liabilities</td>\n      <td>Accrued Expenses</td>\n    </tr>\n    <tr>\n      <th>8</th>\n      <td>22000</td>\n      <td>24999</td>\n      <td>bs</td>\n      <td>Liabilities</td>\n      <td>long term liabilities</td>\n      <td>Other</td>\n    </tr>\n    <tr>\n      <th>9</th>\n      <td>27000</td>\n      <td>28999</td>\n      <td>bs</td>\n      <td>equity</td>\n      <td>equity</td>\n      <td>equity</td>\n    </tr>\n    <tr>\n      <th>10</th>\n      <td>30000</td>\n      <td>31199</td>\n      <td>is</td>\n      <td>revenue</td>\n      <td>contract</td>\n      <td>contract</td>\n    </tr>\n    <tr>\n      <th>11</th>\n      <td>34000</td>\n      <td>40999</td>\n      <td>is</td>\n      <td>revenue</td>\n      <td>other</td>\n      <td>other</td>\n    </tr>\n    <tr>\n      <th>12</th>\n      <td>41000</td>\n      <td>48000</td>\n      <td>is</td>\n      <td>cost of goods sold</td>\n      <td>cost of goods sold</td>\n      <td>cost of goods sold</td>\n    </tr>\n    <tr>\n      <th>13</th>\n      <td>50000</td>\n      <td>55000</td>\n      <td>is</td>\n      <td>operating expenses</td>\n      <td>Fringe</td>\n      <td>Fringe</td>\n    </tr>\n    <tr>\n      <th>14</th>\n      <td>60000</td>\n      <td>69000</td>\n      <td>is</td>\n      <td>operating expenses</td>\n      <td>Service Center</td>\n      <td>Service Center</td>\n    </tr>\n    <tr>\n      <th>15</th>\n      <td>70000</td>\n      <td>79999</td>\n      <td>is</td>\n      <td>operating expenses</td>\n      <td>Overhead</td>\n      <td>Overhead</td>\n    </tr>\n    <tr>\n      <th>16</th>\n      <td>80000</td>\n      <td>89999</td>\n      <td>is</td>\n      <td>operating expenses</td>\n      <td>G&amp;A</td>\n      <td>G&amp;A</td>\n    </tr>\n    <tr>\n      <th>17</th>\n      <td>90000</td>\n      <td>95999</td>\n      <td>is</td>\n      <td>other expenses</td>\n      <td>Unallowable</td>\n      <td>Unallowable</td>\n    </tr>\n  </tbody>\n</table>\n</div>"
     },
     "execution_count": 9,
     "metadata": {},
     "output_type": "execute_result"
    }
   ],
   "source": [
    "accounts.account_mapping"
   ],
   "metadata": {
    "collapsed": false,
    "ExecuteTime": {
     "end_time": "2023-07-30T00:40:39.944101300Z",
     "start_time": "2023-07-30T00:40:39.937680600Z"
    }
   }
  },
  {
   "cell_type": "code",
   "execution_count": 10,
   "outputs": [
    {
     "data": {
      "text/plain": "     account_no        category    sub_category           sub_account  \\\n0         11040          assets  current assets  cash and equivelents   \n1         11050          assets  current assets  cash and equivelents   \n2         11060          assets  current assets  cash and equivelents   \n3         11100          assets  current assets  cash and equivelents   \n4         11500          assets  current assets  cash and equivelents   \n..          ...             ...             ...                   ...   \n113       91000  other expenses     Unallowable           Unallowable   \n114       91500  other expenses     Unallowable           Unallowable   \n115       91700  other expenses     Unallowable           Unallowable   \n116       94000  other expenses     Unallowable           Unallowable   \n117       95000  other expenses     Unallowable           Unallowable   \n\n                       account  \n0                PNC Operating  \n1                  PNC Payroll  \n2             PNC Money Market  \n3             Wells Fargo Bank  \n4     Cash on Hand, Petty Cash  \n..                         ...  \n113           Interest Expense  \n114              Contributions  \n115          Officer Insurance  \n116    Personal Property Taxes  \n117  Misc. Unallowable Expense  \n\n[118 rows x 5 columns]",
      "text/html": "<div>\n<style scoped>\n    .dataframe tbody tr th:only-of-type {\n        vertical-align: middle;\n    }\n\n    .dataframe tbody tr th {\n        vertical-align: top;\n    }\n\n    .dataframe thead th {\n        text-align: right;\n    }\n</style>\n<table border=\"1\" class=\"dataframe\">\n  <thead>\n    <tr style=\"text-align: right;\">\n      <th></th>\n      <th>account_no</th>\n      <th>category</th>\n      <th>sub_category</th>\n      <th>sub_account</th>\n      <th>account</th>\n    </tr>\n  </thead>\n  <tbody>\n    <tr>\n      <th>0</th>\n      <td>11040</td>\n      <td>assets</td>\n      <td>current assets</td>\n      <td>cash and equivelents</td>\n      <td>PNC Operating</td>\n    </tr>\n    <tr>\n      <th>1</th>\n      <td>11050</td>\n      <td>assets</td>\n      <td>current assets</td>\n      <td>cash and equivelents</td>\n      <td>PNC Payroll</td>\n    </tr>\n    <tr>\n      <th>2</th>\n      <td>11060</td>\n      <td>assets</td>\n      <td>current assets</td>\n      <td>cash and equivelents</td>\n      <td>PNC Money Market</td>\n    </tr>\n    <tr>\n      <th>3</th>\n      <td>11100</td>\n      <td>assets</td>\n      <td>current assets</td>\n      <td>cash and equivelents</td>\n      <td>Wells Fargo Bank</td>\n    </tr>\n    <tr>\n      <th>4</th>\n      <td>11500</td>\n      <td>assets</td>\n      <td>current assets</td>\n      <td>cash and equivelents</td>\n      <td>Cash on Hand, Petty Cash</td>\n    </tr>\n    <tr>\n      <th>...</th>\n      <td>...</td>\n      <td>...</td>\n      <td>...</td>\n      <td>...</td>\n      <td>...</td>\n    </tr>\n    <tr>\n      <th>113</th>\n      <td>91000</td>\n      <td>other expenses</td>\n      <td>Unallowable</td>\n      <td>Unallowable</td>\n      <td>Interest Expense</td>\n    </tr>\n    <tr>\n      <th>114</th>\n      <td>91500</td>\n      <td>other expenses</td>\n      <td>Unallowable</td>\n      <td>Unallowable</td>\n      <td>Contributions</td>\n    </tr>\n    <tr>\n      <th>115</th>\n      <td>91700</td>\n      <td>other expenses</td>\n      <td>Unallowable</td>\n      <td>Unallowable</td>\n      <td>Officer Insurance</td>\n    </tr>\n    <tr>\n      <th>116</th>\n      <td>94000</td>\n      <td>other expenses</td>\n      <td>Unallowable</td>\n      <td>Unallowable</td>\n      <td>Personal Property Taxes</td>\n    </tr>\n    <tr>\n      <th>117</th>\n      <td>95000</td>\n      <td>other expenses</td>\n      <td>Unallowable</td>\n      <td>Unallowable</td>\n      <td>Misc. Unallowable Expense</td>\n    </tr>\n  </tbody>\n</table>\n<p>118 rows × 5 columns</p>\n</div>"
     },
     "execution_count": 10,
     "metadata": {},
     "output_type": "execute_result"
    }
   ],
   "source": [
    "accounts.detailed_account_mapping"
   ],
   "metadata": {
    "collapsed": false,
    "ExecuteTime": {
     "end_time": "2023-07-30T00:40:48.400244800Z",
     "start_time": "2023-07-30T00:40:48.392758500Z"
    }
   }
  },
  {
   "cell_type": "code",
   "execution_count": null,
   "outputs": [],
   "source": [
    "rowb = accounts.account_mapping.loc[:,'sub_category'].isnull()\n",
    "rowb\n",
    "accounts.account_mapping.loc[rowb]"
   ],
   "metadata": {
    "collapsed": false
   }
  },
  {
   "cell_type": "code",
   "execution_count": null,
   "outputs": [],
   "source": [
    "accounts.account_mapping.loc[rowb, 'sub_category'] = accounts.account_mapping.loc[rowb, 'category']"
   ],
   "metadata": {
    "collapsed": false
   }
  },
  {
   "cell_type": "code",
   "execution_count": null,
   "outputs": [],
   "source": [
    "accounts.account_mapping"
   ],
   "metadata": {
    "collapsed": false
   }
  },
  {
   "cell_type": "code",
   "execution_count": null,
   "outputs": [],
   "source": [
    "cols = [col for col in accounts.trial_balances.columns]\n",
    "blanks = [None] * len(cols)\n",
    "df_data = {'account_no': cols,\n",
    "           'category': blanks,\n",
    "           'sub_category': blanks,\n",
    "           'sub_account': blanks,\n",
    "           'account': blanks}\n",
    "df = pd.DataFrame(df_data)\n",
    "for i in range(len(cols)):\n",
    "    account_no = cols[i]\n",
    "    row = accounts.get_account_mapping(account_no)\n",
    "    df.iloc[i, 1:4] = row.iloc[0, 3:6]\n",
    "    df.iloc[i, 4] = accounts.accounts[account_no].description"
   ],
   "metadata": {
    "collapsed": false
   }
  },
  {
   "cell_type": "code",
   "execution_count": null,
   "outputs": [],
   "source": [
    "df"
   ],
   "metadata": {
    "collapsed": false
   }
  },
  {
   "cell_type": "code",
   "execution_count": null,
   "outputs": [],
   "source": [
    "row = accounts.account_mapping.iloc[0]"
   ],
   "metadata": {
    "collapsed": false
   }
  },
  {
   "cell_type": "code",
   "execution_count": 5,
   "outputs": [],
   "source": [
    "accounts.build_detailed_account_mapping()"
   ],
   "metadata": {
    "collapsed": false,
    "ExecuteTime": {
     "end_time": "2023-07-30T00:38:36.447702300Z",
     "start_time": "2023-07-30T00:38:36.390544400Z"
    }
   }
  },
  {
   "cell_type": "code",
   "execution_count": 6,
   "outputs": [
    {
     "data": {
      "text/plain": "     account_no        category    sub_category           sub_account  \\\n0         11040          assets  current assets  cash and equivelents   \n1         11050          assets  current assets  cash and equivelents   \n2         11060          assets  current assets  cash and equivelents   \n3         11100          assets  current assets  cash and equivelents   \n4         11500          assets  current assets  cash and equivelents   \n..          ...             ...             ...                   ...   \n113       91000  other expenses     Unallowable           Unallowable   \n114       91500  other expenses     Unallowable           Unallowable   \n115       91700  other expenses     Unallowable           Unallowable   \n116       94000  other expenses     Unallowable           Unallowable   \n117       95000  other expenses     Unallowable           Unallowable   \n\n                       account  \n0                PNC Operating  \n1                  PNC Payroll  \n2             PNC Money Market  \n3             Wells Fargo Bank  \n4     Cash on Hand, Petty Cash  \n..                         ...  \n113           Interest Expense  \n114              Contributions  \n115          Officer Insurance  \n116    Personal Property Taxes  \n117  Misc. Unallowable Expense  \n\n[118 rows x 5 columns]",
      "text/html": "<div>\n<style scoped>\n    .dataframe tbody tr th:only-of-type {\n        vertical-align: middle;\n    }\n\n    .dataframe tbody tr th {\n        vertical-align: top;\n    }\n\n    .dataframe thead th {\n        text-align: right;\n    }\n</style>\n<table border=\"1\" class=\"dataframe\">\n  <thead>\n    <tr style=\"text-align: right;\">\n      <th></th>\n      <th>account_no</th>\n      <th>category</th>\n      <th>sub_category</th>\n      <th>sub_account</th>\n      <th>account</th>\n    </tr>\n  </thead>\n  <tbody>\n    <tr>\n      <th>0</th>\n      <td>11040</td>\n      <td>assets</td>\n      <td>current assets</td>\n      <td>cash and equivelents</td>\n      <td>PNC Operating</td>\n    </tr>\n    <tr>\n      <th>1</th>\n      <td>11050</td>\n      <td>assets</td>\n      <td>current assets</td>\n      <td>cash and equivelents</td>\n      <td>PNC Payroll</td>\n    </tr>\n    <tr>\n      <th>2</th>\n      <td>11060</td>\n      <td>assets</td>\n      <td>current assets</td>\n      <td>cash and equivelents</td>\n      <td>PNC Money Market</td>\n    </tr>\n    <tr>\n      <th>3</th>\n      <td>11100</td>\n      <td>assets</td>\n      <td>current assets</td>\n      <td>cash and equivelents</td>\n      <td>Wells Fargo Bank</td>\n    </tr>\n    <tr>\n      <th>4</th>\n      <td>11500</td>\n      <td>assets</td>\n      <td>current assets</td>\n      <td>cash and equivelents</td>\n      <td>Cash on Hand, Petty Cash</td>\n    </tr>\n    <tr>\n      <th>...</th>\n      <td>...</td>\n      <td>...</td>\n      <td>...</td>\n      <td>...</td>\n      <td>...</td>\n    </tr>\n    <tr>\n      <th>113</th>\n      <td>91000</td>\n      <td>other expenses</td>\n      <td>Unallowable</td>\n      <td>Unallowable</td>\n      <td>Interest Expense</td>\n    </tr>\n    <tr>\n      <th>114</th>\n      <td>91500</td>\n      <td>other expenses</td>\n      <td>Unallowable</td>\n      <td>Unallowable</td>\n      <td>Contributions</td>\n    </tr>\n    <tr>\n      <th>115</th>\n      <td>91700</td>\n      <td>other expenses</td>\n      <td>Unallowable</td>\n      <td>Unallowable</td>\n      <td>Officer Insurance</td>\n    </tr>\n    <tr>\n      <th>116</th>\n      <td>94000</td>\n      <td>other expenses</td>\n      <td>Unallowable</td>\n      <td>Unallowable</td>\n      <td>Personal Property Taxes</td>\n    </tr>\n    <tr>\n      <th>117</th>\n      <td>95000</td>\n      <td>other expenses</td>\n      <td>Unallowable</td>\n      <td>Unallowable</td>\n      <td>Misc. Unallowable Expense</td>\n    </tr>\n  </tbody>\n</table>\n<p>118 rows × 5 columns</p>\n</div>"
     },
     "execution_count": 6,
     "metadata": {},
     "output_type": "execute_result"
    }
   ],
   "source": [
    "accounts.detailed_account_mapping"
   ],
   "metadata": {
    "collapsed": false,
    "ExecuteTime": {
     "end_time": "2023-07-30T00:38:37.858141900Z",
     "start_time": "2023-07-30T00:38:37.852033Z"
    }
   }
  },
  {
   "cell_type": "code",
   "execution_count": 3,
   "outputs": [
    {
     "data": {
      "text/plain": "      low   high bs_is            category             sub_category  \\\n0   11000  11599    bs              assets           current assets   \n1   11600  13000    bs              assets           current assets   \n2   14700  16000    bs              assets  property and equiptment   \n3   17500  19999    bs              assets             other assets   \n4   20000  20200    bs         Liabilities      current liabilities   \n5   20300  20399    bs         Liabilities      current liabilities   \n6   20400  20999    bs         Liabilities      current liabilities   \n7   21000  21999    bs         Liabilities    long term liabilities   \n8   22000  24999    bs         Liabilities    long term liabilities   \n9   27000  28999    bs              equity                      NaN   \n10  30000  31199    is             revenue                 contract   \n11  34000  40999    is             revenue                    other   \n12  41000  48000    is  cost of goods sold                      NaN   \n13  50000  55000    is  operating expenses                   Fringe   \n14  60000  69000    is  operating expenses           Service Center   \n15  70000  79999    is  operating expenses                 Overhead   \n16  80000  89999    is  operating expenses                      G&A   \n17  90000  95999    is      other expenses              Unallowable   \n\n             sub_account  \n0   cash and equivelents  \n1    accounts receivable  \n2                    NaN  \n3                    NaN  \n4       accounts payable  \n5       accrued expenses  \n6                  other  \n7       Accrued Expenses  \n8                  Other  \n9                    NaN  \n10                   NaN  \n11                   NaN  \n12                   NaN  \n13                   NaN  \n14                   NaN  \n15                   NaN  \n16                   NaN  \n17                   NaN  ",
      "text/html": "<div>\n<style scoped>\n    .dataframe tbody tr th:only-of-type {\n        vertical-align: middle;\n    }\n\n    .dataframe tbody tr th {\n        vertical-align: top;\n    }\n\n    .dataframe thead th {\n        text-align: right;\n    }\n</style>\n<table border=\"1\" class=\"dataframe\">\n  <thead>\n    <tr style=\"text-align: right;\">\n      <th></th>\n      <th>low</th>\n      <th>high</th>\n      <th>bs_is</th>\n      <th>category</th>\n      <th>sub_category</th>\n      <th>sub_account</th>\n    </tr>\n  </thead>\n  <tbody>\n    <tr>\n      <th>0</th>\n      <td>11000</td>\n      <td>11599</td>\n      <td>bs</td>\n      <td>assets</td>\n      <td>current assets</td>\n      <td>cash and equivelents</td>\n    </tr>\n    <tr>\n      <th>1</th>\n      <td>11600</td>\n      <td>13000</td>\n      <td>bs</td>\n      <td>assets</td>\n      <td>current assets</td>\n      <td>accounts receivable</td>\n    </tr>\n    <tr>\n      <th>2</th>\n      <td>14700</td>\n      <td>16000</td>\n      <td>bs</td>\n      <td>assets</td>\n      <td>property and equiptment</td>\n      <td>NaN</td>\n    </tr>\n    <tr>\n      <th>3</th>\n      <td>17500</td>\n      <td>19999</td>\n      <td>bs</td>\n      <td>assets</td>\n      <td>other assets</td>\n      <td>NaN</td>\n    </tr>\n    <tr>\n      <th>4</th>\n      <td>20000</td>\n      <td>20200</td>\n      <td>bs</td>\n      <td>Liabilities</td>\n      <td>current liabilities</td>\n      <td>accounts payable</td>\n    </tr>\n    <tr>\n      <th>5</th>\n      <td>20300</td>\n      <td>20399</td>\n      <td>bs</td>\n      <td>Liabilities</td>\n      <td>current liabilities</td>\n      <td>accrued expenses</td>\n    </tr>\n    <tr>\n      <th>6</th>\n      <td>20400</td>\n      <td>20999</td>\n      <td>bs</td>\n      <td>Liabilities</td>\n      <td>current liabilities</td>\n      <td>other</td>\n    </tr>\n    <tr>\n      <th>7</th>\n      <td>21000</td>\n      <td>21999</td>\n      <td>bs</td>\n      <td>Liabilities</td>\n      <td>long term liabilities</td>\n      <td>Accrued Expenses</td>\n    </tr>\n    <tr>\n      <th>8</th>\n      <td>22000</td>\n      <td>24999</td>\n      <td>bs</td>\n      <td>Liabilities</td>\n      <td>long term liabilities</td>\n      <td>Other</td>\n    </tr>\n    <tr>\n      <th>9</th>\n      <td>27000</td>\n      <td>28999</td>\n      <td>bs</td>\n      <td>equity</td>\n      <td>NaN</td>\n      <td>NaN</td>\n    </tr>\n    <tr>\n      <th>10</th>\n      <td>30000</td>\n      <td>31199</td>\n      <td>is</td>\n      <td>revenue</td>\n      <td>contract</td>\n      <td>NaN</td>\n    </tr>\n    <tr>\n      <th>11</th>\n      <td>34000</td>\n      <td>40999</td>\n      <td>is</td>\n      <td>revenue</td>\n      <td>other</td>\n      <td>NaN</td>\n    </tr>\n    <tr>\n      <th>12</th>\n      <td>41000</td>\n      <td>48000</td>\n      <td>is</td>\n      <td>cost of goods sold</td>\n      <td>NaN</td>\n      <td>NaN</td>\n    </tr>\n    <tr>\n      <th>13</th>\n      <td>50000</td>\n      <td>55000</td>\n      <td>is</td>\n      <td>operating expenses</td>\n      <td>Fringe</td>\n      <td>NaN</td>\n    </tr>\n    <tr>\n      <th>14</th>\n      <td>60000</td>\n      <td>69000</td>\n      <td>is</td>\n      <td>operating expenses</td>\n      <td>Service Center</td>\n      <td>NaN</td>\n    </tr>\n    <tr>\n      <th>15</th>\n      <td>70000</td>\n      <td>79999</td>\n      <td>is</td>\n      <td>operating expenses</td>\n      <td>Overhead</td>\n      <td>NaN</td>\n    </tr>\n    <tr>\n      <th>16</th>\n      <td>80000</td>\n      <td>89999</td>\n      <td>is</td>\n      <td>operating expenses</td>\n      <td>G&amp;A</td>\n      <td>NaN</td>\n    </tr>\n    <tr>\n      <th>17</th>\n      <td>90000</td>\n      <td>95999</td>\n      <td>is</td>\n      <td>other expenses</td>\n      <td>Unallowable</td>\n      <td>NaN</td>\n    </tr>\n  </tbody>\n</table>\n</div>"
     },
     "execution_count": 3,
     "metadata": {},
     "output_type": "execute_result"
    }
   ],
   "source": [
    "accounts.account_mapping"
   ],
   "metadata": {
    "collapsed": false,
    "ExecuteTime": {
     "end_time": "2023-07-30T00:38:20.711990800Z",
     "start_time": "2023-07-30T00:38:20.706037900Z"
    }
   }
  },
  {
   "cell_type": "code",
   "execution_count": null,
   "outputs": [],
   "source": [],
   "metadata": {
    "collapsed": false
   }
  }
 ],
 "metadata": {
  "kernelspec": {
   "display_name": "Python 3",
   "language": "python",
   "name": "python3"
  },
  "language_info": {
   "codemirror_mode": {
    "name": "ipython",
    "version": 2
   },
   "file_extension": ".py",
   "mimetype": "text/x-python",
   "name": "python",
   "nbconvert_exporter": "python",
   "pygments_lexer": "ipython2",
   "version": "2.7.6"
  }
 },
 "nbformat": 4,
 "nbformat_minor": 0
}
