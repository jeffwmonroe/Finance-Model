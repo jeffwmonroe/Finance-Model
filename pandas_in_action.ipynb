{
 "cells": [
  {
   "cell_type": "code",
   "execution_count": null,
   "metadata": {
    "collapsed": true
   },
   "outputs": [],
   "source": []
  },
  {
   "cell_type": "code",
   "execution_count": 1,
   "outputs": [
    {
     "name": "stdout",
     "output_type": "stream",
     "text": [
      "                              Rank           Studio       Gross  Year\n",
      "Title                                                                \n",
      "Avengers: Endgame                1      Buena Vista  $2,796.30   2019\n",
      "Avatar                           2              Fox  $2,789.70   2009\n",
      "Titanic                          3        Paramount  $2,187.50   1997\n",
      "Star Wars: The Force Awakens     4      Buena Vista  $2,068.20   2015\n",
      "Avengers: Infinity War           5      Buena Vista  $2,048.40   2018\n",
      "...                            ...              ...         ...   ...\n",
      "Yogi Bear                      778  Warner Brothers    $201.60   2010\n",
      "Garfield: The Movie            779              Fox    $200.80   2004\n",
      "Cats & Dogs                    780  Warner Brothers    $200.70   2001\n",
      "The Hunt for Red October       781        Paramount    $200.50   1990\n",
      "Valkyrie                       782              MGM    $200.30   2008\n",
      "\n",
      "[782 rows x 4 columns]\n",
      "(782, 4)\n",
      "3128\n",
      "Rank       int64\n",
      "Studio    object\n",
      "Gross     object\n",
      "Year       int64\n",
      "dtype: object\n",
      "Rank           500\n",
      "Studio         Fox\n",
      "Gross     $288.30 \n",
      "Year          2018\n",
      "Name: Maze Runner: The Death Cure, dtype: object\n",
      "Rank            119\n",
      "Studio    Paramount\n",
      "Gross      $677.90 \n",
      "Year           1994\n",
      "Name: Forrest Gump, dtype: object\n"
     ]
    },
    {
     "data": {
      "text/plain": "                                   Rank           Studio       Gross  Year\nTitle                                                                     \nGone with the Wind                  288              MGM    $402.40   1939\nBambi                               540              RKO    $267.40   1942\n101 Dalmatians                      708      Buena Vista    $215.90   1961\nThe Jungle Book                     755      Buena Vista    $205.80   1967\nThe Godfather                       604        Paramount    $245.10   1972\n...                                 ...              ...         ...   ...\nMen in Black International          686             Sony    $220.80   2019\nJohn Wick: Chapter 3 - Parabellum   458        Lionsgate    $304.70   2019\nPokemon Detective Pikachu           263  Warner Brothers    $427.50   2019\nDark Phoenix                        603              Fox    $245.10   2019\nAvengers: Endgame                     1      Buena Vista  $2,796.30   2019\n\n[782 rows x 4 columns]",
      "text/html": "<div>\n<style scoped>\n    .dataframe tbody tr th:only-of-type {\n        vertical-align: middle;\n    }\n\n    .dataframe tbody tr th {\n        vertical-align: top;\n    }\n\n    .dataframe thead th {\n        text-align: right;\n    }\n</style>\n<table border=\"1\" class=\"dataframe\">\n  <thead>\n    <tr style=\"text-align: right;\">\n      <th></th>\n      <th>Rank</th>\n      <th>Studio</th>\n      <th>Gross</th>\n      <th>Year</th>\n    </tr>\n    <tr>\n      <th>Title</th>\n      <th></th>\n      <th></th>\n      <th></th>\n      <th></th>\n    </tr>\n  </thead>\n  <tbody>\n    <tr>\n      <th>Gone with the Wind</th>\n      <td>288</td>\n      <td>MGM</td>\n      <td>$402.40</td>\n      <td>1939</td>\n    </tr>\n    <tr>\n      <th>Bambi</th>\n      <td>540</td>\n      <td>RKO</td>\n      <td>$267.40</td>\n      <td>1942</td>\n    </tr>\n    <tr>\n      <th>101 Dalmatians</th>\n      <td>708</td>\n      <td>Buena Vista</td>\n      <td>$215.90</td>\n      <td>1961</td>\n    </tr>\n    <tr>\n      <th>The Jungle Book</th>\n      <td>755</td>\n      <td>Buena Vista</td>\n      <td>$205.80</td>\n      <td>1967</td>\n    </tr>\n    <tr>\n      <th>The Godfather</th>\n      <td>604</td>\n      <td>Paramount</td>\n      <td>$245.10</td>\n      <td>1972</td>\n    </tr>\n    <tr>\n      <th>...</th>\n      <td>...</td>\n      <td>...</td>\n      <td>...</td>\n      <td>...</td>\n    </tr>\n    <tr>\n      <th>Men in Black International</th>\n      <td>686</td>\n      <td>Sony</td>\n      <td>$220.80</td>\n      <td>2019</td>\n    </tr>\n    <tr>\n      <th>John Wick: Chapter 3 - Parabellum</th>\n      <td>458</td>\n      <td>Lionsgate</td>\n      <td>$304.70</td>\n      <td>2019</td>\n    </tr>\n    <tr>\n      <th>Pokemon Detective Pikachu</th>\n      <td>263</td>\n      <td>Warner Brothers</td>\n      <td>$427.50</td>\n      <td>2019</td>\n    </tr>\n    <tr>\n      <th>Dark Phoenix</th>\n      <td>603</td>\n      <td>Fox</td>\n      <td>$245.10</td>\n      <td>2019</td>\n    </tr>\n    <tr>\n      <th>Avengers: Endgame</th>\n      <td>1</td>\n      <td>Buena Vista</td>\n      <td>$2,796.30</td>\n      <td>2019</td>\n    </tr>\n  </tbody>\n</table>\n<p>782 rows × 4 columns</p>\n</div>"
     },
     "execution_count": 1,
     "metadata": {},
     "output_type": "execute_result"
    }
   ],
   "source": [
    "import pandas as pd\n",
    "\n",
    "movies = pd.read_csv(\"documents\\\\movies.csv\", index_col=\"Title\")\n",
    "print(movies)\n",
    "\n",
    "print(movies.shape)\n",
    "print(movies.size)\n",
    "print(movies.dtypes)\n",
    "\n",
    "print(movies.iloc[499])\n",
    "print(movies.loc['Forrest Gump'])\n",
    "\n",
    "movies.sort_values(by=\"Year\", ascending=True)"
   ],
   "metadata": {
    "collapsed": false,
    "ExecuteTime": {
     "end_time": "2023-07-15T19:40:23.351388Z",
     "start_time": "2023-07-15T19:40:23.049426700Z"
    }
   }
  },
  {
   "cell_type": "code",
   "execution_count": 2,
   "outputs": [
    {
     "data": {
      "text/plain": "                         Rank       Studio     Gross  Year\nTitle                                                     \nThe Blair Witch Project   588      Artisan  $248.60   1999\n101 Dalmatians            708  Buena Vista  $215.90   1961\nThe Jungle Book           755  Buena Vista  $205.80   1967\nWho Framed Roger Rabbit   410  Buena Vista  $329.80   1988\nDead Poets Society        636  Buena Vista  $235.90   1989\n...                       ...          ...       ...   ...\nThe King's Speech         276    Weinstein  $414.20   2010\nThe Intouchables          265    Weinstein  $426.60   2012\nDjango Unchained          266    Weinstein  $425.40   2012\nSilver Linings Playbook   631    Weinstein  $236.40   2012\nThe Imitation Game        642    Weinstein  $233.60   2014\n\n[782 rows x 4 columns]",
      "text/html": "<div>\n<style scoped>\n    .dataframe tbody tr th:only-of-type {\n        vertical-align: middle;\n    }\n\n    .dataframe tbody tr th {\n        vertical-align: top;\n    }\n\n    .dataframe thead th {\n        text-align: right;\n    }\n</style>\n<table border=\"1\" class=\"dataframe\">\n  <thead>\n    <tr style=\"text-align: right;\">\n      <th></th>\n      <th>Rank</th>\n      <th>Studio</th>\n      <th>Gross</th>\n      <th>Year</th>\n    </tr>\n    <tr>\n      <th>Title</th>\n      <th></th>\n      <th></th>\n      <th></th>\n      <th></th>\n    </tr>\n  </thead>\n  <tbody>\n    <tr>\n      <th>The Blair Witch Project</th>\n      <td>588</td>\n      <td>Artisan</td>\n      <td>$248.60</td>\n      <td>1999</td>\n    </tr>\n    <tr>\n      <th>101 Dalmatians</th>\n      <td>708</td>\n      <td>Buena Vista</td>\n      <td>$215.90</td>\n      <td>1961</td>\n    </tr>\n    <tr>\n      <th>The Jungle Book</th>\n      <td>755</td>\n      <td>Buena Vista</td>\n      <td>$205.80</td>\n      <td>1967</td>\n    </tr>\n    <tr>\n      <th>Who Framed Roger Rabbit</th>\n      <td>410</td>\n      <td>Buena Vista</td>\n      <td>$329.80</td>\n      <td>1988</td>\n    </tr>\n    <tr>\n      <th>Dead Poets Society</th>\n      <td>636</td>\n      <td>Buena Vista</td>\n      <td>$235.90</td>\n      <td>1989</td>\n    </tr>\n    <tr>\n      <th>...</th>\n      <td>...</td>\n      <td>...</td>\n      <td>...</td>\n      <td>...</td>\n    </tr>\n    <tr>\n      <th>The King's Speech</th>\n      <td>276</td>\n      <td>Weinstein</td>\n      <td>$414.20</td>\n      <td>2010</td>\n    </tr>\n    <tr>\n      <th>The Intouchables</th>\n      <td>265</td>\n      <td>Weinstein</td>\n      <td>$426.60</td>\n      <td>2012</td>\n    </tr>\n    <tr>\n      <th>Django Unchained</th>\n      <td>266</td>\n      <td>Weinstein</td>\n      <td>$425.40</td>\n      <td>2012</td>\n    </tr>\n    <tr>\n      <th>Silver Linings Playbook</th>\n      <td>631</td>\n      <td>Weinstein</td>\n      <td>$236.40</td>\n      <td>2012</td>\n    </tr>\n    <tr>\n      <th>The Imitation Game</th>\n      <td>642</td>\n      <td>Weinstein</td>\n      <td>$233.60</td>\n      <td>2014</td>\n    </tr>\n  </tbody>\n</table>\n<p>782 rows × 4 columns</p>\n</div>"
     },
     "execution_count": 2,
     "metadata": {},
     "output_type": "execute_result"
    }
   ],
   "source": [
    "movies.sort_values(by=['Studio', 'Year'])"
   ],
   "metadata": {
    "collapsed": false,
    "ExecuteTime": {
     "end_time": "2023-07-15T19:41:20.886319300Z",
     "start_time": "2023-07-15T19:41:20.883319700Z"
    }
   }
  },
  {
   "cell_type": "code",
   "execution_count": 4,
   "outputs": [
    {
     "data": {
      "text/plain": "                                Rank           Studio       Gross  Year\nTitle                                                                  \n10,000 B.C.                      536  Warner Brothers    $269.80   2008\n101 Dalmatians                   708      Buena Vista    $215.90   1961\n101 Dalmatians                   425      Buena Vista    $320.70   1996\n2 Fast 2 Furious                 632        Universal    $236.40   2003\n2012                              93             Sony    $769.70   2009\n...                              ...              ...         ...   ...\nYogi Bear                        778  Warner Brothers    $201.60   2010\nYou've Got Mail                  582  Warner Brothers    $250.80   1998\nYour Name.                       356              FUN    $358.00   2017\nZootopia                          37      Buena Vista  $1,023.80   2016\nxXx: The Return of Xander Cage   385        Paramount    $346.10   2017\n\n[782 rows x 4 columns]",
      "text/html": "<div>\n<style scoped>\n    .dataframe tbody tr th:only-of-type {\n        vertical-align: middle;\n    }\n\n    .dataframe tbody tr th {\n        vertical-align: top;\n    }\n\n    .dataframe thead th {\n        text-align: right;\n    }\n</style>\n<table border=\"1\" class=\"dataframe\">\n  <thead>\n    <tr style=\"text-align: right;\">\n      <th></th>\n      <th>Rank</th>\n      <th>Studio</th>\n      <th>Gross</th>\n      <th>Year</th>\n    </tr>\n    <tr>\n      <th>Title</th>\n      <th></th>\n      <th></th>\n      <th></th>\n      <th></th>\n    </tr>\n  </thead>\n  <tbody>\n    <tr>\n      <th>10,000 B.C.</th>\n      <td>536</td>\n      <td>Warner Brothers</td>\n      <td>$269.80</td>\n      <td>2008</td>\n    </tr>\n    <tr>\n      <th>101 Dalmatians</th>\n      <td>708</td>\n      <td>Buena Vista</td>\n      <td>$215.90</td>\n      <td>1961</td>\n    </tr>\n    <tr>\n      <th>101 Dalmatians</th>\n      <td>425</td>\n      <td>Buena Vista</td>\n      <td>$320.70</td>\n      <td>1996</td>\n    </tr>\n    <tr>\n      <th>2 Fast 2 Furious</th>\n      <td>632</td>\n      <td>Universal</td>\n      <td>$236.40</td>\n      <td>2003</td>\n    </tr>\n    <tr>\n      <th>2012</th>\n      <td>93</td>\n      <td>Sony</td>\n      <td>$769.70</td>\n      <td>2009</td>\n    </tr>\n    <tr>\n      <th>...</th>\n      <td>...</td>\n      <td>...</td>\n      <td>...</td>\n      <td>...</td>\n    </tr>\n    <tr>\n      <th>Yogi Bear</th>\n      <td>778</td>\n      <td>Warner Brothers</td>\n      <td>$201.60</td>\n      <td>2010</td>\n    </tr>\n    <tr>\n      <th>You've Got Mail</th>\n      <td>582</td>\n      <td>Warner Brothers</td>\n      <td>$250.80</td>\n      <td>1998</td>\n    </tr>\n    <tr>\n      <th>Your Name.</th>\n      <td>356</td>\n      <td>FUN</td>\n      <td>$358.00</td>\n      <td>2017</td>\n    </tr>\n    <tr>\n      <th>Zootopia</th>\n      <td>37</td>\n      <td>Buena Vista</td>\n      <td>$1,023.80</td>\n      <td>2016</td>\n    </tr>\n    <tr>\n      <th>xXx: The Return of Xander Cage</th>\n      <td>385</td>\n      <td>Paramount</td>\n      <td>$346.10</td>\n      <td>2017</td>\n    </tr>\n  </tbody>\n</table>\n<p>782 rows × 4 columns</p>\n</div>"
     },
     "execution_count": 4,
     "metadata": {},
     "output_type": "execute_result"
    }
   ],
   "source": [
    "movies.sort_index()"
   ],
   "metadata": {
    "collapsed": false,
    "ExecuteTime": {
     "end_time": "2023-07-15T19:41:54.698683700Z",
     "start_time": "2023-07-15T19:41:54.695681700Z"
    }
   }
  },
  {
   "cell_type": "code",
   "execution_count": 5,
   "outputs": [
    {
     "data": {
      "text/plain": "Title\nAvengers: Endgame                   Buena Vista\nAvatar                                      Fox\nTitanic                               Paramount\nStar Wars: The Force Awakens        Buena Vista\nAvengers: Infinity War              Buena Vista\n                                     ...       \nYogi Bear                       Warner Brothers\nGarfield: The Movie                         Fox\nCats & Dogs                     Warner Brothers\nThe Hunt for Red October              Paramount\nValkyrie                                    MGM\nName: Studio, Length: 782, dtype: object"
     },
     "execution_count": 5,
     "metadata": {},
     "output_type": "execute_result"
    }
   ],
   "source": [
    "movies['Studio']"
   ],
   "metadata": {
    "collapsed": false,
    "ExecuteTime": {
     "end_time": "2023-07-15T19:42:54.729464Z",
     "start_time": "2023-07-15T19:42:54.726464Z"
    }
   }
  },
  {
   "cell_type": "code",
   "execution_count": 7,
   "outputs": [
    {
     "data": {
      "text/plain": "                                Rank     Studio       Gross  Year\nTitle                                                            \nJurassic World                     6  Universal  $1,671.70   2015\nFurious 7                          8  Universal  $1,516.00   2015\nJurassic World: Fallen Kingdom    13  Universal  $1,309.50   2018\nThe Fate of the Furious           17  Universal  $1,236.00   2017\nMinions                           19  Universal  $1,159.40   2015\n...                              ...        ...         ...   ...\nThe Break-Up                     763  Universal    $205.00   2006\nEverest                          766  Universal    $203.40   2015\nPatch Adams                      772  Universal    $202.30   1998\nKindergarten Cop                 775  Universal    $202.00   1990\nStraight Outta Compton           776  Universal    $201.60   2015\n\n[109 rows x 4 columns]",
      "text/html": "<div>\n<style scoped>\n    .dataframe tbody tr th:only-of-type {\n        vertical-align: middle;\n    }\n\n    .dataframe tbody tr th {\n        vertical-align: top;\n    }\n\n    .dataframe thead th {\n        text-align: right;\n    }\n</style>\n<table border=\"1\" class=\"dataframe\">\n  <thead>\n    <tr style=\"text-align: right;\">\n      <th></th>\n      <th>Rank</th>\n      <th>Studio</th>\n      <th>Gross</th>\n      <th>Year</th>\n    </tr>\n    <tr>\n      <th>Title</th>\n      <th></th>\n      <th></th>\n      <th></th>\n      <th></th>\n    </tr>\n  </thead>\n  <tbody>\n    <tr>\n      <th>Jurassic World</th>\n      <td>6</td>\n      <td>Universal</td>\n      <td>$1,671.70</td>\n      <td>2015</td>\n    </tr>\n    <tr>\n      <th>Furious 7</th>\n      <td>8</td>\n      <td>Universal</td>\n      <td>$1,516.00</td>\n      <td>2015</td>\n    </tr>\n    <tr>\n      <th>Jurassic World: Fallen Kingdom</th>\n      <td>13</td>\n      <td>Universal</td>\n      <td>$1,309.50</td>\n      <td>2018</td>\n    </tr>\n    <tr>\n      <th>The Fate of the Furious</th>\n      <td>17</td>\n      <td>Universal</td>\n      <td>$1,236.00</td>\n      <td>2017</td>\n    </tr>\n    <tr>\n      <th>Minions</th>\n      <td>19</td>\n      <td>Universal</td>\n      <td>$1,159.40</td>\n      <td>2015</td>\n    </tr>\n    <tr>\n      <th>...</th>\n      <td>...</td>\n      <td>...</td>\n      <td>...</td>\n      <td>...</td>\n    </tr>\n    <tr>\n      <th>The Break-Up</th>\n      <td>763</td>\n      <td>Universal</td>\n      <td>$205.00</td>\n      <td>2006</td>\n    </tr>\n    <tr>\n      <th>Everest</th>\n      <td>766</td>\n      <td>Universal</td>\n      <td>$203.40</td>\n      <td>2015</td>\n    </tr>\n    <tr>\n      <th>Patch Adams</th>\n      <td>772</td>\n      <td>Universal</td>\n      <td>$202.30</td>\n      <td>1998</td>\n    </tr>\n    <tr>\n      <th>Kindergarten Cop</th>\n      <td>775</td>\n      <td>Universal</td>\n      <td>$202.00</td>\n      <td>1990</td>\n    </tr>\n    <tr>\n      <th>Straight Outta Compton</th>\n      <td>776</td>\n      <td>Universal</td>\n      <td>$201.60</td>\n      <td>2015</td>\n    </tr>\n  </tbody>\n</table>\n<p>109 rows × 4 columns</p>\n</div>"
     },
     "execution_count": 7,
     "metadata": {},
     "output_type": "execute_result"
    }
   ],
   "source": [
    "movies[movies['Studio'] == 'Universal']"
   ],
   "metadata": {
    "collapsed": false,
    "ExecuteTime": {
     "end_time": "2023-07-15T19:44:10.897400Z",
     "start_time": "2023-07-15T19:44:10.893380400Z"
    }
   }
  },
  {
   "cell_type": "code",
   "execution_count": 8,
   "outputs": [
    {
     "data": {
      "text/plain": "                                Rank           Studio       Gross  Year\nTitle                                                                  \nTransformers: Dark of the Moon    23        Paramount  $1,123.80   2011\nThe Dark Knight Rises             27  Warner Brothers  $1,084.90   2012\nThe Dark Knight                   39  Warner Brothers  $1,004.90   2008\nThor: The Dark World             132      Buena Vista    $644.60   2013\nStar Trek Into Darkness          232        Paramount    $467.40   2013\nFifty Shades Darker              309        Universal    $381.50   2017\nDark Shadows                     600  Warner Brothers    $245.50   2012\nDark Phoenix                     603              Fox    $245.10   2019",
      "text/html": "<div>\n<style scoped>\n    .dataframe tbody tr th:only-of-type {\n        vertical-align: middle;\n    }\n\n    .dataframe tbody tr th {\n        vertical-align: top;\n    }\n\n    .dataframe thead th {\n        text-align: right;\n    }\n</style>\n<table border=\"1\" class=\"dataframe\">\n  <thead>\n    <tr style=\"text-align: right;\">\n      <th></th>\n      <th>Rank</th>\n      <th>Studio</th>\n      <th>Gross</th>\n      <th>Year</th>\n    </tr>\n    <tr>\n      <th>Title</th>\n      <th></th>\n      <th></th>\n      <th></th>\n      <th></th>\n    </tr>\n  </thead>\n  <tbody>\n    <tr>\n      <th>Transformers: Dark of the Moon</th>\n      <td>23</td>\n      <td>Paramount</td>\n      <td>$1,123.80</td>\n      <td>2011</td>\n    </tr>\n    <tr>\n      <th>The Dark Knight Rises</th>\n      <td>27</td>\n      <td>Warner Brothers</td>\n      <td>$1,084.90</td>\n      <td>2012</td>\n    </tr>\n    <tr>\n      <th>The Dark Knight</th>\n      <td>39</td>\n      <td>Warner Brothers</td>\n      <td>$1,004.90</td>\n      <td>2008</td>\n    </tr>\n    <tr>\n      <th>Thor: The Dark World</th>\n      <td>132</td>\n      <td>Buena Vista</td>\n      <td>$644.60</td>\n      <td>2013</td>\n    </tr>\n    <tr>\n      <th>Star Trek Into Darkness</th>\n      <td>232</td>\n      <td>Paramount</td>\n      <td>$467.40</td>\n      <td>2013</td>\n    </tr>\n    <tr>\n      <th>Fifty Shades Darker</th>\n      <td>309</td>\n      <td>Universal</td>\n      <td>$381.50</td>\n      <td>2017</td>\n    </tr>\n    <tr>\n      <th>Dark Shadows</th>\n      <td>600</td>\n      <td>Warner Brothers</td>\n      <td>$245.50</td>\n      <td>2012</td>\n    </tr>\n    <tr>\n      <th>Dark Phoenix</th>\n      <td>603</td>\n      <td>Fox</td>\n      <td>$245.10</td>\n      <td>2019</td>\n    </tr>\n  </tbody>\n</table>\n</div>"
     },
     "execution_count": 8,
     "metadata": {},
     "output_type": "execute_result"
    }
   ],
   "source": [
    "has_dark_in_title = movies.index.str.lower().str.contains(\"dark\")\n",
    "\n",
    "movies[has_dark_in_title]"
   ],
   "metadata": {
    "collapsed": false,
    "ExecuteTime": {
     "end_time": "2023-07-15T19:46:10.513475Z",
     "start_time": "2023-07-15T19:46:10.509899700Z"
    }
   }
  },
  {
   "cell_type": "code",
   "execution_count": 13,
   "outputs": [
    {
     "data": {
      "text/plain": "array([False, False, False, False, False, False, False, False, False,\n       False, False, False, False, False, False, False, False, False,\n       False, False, False, False,  True, False, False, False,  True,\n       False, False, False, False, False, False, False, False, False,\n       False, False,  True, False, False, False, False, False, False,\n       False, False, False, False, False, False, False, False, False,\n       False, False, False, False, False, False, False, False, False,\n       False, False, False, False, False, False, False, False, False,\n       False, False, False, False, False, False, False, False, False,\n       False, False, False, False, False, False, False, False, False,\n       False, False, False, False, False, False, False, False, False,\n       False, False, False, False, False, False, False, False, False,\n       False, False, False, False, False, False, False, False, False,\n       False, False, False, False, False, False, False, False, False,\n       False, False, False, False, False,  True, False, False, False,\n       False, False, False, False, False, False, False, False, False,\n       False, False, False, False, False, False, False, False, False,\n       False, False, False, False, False, False, False, False, False,\n       False, False, False, False, False, False, False, False, False,\n       False, False, False, False, False, False, False, False, False,\n       False, False, False, False, False, False, False, False, False,\n       False, False, False, False, False, False, False, False, False,\n       False, False, False, False, False, False, False, False, False,\n       False, False, False, False, False, False, False, False, False,\n       False, False, False, False, False, False, False, False, False,\n       False, False, False, False, False, False,  True, False, False,\n       False, False, False, False, False, False, False, False, False,\n       False, False, False, False, False, False, False, False, False,\n       False, False, False, False, False, False, False, False, False,\n       False, False, False, False, False, False, False, False, False,\n       False, False, False, False, False, False, False, False, False,\n       False, False, False, False, False, False, False, False, False,\n       False, False, False, False, False, False, False, False, False,\n       False, False, False, False, False, False, False, False, False,\n       False, False,  True, False, False, False, False, False, False,\n       False, False, False, False, False, False, False, False, False,\n       False, False, False, False, False, False, False, False, False,\n       False, False, False, False, False, False, False, False, False,\n       False, False, False, False, False, False, False, False, False,\n       False, False, False, False, False, False, False, False, False,\n       False, False, False, False, False, False, False, False, False,\n       False, False, False, False, False, False, False, False, False,\n       False, False, False, False, False, False, False, False, False,\n       False, False, False, False, False, False, False, False, False,\n       False, False, False, False, False, False, False, False, False,\n       False, False, False, False, False, False, False, False, False,\n       False, False, False, False, False, False, False, False, False,\n       False, False, False, False, False, False, False, False, False,\n       False, False, False, False, False, False, False, False, False,\n       False, False, False, False, False, False, False, False, False,\n       False, False, False, False, False, False, False, False, False,\n       False, False, False, False, False, False, False, False, False,\n       False, False, False, False, False, False, False, False, False,\n       False, False, False, False, False, False, False, False, False,\n       False, False, False, False, False, False, False, False, False,\n       False, False, False, False, False, False, False, False, False,\n       False, False, False, False, False, False, False, False, False,\n       False, False, False, False, False, False, False, False, False,\n       False, False, False, False, False, False, False, False, False,\n       False, False, False, False, False, False, False, False, False,\n       False, False, False, False, False, False, False, False, False,\n       False, False, False, False, False, False, False, False, False,\n       False, False, False, False, False, False, False, False, False,\n       False, False, False, False, False, False, False, False, False,\n       False, False, False, False, False, False, False, False, False,\n       False, False, False, False, False, False, False, False, False,\n       False, False, False, False, False,  True, False, False,  True,\n       False, False, False, False, False, False, False, False, False,\n       False, False, False, False, False, False, False, False, False,\n       False, False, False, False, False, False, False, False, False,\n       False, False, False, False, False, False, False, False, False,\n       False, False, False, False, False, False, False, False, False,\n       False, False, False, False, False, False, False, False, False,\n       False, False, False, False, False, False, False, False, False,\n       False, False, False, False, False, False, False, False, False,\n       False, False, False, False, False, False, False, False, False,\n       False, False, False, False, False, False, False, False, False,\n       False, False, False, False, False, False, False, False, False,\n       False, False, False, False, False, False, False, False, False,\n       False, False, False, False, False, False, False, False, False,\n       False, False, False, False, False, False, False, False, False,\n       False, False, False, False, False, False, False, False, False,\n       False, False, False, False, False, False, False, False, False,\n       False, False, False, False, False, False, False, False, False,\n       False, False, False, False, False, False, False, False, False,\n       False, False, False, False, False, False, False, False, False,\n       False, False, False, False, False, False, False, False])"
     },
     "execution_count": 13,
     "metadata": {},
     "output_type": "execute_result"
    }
   ],
   "source": [
    "movies.index.str.lower().str.contains('dark')"
   ],
   "metadata": {
    "collapsed": false,
    "ExecuteTime": {
     "end_time": "2023-07-15T19:47:21.735379200Z",
     "start_time": "2023-07-15T19:47:21.716846400Z"
    }
   }
  },
  {
   "cell_type": "code",
   "execution_count": 18,
   "outputs": [],
   "source": [
    "movies['Gross'] = movies['Gross'].str.replace('$', '', regex=False).str.replace(',', '', regex=False).astype(float)"
   ],
   "metadata": {
    "collapsed": false,
    "ExecuteTime": {
     "end_time": "2023-07-15T19:53:53.187050800Z",
     "start_time": "2023-07-15T19:53:53.178427200Z"
    }
   }
  },
  {
   "cell_type": "code",
   "execution_count": 19,
   "outputs": [
    {
     "data": {
      "text/plain": "                              Rank           Studio   Gross  Year\nTitle                                                            \nAvengers: Endgame                1      Buena Vista  2796.3  2019\nAvatar                           2              Fox  2789.7  2009\nTitanic                          3        Paramount  2187.5  1997\nStar Wars: The Force Awakens     4      Buena Vista  2068.2  2015\nAvengers: Infinity War           5      Buena Vista  2048.4  2018\n...                            ...              ...     ...   ...\nYogi Bear                      778  Warner Brothers   201.6  2010\nGarfield: The Movie            779              Fox   200.8  2004\nCats & Dogs                    780  Warner Brothers   200.7  2001\nThe Hunt for Red October       781        Paramount   200.5  1990\nValkyrie                       782              MGM   200.3  2008\n\n[782 rows x 4 columns]",
      "text/html": "<div>\n<style scoped>\n    .dataframe tbody tr th:only-of-type {\n        vertical-align: middle;\n    }\n\n    .dataframe tbody tr th {\n        vertical-align: top;\n    }\n\n    .dataframe thead th {\n        text-align: right;\n    }\n</style>\n<table border=\"1\" class=\"dataframe\">\n  <thead>\n    <tr style=\"text-align: right;\">\n      <th></th>\n      <th>Rank</th>\n      <th>Studio</th>\n      <th>Gross</th>\n      <th>Year</th>\n    </tr>\n    <tr>\n      <th>Title</th>\n      <th></th>\n      <th></th>\n      <th></th>\n      <th></th>\n    </tr>\n  </thead>\n  <tbody>\n    <tr>\n      <th>Avengers: Endgame</th>\n      <td>1</td>\n      <td>Buena Vista</td>\n      <td>2796.3</td>\n      <td>2019</td>\n    </tr>\n    <tr>\n      <th>Avatar</th>\n      <td>2</td>\n      <td>Fox</td>\n      <td>2789.7</td>\n      <td>2009</td>\n    </tr>\n    <tr>\n      <th>Titanic</th>\n      <td>3</td>\n      <td>Paramount</td>\n      <td>2187.5</td>\n      <td>1997</td>\n    </tr>\n    <tr>\n      <th>Star Wars: The Force Awakens</th>\n      <td>4</td>\n      <td>Buena Vista</td>\n      <td>2068.2</td>\n      <td>2015</td>\n    </tr>\n    <tr>\n      <th>Avengers: Infinity War</th>\n      <td>5</td>\n      <td>Buena Vista</td>\n      <td>2048.4</td>\n      <td>2018</td>\n    </tr>\n    <tr>\n      <th>...</th>\n      <td>...</td>\n      <td>...</td>\n      <td>...</td>\n      <td>...</td>\n    </tr>\n    <tr>\n      <th>Yogi Bear</th>\n      <td>778</td>\n      <td>Warner Brothers</td>\n      <td>201.6</td>\n      <td>2010</td>\n    </tr>\n    <tr>\n      <th>Garfield: The Movie</th>\n      <td>779</td>\n      <td>Fox</td>\n      <td>200.8</td>\n      <td>2004</td>\n    </tr>\n    <tr>\n      <th>Cats &amp; Dogs</th>\n      <td>780</td>\n      <td>Warner Brothers</td>\n      <td>200.7</td>\n      <td>2001</td>\n    </tr>\n    <tr>\n      <th>The Hunt for Red October</th>\n      <td>781</td>\n      <td>Paramount</td>\n      <td>200.5</td>\n      <td>1990</td>\n    </tr>\n    <tr>\n      <th>Valkyrie</th>\n      <td>782</td>\n      <td>MGM</td>\n      <td>200.3</td>\n      <td>2008</td>\n    </tr>\n  </tbody>\n</table>\n<p>782 rows × 4 columns</p>\n</div>"
     },
     "execution_count": 19,
     "metadata": {},
     "output_type": "execute_result"
    }
   ],
   "source": [
    "movies"
   ],
   "metadata": {
    "collapsed": false,
    "ExecuteTime": {
     "end_time": "2023-07-15T19:53:57.438443200Z",
     "start_time": "2023-07-15T19:53:57.435932400Z"
    }
   }
  },
  {
   "cell_type": "code",
   "execution_count": 22,
   "outputs": [
    {
     "data": {
      "text/plain": "                        Rank  Gross  Year\nStudio                                   \nArtisan                    1      1     1\nBuena Vista              125    125   125\nCL                         1      1     1\nChina Film Corporation     1      1     1\nColumbia                   5      5     5",
      "text/html": "<div>\n<style scoped>\n    .dataframe tbody tr th:only-of-type {\n        vertical-align: middle;\n    }\n\n    .dataframe tbody tr th {\n        vertical-align: top;\n    }\n\n    .dataframe thead th {\n        text-align: right;\n    }\n</style>\n<table border=\"1\" class=\"dataframe\">\n  <thead>\n    <tr style=\"text-align: right;\">\n      <th></th>\n      <th>Rank</th>\n      <th>Gross</th>\n      <th>Year</th>\n    </tr>\n    <tr>\n      <th>Studio</th>\n      <th></th>\n      <th></th>\n      <th></th>\n    </tr>\n  </thead>\n  <tbody>\n    <tr>\n      <th>Artisan</th>\n      <td>1</td>\n      <td>1</td>\n      <td>1</td>\n    </tr>\n    <tr>\n      <th>Buena Vista</th>\n      <td>125</td>\n      <td>125</td>\n      <td>125</td>\n    </tr>\n    <tr>\n      <th>CL</th>\n      <td>1</td>\n      <td>1</td>\n      <td>1</td>\n    </tr>\n    <tr>\n      <th>China Film Corporation</th>\n      <td>1</td>\n      <td>1</td>\n      <td>1</td>\n    </tr>\n    <tr>\n      <th>Columbia</th>\n      <td>5</td>\n      <td>5</td>\n      <td>5</td>\n    </tr>\n  </tbody>\n</table>\n</div>"
     },
     "execution_count": 22,
     "metadata": {},
     "output_type": "execute_result"
    }
   ],
   "source": [
    "movies.groupby('Studio').count().head()"
   ],
   "metadata": {
    "collapsed": false,
    "ExecuteTime": {
     "end_time": "2023-07-15T19:55:16.254176100Z",
     "start_time": "2023-07-15T19:55:16.231168500Z"
    }
   }
  },
  {
   "cell_type": "code",
   "execution_count": null,
   "outputs": [],
   "source": [],
   "metadata": {
    "collapsed": false
   }
  }
 ],
 "metadata": {
  "kernelspec": {
   "display_name": "Python 3",
   "language": "python",
   "name": "python3"
  },
  "language_info": {
   "codemirror_mode": {
    "name": "ipython",
    "version": 2
   },
   "file_extension": ".py",
   "mimetype": "text/x-python",
   "name": "python",
   "nbconvert_exporter": "python",
   "pygments_lexer": "ipython2",
   "version": "2.7.6"
  }
 },
 "nbformat": 4,
 "nbformat_minor": 0
}
