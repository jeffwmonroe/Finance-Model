{
 "cells": [
  {
   "cell_type": "code",
   "execution_count": 1,
   "metadata": {
    "collapsed": true,
    "ExecuteTime": {
     "end_time": "2023-08-07T18:52:46.217654500Z",
     "start_time": "2023-08-07T18:52:44.990722300Z"
    }
   },
   "outputs": [],
   "source": [
    "import pandas as pd\n",
    "from datetime import datetime\n",
    "from finance_model import Contracts\n",
    "# from finance_model import finance_plot\n",
    "from finance_model.plot_financials import finance_plot"
   ]
  },
  {
   "cell_type": "code",
   "execution_count": 2,
   "outputs": [],
   "source": [
    "contracts = Contracts()\n",
    "contracts.read_contracts()\n",
    "contracts.calculate_backlog_spend()"
   ],
   "metadata": {
    "collapsed": false,
    "ExecuteTime": {
     "end_time": "2023-08-07T18:52:46.353649900Z",
     "start_time": "2023-08-07T18:52:46.218654500Z"
    }
   }
  },
  {
   "cell_type": "code",
   "execution_count": null,
   "outputs": [],
   "source": [
    "# contracts.plot_data(yearly=True, start_date=datetime(year=2023, month=9, day=1))\n",
    "contracts.plot_data(yearly=True)\n"
   ],
   "metadata": {
    "collapsed": false
   }
  },
  {
   "cell_type": "code",
   "execution_count": null,
   "outputs": [],
   "source": [
    "finance_plot(contracts.spend.loc[:, 3:3], \"spend\", yearly=False)"
   ],
   "metadata": {
    "collapsed": false
   }
  },
  {
   "cell_type": "code",
   "execution_count": null,
   "outputs": [],
   "source": [
    "df = contracts.spend\n",
    "# df['year'] = datetime(year=df.index.year, month=12, day=31)\n",
    "df['year'] = df.index.map(lambda date: datetime(year=date.year, month=12, day=31))\n",
    "group = df.groupby('year')\n",
    "yearly = group.sum()\n",
    "# contracts.spend.groupby()"
   ],
   "metadata": {
    "collapsed": false
   }
  },
  {
   "cell_type": "code",
   "execution_count": 5,
   "outputs": [
    {
     "data": {
      "text/plain": "pk\n1       21250.00\n2       23000.00\n3      103966.00\n4      225000.00\n5      171000.00\n6     1348428.25\n7      700000.00\n8     1000000.00\n9     1949101.08\n10     639031.03\n11     605870.11\n12     129125.00\n13     112031.00\n14     114700.00\n15    3113213.00\n16    1974790.10\nName: 2023, dtype: float64"
     },
     "execution_count": 5,
     "metadata": {},
     "output_type": "execute_result"
    }
   ],
   "source": [
    "contracts.contracts_yearly.iloc[:, 1]"
   ],
   "metadata": {
    "collapsed": false,
    "ExecuteTime": {
     "end_time": "2023-08-07T18:53:38.392482400Z",
     "start_time": "2023-08-07T18:53:38.369839700Z"
    }
   }
  },
  {
   "cell_type": "code",
   "execution_count": 6,
   "outputs": [
    {
     "data": {
      "text/plain": "    link charge_code category  \\\npk                              \n1    NaN    A301-XXX      WIP   \n2    NaN    A601-XXX      WIP   \n3    NaN    A901-XXX      WIP   \n4    NaN    A801-XXX      WIP   \n5    NaN   AA-10-XXX      WIP   \n6    NaN    A700-XXX      WIP   \n7    NaN    C100-XXX      WIP   \n8    NaN  G100-XXX**      WIP   \n9    NaN    L302-XXX      WIP   \n10   NaN    R202-XXX      WIP   \n11   NaN    E200-XXX      WIP   \n12   NaN    AA11-XXX      WIP   \n13   NaN    K100-XXX      WIP   \n14   NaN    M601-XXX      WIP   \n15   NaN    AA12-XXX      WIP   \n16   7.0         NaN      WIP   \n\n                                                 name    contract_number  \\\npk                                                                         \n1       Fence to Fence Services - Seymour Johnson AFB                NaN   \n2                 Fence to Fence Services - Moody AFB                NaN   \n3   Fence-to-Fence Environmental Services at Davis...                NaN   \n4   Fence-to-Fence Environmental Services at Dyess...                NaN   \n5   Fence-to-Fence Environmental Services at Scott...                NaN   \n6   Fence-to-Fence Environmental Services at Joint...                NaN   \n7   Environmental Training & Course Development Fo...   N00244-19-D-0012   \n8      NASA Johnson Environmental Support Team (JEST)      80JSC018A0012   \n9   Regional Hazardous Waste Management Services F...   N40080-20-D-0006   \n10  Hazardous Substance Incident Response Manageme...   N00189-20-D-0002   \n11       Environmental Response Training Program (SB)      68HERH21A0007   \n12                     Fence to Fence Services - JBAB                NaN   \n13              HW Support Naval Oceangraphic-Stennis      N6230620F0065   \n14                           Lakehurst HAZMAT Support        FA44822F024   \n15          JBMDL, Hanscom, Rome Labs, New Boston F2F      W912DR22C0008   \n16  Environmental Training & Course Development Fo...      N0024423D0005   \n\n    division prime_contract_number award_date start_date   end_date gov_com  \\\npk                                                                            \n1   Services                   NaN        NaT 2018-04-01 2023-03-31   Gov't   \n2   Services                   NaN        NaT 2018-04-01 2023-03-31   Gov't   \n3   Services           AFCGSA1.001 2019-07-01 2019-07-17 2024-06-30   Gov't   \n4   Services           AFCGSA1.001 2019-06-15 2019-06-15 2024-06-14   Gov't   \n5   Services           AFCGSA1.001 2019-09-01 2019-09-01 2024-02-28   Gov't   \n6   Services           AFCGSA1.001 2019-06-20 2019-06-26 2024-06-25   Gov't   \n7   Training                   NaN 2019-08-07 2019-08-08 2023-03-13   Gov't   \n8   Services         80JSC018A0012 2018-07-01 2018-09-01 2023-08-31   Gov't   \n9   Services      N40080-20-D-0006 2019-01-27 2020-02-01 2025-01-31   Gov't   \n10  Training      N00189-20-D-0002 2019-11-01 2019-11-01 2025-04-30   Gov't   \n11  Training         47QRAA20D0056 2021-04-15 2021-04-16 2026-04-15   Gov't   \n12  Services           AFCGSA1.001 2019-09-01 2019-09-01 2025-06-30   Gov't   \n13  Services         47QRAA20D0056 2020-10-01 2020-10-01 2025-09-30   Gov't   \n14  Services         47QRAA20D0056 2022-08-11 2022-09-01 2027-02-28   Gov't   \n15  Services         47QRAA20D0056 2022-02-01 2022-03-01 2027-01-31   Gov't   \n16  Services                   NaN 2023-05-15 2023-07-01 2028-06-30   Gov't   \n\n                       agency prime_sub          prime revenue      backlog  \\\npk                                                                            \n1                    AirForce       Sub  BhateZapataJV   Gov't    450000.00   \n2                    AirForce       Sub  BhateZapataJV   Gov't    475000.00   \n3                    AirForce       Sub          Bhate     GSA    511034.00   \n4                    AirForce       Sub          Bhate     GSA   1125000.00   \n5                    AirForce       Sub          Bhate     GSA    769000.00   \n6                    AirForce       Sub          Bhate     GSA   3550000.00   \n7                       CECOS     Prime            NaN   Gov't   6243077.00   \n8                        NASA       CTA            NaN   Gov't   5100870.00   \n9                      NAVFAC     Prime            NaN   Gov't   9743180.10   \n10                     NAVOSH     Prime            NaN   Gov't   3571886.19   \n11                        EPA     Prime            NaN   Gov't   3037919.65   \n12                   AirForce       Sub          Bhate     GSA    450475.00   \n13  Navy Oceangraphic-Stennis     Prime            NaN   Gov't    560645.00   \n14                  Air Force     Prime            NaN   Gov't    545712.00   \n15                      USACE     Prime            NaN   Gov't  15534355.34   \n16                 Navy CECOS     Prime            NaN   Gov't  19747901.00   \n\n   contract_type  cut  \npk                     \n1            FFP  NaN  \n2            FFP  NaN  \n3            FFP  NaN  \n4            FFP  NaN  \n5            FFP  NaN  \n6            FFP  NaN  \n7            FFP  FFP  \n8        FFP/T&M  NaN  \n9            FFP  NaN  \n10           FFP  NaN  \n11           FFP  NaN  \n12           FFP  NaN  \n13           FFP  NaN  \n14           FFP  NaN  \n15           FFP  NaN  \n16           FFP  FFP  ",
      "text/html": "<div>\n<style scoped>\n    .dataframe tbody tr th:only-of-type {\n        vertical-align: middle;\n    }\n\n    .dataframe tbody tr th {\n        vertical-align: top;\n    }\n\n    .dataframe thead th {\n        text-align: right;\n    }\n</style>\n<table border=\"1\" class=\"dataframe\">\n  <thead>\n    <tr style=\"text-align: right;\">\n      <th></th>\n      <th>link</th>\n      <th>charge_code</th>\n      <th>category</th>\n      <th>name</th>\n      <th>contract_number</th>\n      <th>division</th>\n      <th>prime_contract_number</th>\n      <th>award_date</th>\n      <th>start_date</th>\n      <th>end_date</th>\n      <th>gov_com</th>\n      <th>agency</th>\n      <th>prime_sub</th>\n      <th>prime</th>\n      <th>revenue</th>\n      <th>backlog</th>\n      <th>contract_type</th>\n      <th>cut</th>\n    </tr>\n    <tr>\n      <th>pk</th>\n      <th></th>\n      <th></th>\n      <th></th>\n      <th></th>\n      <th></th>\n      <th></th>\n      <th></th>\n      <th></th>\n      <th></th>\n      <th></th>\n      <th></th>\n      <th></th>\n      <th></th>\n      <th></th>\n      <th></th>\n      <th></th>\n      <th></th>\n      <th></th>\n    </tr>\n  </thead>\n  <tbody>\n    <tr>\n      <th>1</th>\n      <td>NaN</td>\n      <td>A301-XXX</td>\n      <td>WIP</td>\n      <td>Fence to Fence Services - Seymour Johnson AFB</td>\n      <td>NaN</td>\n      <td>Services</td>\n      <td>NaN</td>\n      <td>NaT</td>\n      <td>2018-04-01</td>\n      <td>2023-03-31</td>\n      <td>Gov't</td>\n      <td>AirForce</td>\n      <td>Sub</td>\n      <td>BhateZapataJV</td>\n      <td>Gov't</td>\n      <td>450000.00</td>\n      <td>FFP</td>\n      <td>NaN</td>\n    </tr>\n    <tr>\n      <th>2</th>\n      <td>NaN</td>\n      <td>A601-XXX</td>\n      <td>WIP</td>\n      <td>Fence to Fence Services - Moody AFB</td>\n      <td>NaN</td>\n      <td>Services</td>\n      <td>NaN</td>\n      <td>NaT</td>\n      <td>2018-04-01</td>\n      <td>2023-03-31</td>\n      <td>Gov't</td>\n      <td>AirForce</td>\n      <td>Sub</td>\n      <td>BhateZapataJV</td>\n      <td>Gov't</td>\n      <td>475000.00</td>\n      <td>FFP</td>\n      <td>NaN</td>\n    </tr>\n    <tr>\n      <th>3</th>\n      <td>NaN</td>\n      <td>A901-XXX</td>\n      <td>WIP</td>\n      <td>Fence-to-Fence Environmental Services at Davis...</td>\n      <td>NaN</td>\n      <td>Services</td>\n      <td>AFCGSA1.001</td>\n      <td>2019-07-01</td>\n      <td>2019-07-17</td>\n      <td>2024-06-30</td>\n      <td>Gov't</td>\n      <td>AirForce</td>\n      <td>Sub</td>\n      <td>Bhate</td>\n      <td>GSA</td>\n      <td>511034.00</td>\n      <td>FFP</td>\n      <td>NaN</td>\n    </tr>\n    <tr>\n      <th>4</th>\n      <td>NaN</td>\n      <td>A801-XXX</td>\n      <td>WIP</td>\n      <td>Fence-to-Fence Environmental Services at Dyess...</td>\n      <td>NaN</td>\n      <td>Services</td>\n      <td>AFCGSA1.001</td>\n      <td>2019-06-15</td>\n      <td>2019-06-15</td>\n      <td>2024-06-14</td>\n      <td>Gov't</td>\n      <td>AirForce</td>\n      <td>Sub</td>\n      <td>Bhate</td>\n      <td>GSA</td>\n      <td>1125000.00</td>\n      <td>FFP</td>\n      <td>NaN</td>\n    </tr>\n    <tr>\n      <th>5</th>\n      <td>NaN</td>\n      <td>AA-10-XXX</td>\n      <td>WIP</td>\n      <td>Fence-to-Fence Environmental Services at Scott...</td>\n      <td>NaN</td>\n      <td>Services</td>\n      <td>AFCGSA1.001</td>\n      <td>2019-09-01</td>\n      <td>2019-09-01</td>\n      <td>2024-02-28</td>\n      <td>Gov't</td>\n      <td>AirForce</td>\n      <td>Sub</td>\n      <td>Bhate</td>\n      <td>GSA</td>\n      <td>769000.00</td>\n      <td>FFP</td>\n      <td>NaN</td>\n    </tr>\n    <tr>\n      <th>6</th>\n      <td>NaN</td>\n      <td>A700-XXX</td>\n      <td>WIP</td>\n      <td>Fence-to-Fence Environmental Services at Joint...</td>\n      <td>NaN</td>\n      <td>Services</td>\n      <td>AFCGSA1.001</td>\n      <td>2019-06-20</td>\n      <td>2019-06-26</td>\n      <td>2024-06-25</td>\n      <td>Gov't</td>\n      <td>AirForce</td>\n      <td>Sub</td>\n      <td>Bhate</td>\n      <td>GSA</td>\n      <td>3550000.00</td>\n      <td>FFP</td>\n      <td>NaN</td>\n    </tr>\n    <tr>\n      <th>7</th>\n      <td>NaN</td>\n      <td>C100-XXX</td>\n      <td>WIP</td>\n      <td>Environmental Training &amp; Course Development Fo...</td>\n      <td>N00244-19-D-0012</td>\n      <td>Training</td>\n      <td>NaN</td>\n      <td>2019-08-07</td>\n      <td>2019-08-08</td>\n      <td>2023-03-13</td>\n      <td>Gov't</td>\n      <td>CECOS</td>\n      <td>Prime</td>\n      <td>NaN</td>\n      <td>Gov't</td>\n      <td>6243077.00</td>\n      <td>FFP</td>\n      <td>FFP</td>\n    </tr>\n    <tr>\n      <th>8</th>\n      <td>NaN</td>\n      <td>G100-XXX**</td>\n      <td>WIP</td>\n      <td>NASA Johnson Environmental Support Team (JEST)</td>\n      <td>80JSC018A0012</td>\n      <td>Services</td>\n      <td>80JSC018A0012</td>\n      <td>2018-07-01</td>\n      <td>2018-09-01</td>\n      <td>2023-08-31</td>\n      <td>Gov't</td>\n      <td>NASA</td>\n      <td>CTA</td>\n      <td>NaN</td>\n      <td>Gov't</td>\n      <td>5100870.00</td>\n      <td>FFP/T&amp;M</td>\n      <td>NaN</td>\n    </tr>\n    <tr>\n      <th>9</th>\n      <td>NaN</td>\n      <td>L302-XXX</td>\n      <td>WIP</td>\n      <td>Regional Hazardous Waste Management Services F...</td>\n      <td>N40080-20-D-0006</td>\n      <td>Services</td>\n      <td>N40080-20-D-0006</td>\n      <td>2019-01-27</td>\n      <td>2020-02-01</td>\n      <td>2025-01-31</td>\n      <td>Gov't</td>\n      <td>NAVFAC</td>\n      <td>Prime</td>\n      <td>NaN</td>\n      <td>Gov't</td>\n      <td>9743180.10</td>\n      <td>FFP</td>\n      <td>NaN</td>\n    </tr>\n    <tr>\n      <th>10</th>\n      <td>NaN</td>\n      <td>R202-XXX</td>\n      <td>WIP</td>\n      <td>Hazardous Substance Incident Response Manageme...</td>\n      <td>N00189-20-D-0002</td>\n      <td>Training</td>\n      <td>N00189-20-D-0002</td>\n      <td>2019-11-01</td>\n      <td>2019-11-01</td>\n      <td>2025-04-30</td>\n      <td>Gov't</td>\n      <td>NAVOSH</td>\n      <td>Prime</td>\n      <td>NaN</td>\n      <td>Gov't</td>\n      <td>3571886.19</td>\n      <td>FFP</td>\n      <td>NaN</td>\n    </tr>\n    <tr>\n      <th>11</th>\n      <td>NaN</td>\n      <td>E200-XXX</td>\n      <td>WIP</td>\n      <td>Environmental Response Training Program (SB)</td>\n      <td>68HERH21A0007</td>\n      <td>Training</td>\n      <td>47QRAA20D0056</td>\n      <td>2021-04-15</td>\n      <td>2021-04-16</td>\n      <td>2026-04-15</td>\n      <td>Gov't</td>\n      <td>EPA</td>\n      <td>Prime</td>\n      <td>NaN</td>\n      <td>Gov't</td>\n      <td>3037919.65</td>\n      <td>FFP</td>\n      <td>NaN</td>\n    </tr>\n    <tr>\n      <th>12</th>\n      <td>NaN</td>\n      <td>AA11-XXX</td>\n      <td>WIP</td>\n      <td>Fence to Fence Services - JBAB</td>\n      <td>NaN</td>\n      <td>Services</td>\n      <td>AFCGSA1.001</td>\n      <td>2019-09-01</td>\n      <td>2019-09-01</td>\n      <td>2025-06-30</td>\n      <td>Gov't</td>\n      <td>AirForce</td>\n      <td>Sub</td>\n      <td>Bhate</td>\n      <td>GSA</td>\n      <td>450475.00</td>\n      <td>FFP</td>\n      <td>NaN</td>\n    </tr>\n    <tr>\n      <th>13</th>\n      <td>NaN</td>\n      <td>K100-XXX</td>\n      <td>WIP</td>\n      <td>HW Support Naval Oceangraphic-Stennis</td>\n      <td>N6230620F0065</td>\n      <td>Services</td>\n      <td>47QRAA20D0056</td>\n      <td>2020-10-01</td>\n      <td>2020-10-01</td>\n      <td>2025-09-30</td>\n      <td>Gov't</td>\n      <td>Navy Oceangraphic-Stennis</td>\n      <td>Prime</td>\n      <td>NaN</td>\n      <td>Gov't</td>\n      <td>560645.00</td>\n      <td>FFP</td>\n      <td>NaN</td>\n    </tr>\n    <tr>\n      <th>14</th>\n      <td>NaN</td>\n      <td>M601-XXX</td>\n      <td>WIP</td>\n      <td>Lakehurst HAZMAT Support</td>\n      <td>FA44822F024</td>\n      <td>Services</td>\n      <td>47QRAA20D0056</td>\n      <td>2022-08-11</td>\n      <td>2022-09-01</td>\n      <td>2027-02-28</td>\n      <td>Gov't</td>\n      <td>Air Force</td>\n      <td>Prime</td>\n      <td>NaN</td>\n      <td>Gov't</td>\n      <td>545712.00</td>\n      <td>FFP</td>\n      <td>NaN</td>\n    </tr>\n    <tr>\n      <th>15</th>\n      <td>NaN</td>\n      <td>AA12-XXX</td>\n      <td>WIP</td>\n      <td>JBMDL, Hanscom, Rome Labs, New Boston F2F</td>\n      <td>W912DR22C0008</td>\n      <td>Services</td>\n      <td>47QRAA20D0056</td>\n      <td>2022-02-01</td>\n      <td>2022-03-01</td>\n      <td>2027-01-31</td>\n      <td>Gov't</td>\n      <td>USACE</td>\n      <td>Prime</td>\n      <td>NaN</td>\n      <td>Gov't</td>\n      <td>15534355.34</td>\n      <td>FFP</td>\n      <td>NaN</td>\n    </tr>\n    <tr>\n      <th>16</th>\n      <td>7.0</td>\n      <td>NaN</td>\n      <td>WIP</td>\n      <td>Environmental Training &amp; Course Development Fo...</td>\n      <td>N0024423D0005</td>\n      <td>Services</td>\n      <td>NaN</td>\n      <td>2023-05-15</td>\n      <td>2023-07-01</td>\n      <td>2028-06-30</td>\n      <td>Gov't</td>\n      <td>Navy CECOS</td>\n      <td>Prime</td>\n      <td>NaN</td>\n      <td>Gov't</td>\n      <td>19747901.00</td>\n      <td>FFP</td>\n      <td>FFP</td>\n    </tr>\n  </tbody>\n</table>\n</div>"
     },
     "execution_count": 6,
     "metadata": {},
     "output_type": "execute_result"
    }
   ],
   "source": [
    "contracts.contracts"
   ],
   "metadata": {
    "collapsed": false,
    "ExecuteTime": {
     "end_time": "2023-08-07T18:54:06.489873900Z",
     "start_time": "2023-08-07T18:54:06.468259900Z"
    }
   }
  },
  {
   "cell_type": "code",
   "execution_count": 57,
   "outputs": [
    {
     "data": {
      "text/plain": "pk\n7     611699\n8     541620\n9     562112\n10    611430\n11    541620\n12    562910\n13    641620\n14    541620\n15    562910\n16    541620\nName: NAICS, dtype: int64"
     },
     "execution_count": 57,
     "metadata": {},
     "output_type": "execute_result"
    }
   ],
   "source": [
    "naics = pd.read_excel('documents/NAICS Codes.xlsx')\n",
    "naics = naics.set_index('pk')\n",
    "naics = naics.NAICS\n",
    "naics"
   ],
   "metadata": {
    "collapsed": false,
    "ExecuteTime": {
     "end_time": "2023-08-07T19:22:13.261506300Z",
     "start_time": "2023-08-07T19:22:13.249790900Z"
    }
   }
  },
  {
   "cell_type": "code",
   "execution_count": 68,
   "outputs": [],
   "source": [
    "jc = contracts.contracts_yearly.merge(naics, how='left', on='pk')\n",
    "jc.NAICS = jc.NAICS.fillna(0)\n",
    "jc.NAICS = jc.NAICS.astype(int)\n",
    "grp = jc.groupby('NAICS')\n",
    "naics_grp = grp.sum()\n",
    "naics_grp.to_excel('documents/naics group.xlsx')"
   ],
   "metadata": {
    "collapsed": false,
    "ExecuteTime": {
     "end_time": "2023-08-07T19:25:03.606580300Z",
     "start_time": "2023-08-07T19:25:03.569397500Z"
    }
   }
  },
  {
   "cell_type": "code",
   "execution_count": 50,
   "outputs": [
    {
     "data": {
      "text/plain": "          2022        2023         2024          2025         2026       2027  \\\npk                                                                              \n1     85000.00    21250.00        0.000  0.000000e+00        0.000        0.0   \n2     92000.00    23000.00        0.000  0.000000e+00        0.000        0.0   \n3    103966.00   103966.00    51983.000  0.000000e+00        0.000        0.0   \n4    225000.00   225000.00   112500.000  0.000000e+00        0.000        0.0   \n5    171000.00   171000.00    28500.000  0.000000e+00        0.000        0.0   \n6   1348428.25  1348428.25   674214.125  0.000000e+00        0.000        0.0   \n7   1838191.00   700000.00   400000.000  0.000000e+00        0.000        0.0   \n8   1000000.00  1000000.00   700000.000  0.000000e+00        0.000        0.0   \n9   1943282.21  1949101.08  1953517.920  1.627932e+05        0.000        0.0   \n10   601375.19   639031.03   679690.210  2.265634e+05        0.000        0.0   \n11   587168.36   605870.11   625219.780  6.447029e+05   161175.735        0.0   \n12        0.00   129125.00   131750.000  6.680000e+04        0.000        0.0   \n13   108768.00   112031.00   115392.000  8.654400e+04        0.000        0.0   \n14    37000.00   114700.00   119290.000  1.240600e+05   129020.000    21642.0   \n15  2814083.92  3113213.00  2926684.000  3.171623e+06  3247921.000   257000.0   \n16  3000000.00  1974790.10  3949580.200  3.949580e+06  3949580.200  3949580.2   \n\n         2028  2029  2030  \npk                         \n1         0.0   0.0   0.0  \n2         0.0   0.0   0.0  \n3         0.0   0.0   0.0  \n4         0.0   0.0   0.0  \n5         0.0   0.0   0.0  \n6         0.0   0.0   0.0  \n7         0.0   0.0   0.0  \n8         0.0   0.0   0.0  \n9         0.0   0.0   0.0  \n10        0.0   0.0   0.0  \n11        0.0   0.0   0.0  \n12        0.0   0.0   0.0  \n13        0.0   0.0   0.0  \n14        0.0   0.0   0.0  \n15        0.0   0.0   0.0  \n16  1974790.1   0.0   0.0  ",
      "text/html": "<div>\n<style scoped>\n    .dataframe tbody tr th:only-of-type {\n        vertical-align: middle;\n    }\n\n    .dataframe tbody tr th {\n        vertical-align: top;\n    }\n\n    .dataframe thead th {\n        text-align: right;\n    }\n</style>\n<table border=\"1\" class=\"dataframe\">\n  <thead>\n    <tr style=\"text-align: right;\">\n      <th></th>\n      <th>2022</th>\n      <th>2023</th>\n      <th>2024</th>\n      <th>2025</th>\n      <th>2026</th>\n      <th>2027</th>\n      <th>2028</th>\n      <th>2029</th>\n      <th>2030</th>\n    </tr>\n    <tr>\n      <th>pk</th>\n      <th></th>\n      <th></th>\n      <th></th>\n      <th></th>\n      <th></th>\n      <th></th>\n      <th></th>\n      <th></th>\n      <th></th>\n    </tr>\n  </thead>\n  <tbody>\n    <tr>\n      <th>1</th>\n      <td>85000.00</td>\n      <td>21250.00</td>\n      <td>0.000</td>\n      <td>0.000000e+00</td>\n      <td>0.000</td>\n      <td>0.0</td>\n      <td>0.0</td>\n      <td>0.0</td>\n      <td>0.0</td>\n    </tr>\n    <tr>\n      <th>2</th>\n      <td>92000.00</td>\n      <td>23000.00</td>\n      <td>0.000</td>\n      <td>0.000000e+00</td>\n      <td>0.000</td>\n      <td>0.0</td>\n      <td>0.0</td>\n      <td>0.0</td>\n      <td>0.0</td>\n    </tr>\n    <tr>\n      <th>3</th>\n      <td>103966.00</td>\n      <td>103966.00</td>\n      <td>51983.000</td>\n      <td>0.000000e+00</td>\n      <td>0.000</td>\n      <td>0.0</td>\n      <td>0.0</td>\n      <td>0.0</td>\n      <td>0.0</td>\n    </tr>\n    <tr>\n      <th>4</th>\n      <td>225000.00</td>\n      <td>225000.00</td>\n      <td>112500.000</td>\n      <td>0.000000e+00</td>\n      <td>0.000</td>\n      <td>0.0</td>\n      <td>0.0</td>\n      <td>0.0</td>\n      <td>0.0</td>\n    </tr>\n    <tr>\n      <th>5</th>\n      <td>171000.00</td>\n      <td>171000.00</td>\n      <td>28500.000</td>\n      <td>0.000000e+00</td>\n      <td>0.000</td>\n      <td>0.0</td>\n      <td>0.0</td>\n      <td>0.0</td>\n      <td>0.0</td>\n    </tr>\n    <tr>\n      <th>6</th>\n      <td>1348428.25</td>\n      <td>1348428.25</td>\n      <td>674214.125</td>\n      <td>0.000000e+00</td>\n      <td>0.000</td>\n      <td>0.0</td>\n      <td>0.0</td>\n      <td>0.0</td>\n      <td>0.0</td>\n    </tr>\n    <tr>\n      <th>7</th>\n      <td>1838191.00</td>\n      <td>700000.00</td>\n      <td>400000.000</td>\n      <td>0.000000e+00</td>\n      <td>0.000</td>\n      <td>0.0</td>\n      <td>0.0</td>\n      <td>0.0</td>\n      <td>0.0</td>\n    </tr>\n    <tr>\n      <th>8</th>\n      <td>1000000.00</td>\n      <td>1000000.00</td>\n      <td>700000.000</td>\n      <td>0.000000e+00</td>\n      <td>0.000</td>\n      <td>0.0</td>\n      <td>0.0</td>\n      <td>0.0</td>\n      <td>0.0</td>\n    </tr>\n    <tr>\n      <th>9</th>\n      <td>1943282.21</td>\n      <td>1949101.08</td>\n      <td>1953517.920</td>\n      <td>1.627932e+05</td>\n      <td>0.000</td>\n      <td>0.0</td>\n      <td>0.0</td>\n      <td>0.0</td>\n      <td>0.0</td>\n    </tr>\n    <tr>\n      <th>10</th>\n      <td>601375.19</td>\n      <td>639031.03</td>\n      <td>679690.210</td>\n      <td>2.265634e+05</td>\n      <td>0.000</td>\n      <td>0.0</td>\n      <td>0.0</td>\n      <td>0.0</td>\n      <td>0.0</td>\n    </tr>\n    <tr>\n      <th>11</th>\n      <td>587168.36</td>\n      <td>605870.11</td>\n      <td>625219.780</td>\n      <td>6.447029e+05</td>\n      <td>161175.735</td>\n      <td>0.0</td>\n      <td>0.0</td>\n      <td>0.0</td>\n      <td>0.0</td>\n    </tr>\n    <tr>\n      <th>12</th>\n      <td>0.00</td>\n      <td>129125.00</td>\n      <td>131750.000</td>\n      <td>6.680000e+04</td>\n      <td>0.000</td>\n      <td>0.0</td>\n      <td>0.0</td>\n      <td>0.0</td>\n      <td>0.0</td>\n    </tr>\n    <tr>\n      <th>13</th>\n      <td>108768.00</td>\n      <td>112031.00</td>\n      <td>115392.000</td>\n      <td>8.654400e+04</td>\n      <td>0.000</td>\n      <td>0.0</td>\n      <td>0.0</td>\n      <td>0.0</td>\n      <td>0.0</td>\n    </tr>\n    <tr>\n      <th>14</th>\n      <td>37000.00</td>\n      <td>114700.00</td>\n      <td>119290.000</td>\n      <td>1.240600e+05</td>\n      <td>129020.000</td>\n      <td>21642.0</td>\n      <td>0.0</td>\n      <td>0.0</td>\n      <td>0.0</td>\n    </tr>\n    <tr>\n      <th>15</th>\n      <td>2814083.92</td>\n      <td>3113213.00</td>\n      <td>2926684.000</td>\n      <td>3.171623e+06</td>\n      <td>3247921.000</td>\n      <td>257000.0</td>\n      <td>0.0</td>\n      <td>0.0</td>\n      <td>0.0</td>\n    </tr>\n    <tr>\n      <th>16</th>\n      <td>3000000.00</td>\n      <td>1974790.10</td>\n      <td>3949580.200</td>\n      <td>3.949580e+06</td>\n      <td>3949580.200</td>\n      <td>3949580.2</td>\n      <td>1974790.1</td>\n      <td>0.0</td>\n      <td>0.0</td>\n    </tr>\n  </tbody>\n</table>\n</div>"
     },
     "execution_count": 50,
     "metadata": {},
     "output_type": "execute_result"
    }
   ],
   "source": [
    "contracts.contracts_yearly"
   ],
   "metadata": {
    "collapsed": false,
    "ExecuteTime": {
     "end_time": "2023-08-07T19:20:23.504015200Z",
     "start_time": "2023-08-07T19:20:23.474547600Z"
    }
   }
  },
  {
   "cell_type": "code",
   "execution_count": null,
   "outputs": [],
   "source": [
    "[pd.to_datetime(dt).strftime('%Y') for dt in contracts.spend.index]"
   ],
   "metadata": {
    "collapsed": false
   }
  },
  {
   "cell_type": "code",
   "execution_count": null,
   "outputs": [],
   "source": [
    "contracts.contracts"
   ],
   "metadata": {
    "collapsed": false
   }
  },
  {
   "cell_type": "code",
   "execution_count": null,
   "outputs": [],
   "source": [
    "contracts.contracts_yearly"
   ],
   "metadata": {
    "collapsed": false
   }
  },
  {
   "cell_type": "code",
   "execution_count": null,
   "outputs": [],
   "source": [
    "contracts.contracts.loc[12, 'end_date']"
   ],
   "metadata": {
    "collapsed": false
   }
  },
  {
   "cell_type": "code",
   "execution_count": null,
   "outputs": [],
   "source": [
    "contracts.contracts_yearly.loc[12, 2023:2025]"
   ],
   "metadata": {
    "collapsed": false
   }
  },
  {
   "cell_type": "code",
   "execution_count": null,
   "outputs": [],
   "source": [
    "import math\n",
    "\n",
    "math.floor(-0.5)"
   ],
   "metadata": {
    "collapsed": false
   }
  },
  {
   "cell_type": "code",
   "execution_count": null,
   "outputs": [],
   "source": [],
   "metadata": {
    "collapsed": false
   }
  }
 ],
 "metadata": {
  "kernelspec": {
   "display_name": "Python 3",
   "language": "python",
   "name": "python3"
  },
  "language_info": {
   "codemirror_mode": {
    "name": "ipython",
    "version": 2
   },
   "file_extension": ".py",
   "mimetype": "text/x-python",
   "name": "python",
   "nbconvert_exporter": "python",
   "pygments_lexer": "ipython2",
   "version": "2.7.6"
  }
 },
 "nbformat": 4,
 "nbformat_minor": 0
}
