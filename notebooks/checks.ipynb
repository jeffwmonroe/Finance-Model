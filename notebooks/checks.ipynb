{
 "cells": [
  {
   "cell_type": "markdown",
   "source": [
    "# Check Register Handling\n"
   ],
   "metadata": {
    "collapsed": false
   },
   "id": "bc543a3130a4fa9"
  },
  {
   "cell_type": "code",
   "execution_count": 1,
   "outputs": [
    {
     "name": "stdout",
     "output_type": "stream",
     "text": [
      "loading environment variables\n",
      "cwd = D:\\Coding\\Finance-Model\\notebooks\n",
      "inside of notebook directory\n",
      "   setting new working directory: D:\\Coding\\Finance-Model\n"
     ]
    }
   ],
   "source": [
    "import pandas as pd\n",
    "import numpy as np\n",
    "from config import config"
   ],
   "metadata": {
    "collapsed": false,
    "ExecuteTime": {
     "end_time": "2023-12-29T01:23:16.103664300Z",
     "start_time": "2023-12-29T01:23:15.778496700Z"
    }
   },
   "id": "330366533c728b3f"
  },
  {
   "cell_type": "code",
   "execution_count": 2,
   "outputs": [
    {
     "name": "stdout",
     "output_type": "stream",
     "text": [
      "Check #                 object\n",
      "Date            datetime64[ns]\n",
      "Payee                   object\n",
      "Cash Account            object\n",
      "Amount                 float64\n",
      "dtype: object\n"
     ]
    }
   ],
   "source": [
    "peachtree_df = pd.ExcelFile(config['peach_tree_checks'])\n",
    "\n",
    "peachtree_df = pd.read_excel(peachtree_df, dtype={\"Check #\": str,\n",
    "                                                  \"Cash Account\": str})\n",
    "\n",
    "# Improve this\n",
    "peachtree_df = peachtree_df.iloc[:len(peachtree_df) - 2, :]\n",
    "print(peachtree_df.dtypes)\n",
    "peachtree_df.loc[peachtree_df[\"Amount\"].isna(), \"Amount\"] = 0"
   ],
   "metadata": {
    "collapsed": false,
    "ExecuteTime": {
     "end_time": "2023-12-29T01:23:17.001359200Z",
     "start_time": "2023-12-29T01:23:16.844568100Z"
    }
   },
   "id": "dc5ab7f13374dae6"
  },
  {
   "cell_type": "code",
   "execution_count": 2,
   "outputs": [],
   "source": [
    "\n"
   ],
   "metadata": {
    "collapsed": false,
    "ExecuteTime": {
     "end_time": "2023-12-29T01:23:17.990106400Z",
     "start_time": "2023-12-29T01:23:17.988599200Z"
    }
   },
   "id": "c11142215a2e9c9d"
  },
  {
   "cell_type": "code",
   "execution_count": 6,
   "outputs": [],
   "source": [
    "\n",
    "\n",
    "# Process checks that were voided after issue\n",
    "void_mask = peachtree_df[\"Check #\"].str.endswith(\"V\")\n",
    "check_no = peachtree_df.loc[void_mask, \"Check #\"].str.rstrip(\"V\")\n",
    "\n",
    "\n",
    "void_df = pd.DataFrame({'Check #': peachtree_df.loc[void_mask, \"Check #\"].str.rstrip(\"V\"),\n",
    "                        'Void': True,\n",
    "                        'Void Date': peachtree_df.loc[void_mask, \"Date\"]\n",
    "                        })\n",
    "merged_df = pd.merge(peachtree_df, void_df, how='left')\n",
    "merged_df.loc[merged_df['Void'].isna(), 'Void'] = False\n",
    "\n",
    "online_mask = merged_df[\"Check #\"].str.startswith(\"ON LINE PAY\")\n",
    "check_mask = merged_df[\"Check #\"].str.len() == 5\n",
    "check_df = merged_df[check_mask]\n",
    "\n",
    "void_mask = peachtree_df[\"Amount\"] == 0\n",
    "check_df.loc[void_mask, \"Amount\"] = 0\n",
    "check_df.loc[void_mask, \"Void\"] = True\n",
    "check_df.loc[void_mask, \"Void Date\"] = check_df.loc[void_mask, \"Date\"]\n",
    "\n",
    "good_check_mask = check_df[\"Void\"] == False\n",
    "good_check_df = check_df[good_check_mask]\n",
    "\n",
    "account_number = '5559464829'\n",
    "# positive_pay_df = pd.DataFrame({'Account #'})\n",
    "# peachtree_df['void'] = False\n",
    "# peachtree_df['void'][a] = True\n",
    "# voided = peachtree_df[a]\n",
    "# voided[\"Void Check\"] = voided[\"Check #\"]\n",
    "# \n",
    "\n",
    "# voided[\"voided\"] = voided[\"Check #\"].str.rstrip(\"V\")\n",
    "#voided.loc[:, \"Check #\"] = check_no"
   ],
   "metadata": {
    "collapsed": false,
    "ExecuteTime": {
     "end_time": "2023-12-29T01:24:13.628560600Z",
     "start_time": "2023-12-29T01:24:13.620418700Z"
    }
   },
   "id": "2d60363a5bfb395c"
  },
  {
   "cell_type": "code",
   "execution_count": 6,
   "outputs": [],
   "source": [],
   "metadata": {
    "collapsed": false,
    "ExecuteTime": {
     "end_time": "2023-12-29T01:24:14.818976900Z",
     "start_time": "2023-12-29T01:24:14.816939700Z"
    }
   },
   "id": "6d7350036843ee32"
  },
  {
   "cell_type": "code",
   "execution_count": 7,
   "outputs": [],
   "source": [
    "good_check_df\n",
    "good_check_df.dtypes\n",
    "check = good_check_df.loc[1, :]\n",
    "check\n",
    "check_str = f'{account_number}{check[\"Check #\"]:0>10}{check[\"Amount\"]:11.2f}{check[\"Date\"].month:02d}{check[\"Date\"].day:02d}{check[\"Date\"].year}{check[\"Payee\"]:<50}{\" \":<50}'\n",
    "len(check_str)\n",
    "\n",
    "# Normal format\n",
    "with open(f'{config['processed_dir']}/ISSUEPPPFW.txt', 'w') as f:\n",
    "    for index, check in good_check_df.iterrows():\n",
    "        check_str = f'{account_number}{check[\"Check #\"]:0>10}{check[\"Amount\"]:11.2f}{check[\"Date\"].month:02d}{check[\"Date\"].day:02d}{check[\"Date\"].year}{check[\"Payee\"]:<50}{\" \":<50}'\n",
    "        f.write(check_str + '\\n')\n",
    "        \n",
    "with open(f'{config['processed_dir']}/ISSUEVOIDFW.txt', 'w') as f:\n",
    "    for index, check in check_df.iterrows():\n",
    "        if check[\"Void\"]:\n",
    "            action = \"V\"\n",
    "        else:\n",
    "            action = \"I\"\n",
    "        check_str = f'{account_number}{check[\"Check #\"]:0>10}{check[\"Amount\"]:11.2f}{check[\"Date\"].month:02d}{check[\"Date\"].day:02d}{check[\"Date\"].year}{\" \":<15}{check[\"Payee\"]:<50}{\" \":<50}{action}'\n",
    "        f.write(check_str + '\\n')"
   ],
   "metadata": {
    "collapsed": false,
    "ExecuteTime": {
     "end_time": "2023-12-29T01:24:15.273852500Z",
     "start_time": "2023-12-29T01:24:15.257466400Z"
    }
   },
   "id": "9f29cfa36e87be04"
  },
  {
   "cell_type": "markdown",
   "source": [
    "---\n",
    "## Sample Code"
   ],
   "metadata": {
    "collapsed": false
   },
   "id": "701b0bce99751760"
  },
  {
   "cell_type": "code",
   "execution_count": 17,
   "outputs": [],
   "source": [
    "data1 = {'Code': [1, 2, 3],\n",
    "         'Name': ['Company1', 'Company2', 'Company3'],\n",
    "         'Value': [200, 300, 400], \n",
    "         'Extra Value': [17, 18, 19]\n",
    "    }\n",
    "df1 = pd.DataFrame(data1) #, columns= ['Code','Name','Value'])\n",
    "\n",
    "data2 = {\n",
    "         'Code': [2],\n",
    "         'Name': ['Company2'],\n",
    "         'Value': [1000],\n",
    "    }\n",
    "\n",
    "df2 = pd.DataFrame(data2) #, columns= ['Code','Name','Value'])"
   ],
   "metadata": {
    "collapsed": false,
    "ExecuteTime": {
     "end_time": "2023-12-24T18:13:48.059631800Z",
     "start_time": "2023-12-24T18:13:48.044003800Z"
    }
   },
   "id": "9806f3ee13a7b65d"
  },
  {
   "cell_type": "code",
   "execution_count": 19,
   "outputs": [
    {
     "data": {
      "text/plain": "   Code      Name  Value  Extra Value  Name_new  Value_new\n0     1  Company1    200           17       NaN        NaN\n1     2  Company2    300           18  Company2     1000.0\n2     3  Company3    400           19       NaN        NaN",
      "text/html": "<div>\n<style scoped>\n    .dataframe tbody tr th:only-of-type {\n        vertical-align: middle;\n    }\n\n    .dataframe tbody tr th {\n        vertical-align: top;\n    }\n\n    .dataframe thead th {\n        text-align: right;\n    }\n</style>\n<table border=\"1\" class=\"dataframe\">\n  <thead>\n    <tr style=\"text-align: right;\">\n      <th></th>\n      <th>Code</th>\n      <th>Name</th>\n      <th>Value</th>\n      <th>Extra Value</th>\n      <th>Name_new</th>\n      <th>Value_new</th>\n    </tr>\n  </thead>\n  <tbody>\n    <tr>\n      <th>0</th>\n      <td>1</td>\n      <td>Company1</td>\n      <td>200</td>\n      <td>17</td>\n      <td>NaN</td>\n      <td>NaN</td>\n    </tr>\n    <tr>\n      <th>1</th>\n      <td>2</td>\n      <td>Company2</td>\n      <td>300</td>\n      <td>18</td>\n      <td>Company2</td>\n      <td>1000.0</td>\n    </tr>\n    <tr>\n      <th>2</th>\n      <td>3</td>\n      <td>Company3</td>\n      <td>400</td>\n      <td>19</td>\n      <td>NaN</td>\n      <td>NaN</td>\n    </tr>\n  </tbody>\n</table>\n</div>"
     },
     "execution_count": 19,
     "metadata": {},
     "output_type": "execute_result"
    }
   ],
   "source": [
    "updated = df1.merge(df2, how='left', on='Code', suffixes=['', '_new'])\n",
    "updated"
   ],
   "metadata": {
    "collapsed": false,
    "ExecuteTime": {
     "end_time": "2023-12-24T18:14:55.244210Z",
     "start_time": "2023-12-24T18:14:55.220251200Z"
    }
   },
   "id": "403ed3359e39488e"
  },
  {
   "cell_type": "code",
   "execution_count": 24,
   "outputs": [],
   "source": [
    "updated['Value'] = np.where(pd.notnull(updated['Value_new']), updated['Value_new'], updated['Value'])"
   ],
   "metadata": {
    "collapsed": false,
    "ExecuteTime": {
     "end_time": "2023-12-24T18:18:45.671068800Z",
     "start_time": "2023-12-24T18:18:45.668061300Z"
    }
   },
   "id": "8aa37afec8606"
  },
  {
   "cell_type": "code",
   "execution_count": 25,
   "outputs": [
    {
     "data": {
      "text/plain": "   Code      Name   Value  Extra Value  Name_new  Value_new\n0     1  Company1   200.0           17       NaN        NaN\n1     2  Company2  1000.0           18  Company2     1000.0\n2     3  Company3   400.0           19       NaN        NaN",
      "text/html": "<div>\n<style scoped>\n    .dataframe tbody tr th:only-of-type {\n        vertical-align: middle;\n    }\n\n    .dataframe tbody tr th {\n        vertical-align: top;\n    }\n\n    .dataframe thead th {\n        text-align: right;\n    }\n</style>\n<table border=\"1\" class=\"dataframe\">\n  <thead>\n    <tr style=\"text-align: right;\">\n      <th></th>\n      <th>Code</th>\n      <th>Name</th>\n      <th>Value</th>\n      <th>Extra Value</th>\n      <th>Name_new</th>\n      <th>Value_new</th>\n    </tr>\n  </thead>\n  <tbody>\n    <tr>\n      <th>0</th>\n      <td>1</td>\n      <td>Company1</td>\n      <td>200.0</td>\n      <td>17</td>\n      <td>NaN</td>\n      <td>NaN</td>\n    </tr>\n    <tr>\n      <th>1</th>\n      <td>2</td>\n      <td>Company2</td>\n      <td>1000.0</td>\n      <td>18</td>\n      <td>Company2</td>\n      <td>1000.0</td>\n    </tr>\n    <tr>\n      <th>2</th>\n      <td>3</td>\n      <td>Company3</td>\n      <td>400.0</td>\n      <td>19</td>\n      <td>NaN</td>\n      <td>NaN</td>\n    </tr>\n  </tbody>\n</table>\n</div>"
     },
     "execution_count": 25,
     "metadata": {},
     "output_type": "execute_result"
    }
   ],
   "source": [
    "updated"
   ],
   "metadata": {
    "collapsed": false,
    "ExecuteTime": {
     "end_time": "2023-12-24T18:18:52.705476600Z",
     "start_time": "2023-12-24T18:18:52.688236Z"
    }
   },
   "id": "8f0a471fb18a3c19"
  },
  {
   "cell_type": "code",
   "execution_count": 16,
   "outputs": [
    {
     "data": {
      "text/plain": "Index([1, 2, 3], dtype='int64', name='Code')"
     },
     "execution_count": 16,
     "metadata": {},
     "output_type": "execute_result"
    }
   ],
   "source": [
    "df1.index"
   ],
   "metadata": {
    "collapsed": false,
    "ExecuteTime": {
     "end_time": "2023-12-24T18:11:38.658014Z",
     "start_time": "2023-12-24T18:11:38.642096500Z"
    }
   },
   "id": "b2cf424ef8497a8b"
  },
  {
   "cell_type": "code",
   "execution_count": null,
   "outputs": [],
   "source": [],
   "metadata": {
    "collapsed": false
   },
   "id": "5e78b033897fd01c"
  }
 ],
 "metadata": {
  "kernelspec": {
   "display_name": "Python 3",
   "language": "python",
   "name": "python3"
  },
  "language_info": {
   "codemirror_mode": {
    "name": "ipython",
    "version": 2
   },
   "file_extension": ".py",
   "mimetype": "text/x-python",
   "name": "python",
   "nbconvert_exporter": "python",
   "pygments_lexer": "ipython2",
   "version": "2.7.6"
  }
 },
 "nbformat": 4,
 "nbformat_minor": 5
}
