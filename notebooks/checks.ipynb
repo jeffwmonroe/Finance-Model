{
 "cells": [
  {
   "cell_type": "code",
   "execution_count": null,
   "id": "initial_id",
   "metadata": {
    "collapsed": true,
    "ExecuteTime": {
     "end_time": "2023-12-23T22:27:30.321165900Z",
     "start_time": "2023-12-23T22:27:30.320158Z"
    }
   },
   "outputs": [],
   "source": [
    "\n"
   ]
  },
  {
   "cell_type": "code",
   "execution_count": 2,
   "outputs": [],
   "source": [
    "import pandas as pd\n",
    "from config import config"
   ],
   "metadata": {
    "collapsed": false,
    "ExecuteTime": {
     "end_time": "2023-12-23T23:24:48.320493200Z",
     "start_time": "2023-12-23T23:24:48.309219400Z"
    }
   },
   "id": "330366533c728b3f"
  },
  {
   "cell_type": "code",
   "execution_count": 3,
   "outputs": [
    {
     "name": "stdout",
     "output_type": "stream",
     "text": [
      "Check #                 object\n",
      "Date            datetime64[ns]\n",
      "Payee                   object\n",
      "Cash Account            object\n",
      "Amount                 float64\n",
      "dtype: object\n"
     ]
    }
   ],
   "source": [
    "peachtree_df = pd.ExcelFile(config['peach_tree_checks'])\n",
    "\n",
    "peachtree_df = pd.read_excel(peachtree_df, dtype={\"Check #\": str,\n",
    "                                                  \"Cash Account\": str})\n",
    "peachtree_df = peachtree_df.iloc[:len(peachtree_df) - 2, :]\n",
    "print(peachtree_df.dtypes)"
   ],
   "metadata": {
    "collapsed": false,
    "ExecuteTime": {
     "end_time": "2023-12-23T23:24:50.091391400Z",
     "start_time": "2023-12-23T23:24:49.953711500Z"
    }
   },
   "id": "c11142215a2e9c9d"
  },
  {
   "cell_type": "code",
   "execution_count": 19,
   "outputs": [],
   "source": [
    "void_mask = peachtree_df[\"Check #\"].str.endswith(\"V\")\n",
    "check_no = peachtree_df.loc[void_mask, \"Check #\"].str.rstrip(\"V\")\n",
    "\n",
    "\n",
    "void_df = pd.DataFrame({'Check #': peachtree_df.loc[void_mask, \"Check #\"].str.rstrip(\"V\"),\n",
    "                        'Void': True,\n",
    "                        'Void Date': peachtree_df.loc[void_mask, \"Date\"]\n",
    "                        })\n",
    "merged_df = pd.merge(peachtree_df, void_df, how='left')\n",
    "merged_df.loc[merged_df['Void'].isna(), 'Void'] = False\n",
    "# peachtree_df['void'] = False\n",
    "# peachtree_df['void'][a] = True\n",
    "# voided = peachtree_df[a]\n",
    "# voided[\"Void Check\"] = voided[\"Check #\"]\n",
    "# \n",
    "\n",
    "# voided[\"voided\"] = voided[\"Check #\"].str.rstrip(\"V\")\n",
    "#voided.loc[:, \"Check #\"] = check_no"
   ],
   "metadata": {
    "collapsed": false,
    "ExecuteTime": {
     "end_time": "2023-12-23T23:51:23.368208500Z",
     "start_time": "2023-12-23T23:51:23.358270200Z"
    }
   },
   "id": "2d60363a5bfb395c"
  },
  {
   "cell_type": "code",
   "execution_count": 20,
   "outputs": [
    {
     "data": {
      "text/plain": "                  Check #       Date                    Payee Cash Account  \\\n0                  12580V 2023-10-09        The Shipley Group        11040   \n1                   12583 2023-10-09  3460 Rockefeller CT LLC        11040   \n2                   12584 2023-10-09               AECOM Inc.        11040   \n3                   12585 2023-10-09             Balancelogic        11040   \n4                   12586 2023-10-09             John V. Bean        11040   \n..                    ...        ...                      ...          ...   \n144                12696V 2023-12-15         American Express        11040   \n145  ON LINE PAY 12/22.23 2023-12-22         American Express        11040   \n146  ON LINE PAY 12/23/23 2023-12-22         American Express        11040   \n147  ON LINE PAY 12/23/24 2023-12-22                     VOID        11040   \n148  ON LINE PAY 12/23/25 2023-12-22                     VOID        11040   \n\n       Amount   Void Void Date  \n0   -15000.00  False       NaT  \n1    11000.00  False       NaT  \n2    82791.91  False       NaT  \n3      390.00  False       NaT  \n4       14.00  False       NaT  \n..        ...    ...       ...  \n144 -31594.90  False       NaT  \n145  16751.58  False       NaT  \n146  14843.32  False       NaT  \n147       NaN  False       NaT  \n148       NaN  False       NaT  \n\n[149 rows x 7 columns]",
      "text/html": "<div>\n<style scoped>\n    .dataframe tbody tr th:only-of-type {\n        vertical-align: middle;\n    }\n\n    .dataframe tbody tr th {\n        vertical-align: top;\n    }\n\n    .dataframe thead th {\n        text-align: right;\n    }\n</style>\n<table border=\"1\" class=\"dataframe\">\n  <thead>\n    <tr style=\"text-align: right;\">\n      <th></th>\n      <th>Check #</th>\n      <th>Date</th>\n      <th>Payee</th>\n      <th>Cash Account</th>\n      <th>Amount</th>\n      <th>Void</th>\n      <th>Void Date</th>\n    </tr>\n  </thead>\n  <tbody>\n    <tr>\n      <th>0</th>\n      <td>12580V</td>\n      <td>2023-10-09</td>\n      <td>The Shipley Group</td>\n      <td>11040</td>\n      <td>-15000.00</td>\n      <td>False</td>\n      <td>NaT</td>\n    </tr>\n    <tr>\n      <th>1</th>\n      <td>12583</td>\n      <td>2023-10-09</td>\n      <td>3460 Rockefeller CT LLC</td>\n      <td>11040</td>\n      <td>11000.00</td>\n      <td>False</td>\n      <td>NaT</td>\n    </tr>\n    <tr>\n      <th>2</th>\n      <td>12584</td>\n      <td>2023-10-09</td>\n      <td>AECOM Inc.</td>\n      <td>11040</td>\n      <td>82791.91</td>\n      <td>False</td>\n      <td>NaT</td>\n    </tr>\n    <tr>\n      <th>3</th>\n      <td>12585</td>\n      <td>2023-10-09</td>\n      <td>Balancelogic</td>\n      <td>11040</td>\n      <td>390.00</td>\n      <td>False</td>\n      <td>NaT</td>\n    </tr>\n    <tr>\n      <th>4</th>\n      <td>12586</td>\n      <td>2023-10-09</td>\n      <td>John V. Bean</td>\n      <td>11040</td>\n      <td>14.00</td>\n      <td>False</td>\n      <td>NaT</td>\n    </tr>\n    <tr>\n      <th>...</th>\n      <td>...</td>\n      <td>...</td>\n      <td>...</td>\n      <td>...</td>\n      <td>...</td>\n      <td>...</td>\n      <td>...</td>\n    </tr>\n    <tr>\n      <th>144</th>\n      <td>12696V</td>\n      <td>2023-12-15</td>\n      <td>American Express</td>\n      <td>11040</td>\n      <td>-31594.90</td>\n      <td>False</td>\n      <td>NaT</td>\n    </tr>\n    <tr>\n      <th>145</th>\n      <td>ON LINE PAY 12/22.23</td>\n      <td>2023-12-22</td>\n      <td>American Express</td>\n      <td>11040</td>\n      <td>16751.58</td>\n      <td>False</td>\n      <td>NaT</td>\n    </tr>\n    <tr>\n      <th>146</th>\n      <td>ON LINE PAY 12/23/23</td>\n      <td>2023-12-22</td>\n      <td>American Express</td>\n      <td>11040</td>\n      <td>14843.32</td>\n      <td>False</td>\n      <td>NaT</td>\n    </tr>\n    <tr>\n      <th>147</th>\n      <td>ON LINE PAY 12/23/24</td>\n      <td>2023-12-22</td>\n      <td>VOID</td>\n      <td>11040</td>\n      <td>NaN</td>\n      <td>False</td>\n      <td>NaT</td>\n    </tr>\n    <tr>\n      <th>148</th>\n      <td>ON LINE PAY 12/23/25</td>\n      <td>2023-12-22</td>\n      <td>VOID</td>\n      <td>11040</td>\n      <td>NaN</td>\n      <td>False</td>\n      <td>NaT</td>\n    </tr>\n  </tbody>\n</table>\n<p>149 rows × 7 columns</p>\n</div>"
     },
     "execution_count": 20,
     "metadata": {},
     "output_type": "execute_result"
    }
   ],
   "source": [
    "merged_df"
   ],
   "metadata": {
    "collapsed": false,
    "ExecuteTime": {
     "end_time": "2023-12-23T23:51:25.220734900Z",
     "start_time": "2023-12-23T23:51:25.205958500Z"
    }
   },
   "id": "6d7350036843ee32"
  },
  {
   "cell_type": "code",
   "execution_count": 21,
   "outputs": [
    {
     "data": {
      "text/plain": "Check #                 object\nDate            datetime64[ns]\nPayee                   object\nCash Account            object\nAmount                 float64\nVoid                    object\nVoid Date       datetime64[ns]\ndtype: object"
     },
     "execution_count": 21,
     "metadata": {},
     "output_type": "execute_result"
    }
   ],
   "source": [
    "merged_df.dtypes\n"
   ],
   "metadata": {
    "collapsed": false,
    "ExecuteTime": {
     "end_time": "2023-12-23T23:51:49.129926300Z",
     "start_time": "2023-12-23T23:51:49.066952400Z"
    }
   },
   "id": "9f29cfa36e87be04"
  },
  {
   "cell_type": "code",
   "execution_count": 6,
   "outputs": [
    {
     "data": {
      "text/plain": "    Check #  Void\n0     12580  True\n67    12647  True\n71    12618  True\n72    12620  True\n73    12621  True\n74    12622  True\n75    12623  True\n76    12625  True\n77    12627  True\n144   12696  True",
      "text/html": "<div>\n<style scoped>\n    .dataframe tbody tr th:only-of-type {\n        vertical-align: middle;\n    }\n\n    .dataframe tbody tr th {\n        vertical-align: top;\n    }\n\n    .dataframe thead th {\n        text-align: right;\n    }\n</style>\n<table border=\"1\" class=\"dataframe\">\n  <thead>\n    <tr style=\"text-align: right;\">\n      <th></th>\n      <th>Check #</th>\n      <th>Void</th>\n    </tr>\n  </thead>\n  <tbody>\n    <tr>\n      <th>0</th>\n      <td>12580</td>\n      <td>True</td>\n    </tr>\n    <tr>\n      <th>67</th>\n      <td>12647</td>\n      <td>True</td>\n    </tr>\n    <tr>\n      <th>71</th>\n      <td>12618</td>\n      <td>True</td>\n    </tr>\n    <tr>\n      <th>72</th>\n      <td>12620</td>\n      <td>True</td>\n    </tr>\n    <tr>\n      <th>73</th>\n      <td>12621</td>\n      <td>True</td>\n    </tr>\n    <tr>\n      <th>74</th>\n      <td>12622</td>\n      <td>True</td>\n    </tr>\n    <tr>\n      <th>75</th>\n      <td>12623</td>\n      <td>True</td>\n    </tr>\n    <tr>\n      <th>76</th>\n      <td>12625</td>\n      <td>True</td>\n    </tr>\n    <tr>\n      <th>77</th>\n      <td>12627</td>\n      <td>True</td>\n    </tr>\n    <tr>\n      <th>144</th>\n      <td>12696</td>\n      <td>True</td>\n    </tr>\n  </tbody>\n</table>\n</div>"
     },
     "execution_count": 6,
     "metadata": {},
     "output_type": "execute_result"
    }
   ],
   "source": [
    "void_df"
   ],
   "metadata": {
    "collapsed": false,
    "ExecuteTime": {
     "end_time": "2023-12-23T23:25:09.140595700Z",
     "start_time": "2023-12-23T23:25:09.111113500Z"
    }
   },
   "id": "db58cdb8046fdff9"
  },
  {
   "cell_type": "code",
   "execution_count": 36,
   "outputs": [
    {
     "data": {
      "text/plain": "                  Check #       Date                    Payee Cash Account  \\\n0                  12580V 2023-10-09        The Shipley Group        11040   \n1                   12583 2023-10-09  3460 Rockefeller CT LLC        11040   \n2                   12584 2023-10-09               AECOM Inc.        11040   \n3                   12585 2023-10-09             Balancelogic        11040   \n4                   12586 2023-10-09             John V. Bean        11040   \n..                    ...        ...                      ...          ...   \n144                12696V 2023-12-15         American Express        11040   \n145  ON LINE PAY 12/22.23 2023-12-22         American Express        11040   \n146  ON LINE PAY 12/23/23 2023-12-22         American Express        11040   \n147  ON LINE PAY 12/23/24 2023-12-22                     VOID        11040   \n148  ON LINE PAY 12/23/25 2023-12-22                     VOID        11040   \n\n       Amount  void  \n0   -15000.00  None  \n1    11000.00  None  \n2    82791.91  None  \n3      390.00  None  \n4       14.00  None  \n..        ...   ...  \n144 -31594.90  None  \n145  16751.58  None  \n146  14843.32  None  \n147       NaN  None  \n148       NaN  None  \n\n[149 rows x 6 columns]",
      "text/html": "<div>\n<style scoped>\n    .dataframe tbody tr th:only-of-type {\n        vertical-align: middle;\n    }\n\n    .dataframe tbody tr th {\n        vertical-align: top;\n    }\n\n    .dataframe thead th {\n        text-align: right;\n    }\n</style>\n<table border=\"1\" class=\"dataframe\">\n  <thead>\n    <tr style=\"text-align: right;\">\n      <th></th>\n      <th>Check #</th>\n      <th>Date</th>\n      <th>Payee</th>\n      <th>Cash Account</th>\n      <th>Amount</th>\n      <th>void</th>\n    </tr>\n  </thead>\n  <tbody>\n    <tr>\n      <th>0</th>\n      <td>12580V</td>\n      <td>2023-10-09</td>\n      <td>The Shipley Group</td>\n      <td>11040</td>\n      <td>-15000.00</td>\n      <td>None</td>\n    </tr>\n    <tr>\n      <th>1</th>\n      <td>12583</td>\n      <td>2023-10-09</td>\n      <td>3460 Rockefeller CT LLC</td>\n      <td>11040</td>\n      <td>11000.00</td>\n      <td>None</td>\n    </tr>\n    <tr>\n      <th>2</th>\n      <td>12584</td>\n      <td>2023-10-09</td>\n      <td>AECOM Inc.</td>\n      <td>11040</td>\n      <td>82791.91</td>\n      <td>None</td>\n    </tr>\n    <tr>\n      <th>3</th>\n      <td>12585</td>\n      <td>2023-10-09</td>\n      <td>Balancelogic</td>\n      <td>11040</td>\n      <td>390.00</td>\n      <td>None</td>\n    </tr>\n    <tr>\n      <th>4</th>\n      <td>12586</td>\n      <td>2023-10-09</td>\n      <td>John V. Bean</td>\n      <td>11040</td>\n      <td>14.00</td>\n      <td>None</td>\n    </tr>\n    <tr>\n      <th>...</th>\n      <td>...</td>\n      <td>...</td>\n      <td>...</td>\n      <td>...</td>\n      <td>...</td>\n      <td>...</td>\n    </tr>\n    <tr>\n      <th>144</th>\n      <td>12696V</td>\n      <td>2023-12-15</td>\n      <td>American Express</td>\n      <td>11040</td>\n      <td>-31594.90</td>\n      <td>None</td>\n    </tr>\n    <tr>\n      <th>145</th>\n      <td>ON LINE PAY 12/22.23</td>\n      <td>2023-12-22</td>\n      <td>American Express</td>\n      <td>11040</td>\n      <td>16751.58</td>\n      <td>None</td>\n    </tr>\n    <tr>\n      <th>146</th>\n      <td>ON LINE PAY 12/23/23</td>\n      <td>2023-12-22</td>\n      <td>American Express</td>\n      <td>11040</td>\n      <td>14843.32</td>\n      <td>None</td>\n    </tr>\n    <tr>\n      <th>147</th>\n      <td>ON LINE PAY 12/23/24</td>\n      <td>2023-12-22</td>\n      <td>VOID</td>\n      <td>11040</td>\n      <td>NaN</td>\n      <td>None</td>\n    </tr>\n    <tr>\n      <th>148</th>\n      <td>ON LINE PAY 12/23/25</td>\n      <td>2023-12-22</td>\n      <td>VOID</td>\n      <td>11040</td>\n      <td>NaN</td>\n      <td>None</td>\n    </tr>\n  </tbody>\n</table>\n<p>149 rows × 6 columns</p>\n</div>"
     },
     "execution_count": 36,
     "metadata": {},
     "output_type": "execute_result"
    }
   ],
   "source": [
    "peachtree_df"
   ],
   "metadata": {
    "collapsed": false,
    "ExecuteTime": {
     "end_time": "2023-12-23T17:06:04.698133300Z",
     "start_time": "2023-12-23T17:06:04.686869800Z"
    }
   },
   "id": "9806f3ee13a7b65d"
  },
  {
   "cell_type": "code",
   "execution_count": 5,
   "outputs": [
    {
     "data": {
      "text/plain": "Check #                 object\nDate            datetime64[ns]\nPayee                   object\nCash Account            object\nAmount                 float64\nvoid                      bool\ndtype: object"
     },
     "execution_count": 5,
     "metadata": {},
     "output_type": "execute_result"
    }
   ],
   "source": [
    "peachtree_df.dtypes"
   ],
   "metadata": {
    "collapsed": false,
    "ExecuteTime": {
     "end_time": "2023-12-23T22:34:03.840548100Z",
     "start_time": "2023-12-23T22:34:03.828056900Z"
    }
   },
   "id": "403ed3359e39488e"
  },
  {
   "cell_type": "code",
   "execution_count": null,
   "outputs": [],
   "source": [],
   "metadata": {
    "collapsed": false
   },
   "id": "8aa37afec8606"
  }
 ],
 "metadata": {
  "kernelspec": {
   "display_name": "Python 3",
   "language": "python",
   "name": "python3"
  },
  "language_info": {
   "codemirror_mode": {
    "name": "ipython",
    "version": 2
   },
   "file_extension": ".py",
   "mimetype": "text/x-python",
   "name": "python",
   "nbconvert_exporter": "python",
   "pygments_lexer": "ipython2",
   "version": "2.7.6"
  }
 },
 "nbformat": 4,
 "nbformat_minor": 5
}
