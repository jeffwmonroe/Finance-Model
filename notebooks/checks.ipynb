{
 "cells": [
  {
   "cell_type": "code",
   "execution_count": null,
   "id": "initial_id",
   "metadata": {
    "collapsed": true,
    "ExecuteTime": {
     "end_time": "2023-12-23T22:27:30.321165900Z",
     "start_time": "2023-12-23T22:27:30.320158Z"
    }
   },
   "outputs": [],
   "source": [
    "\n"
   ]
  },
  {
   "cell_type": "code",
   "execution_count": 21,
   "outputs": [],
   "source": [
    "import pandas as pd\n",
    "import numpy as np\n",
    "from config import config"
   ],
   "metadata": {
    "collapsed": false,
    "ExecuteTime": {
     "end_time": "2023-12-24T18:17:01.802259400Z",
     "start_time": "2023-12-24T18:17:01.789251800Z"
    }
   },
   "id": "330366533c728b3f"
  },
  {
   "cell_type": "code",
   "execution_count": 3,
   "outputs": [
    {
     "name": "stdout",
     "output_type": "stream",
     "text": [
      "Check #                 object\n",
      "Date            datetime64[ns]\n",
      "Payee                   object\n",
      "Cash Account            object\n",
      "Amount                 float64\n",
      "dtype: object\n"
     ]
    }
   ],
   "source": [
    "peachtree_df = pd.ExcelFile(config['peach_tree_checks'])\n",
    "\n",
    "peachtree_df = pd.read_excel(peachtree_df, dtype={\"Check #\": str,\n",
    "                                                  \"Cash Account\": str})\n",
    "peachtree_df = peachtree_df.iloc[:len(peachtree_df) - 2, :]\n",
    "print(peachtree_df.dtypes)"
   ],
   "metadata": {
    "collapsed": false,
    "ExecuteTime": {
     "end_time": "2023-12-23T23:24:50.091391400Z",
     "start_time": "2023-12-23T23:24:49.953711500Z"
    }
   },
   "id": "c11142215a2e9c9d"
  },
  {
   "cell_type": "code",
   "execution_count": 19,
   "outputs": [],
   "source": [
    "void_mask = peachtree_df[\"Check #\"].str.endswith(\"V\")\n",
    "check_no = peachtree_df.loc[void_mask, \"Check #\"].str.rstrip(\"V\")\n",
    "\n",
    "\n",
    "void_df = pd.DataFrame({'Check #': peachtree_df.loc[void_mask, \"Check #\"].str.rstrip(\"V\"),\n",
    "                        'Void': True,\n",
    "                        'Void Date': peachtree_df.loc[void_mask, \"Date\"]\n",
    "                        })\n",
    "merged_df = pd.merge(peachtree_df, void_df, how='left')\n",
    "merged_df.loc[merged_df['Void'].isna(), 'Void'] = False\n",
    "\n",
    "# peachtree_df['void'] = False\n",
    "# peachtree_df['void'][a] = True\n",
    "# voided = peachtree_df[a]\n",
    "# voided[\"Void Check\"] = voided[\"Check #\"]\n",
    "# \n",
    "\n",
    "# voided[\"voided\"] = voided[\"Check #\"].str.rstrip(\"V\")\n",
    "#voided.loc[:, \"Check #\"] = check_no"
   ],
   "metadata": {
    "collapsed": false,
    "ExecuteTime": {
     "end_time": "2023-12-23T23:51:23.368208500Z",
     "start_time": "2023-12-23T23:51:23.358270200Z"
    }
   },
   "id": "2d60363a5bfb395c"
  },
  {
   "cell_type": "code",
   "execution_count": 20,
   "outputs": [
    {
     "data": {
      "text/plain": "                  Check #       Date                    Payee Cash Account  \\\n0                  12580V 2023-10-09        The Shipley Group        11040   \n1                   12583 2023-10-09  3460 Rockefeller CT LLC        11040   \n2                   12584 2023-10-09               AECOM Inc.        11040   \n3                   12585 2023-10-09             Balancelogic        11040   \n4                   12586 2023-10-09             John V. Bean        11040   \n..                    ...        ...                      ...          ...   \n144                12696V 2023-12-15         American Express        11040   \n145  ON LINE PAY 12/22.23 2023-12-22         American Express        11040   \n146  ON LINE PAY 12/23/23 2023-12-22         American Express        11040   \n147  ON LINE PAY 12/23/24 2023-12-22                     VOID        11040   \n148  ON LINE PAY 12/23/25 2023-12-22                     VOID        11040   \n\n       Amount   Void Void Date  \n0   -15000.00  False       NaT  \n1    11000.00  False       NaT  \n2    82791.91  False       NaT  \n3      390.00  False       NaT  \n4       14.00  False       NaT  \n..        ...    ...       ...  \n144 -31594.90  False       NaT  \n145  16751.58  False       NaT  \n146  14843.32  False       NaT  \n147       NaN  False       NaT  \n148       NaN  False       NaT  \n\n[149 rows x 7 columns]",
      "text/html": "<div>\n<style scoped>\n    .dataframe tbody tr th:only-of-type {\n        vertical-align: middle;\n    }\n\n    .dataframe tbody tr th {\n        vertical-align: top;\n    }\n\n    .dataframe thead th {\n        text-align: right;\n    }\n</style>\n<table border=\"1\" class=\"dataframe\">\n  <thead>\n    <tr style=\"text-align: right;\">\n      <th></th>\n      <th>Check #</th>\n      <th>Date</th>\n      <th>Payee</th>\n      <th>Cash Account</th>\n      <th>Amount</th>\n      <th>Void</th>\n      <th>Void Date</th>\n    </tr>\n  </thead>\n  <tbody>\n    <tr>\n      <th>0</th>\n      <td>12580V</td>\n      <td>2023-10-09</td>\n      <td>The Shipley Group</td>\n      <td>11040</td>\n      <td>-15000.00</td>\n      <td>False</td>\n      <td>NaT</td>\n    </tr>\n    <tr>\n      <th>1</th>\n      <td>12583</td>\n      <td>2023-10-09</td>\n      <td>3460 Rockefeller CT LLC</td>\n      <td>11040</td>\n      <td>11000.00</td>\n      <td>False</td>\n      <td>NaT</td>\n    </tr>\n    <tr>\n      <th>2</th>\n      <td>12584</td>\n      <td>2023-10-09</td>\n      <td>AECOM Inc.</td>\n      <td>11040</td>\n      <td>82791.91</td>\n      <td>False</td>\n      <td>NaT</td>\n    </tr>\n    <tr>\n      <th>3</th>\n      <td>12585</td>\n      <td>2023-10-09</td>\n      <td>Balancelogic</td>\n      <td>11040</td>\n      <td>390.00</td>\n      <td>False</td>\n      <td>NaT</td>\n    </tr>\n    <tr>\n      <th>4</th>\n      <td>12586</td>\n      <td>2023-10-09</td>\n      <td>John V. Bean</td>\n      <td>11040</td>\n      <td>14.00</td>\n      <td>False</td>\n      <td>NaT</td>\n    </tr>\n    <tr>\n      <th>...</th>\n      <td>...</td>\n      <td>...</td>\n      <td>...</td>\n      <td>...</td>\n      <td>...</td>\n      <td>...</td>\n      <td>...</td>\n    </tr>\n    <tr>\n      <th>144</th>\n      <td>12696V</td>\n      <td>2023-12-15</td>\n      <td>American Express</td>\n      <td>11040</td>\n      <td>-31594.90</td>\n      <td>False</td>\n      <td>NaT</td>\n    </tr>\n    <tr>\n      <th>145</th>\n      <td>ON LINE PAY 12/22.23</td>\n      <td>2023-12-22</td>\n      <td>American Express</td>\n      <td>11040</td>\n      <td>16751.58</td>\n      <td>False</td>\n      <td>NaT</td>\n    </tr>\n    <tr>\n      <th>146</th>\n      <td>ON LINE PAY 12/23/23</td>\n      <td>2023-12-22</td>\n      <td>American Express</td>\n      <td>11040</td>\n      <td>14843.32</td>\n      <td>False</td>\n      <td>NaT</td>\n    </tr>\n    <tr>\n      <th>147</th>\n      <td>ON LINE PAY 12/23/24</td>\n      <td>2023-12-22</td>\n      <td>VOID</td>\n      <td>11040</td>\n      <td>NaN</td>\n      <td>False</td>\n      <td>NaT</td>\n    </tr>\n    <tr>\n      <th>148</th>\n      <td>ON LINE PAY 12/23/25</td>\n      <td>2023-12-22</td>\n      <td>VOID</td>\n      <td>11040</td>\n      <td>NaN</td>\n      <td>False</td>\n      <td>NaT</td>\n    </tr>\n  </tbody>\n</table>\n<p>149 rows × 7 columns</p>\n</div>"
     },
     "execution_count": 20,
     "metadata": {},
     "output_type": "execute_result"
    }
   ],
   "source": [
    "merged_df"
   ],
   "metadata": {
    "collapsed": false,
    "ExecuteTime": {
     "end_time": "2023-12-23T23:51:25.220734900Z",
     "start_time": "2023-12-23T23:51:25.205958500Z"
    }
   },
   "id": "6d7350036843ee32"
  },
  {
   "cell_type": "code",
   "execution_count": 21,
   "outputs": [
    {
     "data": {
      "text/plain": "Check #                 object\nDate            datetime64[ns]\nPayee                   object\nCash Account            object\nAmount                 float64\nVoid                    object\nVoid Date       datetime64[ns]\ndtype: object"
     },
     "execution_count": 21,
     "metadata": {},
     "output_type": "execute_result"
    }
   ],
   "source": [
    "merged_df.dtypes\n"
   ],
   "metadata": {
    "collapsed": false,
    "ExecuteTime": {
     "end_time": "2023-12-23T23:51:49.129926300Z",
     "start_time": "2023-12-23T23:51:49.066952400Z"
    }
   },
   "id": "9f29cfa36e87be04"
  },
  {
   "cell_type": "markdown",
   "source": [
    "---\n",
    "## Sample Code"
   ],
   "metadata": {
    "collapsed": false
   },
   "id": "701b0bce99751760"
  },
  {
   "cell_type": "code",
   "execution_count": 17,
   "outputs": [],
   "source": [
    "data1 = {'Code': [1, 2, 3],\n",
    "         'Name': ['Company1', 'Company2', 'Company3'],\n",
    "         'Value': [200, 300, 400], \n",
    "         'Extra Value': [17, 18, 19]\n",
    "    }\n",
    "df1 = pd.DataFrame(data1) #, columns= ['Code','Name','Value'])\n",
    "\n",
    "data2 = {\n",
    "         'Code': [2],\n",
    "         'Name': ['Company2'],\n",
    "         'Value': [1000],\n",
    "    }\n",
    "\n",
    "df2 = pd.DataFrame(data2) #, columns= ['Code','Name','Value'])"
   ],
   "metadata": {
    "collapsed": false,
    "ExecuteTime": {
     "end_time": "2023-12-24T18:13:48.059631800Z",
     "start_time": "2023-12-24T18:13:48.044003800Z"
    }
   },
   "id": "9806f3ee13a7b65d"
  },
  {
   "cell_type": "code",
   "execution_count": 19,
   "outputs": [
    {
     "data": {
      "text/plain": "   Code      Name  Value  Extra Value  Name_new  Value_new\n0     1  Company1    200           17       NaN        NaN\n1     2  Company2    300           18  Company2     1000.0\n2     3  Company3    400           19       NaN        NaN",
      "text/html": "<div>\n<style scoped>\n    .dataframe tbody tr th:only-of-type {\n        vertical-align: middle;\n    }\n\n    .dataframe tbody tr th {\n        vertical-align: top;\n    }\n\n    .dataframe thead th {\n        text-align: right;\n    }\n</style>\n<table border=\"1\" class=\"dataframe\">\n  <thead>\n    <tr style=\"text-align: right;\">\n      <th></th>\n      <th>Code</th>\n      <th>Name</th>\n      <th>Value</th>\n      <th>Extra Value</th>\n      <th>Name_new</th>\n      <th>Value_new</th>\n    </tr>\n  </thead>\n  <tbody>\n    <tr>\n      <th>0</th>\n      <td>1</td>\n      <td>Company1</td>\n      <td>200</td>\n      <td>17</td>\n      <td>NaN</td>\n      <td>NaN</td>\n    </tr>\n    <tr>\n      <th>1</th>\n      <td>2</td>\n      <td>Company2</td>\n      <td>300</td>\n      <td>18</td>\n      <td>Company2</td>\n      <td>1000.0</td>\n    </tr>\n    <tr>\n      <th>2</th>\n      <td>3</td>\n      <td>Company3</td>\n      <td>400</td>\n      <td>19</td>\n      <td>NaN</td>\n      <td>NaN</td>\n    </tr>\n  </tbody>\n</table>\n</div>"
     },
     "execution_count": 19,
     "metadata": {},
     "output_type": "execute_result"
    }
   ],
   "source": [
    "updated = df1.merge(df2, how='left', on='Code', suffixes=['', '_new'])\n",
    "updated"
   ],
   "metadata": {
    "collapsed": false,
    "ExecuteTime": {
     "end_time": "2023-12-24T18:14:55.244210Z",
     "start_time": "2023-12-24T18:14:55.220251200Z"
    }
   },
   "id": "403ed3359e39488e"
  },
  {
   "cell_type": "code",
   "execution_count": 24,
   "outputs": [],
   "source": [
    "updated['Value'] = np.where(pd.notnull(updated['Value_new']), updated['Value_new'], updated['Value'])"
   ],
   "metadata": {
    "collapsed": false,
    "ExecuteTime": {
     "end_time": "2023-12-24T18:18:45.671068800Z",
     "start_time": "2023-12-24T18:18:45.668061300Z"
    }
   },
   "id": "8aa37afec8606"
  },
  {
   "cell_type": "code",
   "execution_count": 25,
   "outputs": [
    {
     "data": {
      "text/plain": "   Code      Name   Value  Extra Value  Name_new  Value_new\n0     1  Company1   200.0           17       NaN        NaN\n1     2  Company2  1000.0           18  Company2     1000.0\n2     3  Company3   400.0           19       NaN        NaN",
      "text/html": "<div>\n<style scoped>\n    .dataframe tbody tr th:only-of-type {\n        vertical-align: middle;\n    }\n\n    .dataframe tbody tr th {\n        vertical-align: top;\n    }\n\n    .dataframe thead th {\n        text-align: right;\n    }\n</style>\n<table border=\"1\" class=\"dataframe\">\n  <thead>\n    <tr style=\"text-align: right;\">\n      <th></th>\n      <th>Code</th>\n      <th>Name</th>\n      <th>Value</th>\n      <th>Extra Value</th>\n      <th>Name_new</th>\n      <th>Value_new</th>\n    </tr>\n  </thead>\n  <tbody>\n    <tr>\n      <th>0</th>\n      <td>1</td>\n      <td>Company1</td>\n      <td>200.0</td>\n      <td>17</td>\n      <td>NaN</td>\n      <td>NaN</td>\n    </tr>\n    <tr>\n      <th>1</th>\n      <td>2</td>\n      <td>Company2</td>\n      <td>1000.0</td>\n      <td>18</td>\n      <td>Company2</td>\n      <td>1000.0</td>\n    </tr>\n    <tr>\n      <th>2</th>\n      <td>3</td>\n      <td>Company3</td>\n      <td>400.0</td>\n      <td>19</td>\n      <td>NaN</td>\n      <td>NaN</td>\n    </tr>\n  </tbody>\n</table>\n</div>"
     },
     "execution_count": 25,
     "metadata": {},
     "output_type": "execute_result"
    }
   ],
   "source": [
    "updated"
   ],
   "metadata": {
    "collapsed": false,
    "ExecuteTime": {
     "end_time": "2023-12-24T18:18:52.705476600Z",
     "start_time": "2023-12-24T18:18:52.688236Z"
    }
   },
   "id": "8f0a471fb18a3c19"
  },
  {
   "cell_type": "code",
   "execution_count": 16,
   "outputs": [
    {
     "data": {
      "text/plain": "Index([1, 2, 3], dtype='int64', name='Code')"
     },
     "execution_count": 16,
     "metadata": {},
     "output_type": "execute_result"
    }
   ],
   "source": [
    "df1.index"
   ],
   "metadata": {
    "collapsed": false,
    "ExecuteTime": {
     "end_time": "2023-12-24T18:11:38.658014Z",
     "start_time": "2023-12-24T18:11:38.642096500Z"
    }
   },
   "id": "b2cf424ef8497a8b"
  },
  {
   "cell_type": "code",
   "execution_count": null,
   "outputs": [],
   "source": [],
   "metadata": {
    "collapsed": false
   },
   "id": "5e78b033897fd01c"
  }
 ],
 "metadata": {
  "kernelspec": {
   "display_name": "Python 3",
   "language": "python",
   "name": "python3"
  },
  "language_info": {
   "codemirror_mode": {
    "name": "ipython",
    "version": 2
   },
   "file_extension": ".py",
   "mimetype": "text/x-python",
   "name": "python",
   "nbconvert_exporter": "python",
   "pygments_lexer": "ipython2",
   "version": "2.7.6"
  }
 },
 "nbformat": 4,
 "nbformat_minor": 5
}
