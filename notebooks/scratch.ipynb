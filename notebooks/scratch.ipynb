{
 "cells": [
  {
   "cell_type": "markdown",
   "source": [
    "# scratch\n",
    "## This notebook is for working out temporary issues and as a practice / experimentation repl\n",
    "### Imports for reading in accounts"
   ],
   "metadata": {
    "collapsed": false
   }
  },
  {
   "cell_type": "code",
   "execution_count": 1,
   "outputs": [
    {
     "name": "stdout",
     "output_type": "stream",
     "text": [
      "loading environment variables\n",
      "cwd = D:\\Coding\\Finance-Model\\notebooks\n",
      "inside of notebook directory\n",
      "   setting new working directory: D:\\Coding\\Finance-Model\n"
     ]
    }
   ],
   "source": [
    "from finance_model.chart_of_accounts import ChartOfAccounts, unpickle_accounts\n",
    "import pandas as pd\n",
    "from config import config"
   ],
   "metadata": {
    "collapsed": false,
    "ExecuteTime": {
     "end_time": "2023-11-05T19:02:58.900046400Z",
     "start_time": "2023-11-05T19:02:58.428175100Z"
    }
   }
  },
  {
   "cell_type": "markdown",
   "source": [
    "### unpicle accounts"
   ],
   "metadata": {
    "collapsed": false
   }
  },
  {
   "cell_type": "code",
   "execution_count": 2,
   "outputs": [
    {
     "name": "stdout",
     "output_type": "stream",
     "text": [
      "Total duration for function <unpickle_accounts> is 0.0012440999853424728\n"
     ]
    }
   ],
   "source": [
    "pickle = True\n",
    "\n",
    "if pickle:\n",
    "    accounts = unpickle_accounts()\n",
    "else:\n",
    "    accounts = ChartOfAccounts()\n",
    "    accounts.account_map\n",
    "    accounts.trial_balances"
   ],
   "metadata": {
    "collapsed": false,
    "ExecuteTime": {
     "end_time": "2023-11-05T19:03:00.433227100Z",
     "start_time": "2023-11-05T19:03:00.427620800Z"
    }
   }
  },
  {
   "cell_type": "markdown",
   "source": [
    "#### write_accounts to csv file to double check accuracy"
   ],
   "metadata": {
    "collapsed": false
   }
  },
  {
   "cell_type": "code",
   "execution_count": 3,
   "outputs": [],
   "source": [
    "write_accounts = False\n",
    "if write_accounts:\n",
    "    accounts.write_accounts()"
   ],
   "metadata": {
    "collapsed": false,
    "ExecuteTime": {
     "end_time": "2023-11-05T19:03:04.971354300Z",
     "start_time": "2023-11-05T19:03:04.966313800Z"
    }
   }
  },
  {
   "cell_type": "markdown",
   "source": [
    "i## Setup for manipulation of the trial balance dataframe\n",
    "### imports and copy the trial_lanances"
   ],
   "metadata": {
    "collapsed": false
   }
  },
  {
   "cell_type": "code",
   "execution_count": 4,
   "outputs": [],
   "source": [
    "from finance_model.finance_enums import AccountLevel, CATEGORY\n",
    "tb = accounts.trial_balances.copy()"
   ],
   "metadata": {
    "collapsed": false,
    "ExecuteTime": {
     "end_time": "2023-11-05T19:03:16.591153900Z",
     "start_time": "2023-11-05T19:03:16.586056900Z"
    }
   }
  },
  {
   "cell_type": "markdown",
   "source": [
    "---\n",
    "### Group by year"
   ],
   "metadata": {
    "collapsed": false
   }
  },
  {
   "cell_type": "code",
   "execution_count": 5,
   "outputs": [],
   "source": [
    "yearly = True\n",
    "# yearly = False\n",
    "\n",
    "if yearly:\n",
    "    tb['year'] = [date[:4] for date in tb.index]\n",
    "    grp = tb.groupby('year')\n",
    "    # Choose the last of each grouping. This works because the data is cumulative\n",
    "    tb = grp.tail(1).iloc[:, :-1]"
   ],
   "metadata": {
    "collapsed": false,
    "ExecuteTime": {
     "end_time": "2023-11-05T19:03:18.418563500Z",
     "start_time": "2023-11-05T19:03:18.406053700Z"
    }
   }
  },
  {
   "cell_type": "markdown",
   "source": [
    "### Merge with detailed map"
   ],
   "metadata": {
    "collapsed": false
   }
  },
  {
   "cell_type": "code",
   "execution_count": 6,
   "outputs": [],
   "source": [
    "tb = tb.T\n",
    "\n",
    "tb[AccountLevel.ACCOUNT_NO] = tb.index\n",
    "tb = tb.merge(accounts.detailed_account_map, how='left', on=AccountLevel.ACCOUNT_NO)"
   ],
   "metadata": {
    "collapsed": false,
    "ExecuteTime": {
     "end_time": "2023-11-05T19:03:28.154463500Z",
     "start_time": "2023-11-05T19:03:28.139437Z"
    }
   }
  },
  {
   "cell_type": "code",
   "execution_count": null,
   "outputs": [],
   "source": [],
   "metadata": {
    "collapsed": false
   }
  },
  {
   "cell_type": "code",
   "execution_count": 30,
   "outputs": [
    {
     "data": {
      "text/plain": "AccountLevel.CATEGORY      ASSETS        COGS      EQUITY  LIABILITIES  \\\n2017-12-31             -972617.21 -4225229.11  -291698.04    154798.30   \n2018-12-31            -1003344.35 -4356327.82  -165181.09    171115.41   \n2019-12-31            -1059030.32 -4795027.36  -355080.17    169558.80   \n2020-12-31            -1373599.39 -3915939.74  -678217.69    138346.55   \n2021-12-31            -1495487.67 -3447824.77 -1165383.89    119800.04   \n2022-12-31            -1652634.14 -5236419.23   375602.10    119119.96   \n2023-08-31            -2362932.61 -4359960.12   783514.18    566241.94   \n\nAccountLevel.CATEGORY  OPERATING_EXPENSES  OTHER_EXPENSES     REVENUE  \n2017-12-31                    -2311968.51        -5824.66  7652539.23  \n2018-12-31                    -2380507.70        -7895.31  7742140.86  \n2019-12-31                    -2496942.19        -2783.51  8539304.75  \n2020-12-31                    -2511344.51        -7278.73  8348033.51  \n2021-12-31                    -1737638.27        -4805.94  7731340.50  \n2022-12-31                    -2689231.92        -6002.26  9089565.49  \n2023-08-31                    -1549829.80        -3658.75  6926625.16  ",
      "text/html": "<div>\n<style scoped>\n    .dataframe tbody tr th:only-of-type {\n        vertical-align: middle;\n    }\n\n    .dataframe tbody tr th {\n        vertical-align: top;\n    }\n\n    .dataframe thead th {\n        text-align: right;\n    }\n</style>\n<table border=\"1\" class=\"dataframe\">\n  <thead>\n    <tr style=\"text-align: right;\">\n      <th>AccountLevel.CATEGORY</th>\n      <th>ASSETS</th>\n      <th>COGS</th>\n      <th>EQUITY</th>\n      <th>LIABILITIES</th>\n      <th>OPERATING_EXPENSES</th>\n      <th>OTHER_EXPENSES</th>\n      <th>REVENUE</th>\n    </tr>\n  </thead>\n  <tbody>\n    <tr>\n      <th>2017-12-31</th>\n      <td>-972617.21</td>\n      <td>-4225229.11</td>\n      <td>-291698.04</td>\n      <td>154798.30</td>\n      <td>-2311968.51</td>\n      <td>-5824.66</td>\n      <td>7652539.23</td>\n    </tr>\n    <tr>\n      <th>2018-12-31</th>\n      <td>-1003344.35</td>\n      <td>-4356327.82</td>\n      <td>-165181.09</td>\n      <td>171115.41</td>\n      <td>-2380507.70</td>\n      <td>-7895.31</td>\n      <td>7742140.86</td>\n    </tr>\n    <tr>\n      <th>2019-12-31</th>\n      <td>-1059030.32</td>\n      <td>-4795027.36</td>\n      <td>-355080.17</td>\n      <td>169558.80</td>\n      <td>-2496942.19</td>\n      <td>-2783.51</td>\n      <td>8539304.75</td>\n    </tr>\n    <tr>\n      <th>2020-12-31</th>\n      <td>-1373599.39</td>\n      <td>-3915939.74</td>\n      <td>-678217.69</td>\n      <td>138346.55</td>\n      <td>-2511344.51</td>\n      <td>-7278.73</td>\n      <td>8348033.51</td>\n    </tr>\n    <tr>\n      <th>2021-12-31</th>\n      <td>-1495487.67</td>\n      <td>-3447824.77</td>\n      <td>-1165383.89</td>\n      <td>119800.04</td>\n      <td>-1737638.27</td>\n      <td>-4805.94</td>\n      <td>7731340.50</td>\n    </tr>\n    <tr>\n      <th>2022-12-31</th>\n      <td>-1652634.14</td>\n      <td>-5236419.23</td>\n      <td>375602.10</td>\n      <td>119119.96</td>\n      <td>-2689231.92</td>\n      <td>-6002.26</td>\n      <td>9089565.49</td>\n    </tr>\n    <tr>\n      <th>2023-08-31</th>\n      <td>-2362932.61</td>\n      <td>-4359960.12</td>\n      <td>783514.18</td>\n      <td>566241.94</td>\n      <td>-1549829.80</td>\n      <td>-3658.75</td>\n      <td>6926625.16</td>\n    </tr>\n  </tbody>\n</table>\n</div>"
     },
     "execution_count": 30,
     "metadata": {},
     "output_type": "execute_result"
    }
   ],
   "source": [
    "grp = tb.groupby(AccountLevel.CATEGORY)\n",
    "grp.first(2)\n",
    "grp.get_group(CATEGORY.ASSETS)\n",
    "a = grp.sum().iloc[:, :-6].T\n",
    "# a[CATEGORY.ASSETS]\n",
    "\n",
    "a"
   ],
   "metadata": {
    "collapsed": false,
    "ExecuteTime": {
     "end_time": "2023-11-05T21:49:51.100998900Z",
     "start_time": "2023-11-05T21:49:51.091092900Z"
    }
   }
  },
  {
   "cell_type": "code",
   "execution_count": 34,
   "outputs": [
    {
     "data": {
      "text/plain": "2017-12-31    0.144987\n2018-12-31    0.128829\n2019-12-31    0.145744\n2020-12-31    0.229212\n2021-12-31    0.328672\n2022-12-31    0.127389\n2023-08-31    0.146273\ndtype: float64"
     },
     "execution_count": 34,
     "metadata": {},
     "output_type": "execute_result"
    }
   ],
   "source": [
    "(a[CATEGORY.REVENUE] + a[CATEGORY.COGS] + a[CATEGORY.OPERATING_EXPENSES] + a[CATEGORY.OTHER_EXPENSES])/a[CATEGORY.REVENUE]\n",
    "# grp.get_group(CATEGORY.LIABILITIES)"
   ],
   "metadata": {
    "collapsed": false,
    "ExecuteTime": {
     "end_time": "2023-11-05T21:55:52.712919200Z",
     "start_time": "2023-11-05T21:55:52.688548700Z"
    }
   }
  },
  {
   "cell_type": "code",
   "execution_count": 36,
   "outputs": [
    {
     "data": {
      "text/plain": "<pandas.core.groupby.generic.DataFrameGroupBy object at 0x0000018D53CC9970>"
     },
     "execution_count": 36,
     "metadata": {},
     "output_type": "execute_result"
    }
   ],
   "source": [
    "grp2 = tb.groupby([AccountLevel.CATEGORY, AccountLevel.SUBCATEGORY])\n",
    "grp2\n",
    "# grp.get_group(CATEGORY.EQUITY)"
   ],
   "metadata": {
    "collapsed": false,
    "ExecuteTime": {
     "end_time": "2023-11-05T21:59:32.362253100Z",
     "start_time": "2023-11-05T21:59:32.343637100Z"
    }
   }
  },
  {
   "cell_type": "code",
   "execution_count": 26,
   "outputs": [
    {
     "name": "stdout",
     "output_type": "stream",
     "text": [
      "i = ASSETS\n",
      "i = LIABILITIES\n",
      "i = EQUITY\n",
      "i = REVENUE\n",
      "i = COGS\n",
      "i = OPERATING_EXPENSES\n",
      "i = OTHER_EXPENSES\n",
      "i = OTHER_INCOME\n"
     ]
    }
   ],
   "source": [
    "for i in CATEGORY:\n",
    "    print(f'i = {i}')"
   ],
   "metadata": {
    "collapsed": false,
    "ExecuteTime": {
     "end_time": "2023-11-05T19:46:45.948250600Z",
     "start_time": "2023-11-05T19:46:45.942318100Z"
    }
   }
  },
  {
   "cell_type": "markdown",
   "source": [
    "## Filter transposed trial balances\n",
    "### Filter by one category"
   ],
   "metadata": {
    "collapsed": false
   }
  },
  {
   "cell_type": "code",
   "execution_count": null,
   "outputs": [],
   "source": [
    "a = tb.loc[:,AccountLevel.CATEGORY:AccountLevel.ACCOUNT] == CATEGORY.ASSETS\n",
    "b= a.sum(axis=1) == 1\n",
    "tb[b]"
   ],
   "metadata": {
    "collapsed": false
   }
  },
  {
   "cell_type": "code",
   "execution_count": null,
   "outputs": [],
   "source": [],
   "metadata": {
    "collapsed": false
   }
  },
  {
   "cell_type": "code",
   "execution_count": null,
   "outputs": [],
   "source": [
    "tb"
   ],
   "metadata": {
    "collapsed": false
   }
  },
  {
   "cell_type": "code",
   "execution_count": null,
   "outputs": [],
   "source": [
    "len(tb)"
   ],
   "metadata": {
    "collapsed": false
   }
  },
  {
   "cell_type": "code",
   "execution_count": null,
   "outputs": [],
   "source": [
    "b == 1"
   ],
   "metadata": {
    "collapsed": false
   }
  },
  {
   "cell_type": "code",
   "execution_count": 8,
   "outputs": [
    {
     "data": {
      "text/plain": "119"
     },
     "execution_count": 8,
     "metadata": {},
     "output_type": "execute_result"
    }
   ],
   "source": [
    "len(tb.columns)"
   ],
   "metadata": {
    "collapsed": false,
    "ExecuteTime": {
     "end_time": "2023-11-05T17:35:21.776670800Z",
     "start_time": "2023-11-05T17:35:21.753744400Z"
    }
   }
  },
  {
   "cell_type": "markdown",
   "source": [
    "---\n",
    "# Groupby practice"
   ],
   "metadata": {
    "collapsed": false
   }
  },
  {
   "cell_type": "code",
   "execution_count": 26,
   "outputs": [
    {
     "data": {
      "text/plain": "         Item       Type  Price\n0      Banana      Fruit   0.99\n1    Cucumber  Vegetable   1.25\n2      Orange      Fruit   0.25\n3      Tomato  Vegetable   0.33\n4  Watermelon      Fruit   3.00",
      "text/html": "<div>\n<style scoped>\n    .dataframe tbody tr th:only-of-type {\n        vertical-align: middle;\n    }\n\n    .dataframe tbody tr th {\n        vertical-align: top;\n    }\n\n    .dataframe thead th {\n        text-align: right;\n    }\n</style>\n<table border=\"1\" class=\"dataframe\">\n  <thead>\n    <tr style=\"text-align: right;\">\n      <th></th>\n      <th>Item</th>\n      <th>Type</th>\n      <th>Price</th>\n    </tr>\n  </thead>\n  <tbody>\n    <tr>\n      <th>0</th>\n      <td>Banana</td>\n      <td>Fruit</td>\n      <td>0.99</td>\n    </tr>\n    <tr>\n      <th>1</th>\n      <td>Cucumber</td>\n      <td>Vegetable</td>\n      <td>1.25</td>\n    </tr>\n    <tr>\n      <th>2</th>\n      <td>Orange</td>\n      <td>Fruit</td>\n      <td>0.25</td>\n    </tr>\n    <tr>\n      <th>3</th>\n      <td>Tomato</td>\n      <td>Vegetable</td>\n      <td>0.33</td>\n    </tr>\n    <tr>\n      <th>4</th>\n      <td>Watermelon</td>\n      <td>Fruit</td>\n      <td>3.00</td>\n    </tr>\n  </tbody>\n</table>\n</div>"
     },
     "execution_count": 26,
     "metadata": {},
     "output_type": "execute_result"
    }
   ],
   "source": [
    "food_data = {\n",
    "          \"Item\": [\"Banana\", \"Cucumber\", \"Orange\", \"Tomato\", \"Watermelon\"],\n",
    "          \"Type\": [\"Fruit\", \"Vegetable\", \"Fruit\", \"Vegetable\", \"Fruit\"],\n",
    "          \"Price\": [0.99, 1.25, 0.25, 0.33, 3.00]\n",
    "        }\n",
    " \n",
    "supermarket = pd.DataFrame(data = food_data)\n",
    "\n",
    "supermarket"
   ],
   "metadata": {
    "collapsed": false,
    "ExecuteTime": {
     "end_time": "2023-11-05T17:55:16.152318Z",
     "start_time": "2023-11-05T17:55:16.134296800Z"
    }
   }
  },
  {
   "cell_type": "code",
   "execution_count": 32,
   "outputs": [
    {
     "data": {
      "text/plain": "<pandas.core.groupby.generic.DataFrameGroupBy object at 0x000001E1B69D6990>"
     },
     "execution_count": 32,
     "metadata": {},
     "output_type": "execute_result"
    }
   ],
   "source": [
    "groups = supermarket.groupby(\"Type\")\n",
    "groups"
   ],
   "metadata": {
    "collapsed": false,
    "ExecuteTime": {
     "end_time": "2023-11-05T18:24:21.350522600Z",
     "start_time": "2023-11-05T18:24:21.312252400Z"
    }
   }
  },
  {
   "cell_type": "code",
   "execution_count": 39,
   "outputs": [
    {
     "data": {
      "text/plain": "Type\nFruit        1.413333\nVegetable    0.790000\nName: Price, dtype: float64"
     },
     "execution_count": 39,
     "metadata": {},
     "output_type": "execute_result"
    }
   ],
   "source": [
    "groups[\"Price\"].mean()"
   ],
   "metadata": {
    "collapsed": false,
    "ExecuteTime": {
     "end_time": "2023-11-05T18:32:29.250753Z",
     "start_time": "2023-11-05T18:32:29.235569100Z"
    }
   }
  },
  {
   "cell_type": "code",
   "execution_count": 30,
   "outputs": [
    {
     "data": {
      "text/plain": "       Item       Type  Price\n1  Cucumber  Vegetable   1.25\n3    Tomato  Vegetable   0.33",
      "text/html": "<div>\n<style scoped>\n    .dataframe tbody tr th:only-of-type {\n        vertical-align: middle;\n    }\n\n    .dataframe tbody tr th {\n        vertical-align: top;\n    }\n\n    .dataframe thead th {\n        text-align: right;\n    }\n</style>\n<table border=\"1\" class=\"dataframe\">\n  <thead>\n    <tr style=\"text-align: right;\">\n      <th></th>\n      <th>Item</th>\n      <th>Type</th>\n      <th>Price</th>\n    </tr>\n  </thead>\n  <tbody>\n    <tr>\n      <th>1</th>\n      <td>Cucumber</td>\n      <td>Vegetable</td>\n      <td>1.25</td>\n    </tr>\n    <tr>\n      <th>3</th>\n      <td>Tomato</td>\n      <td>Vegetable</td>\n      <td>0.33</td>\n    </tr>\n  </tbody>\n</table>\n</div>"
     },
     "execution_count": 30,
     "metadata": {},
     "output_type": "execute_result"
    }
   ],
   "source": [
    "groups.get_group(\"Vegetable\")"
   ],
   "metadata": {
    "collapsed": false,
    "ExecuteTime": {
     "end_time": "2023-11-05T17:57:49.956700400Z",
     "start_time": "2023-11-05T17:57:49.944474700Z"
    }
   }
  },
  {
   "cell_type": "code",
   "execution_count": null,
   "outputs": [],
   "source": [],
   "metadata": {
    "collapsed": false
   }
  }
 ],
 "metadata": {
  "kernelspec": {
   "display_name": "Python 3",
   "language": "python",
   "name": "python3"
  },
  "language_info": {
   "codemirror_mode": {
    "name": "ipython",
    "version": 2
   },
   "file_extension": ".py",
   "mimetype": "text/x-python",
   "name": "python",
   "nbconvert_exporter": "python",
   "pygments_lexer": "ipython2",
   "version": "2.7.6"
  }
 },
 "nbformat": 4,
 "nbformat_minor": 0
}
