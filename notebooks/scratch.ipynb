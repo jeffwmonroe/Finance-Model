{
 "cells": [
  {
   "cell_type": "markdown",
   "source": [
    "# scratch\n",
    "## This notebook is for working out temporary issues and as a practice / experimentation repl\n",
    "### Imports for reading in accounts"
   ],
   "metadata": {
    "collapsed": false
   }
  },
  {
   "cell_type": "code",
   "execution_count": 1,
   "outputs": [
    {
     "name": "stdout",
     "output_type": "stream",
     "text": [
      "loading environment variables\n",
      "cwd = C:\\Coding\\Finance-Model\\notebooks\n",
      "inside of notebook directory\n",
      "   setting new working directory: C:\\Coding\\Finance-Model\n"
     ]
    }
   ],
   "source": [
    "from finance_model.chart_of_accounts import ChartOfAccounts, unpickle_accounts\n",
    "from finance_model.finance_enums import AccountLevel, CATEGORY, SUBCATEGORY, SUBCATEGORY2\n",
    "import pandas as pd\n",
    "from config import config"
   ],
   "metadata": {
    "collapsed": false,
    "ExecuteTime": {
     "end_time": "2023-11-07T00:17:57.583445800Z",
     "start_time": "2023-11-07T00:17:56.606517200Z"
    }
   }
  },
  {
   "cell_type": "markdown",
   "source": [
    "### unpicle accounts"
   ],
   "metadata": {
    "collapsed": false
   }
  },
  {
   "cell_type": "code",
   "execution_count": 2,
   "outputs": [
    {
     "name": "stdout",
     "output_type": "stream",
     "text": [
      "Total duration for function <unpickle_accounts> is 0.0029993000207468867\n"
     ]
    }
   ],
   "source": [
    "pickle = True\n",
    "\n",
    "if pickle:\n",
    "    accounts = unpickle_accounts()\n",
    "else:\n",
    "    accounts = ChartOfAccounts()\n",
    "    accounts.account_map\n",
    "    accounts.trial_balances\n",
    "    "
   ],
   "metadata": {
    "collapsed": false,
    "ExecuteTime": {
     "end_time": "2023-11-07T00:17:57.597494200Z",
     "start_time": "2023-11-07T00:17:57.542343500Z"
    }
   }
  },
  {
   "cell_type": "markdown",
   "source": [
    "### Fill in the none values"
   ],
   "metadata": {
    "collapsed": false
   }
  },
  {
   "cell_type": "code",
   "execution_count": 3,
   "outputs": [
    {
     "data": {
      "text/plain": "     AccountLevel.ACCOUNT_NO AccountLevel.IS_BS AccountLevel.NORMAL_BALANCE  \\\n0                      11040                 BS                       DEBIT   \n1                      11050                 BS                       DEBIT   \n2                      11060                 BS                       DEBIT   \n3                      11100                 BS                       DEBIT   \n4                      11500                 BS                       DEBIT   \n..                       ...                ...                         ...   \n114                    91000                 IS                       DEBIT   \n115                    91500                 IS                       DEBIT   \n116                    91700                 IS                       DEBIT   \n117                    94000                 IS                       DEBIT   \n118                    95000                 IS                       DEBIT   \n\n    AccountLevel.CATEGORY AccountLevel.SUBCATEGORY AccountLevel.SUBCATEGORY2  \\\n0                  ASSETS           CURRENT_ASSETS      CASH_AND_EQUIVALENTS   \n1                  ASSETS           CURRENT_ASSETS      CASH_AND_EQUIVALENTS   \n2                  ASSETS           CURRENT_ASSETS      CASH_AND_EQUIVALENTS   \n3                  ASSETS           CURRENT_ASSETS      CASH_AND_EQUIVALENTS   \n4                  ASSETS           CURRENT_ASSETS      CASH_AND_EQUIVALENTS   \n..                    ...                      ...                       ...   \n114        OTHER_EXPENSES              UNALLOWABLE                      NONE   \n115        OTHER_EXPENSES              UNALLOWABLE                      NONE   \n116        OTHER_EXPENSES              UNALLOWABLE                      NONE   \n117        OTHER_EXPENSES              UNALLOWABLE                      NONE   \n118        OTHER_EXPENSES              UNALLOWABLE                      NONE   \n\n          AccountLevel.ACCOUNT  \n0                PNC Operating  \n1                  PNC Payroll  \n2             PNC Money Market  \n3             Wells Fargo Bank  \n4     Cash on Hand, Petty Cash  \n..                         ...  \n114           Interest Expense  \n115              Contributions  \n116          Officer Insurance  \n117    Personal Property Taxes  \n118  Misc. Unallowable Expense  \n\n[119 rows x 7 columns]",
      "text/html": "<div>\n<style scoped>\n    .dataframe tbody tr th:only-of-type {\n        vertical-align: middle;\n    }\n\n    .dataframe tbody tr th {\n        vertical-align: top;\n    }\n\n    .dataframe thead th {\n        text-align: right;\n    }\n</style>\n<table border=\"1\" class=\"dataframe\">\n  <thead>\n    <tr style=\"text-align: right;\">\n      <th></th>\n      <th>AccountLevel.ACCOUNT_NO</th>\n      <th>AccountLevel.IS_BS</th>\n      <th>AccountLevel.NORMAL_BALANCE</th>\n      <th>AccountLevel.CATEGORY</th>\n      <th>AccountLevel.SUBCATEGORY</th>\n      <th>AccountLevel.SUBCATEGORY2</th>\n      <th>AccountLevel.ACCOUNT</th>\n    </tr>\n  </thead>\n  <tbody>\n    <tr>\n      <th>0</th>\n      <td>11040</td>\n      <td>BS</td>\n      <td>DEBIT</td>\n      <td>ASSETS</td>\n      <td>CURRENT_ASSETS</td>\n      <td>CASH_AND_EQUIVALENTS</td>\n      <td>PNC Operating</td>\n    </tr>\n    <tr>\n      <th>1</th>\n      <td>11050</td>\n      <td>BS</td>\n      <td>DEBIT</td>\n      <td>ASSETS</td>\n      <td>CURRENT_ASSETS</td>\n      <td>CASH_AND_EQUIVALENTS</td>\n      <td>PNC Payroll</td>\n    </tr>\n    <tr>\n      <th>2</th>\n      <td>11060</td>\n      <td>BS</td>\n      <td>DEBIT</td>\n      <td>ASSETS</td>\n      <td>CURRENT_ASSETS</td>\n      <td>CASH_AND_EQUIVALENTS</td>\n      <td>PNC Money Market</td>\n    </tr>\n    <tr>\n      <th>3</th>\n      <td>11100</td>\n      <td>BS</td>\n      <td>DEBIT</td>\n      <td>ASSETS</td>\n      <td>CURRENT_ASSETS</td>\n      <td>CASH_AND_EQUIVALENTS</td>\n      <td>Wells Fargo Bank</td>\n    </tr>\n    <tr>\n      <th>4</th>\n      <td>11500</td>\n      <td>BS</td>\n      <td>DEBIT</td>\n      <td>ASSETS</td>\n      <td>CURRENT_ASSETS</td>\n      <td>CASH_AND_EQUIVALENTS</td>\n      <td>Cash on Hand, Petty Cash</td>\n    </tr>\n    <tr>\n      <th>...</th>\n      <td>...</td>\n      <td>...</td>\n      <td>...</td>\n      <td>...</td>\n      <td>...</td>\n      <td>...</td>\n      <td>...</td>\n    </tr>\n    <tr>\n      <th>114</th>\n      <td>91000</td>\n      <td>IS</td>\n      <td>DEBIT</td>\n      <td>OTHER_EXPENSES</td>\n      <td>UNALLOWABLE</td>\n      <td>NONE</td>\n      <td>Interest Expense</td>\n    </tr>\n    <tr>\n      <th>115</th>\n      <td>91500</td>\n      <td>IS</td>\n      <td>DEBIT</td>\n      <td>OTHER_EXPENSES</td>\n      <td>UNALLOWABLE</td>\n      <td>NONE</td>\n      <td>Contributions</td>\n    </tr>\n    <tr>\n      <th>116</th>\n      <td>91700</td>\n      <td>IS</td>\n      <td>DEBIT</td>\n      <td>OTHER_EXPENSES</td>\n      <td>UNALLOWABLE</td>\n      <td>NONE</td>\n      <td>Officer Insurance</td>\n    </tr>\n    <tr>\n      <th>117</th>\n      <td>94000</td>\n      <td>IS</td>\n      <td>DEBIT</td>\n      <td>OTHER_EXPENSES</td>\n      <td>UNALLOWABLE</td>\n      <td>NONE</td>\n      <td>Personal Property Taxes</td>\n    </tr>\n    <tr>\n      <th>118</th>\n      <td>95000</td>\n      <td>IS</td>\n      <td>DEBIT</td>\n      <td>OTHER_EXPENSES</td>\n      <td>UNALLOWABLE</td>\n      <td>NONE</td>\n      <td>Misc. Unallowable Expense</td>\n    </tr>\n  </tbody>\n</table>\n<p>119 rows × 7 columns</p>\n</div>"
     },
     "execution_count": 3,
     "metadata": {},
     "output_type": "execute_result"
    }
   ],
   "source": [
    "# a = accounts.detailed_account_map[AccountLevel.SUBCATEGORY2].isna()\n",
    "# accounts.detailed_account_map[a] = SUBCATEGORY2.NONE\n",
    "# accounts.detailed_account_map.loc[a,AccountLevel.SUBCATEGORY2] = SUBCATEGORY2.NONE\n",
    "accounts.detailed_account_map\n",
    "# a = accounts.trial_balances\n",
    "# a = a.columns.to_list()\n",
    "# a.sort()\n",
    "# a"
   ],
   "metadata": {
    "collapsed": false,
    "ExecuteTime": {
     "end_time": "2023-11-07T00:17:59.049345100Z",
     "start_time": "2023-11-07T00:17:59.022598800Z"
    }
   }
  },
  {
   "cell_type": "markdown",
   "source": [
    "#### write_accounts to csv file to double check accuracy"
   ],
   "metadata": {
    "collapsed": false
   }
  },
  {
   "cell_type": "code",
   "execution_count": 4,
   "outputs": [
    {
     "name": "stdout",
     "output_type": "stream",
     "text": [
      "coa_csv: ./data/processed/chart of accounts.csv\n"
     ]
    }
   ],
   "source": [
    "write_accounts = True\n",
    "if write_accounts:\n",
    "    accounts.write_accounts()"
   ],
   "metadata": {
    "collapsed": false,
    "ExecuteTime": {
     "end_time": "2023-11-07T00:18:04.126883100Z",
     "start_time": "2023-11-07T00:18:04.111207800Z"
    }
   }
  },
  {
   "cell_type": "markdown",
   "source": [
    "## Setup for manipulation of the trial balance dataframe\n",
    "### imports and copy the trial balances"
   ],
   "metadata": {
    "collapsed": false
   }
  },
  {
   "cell_type": "code",
   "execution_count": 5,
   "outputs": [
    {
     "data": {
      "text/plain": "       2017-01-31  2017-02-28  2017-03-31  2017-04-30  2017-05-31  2017-06-30  \\\n11040  -206481.42  -593226.37  -519427.85  -614920.67  -634201.97  -678006.00   \n11050     -359.08     -186.51     -283.56      -88.73     -110.36     -142.82   \n11060        0.00        0.00        0.00        0.00        0.00        0.00   \n11100   -96544.28    -1235.53    -1235.53    -1235.53    -1235.53    -1235.53   \n11500     -100.00     -100.00     -100.00     -100.00     -100.00     -100.00   \n...           ...         ...         ...         ...         ...         ...   \n91000     -410.39    -1089.22    -1400.64    -1633.95    -1876.95    -2085.85   \n91500        0.00        0.00        0.00        0.00        0.00        0.00   \n91700     -306.62     -306.62     -790.51    -1097.13    -1097.13    -1581.02   \n94000        0.00        0.00        0.00        0.00     -300.00     -300.00   \n95000      -84.48       59.51     -108.86     -163.85     -172.36     -163.85   \n\n       2017-07-31  2017-08-31  2017-09-30  2017-10-31  ...  2022-11-30  \\\n11040  -779467.99  -934603.63  -915347.93  -840697.48  ...  -746842.52   \n11050     -172.20     -113.96      -93.94     -607.99  ...    -3286.76   \n11060        0.00        0.00        0.00        0.00  ...        0.00   \n11100    -1235.53    -1235.53    -1235.53    -1235.53  ...        0.00   \n11500     -100.00     -100.00     -100.00     -100.00  ...     -126.73   \n...           ...         ...         ...         ...  ...         ...   \n91000    -2085.85    -2085.85    -2085.85    -2085.85  ...     -756.32   \n91500        0.00        0.00        0.00        0.00  ...        0.00   \n91700    -1887.64    -1887.64    -2371.53    -2678.15  ...    -3428.04   \n94000    -1060.66    -1060.66    -1060.66    -1060.66  ...    -1817.90   \n95000     -163.85    -1920.97    -1832.13     -973.79  ...    -1488.77   \n\n       2022-12-31  2023-01-31  2023-02-28  2023-03-31  2023-04-30  2023-05-31  \\\n11040   -27065.96  -737289.83 -1238993.67 -1089580.81 -1367670.96 -1312552.22   \n11050     -201.03    -1207.69    -1817.49    -1833.92    -2953.41    -2347.36   \n11060        0.00        0.00        0.00        0.00        0.00        0.00   \n11100        0.00        0.00        0.00        0.00        0.00        0.00   \n11500     -100.00     -100.00     -100.00     -100.00     -100.00     -100.00   \n...           ...         ...         ...         ...         ...         ...   \n91000     -756.32        0.00        0.00        0.00        0.00        0.00   \n91500        0.00        0.00        0.00        0.00        0.00        0.00   \n91700    -3428.04        0.00     -857.01     -857.01     -857.01     -857.01   \n94000    -1817.90        0.00        0.00        0.00        0.00     -300.00   \n95000        0.00        0.00      -14.66     -672.58    -1006.33     -729.23   \n\n       2023-06-30  2023-07-31  2023-08-31  \n11040  -690167.41  -799700.97 -1329638.38  \n11050    -1826.61     -840.97    -1198.15  \n11060        0.00        0.00        0.00  \n11100        0.00        0.00        0.00  \n11500     -100.00     -100.00     -100.00  \n...           ...         ...         ...  \n91000       34.75       34.75       34.75  \n91500        0.00        0.00        0.00  \n91700     -857.01    -1858.11    -1858.11  \n94000     -300.00     -868.46     -868.46  \n95000     -729.23     -716.52     -966.93  \n\n[119 rows x 80 columns]",
      "text/html": "<div>\n<style scoped>\n    .dataframe tbody tr th:only-of-type {\n        vertical-align: middle;\n    }\n\n    .dataframe tbody tr th {\n        vertical-align: top;\n    }\n\n    .dataframe thead th {\n        text-align: right;\n    }\n</style>\n<table border=\"1\" class=\"dataframe\">\n  <thead>\n    <tr style=\"text-align: right;\">\n      <th></th>\n      <th>2017-01-31</th>\n      <th>2017-02-28</th>\n      <th>2017-03-31</th>\n      <th>2017-04-30</th>\n      <th>2017-05-31</th>\n      <th>2017-06-30</th>\n      <th>2017-07-31</th>\n      <th>2017-08-31</th>\n      <th>2017-09-30</th>\n      <th>2017-10-31</th>\n      <th>...</th>\n      <th>2022-11-30</th>\n      <th>2022-12-31</th>\n      <th>2023-01-31</th>\n      <th>2023-02-28</th>\n      <th>2023-03-31</th>\n      <th>2023-04-30</th>\n      <th>2023-05-31</th>\n      <th>2023-06-30</th>\n      <th>2023-07-31</th>\n      <th>2023-08-31</th>\n    </tr>\n  </thead>\n  <tbody>\n    <tr>\n      <th>11040</th>\n      <td>-206481.42</td>\n      <td>-593226.37</td>\n      <td>-519427.85</td>\n      <td>-614920.67</td>\n      <td>-634201.97</td>\n      <td>-678006.00</td>\n      <td>-779467.99</td>\n      <td>-934603.63</td>\n      <td>-915347.93</td>\n      <td>-840697.48</td>\n      <td>...</td>\n      <td>-746842.52</td>\n      <td>-27065.96</td>\n      <td>-737289.83</td>\n      <td>-1238993.67</td>\n      <td>-1089580.81</td>\n      <td>-1367670.96</td>\n      <td>-1312552.22</td>\n      <td>-690167.41</td>\n      <td>-799700.97</td>\n      <td>-1329638.38</td>\n    </tr>\n    <tr>\n      <th>11050</th>\n      <td>-359.08</td>\n      <td>-186.51</td>\n      <td>-283.56</td>\n      <td>-88.73</td>\n      <td>-110.36</td>\n      <td>-142.82</td>\n      <td>-172.20</td>\n      <td>-113.96</td>\n      <td>-93.94</td>\n      <td>-607.99</td>\n      <td>...</td>\n      <td>-3286.76</td>\n      <td>-201.03</td>\n      <td>-1207.69</td>\n      <td>-1817.49</td>\n      <td>-1833.92</td>\n      <td>-2953.41</td>\n      <td>-2347.36</td>\n      <td>-1826.61</td>\n      <td>-840.97</td>\n      <td>-1198.15</td>\n    </tr>\n    <tr>\n      <th>11060</th>\n      <td>0.00</td>\n      <td>0.00</td>\n      <td>0.00</td>\n      <td>0.00</td>\n      <td>0.00</td>\n      <td>0.00</td>\n      <td>0.00</td>\n      <td>0.00</td>\n      <td>0.00</td>\n      <td>0.00</td>\n      <td>...</td>\n      <td>0.00</td>\n      <td>0.00</td>\n      <td>0.00</td>\n      <td>0.00</td>\n      <td>0.00</td>\n      <td>0.00</td>\n      <td>0.00</td>\n      <td>0.00</td>\n      <td>0.00</td>\n      <td>0.00</td>\n    </tr>\n    <tr>\n      <th>11100</th>\n      <td>-96544.28</td>\n      <td>-1235.53</td>\n      <td>-1235.53</td>\n      <td>-1235.53</td>\n      <td>-1235.53</td>\n      <td>-1235.53</td>\n      <td>-1235.53</td>\n      <td>-1235.53</td>\n      <td>-1235.53</td>\n      <td>-1235.53</td>\n      <td>...</td>\n      <td>0.00</td>\n      <td>0.00</td>\n      <td>0.00</td>\n      <td>0.00</td>\n      <td>0.00</td>\n      <td>0.00</td>\n      <td>0.00</td>\n      <td>0.00</td>\n      <td>0.00</td>\n      <td>0.00</td>\n    </tr>\n    <tr>\n      <th>11500</th>\n      <td>-100.00</td>\n      <td>-100.00</td>\n      <td>-100.00</td>\n      <td>-100.00</td>\n      <td>-100.00</td>\n      <td>-100.00</td>\n      <td>-100.00</td>\n      <td>-100.00</td>\n      <td>-100.00</td>\n      <td>-100.00</td>\n      <td>...</td>\n      <td>-126.73</td>\n      <td>-100.00</td>\n      <td>-100.00</td>\n      <td>-100.00</td>\n      <td>-100.00</td>\n      <td>-100.00</td>\n      <td>-100.00</td>\n      <td>-100.00</td>\n      <td>-100.00</td>\n      <td>-100.00</td>\n    </tr>\n    <tr>\n      <th>...</th>\n      <td>...</td>\n      <td>...</td>\n      <td>...</td>\n      <td>...</td>\n      <td>...</td>\n      <td>...</td>\n      <td>...</td>\n      <td>...</td>\n      <td>...</td>\n      <td>...</td>\n      <td>...</td>\n      <td>...</td>\n      <td>...</td>\n      <td>...</td>\n      <td>...</td>\n      <td>...</td>\n      <td>...</td>\n      <td>...</td>\n      <td>...</td>\n      <td>...</td>\n      <td>...</td>\n    </tr>\n    <tr>\n      <th>91000</th>\n      <td>-410.39</td>\n      <td>-1089.22</td>\n      <td>-1400.64</td>\n      <td>-1633.95</td>\n      <td>-1876.95</td>\n      <td>-2085.85</td>\n      <td>-2085.85</td>\n      <td>-2085.85</td>\n      <td>-2085.85</td>\n      <td>-2085.85</td>\n      <td>...</td>\n      <td>-756.32</td>\n      <td>-756.32</td>\n      <td>0.00</td>\n      <td>0.00</td>\n      <td>0.00</td>\n      <td>0.00</td>\n      <td>0.00</td>\n      <td>34.75</td>\n      <td>34.75</td>\n      <td>34.75</td>\n    </tr>\n    <tr>\n      <th>91500</th>\n      <td>0.00</td>\n      <td>0.00</td>\n      <td>0.00</td>\n      <td>0.00</td>\n      <td>0.00</td>\n      <td>0.00</td>\n      <td>0.00</td>\n      <td>0.00</td>\n      <td>0.00</td>\n      <td>0.00</td>\n      <td>...</td>\n      <td>0.00</td>\n      <td>0.00</td>\n      <td>0.00</td>\n      <td>0.00</td>\n      <td>0.00</td>\n      <td>0.00</td>\n      <td>0.00</td>\n      <td>0.00</td>\n      <td>0.00</td>\n      <td>0.00</td>\n    </tr>\n    <tr>\n      <th>91700</th>\n      <td>-306.62</td>\n      <td>-306.62</td>\n      <td>-790.51</td>\n      <td>-1097.13</td>\n      <td>-1097.13</td>\n      <td>-1581.02</td>\n      <td>-1887.64</td>\n      <td>-1887.64</td>\n      <td>-2371.53</td>\n      <td>-2678.15</td>\n      <td>...</td>\n      <td>-3428.04</td>\n      <td>-3428.04</td>\n      <td>0.00</td>\n      <td>-857.01</td>\n      <td>-857.01</td>\n      <td>-857.01</td>\n      <td>-857.01</td>\n      <td>-857.01</td>\n      <td>-1858.11</td>\n      <td>-1858.11</td>\n    </tr>\n    <tr>\n      <th>94000</th>\n      <td>0.00</td>\n      <td>0.00</td>\n      <td>0.00</td>\n      <td>0.00</td>\n      <td>-300.00</td>\n      <td>-300.00</td>\n      <td>-1060.66</td>\n      <td>-1060.66</td>\n      <td>-1060.66</td>\n      <td>-1060.66</td>\n      <td>...</td>\n      <td>-1817.90</td>\n      <td>-1817.90</td>\n      <td>0.00</td>\n      <td>0.00</td>\n      <td>0.00</td>\n      <td>0.00</td>\n      <td>-300.00</td>\n      <td>-300.00</td>\n      <td>-868.46</td>\n      <td>-868.46</td>\n    </tr>\n    <tr>\n      <th>95000</th>\n      <td>-84.48</td>\n      <td>59.51</td>\n      <td>-108.86</td>\n      <td>-163.85</td>\n      <td>-172.36</td>\n      <td>-163.85</td>\n      <td>-163.85</td>\n      <td>-1920.97</td>\n      <td>-1832.13</td>\n      <td>-973.79</td>\n      <td>...</td>\n      <td>-1488.77</td>\n      <td>0.00</td>\n      <td>0.00</td>\n      <td>-14.66</td>\n      <td>-672.58</td>\n      <td>-1006.33</td>\n      <td>-729.23</td>\n      <td>-729.23</td>\n      <td>-716.52</td>\n      <td>-966.93</td>\n    </tr>\n  </tbody>\n</table>\n<p>119 rows × 80 columns</p>\n</div>"
     },
     "execution_count": 5,
     "metadata": {},
     "output_type": "execute_result"
    }
   ],
   "source": [
    "\n",
    "tb = accounts.trial_balances.copy()\n",
    "tb.T"
   ],
   "metadata": {
    "collapsed": false,
    "ExecuteTime": {
     "end_time": "2023-11-07T00:18:06.594891700Z",
     "start_time": "2023-11-07T00:18:06.556575Z"
    }
   }
  },
  {
   "cell_type": "markdown",
   "source": [
    "---\n",
    "### Group by year"
   ],
   "metadata": {
    "collapsed": false
   }
  },
  {
   "cell_type": "code",
   "execution_count": 6,
   "outputs": [
    {
     "data": {
      "text/plain": "       2017-12-31  2018-12-31  2019-12-31  2020-12-31  2021-12-31  2022-12-31  \\\n11040  -106161.11  -132985.04        0.00   -91887.83  -195671.37   -27065.96   \n11050     -157.16     -578.46      -34.70    -3354.75    -2827.51     -201.03   \n11060        0.00        0.00        0.00       -9.86        0.00        0.00   \n11100    -1235.53    -1235.53        0.00        0.00        0.00        0.00   \n11500     -100.00     -100.00      -95.29     -126.73     -126.73     -100.00   \n...           ...         ...         ...         ...         ...         ...   \n91000    -2085.85    -2238.65       -3.77      -13.20        0.00     -756.32   \n91500        0.00     -105.00        0.00        0.00        0.00        0.00   \n91700    -2678.15    -3808.91    -2571.03    -4285.05    -3428.04    -3428.04   \n94000    -1060.66    -1051.62     -208.71    -2972.67    -1323.88    -1817.90   \n95000        0.00     -691.13        0.00       -7.81      -54.02        0.00   \n\n       2023-08-31  \n11040 -1329638.38  \n11050    -1198.15  \n11060        0.00  \n11100        0.00  \n11500     -100.00  \n...           ...  \n91000       34.75  \n91500        0.00  \n91700    -1858.11  \n94000     -868.46  \n95000     -966.93  \n\n[119 rows x 7 columns]",
      "text/html": "<div>\n<style scoped>\n    .dataframe tbody tr th:only-of-type {\n        vertical-align: middle;\n    }\n\n    .dataframe tbody tr th {\n        vertical-align: top;\n    }\n\n    .dataframe thead th {\n        text-align: right;\n    }\n</style>\n<table border=\"1\" class=\"dataframe\">\n  <thead>\n    <tr style=\"text-align: right;\">\n      <th></th>\n      <th>2017-12-31</th>\n      <th>2018-12-31</th>\n      <th>2019-12-31</th>\n      <th>2020-12-31</th>\n      <th>2021-12-31</th>\n      <th>2022-12-31</th>\n      <th>2023-08-31</th>\n    </tr>\n  </thead>\n  <tbody>\n    <tr>\n      <th>11040</th>\n      <td>-106161.11</td>\n      <td>-132985.04</td>\n      <td>0.00</td>\n      <td>-91887.83</td>\n      <td>-195671.37</td>\n      <td>-27065.96</td>\n      <td>-1329638.38</td>\n    </tr>\n    <tr>\n      <th>11050</th>\n      <td>-157.16</td>\n      <td>-578.46</td>\n      <td>-34.70</td>\n      <td>-3354.75</td>\n      <td>-2827.51</td>\n      <td>-201.03</td>\n      <td>-1198.15</td>\n    </tr>\n    <tr>\n      <th>11060</th>\n      <td>0.00</td>\n      <td>0.00</td>\n      <td>0.00</td>\n      <td>-9.86</td>\n      <td>0.00</td>\n      <td>0.00</td>\n      <td>0.00</td>\n    </tr>\n    <tr>\n      <th>11100</th>\n      <td>-1235.53</td>\n      <td>-1235.53</td>\n      <td>0.00</td>\n      <td>0.00</td>\n      <td>0.00</td>\n      <td>0.00</td>\n      <td>0.00</td>\n    </tr>\n    <tr>\n      <th>11500</th>\n      <td>-100.00</td>\n      <td>-100.00</td>\n      <td>-95.29</td>\n      <td>-126.73</td>\n      <td>-126.73</td>\n      <td>-100.00</td>\n      <td>-100.00</td>\n    </tr>\n    <tr>\n      <th>...</th>\n      <td>...</td>\n      <td>...</td>\n      <td>...</td>\n      <td>...</td>\n      <td>...</td>\n      <td>...</td>\n      <td>...</td>\n    </tr>\n    <tr>\n      <th>91000</th>\n      <td>-2085.85</td>\n      <td>-2238.65</td>\n      <td>-3.77</td>\n      <td>-13.20</td>\n      <td>0.00</td>\n      <td>-756.32</td>\n      <td>34.75</td>\n    </tr>\n    <tr>\n      <th>91500</th>\n      <td>0.00</td>\n      <td>-105.00</td>\n      <td>0.00</td>\n      <td>0.00</td>\n      <td>0.00</td>\n      <td>0.00</td>\n      <td>0.00</td>\n    </tr>\n    <tr>\n      <th>91700</th>\n      <td>-2678.15</td>\n      <td>-3808.91</td>\n      <td>-2571.03</td>\n      <td>-4285.05</td>\n      <td>-3428.04</td>\n      <td>-3428.04</td>\n      <td>-1858.11</td>\n    </tr>\n    <tr>\n      <th>94000</th>\n      <td>-1060.66</td>\n      <td>-1051.62</td>\n      <td>-208.71</td>\n      <td>-2972.67</td>\n      <td>-1323.88</td>\n      <td>-1817.90</td>\n      <td>-868.46</td>\n    </tr>\n    <tr>\n      <th>95000</th>\n      <td>0.00</td>\n      <td>-691.13</td>\n      <td>0.00</td>\n      <td>-7.81</td>\n      <td>-54.02</td>\n      <td>0.00</td>\n      <td>-966.93</td>\n    </tr>\n  </tbody>\n</table>\n<p>119 rows × 7 columns</p>\n</div>"
     },
     "execution_count": 6,
     "metadata": {},
     "output_type": "execute_result"
    }
   ],
   "source": [
    "yearly = True\n",
    "# yearly = False\n",
    "\n",
    "if yearly:\n",
    "    tb['year'] = [date[:4] for date in tb.index]\n",
    "    grp = tb.groupby('year')\n",
    "    # Choose the last of each grouping. This works because the data is cumulative\n",
    "    tb = grp.tail(1).iloc[:, :-1]\n",
    "tb.T"
   ],
   "metadata": {
    "collapsed": false,
    "ExecuteTime": {
     "end_time": "2023-11-07T00:18:12.462752200Z",
     "start_time": "2023-11-07T00:18:12.451776600Z"
    }
   }
  },
  {
   "cell_type": "markdown",
   "source": [
    "### Merge with detailed map"
   ],
   "metadata": {
    "collapsed": false
   }
  },
  {
   "cell_type": "code",
   "execution_count": 7,
   "outputs": [],
   "source": [
    "tb = tb.T\n",
    "\n",
    "tb[AccountLevel.ACCOUNT_NO] = tb.index\n",
    "tb = tb.merge(accounts.detailed_account_map, how='left', on=AccountLevel.ACCOUNT_NO)\n",
    "# tb"
   ],
   "metadata": {
    "collapsed": false,
    "ExecuteTime": {
     "end_time": "2023-11-07T00:19:21.067758400Z",
     "start_time": "2023-11-07T00:19:21.044321200Z"
    }
   }
  },
  {
   "cell_type": "code",
   "execution_count": 8,
   "outputs": [
    {
     "data": {
      "text/plain": "     2017-12-31  2018-12-31  2019-12-31  2020-12-31  2021-12-31  2022-12-31  \\\n0    -106161.11  -132985.04        0.00   -91887.83  -195671.37   -27065.96   \n1       -157.16     -578.46      -34.70    -3354.75    -2827.51     -201.03   \n2          0.00        0.00        0.00       -9.86        0.00        0.00   \n3      -1235.53    -1235.53        0.00        0.00        0.00        0.00   \n4       -100.00     -100.00      -95.29     -126.73     -126.73     -100.00   \n..          ...         ...         ...         ...         ...         ...   \n114    -2085.85    -2238.65       -3.77      -13.20        0.00     -756.32   \n115        0.00     -105.00        0.00        0.00        0.00        0.00   \n116    -2678.15    -3808.91    -2571.03    -4285.05    -3428.04    -3428.04   \n117    -1060.66    -1051.62     -208.71    -2972.67    -1323.88    -1817.90   \n118        0.00     -691.13        0.00       -7.81      -54.02        0.00   \n\n     2023-08-31 AccountLevel.ACCOUNT_NO AccountLevel.IS_BS  \\\n0   -1329638.38                   11040                 BS   \n1      -1198.15                   11050                 BS   \n2          0.00                   11060                 BS   \n3          0.00                   11100                 BS   \n4       -100.00                   11500                 BS   \n..          ...                     ...                ...   \n114       34.75                   91000                 IS   \n115        0.00                   91500                 IS   \n116    -1858.11                   91700                 IS   \n117     -868.46                   94000                 IS   \n118     -966.93                   95000                 IS   \n\n    AccountLevel.NORMAL_BALANCE AccountLevel.CATEGORY  \\\n0                         DEBIT                ASSETS   \n1                         DEBIT                ASSETS   \n2                         DEBIT                ASSETS   \n3                         DEBIT                ASSETS   \n4                         DEBIT                ASSETS   \n..                          ...                   ...   \n114                       DEBIT        OTHER_EXPENSES   \n115                       DEBIT        OTHER_EXPENSES   \n116                       DEBIT        OTHER_EXPENSES   \n117                       DEBIT        OTHER_EXPENSES   \n118                       DEBIT        OTHER_EXPENSES   \n\n    AccountLevel.SUBCATEGORY AccountLevel.SUBCATEGORY2  \\\n0             CURRENT_ASSETS      CASH_AND_EQUIVALENTS   \n1             CURRENT_ASSETS      CASH_AND_EQUIVALENTS   \n2             CURRENT_ASSETS      CASH_AND_EQUIVALENTS   \n3             CURRENT_ASSETS      CASH_AND_EQUIVALENTS   \n4             CURRENT_ASSETS      CASH_AND_EQUIVALENTS   \n..                       ...                       ...   \n114              UNALLOWABLE                      NONE   \n115              UNALLOWABLE                      NONE   \n116              UNALLOWABLE                      NONE   \n117              UNALLOWABLE                      NONE   \n118              UNALLOWABLE                      NONE   \n\n          AccountLevel.ACCOUNT  \n0                PNC Operating  \n1                  PNC Payroll  \n2             PNC Money Market  \n3             Wells Fargo Bank  \n4     Cash on Hand, Petty Cash  \n..                         ...  \n114           Interest Expense  \n115              Contributions  \n116          Officer Insurance  \n117    Personal Property Taxes  \n118  Misc. Unallowable Expense  \n\n[119 rows x 14 columns]",
      "text/html": "<div>\n<style scoped>\n    .dataframe tbody tr th:only-of-type {\n        vertical-align: middle;\n    }\n\n    .dataframe tbody tr th {\n        vertical-align: top;\n    }\n\n    .dataframe thead th {\n        text-align: right;\n    }\n</style>\n<table border=\"1\" class=\"dataframe\">\n  <thead>\n    <tr style=\"text-align: right;\">\n      <th></th>\n      <th>2017-12-31</th>\n      <th>2018-12-31</th>\n      <th>2019-12-31</th>\n      <th>2020-12-31</th>\n      <th>2021-12-31</th>\n      <th>2022-12-31</th>\n      <th>2023-08-31</th>\n      <th>AccountLevel.ACCOUNT_NO</th>\n      <th>AccountLevel.IS_BS</th>\n      <th>AccountLevel.NORMAL_BALANCE</th>\n      <th>AccountLevel.CATEGORY</th>\n      <th>AccountLevel.SUBCATEGORY</th>\n      <th>AccountLevel.SUBCATEGORY2</th>\n      <th>AccountLevel.ACCOUNT</th>\n    </tr>\n  </thead>\n  <tbody>\n    <tr>\n      <th>0</th>\n      <td>-106161.11</td>\n      <td>-132985.04</td>\n      <td>0.00</td>\n      <td>-91887.83</td>\n      <td>-195671.37</td>\n      <td>-27065.96</td>\n      <td>-1329638.38</td>\n      <td>11040</td>\n      <td>BS</td>\n      <td>DEBIT</td>\n      <td>ASSETS</td>\n      <td>CURRENT_ASSETS</td>\n      <td>CASH_AND_EQUIVALENTS</td>\n      <td>PNC Operating</td>\n    </tr>\n    <tr>\n      <th>1</th>\n      <td>-157.16</td>\n      <td>-578.46</td>\n      <td>-34.70</td>\n      <td>-3354.75</td>\n      <td>-2827.51</td>\n      <td>-201.03</td>\n      <td>-1198.15</td>\n      <td>11050</td>\n      <td>BS</td>\n      <td>DEBIT</td>\n      <td>ASSETS</td>\n      <td>CURRENT_ASSETS</td>\n      <td>CASH_AND_EQUIVALENTS</td>\n      <td>PNC Payroll</td>\n    </tr>\n    <tr>\n      <th>2</th>\n      <td>0.00</td>\n      <td>0.00</td>\n      <td>0.00</td>\n      <td>-9.86</td>\n      <td>0.00</td>\n      <td>0.00</td>\n      <td>0.00</td>\n      <td>11060</td>\n      <td>BS</td>\n      <td>DEBIT</td>\n      <td>ASSETS</td>\n      <td>CURRENT_ASSETS</td>\n      <td>CASH_AND_EQUIVALENTS</td>\n      <td>PNC Money Market</td>\n    </tr>\n    <tr>\n      <th>3</th>\n      <td>-1235.53</td>\n      <td>-1235.53</td>\n      <td>0.00</td>\n      <td>0.00</td>\n      <td>0.00</td>\n      <td>0.00</td>\n      <td>0.00</td>\n      <td>11100</td>\n      <td>BS</td>\n      <td>DEBIT</td>\n      <td>ASSETS</td>\n      <td>CURRENT_ASSETS</td>\n      <td>CASH_AND_EQUIVALENTS</td>\n      <td>Wells Fargo Bank</td>\n    </tr>\n    <tr>\n      <th>4</th>\n      <td>-100.00</td>\n      <td>-100.00</td>\n      <td>-95.29</td>\n      <td>-126.73</td>\n      <td>-126.73</td>\n      <td>-100.00</td>\n      <td>-100.00</td>\n      <td>11500</td>\n      <td>BS</td>\n      <td>DEBIT</td>\n      <td>ASSETS</td>\n      <td>CURRENT_ASSETS</td>\n      <td>CASH_AND_EQUIVALENTS</td>\n      <td>Cash on Hand, Petty Cash</td>\n    </tr>\n    <tr>\n      <th>...</th>\n      <td>...</td>\n      <td>...</td>\n      <td>...</td>\n      <td>...</td>\n      <td>...</td>\n      <td>...</td>\n      <td>...</td>\n      <td>...</td>\n      <td>...</td>\n      <td>...</td>\n      <td>...</td>\n      <td>...</td>\n      <td>...</td>\n      <td>...</td>\n    </tr>\n    <tr>\n      <th>114</th>\n      <td>-2085.85</td>\n      <td>-2238.65</td>\n      <td>-3.77</td>\n      <td>-13.20</td>\n      <td>0.00</td>\n      <td>-756.32</td>\n      <td>34.75</td>\n      <td>91000</td>\n      <td>IS</td>\n      <td>DEBIT</td>\n      <td>OTHER_EXPENSES</td>\n      <td>UNALLOWABLE</td>\n      <td>NONE</td>\n      <td>Interest Expense</td>\n    </tr>\n    <tr>\n      <th>115</th>\n      <td>0.00</td>\n      <td>-105.00</td>\n      <td>0.00</td>\n      <td>0.00</td>\n      <td>0.00</td>\n      <td>0.00</td>\n      <td>0.00</td>\n      <td>91500</td>\n      <td>IS</td>\n      <td>DEBIT</td>\n      <td>OTHER_EXPENSES</td>\n      <td>UNALLOWABLE</td>\n      <td>NONE</td>\n      <td>Contributions</td>\n    </tr>\n    <tr>\n      <th>116</th>\n      <td>-2678.15</td>\n      <td>-3808.91</td>\n      <td>-2571.03</td>\n      <td>-4285.05</td>\n      <td>-3428.04</td>\n      <td>-3428.04</td>\n      <td>-1858.11</td>\n      <td>91700</td>\n      <td>IS</td>\n      <td>DEBIT</td>\n      <td>OTHER_EXPENSES</td>\n      <td>UNALLOWABLE</td>\n      <td>NONE</td>\n      <td>Officer Insurance</td>\n    </tr>\n    <tr>\n      <th>117</th>\n      <td>-1060.66</td>\n      <td>-1051.62</td>\n      <td>-208.71</td>\n      <td>-2972.67</td>\n      <td>-1323.88</td>\n      <td>-1817.90</td>\n      <td>-868.46</td>\n      <td>94000</td>\n      <td>IS</td>\n      <td>DEBIT</td>\n      <td>OTHER_EXPENSES</td>\n      <td>UNALLOWABLE</td>\n      <td>NONE</td>\n      <td>Personal Property Taxes</td>\n    </tr>\n    <tr>\n      <th>118</th>\n      <td>0.00</td>\n      <td>-691.13</td>\n      <td>0.00</td>\n      <td>-7.81</td>\n      <td>-54.02</td>\n      <td>0.00</td>\n      <td>-966.93</td>\n      <td>95000</td>\n      <td>IS</td>\n      <td>DEBIT</td>\n      <td>OTHER_EXPENSES</td>\n      <td>UNALLOWABLE</td>\n      <td>NONE</td>\n      <td>Misc. Unallowable Expense</td>\n    </tr>\n  </tbody>\n</table>\n<p>119 rows × 14 columns</p>\n</div>"
     },
     "execution_count": 8,
     "metadata": {},
     "output_type": "execute_result"
    }
   ],
   "source": [
    "tb"
   ],
   "metadata": {
    "collapsed": false,
    "ExecuteTime": {
     "end_time": "2023-11-07T00:19:26.433346100Z",
     "start_time": "2023-11-07T00:19:26.410140700Z"
    }
   }
  },
  {
   "cell_type": "code",
   "execution_count": 9,
   "outputs": [],
   "source": [
    "grp = tb.groupby(AccountLevel.CATEGORY)\n",
    "grp.first(2)\n",
    "grp.get_group(CATEGORY.ASSETS)\n",
    "a = grp.sum().iloc[:, :-6].T\n",
    "# a[CATEGORY.ASSETS]\n",
    "\n",
    "# a"
   ],
   "metadata": {
    "collapsed": false,
    "ExecuteTime": {
     "end_time": "2023-11-07T00:20:08.561656800Z",
     "start_time": "2023-11-07T00:20:08.529622700Z"
    }
   }
  },
  {
   "cell_type": "code",
   "execution_count": 10,
   "outputs": [
    {
     "data": {
      "text/plain": "2017-12-31    0.144987\n2018-12-31    0.128829\n2019-12-31    0.145744\n2020-12-31    0.229212\n2021-12-31    0.328672\n2022-12-31    0.127389\n2023-08-31    0.146273\ndtype: float64"
     },
     "execution_count": 10,
     "metadata": {},
     "output_type": "execute_result"
    }
   ],
   "source": [
    "(a[CATEGORY.REVENUE] + a[CATEGORY.COGS] + a[CATEGORY.OPERATING_EXPENSES] + a[CATEGORY.OTHER_EXPENSES])/a[CATEGORY.REVENUE]\n",
    "# grp.get_group(CATEGORY.LIABILITIES)"
   ],
   "metadata": {
    "collapsed": false,
    "ExecuteTime": {
     "end_time": "2023-11-07T00:20:11.213355500Z",
     "start_time": "2023-11-07T00:20:11.201084100Z"
    }
   }
  },
  {
   "cell_type": "markdown",
   "source": [
    "---\n",
    "## Grouping by multiple categories"
   ],
   "metadata": {
    "collapsed": false
   }
  },
  {
   "cell_type": "code",
   "execution_count": 11,
   "outputs": [
    {
     "data": {
      "text/plain": "    2017-12-31  2018-12-31  2019-12-31  2020-12-31  2021-12-31  2022-12-31  \\\n0   -106161.11  -132985.04        0.00   -91887.83  -195671.37   -27065.96   \n1      -157.16     -578.46      -34.70    -3354.75    -2827.51     -201.03   \n2         0.00        0.00        0.00       -9.86        0.00        0.00   \n3     -1235.53    -1235.53        0.00        0.00        0.00        0.00   \n4      -100.00     -100.00      -95.29     -126.73     -126.73     -100.00   \n5         0.00        0.00   -10129.24        0.00        0.00        0.00   \n6   -768095.81  -783485.54  -993525.97 -1238718.48 -1173292.39 -1533534.57   \n7     -2284.20    -4661.70    -3288.20        0.00        0.00        0.00   \n8         0.00        0.00        0.00        0.00        0.00        0.00   \n9    -13100.00   -13100.00   -13100.00   -13100.00   -13100.00   -13100.00   \n10  -107787.00  -107787.00  -107787.00  -107787.00  -111809.70  -111809.70   \n11   -43496.00   -43496.00   -43496.00   -43496.00   -43496.00   -43496.00   \n12  -254985.96  -215334.76  -215420.94  -215420.94  -253197.33  -253111.15   \n13   333998.24   299526.04   328195.02   340534.20   298149.36   330161.27   \n14    -9212.68     -106.36     -348.00     -232.00     -116.00     -377.00   \n15 -1942707.07 -1942707.07 -1942707.07 -1942707.07 -1942707.07        0.00   \n16  1942707.07  1942707.07  1942707.07  1942707.07  1942707.07        0.00   \n17        0.00        0.00     8931.79     4767.59        0.00        0.00   \n18        0.00        0.00    23737.03        0.00        0.00        0.00   \n19        0.00        0.00        0.00        0.00        0.00        0.00   \n20        0.00        0.00        0.00        0.00        0.00        0.00   \n21    15553.18     6771.88        0.00        0.00        0.00        0.00   \n22        0.00        0.00        0.00        0.00        0.00        0.00   \n23     5291.68        0.00        0.00        0.00        0.00        0.00   \n24        0.00        0.00        0.00        0.00        0.00        0.00   \n25        0.00    24448.38    18695.82    12943.26     7190.70     1438.14   \n26        0.00        0.00        0.00        0.00        0.00        0.00   \n27   133953.44   139895.15   109685.38    94395.76    87258.04    91980.11   \n28        0.00        0.00     8508.78    26239.94    25351.30    25701.71   \n29        0.00        0.00        0.00        0.00        0.00        0.00   \n30        0.00        0.00        0.00        0.00        0.00        0.00   \n31        0.00        0.00        0.00        0.00        0.00        0.00   \n32        0.00        0.00        0.00        0.00        0.00        0.00   \n33        0.00        0.00        0.00        0.00        0.00        0.00   \n34        0.00        0.00        0.00        0.00        0.00        0.00   \n35        0.00        0.00        0.00        0.00        0.00        0.00   \n36     1000.00     1000.00     1000.00     1000.00     1000.00     1000.00   \n37  -991112.00  -983000.00 -1187309.11 -1567621.00 -2400000.00 -1000000.00   \n38   162907.10   162907.10   162907.10   162907.10   162907.10   162907.10   \n39   535506.86   653911.81   668321.84   725496.21  1070709.01  1211695.00   \n\n    2023-08-31 AccountLevel.ACCOUNT_NO AccountLevel.IS_BS  \\\n0  -1329638.38                   11040                 BS   \n1     -1198.15                   11050                 BS   \n2         0.00                   11060                 BS   \n3         0.00                   11100                 BS   \n4      -100.00                   11500                 BS   \n5         0.00                   11600                 BS   \n6   -942201.02                   12000                 BS   \n7         0.00                   12050                 BS   \n8         0.00                   12500                 BS   \n9    -13100.00                   14700                 BS   \n10  -111809.70                   15000                 BS   \n11   -43496.00                   15200                 BS   \n12  -253111.15                   15700                 BS   \n13   332098.79                   16000                 BS   \n14     -377.00                   17500                 BS   \n15        0.00                   19200                 BS   \n16        0.00                   19500                 BS   \n17   393362.46                   20000                 BS   \n18        0.00                   20005                 BS   \n19    -1652.24                   20020                 BS   \n20    36000.00                   20300                 BS   \n21        0.00                   20400                 BS   \n22        0.00                   20500                 BS   \n23        0.00                   20700                 BS   \n24        0.00                   20750                 BS   \n25        0.00                   20800                 BS   \n26        0.00                   20900                 BS   \n27    84777.35                   21000                 BS   \n28    25701.71                   21050                 BS   \n29        0.00                   22250                 BS   \n30        0.00                   22400                 BS   \n31      552.66                   22550                 BS   \n32        0.00                   22600                 BS   \n33        0.00                   22650                 BS   \n34    27500.00                   23400                 BS   \n35        0.00                   24000                 BS   \n36     1000.00                   27000                 BS   \n37  -750000.00                   27100                 BS   \n38   162907.10                   27600                 BS   \n39  1369607.08                   28000                 BS   \n\n   AccountLevel.NORMAL_BALANCE AccountLevel.CATEGORY AccountLevel.SUBCATEGORY  \\\n0                        DEBIT                ASSETS           CURRENT_ASSETS   \n1                        DEBIT                ASSETS           CURRENT_ASSETS   \n2                        DEBIT                ASSETS           CURRENT_ASSETS   \n3                        DEBIT                ASSETS           CURRENT_ASSETS   \n4                        DEBIT                ASSETS           CURRENT_ASSETS   \n5                        DEBIT                ASSETS           CURRENT_ASSETS   \n6                        DEBIT                ASSETS           CURRENT_ASSETS   \n7                        DEBIT                ASSETS           CURRENT_ASSETS   \n8                        DEBIT                ASSETS           CURRENT_ASSETS   \n9                        DEBIT                ASSETS         LONG_TERM_ASSETS   \n10                       DEBIT                ASSETS         LONG_TERM_ASSETS   \n11                       DEBIT                ASSETS         LONG_TERM_ASSETS   \n12                       DEBIT                ASSETS         LONG_TERM_ASSETS   \n13                       DEBIT                ASSETS         LONG_TERM_ASSETS   \n14                       DEBIT                ASSETS         LONG_TERM_ASSETS   \n15                       DEBIT                ASSETS         LONG_TERM_ASSETS   \n16                       DEBIT                ASSETS         LONG_TERM_ASSETS   \n17                      CREDIT           LIABILITIES      CURRENT_LIABILITIES   \n18                      CREDIT           LIABILITIES      CURRENT_LIABILITIES   \n19                      CREDIT           LIABILITIES      CURRENT_LIABILITIES   \n20                      CREDIT           LIABILITIES      CURRENT_LIABILITIES   \n21                      CREDIT           LIABILITIES      CURRENT_LIABILITIES   \n22                      CREDIT           LIABILITIES      CURRENT_LIABILITIES   \n23                      CREDIT           LIABILITIES      CURRENT_LIABILITIES   \n24                      CREDIT           LIABILITIES      CURRENT_LIABILITIES   \n25                      CREDIT           LIABILITIES      CURRENT_LIABILITIES   \n26                      CREDIT           LIABILITIES      CURRENT_LIABILITIES   \n27                      CREDIT           LIABILITIES    LONG_TERM_LIABILITIES   \n28                      CREDIT           LIABILITIES    LONG_TERM_LIABILITIES   \n29                      CREDIT           LIABILITIES    LONG_TERM_LIABILITIES   \n30                      CREDIT           LIABILITIES    LONG_TERM_LIABILITIES   \n31                      CREDIT           LIABILITIES    LONG_TERM_LIABILITIES   \n32                      CREDIT           LIABILITIES    LONG_TERM_LIABILITIES   \n33                      CREDIT           LIABILITIES    LONG_TERM_LIABILITIES   \n34                      CREDIT           LIABILITIES    LONG_TERM_LIABILITIES   \n35                      CREDIT           LIABILITIES    LONG_TERM_LIABILITIES   \n36                      CREDIT                EQUITY                    STOCK   \n37                      CREDIT                EQUITY            DISTRIBUTIONS   \n38                      CREDIT                EQUITY            OWNERS_EQUITY   \n39                      CREDIT                EQUITY            OWNERS_EQUITY   \n\n      AccountLevel.SUBCATEGORY2            AccountLevel.ACCOUNT  \n0          CASH_AND_EQUIVALENTS                   PNC Operating  \n1          CASH_AND_EQUIVALENTS                     PNC Payroll  \n2          CASH_AND_EQUIVALENTS                PNC Money Market  \n3          CASH_AND_EQUIVALENTS                Wells Fargo Bank  \n4          CASH_AND_EQUIVALENTS        Cash on Hand, Petty Cash  \n5          CASH_AND_EQUIVALENTS      Accounts Receivable, Other  \n6           ACCOUNTS_RECEIVABLE             Accounts Receivable  \n7           ACCOUNTS_RECEIVABLE  Accounts Receivable, Employees  \n8           ACCOUNTS_RECEIVABLE          Deposits & Prepaid A/R  \n9        PROPERTY_AND_EQUIPMENT            Furniture & Fixtures  \n10       PROPERTY_AND_EQUIPMENT           Machinery & Equipment  \n11       PROPERTY_AND_EQUIPMENT                        Building  \n12       PROPERTY_AND_EQUIPMENT                        Vehicles  \n13       PROPERTY_AND_EQUIPMENT        Accumulated Depreciation  \n14                 OTHER_ASSETS                Prepaid Expenses  \n15                 OTHER_ASSETS               Intangible Assets  \n16                 OTHER_ASSETS        Accumulated Amortization  \n17             ACCOUNTS_PAYABLE                Accounts Payable  \n18             ACCOUNTS_PAYABLE           Negative Cash Balance  \n19             ACCOUNTS_PAYABLE        Accrued Accounts Payable  \n20             ACCRUED_EXPENSES           Accrued Bonus Payable  \n21    OTHER_CURRENT_LIABILITIES  Notes Payable 2014 Infiniti JX  \n22    OTHER_CURRENT_LIABILITIES    Notes Payable Nat. Coop Bank  \n23    OTHER_CURRENT_LIABILITIES     Notes Payable  2014 Transit  \n24    OTHER_CURRENT_LIABILITIES      Wells Fargo Line of Credit  \n25    OTHER_CURRENT_LIABILITIES     Notes Payable 2018 Chrysler  \n26    OTHER_CURRENT_LIABILITIES         Payroll Protection Loan  \n27             ACCRUED_EXPENSES                     Accured PTO  \n28             ACCRUED_EXPENSES              Accured Sick Leave  \n29  OTHER_LONG_TERM_LIABILITIES                FFCRA Tax Credit  \n30  OTHER_LONG_TERM_LIABILITIES                 MD Unemployment  \n31  OTHER_LONG_TERM_LIABILITIES                 AFLAC Insurance  \n32  OTHER_LONG_TERM_LIABILITIES                   401 K Payable  \n33  OTHER_LONG_TERM_LIABILITIES     Employee 401 K Loan Payable  \n34  OTHER_LONG_TERM_LIABILITIES                 Deferred Income  \n35  OTHER_LONG_TERM_LIABILITIES   Notes Payable, NCB, Long Term  \n36                         NONE                   Capitol Stock  \n37                         NONE                   Distributions  \n38                         NONE                   Owners Equity  \n39                         NONE               Retained Earnings  ",
      "text/html": "<div>\n<style scoped>\n    .dataframe tbody tr th:only-of-type {\n        vertical-align: middle;\n    }\n\n    .dataframe tbody tr th {\n        vertical-align: top;\n    }\n\n    .dataframe thead th {\n        text-align: right;\n    }\n</style>\n<table border=\"1\" class=\"dataframe\">\n  <thead>\n    <tr style=\"text-align: right;\">\n      <th></th>\n      <th>2017-12-31</th>\n      <th>2018-12-31</th>\n      <th>2019-12-31</th>\n      <th>2020-12-31</th>\n      <th>2021-12-31</th>\n      <th>2022-12-31</th>\n      <th>2023-08-31</th>\n      <th>AccountLevel.ACCOUNT_NO</th>\n      <th>AccountLevel.IS_BS</th>\n      <th>AccountLevel.NORMAL_BALANCE</th>\n      <th>AccountLevel.CATEGORY</th>\n      <th>AccountLevel.SUBCATEGORY</th>\n      <th>AccountLevel.SUBCATEGORY2</th>\n      <th>AccountLevel.ACCOUNT</th>\n    </tr>\n  </thead>\n  <tbody>\n    <tr>\n      <th>0</th>\n      <td>-106161.11</td>\n      <td>-132985.04</td>\n      <td>0.00</td>\n      <td>-91887.83</td>\n      <td>-195671.37</td>\n      <td>-27065.96</td>\n      <td>-1329638.38</td>\n      <td>11040</td>\n      <td>BS</td>\n      <td>DEBIT</td>\n      <td>ASSETS</td>\n      <td>CURRENT_ASSETS</td>\n      <td>CASH_AND_EQUIVALENTS</td>\n      <td>PNC Operating</td>\n    </tr>\n    <tr>\n      <th>1</th>\n      <td>-157.16</td>\n      <td>-578.46</td>\n      <td>-34.70</td>\n      <td>-3354.75</td>\n      <td>-2827.51</td>\n      <td>-201.03</td>\n      <td>-1198.15</td>\n      <td>11050</td>\n      <td>BS</td>\n      <td>DEBIT</td>\n      <td>ASSETS</td>\n      <td>CURRENT_ASSETS</td>\n      <td>CASH_AND_EQUIVALENTS</td>\n      <td>PNC Payroll</td>\n    </tr>\n    <tr>\n      <th>2</th>\n      <td>0.00</td>\n      <td>0.00</td>\n      <td>0.00</td>\n      <td>-9.86</td>\n      <td>0.00</td>\n      <td>0.00</td>\n      <td>0.00</td>\n      <td>11060</td>\n      <td>BS</td>\n      <td>DEBIT</td>\n      <td>ASSETS</td>\n      <td>CURRENT_ASSETS</td>\n      <td>CASH_AND_EQUIVALENTS</td>\n      <td>PNC Money Market</td>\n    </tr>\n    <tr>\n      <th>3</th>\n      <td>-1235.53</td>\n      <td>-1235.53</td>\n      <td>0.00</td>\n      <td>0.00</td>\n      <td>0.00</td>\n      <td>0.00</td>\n      <td>0.00</td>\n      <td>11100</td>\n      <td>BS</td>\n      <td>DEBIT</td>\n      <td>ASSETS</td>\n      <td>CURRENT_ASSETS</td>\n      <td>CASH_AND_EQUIVALENTS</td>\n      <td>Wells Fargo Bank</td>\n    </tr>\n    <tr>\n      <th>4</th>\n      <td>-100.00</td>\n      <td>-100.00</td>\n      <td>-95.29</td>\n      <td>-126.73</td>\n      <td>-126.73</td>\n      <td>-100.00</td>\n      <td>-100.00</td>\n      <td>11500</td>\n      <td>BS</td>\n      <td>DEBIT</td>\n      <td>ASSETS</td>\n      <td>CURRENT_ASSETS</td>\n      <td>CASH_AND_EQUIVALENTS</td>\n      <td>Cash on Hand, Petty Cash</td>\n    </tr>\n    <tr>\n      <th>5</th>\n      <td>0.00</td>\n      <td>0.00</td>\n      <td>-10129.24</td>\n      <td>0.00</td>\n      <td>0.00</td>\n      <td>0.00</td>\n      <td>0.00</td>\n      <td>11600</td>\n      <td>BS</td>\n      <td>DEBIT</td>\n      <td>ASSETS</td>\n      <td>CURRENT_ASSETS</td>\n      <td>CASH_AND_EQUIVALENTS</td>\n      <td>Accounts Receivable, Other</td>\n    </tr>\n    <tr>\n      <th>6</th>\n      <td>-768095.81</td>\n      <td>-783485.54</td>\n      <td>-993525.97</td>\n      <td>-1238718.48</td>\n      <td>-1173292.39</td>\n      <td>-1533534.57</td>\n      <td>-942201.02</td>\n      <td>12000</td>\n      <td>BS</td>\n      <td>DEBIT</td>\n      <td>ASSETS</td>\n      <td>CURRENT_ASSETS</td>\n      <td>ACCOUNTS_RECEIVABLE</td>\n      <td>Accounts Receivable</td>\n    </tr>\n    <tr>\n      <th>7</th>\n      <td>-2284.20</td>\n      <td>-4661.70</td>\n      <td>-3288.20</td>\n      <td>0.00</td>\n      <td>0.00</td>\n      <td>0.00</td>\n      <td>0.00</td>\n      <td>12050</td>\n      <td>BS</td>\n      <td>DEBIT</td>\n      <td>ASSETS</td>\n      <td>CURRENT_ASSETS</td>\n      <td>ACCOUNTS_RECEIVABLE</td>\n      <td>Accounts Receivable, Employees</td>\n    </tr>\n    <tr>\n      <th>8</th>\n      <td>0.00</td>\n      <td>0.00</td>\n      <td>0.00</td>\n      <td>0.00</td>\n      <td>0.00</td>\n      <td>0.00</td>\n      <td>0.00</td>\n      <td>12500</td>\n      <td>BS</td>\n      <td>DEBIT</td>\n      <td>ASSETS</td>\n      <td>CURRENT_ASSETS</td>\n      <td>ACCOUNTS_RECEIVABLE</td>\n      <td>Deposits &amp; Prepaid A/R</td>\n    </tr>\n    <tr>\n      <th>9</th>\n      <td>-13100.00</td>\n      <td>-13100.00</td>\n      <td>-13100.00</td>\n      <td>-13100.00</td>\n      <td>-13100.00</td>\n      <td>-13100.00</td>\n      <td>-13100.00</td>\n      <td>14700</td>\n      <td>BS</td>\n      <td>DEBIT</td>\n      <td>ASSETS</td>\n      <td>LONG_TERM_ASSETS</td>\n      <td>PROPERTY_AND_EQUIPMENT</td>\n      <td>Furniture &amp; Fixtures</td>\n    </tr>\n    <tr>\n      <th>10</th>\n      <td>-107787.00</td>\n      <td>-107787.00</td>\n      <td>-107787.00</td>\n      <td>-107787.00</td>\n      <td>-111809.70</td>\n      <td>-111809.70</td>\n      <td>-111809.70</td>\n      <td>15000</td>\n      <td>BS</td>\n      <td>DEBIT</td>\n      <td>ASSETS</td>\n      <td>LONG_TERM_ASSETS</td>\n      <td>PROPERTY_AND_EQUIPMENT</td>\n      <td>Machinery &amp; Equipment</td>\n    </tr>\n    <tr>\n      <th>11</th>\n      <td>-43496.00</td>\n      <td>-43496.00</td>\n      <td>-43496.00</td>\n      <td>-43496.00</td>\n      <td>-43496.00</td>\n      <td>-43496.00</td>\n      <td>-43496.00</td>\n      <td>15200</td>\n      <td>BS</td>\n      <td>DEBIT</td>\n      <td>ASSETS</td>\n      <td>LONG_TERM_ASSETS</td>\n      <td>PROPERTY_AND_EQUIPMENT</td>\n      <td>Building</td>\n    </tr>\n    <tr>\n      <th>12</th>\n      <td>-254985.96</td>\n      <td>-215334.76</td>\n      <td>-215420.94</td>\n      <td>-215420.94</td>\n      <td>-253197.33</td>\n      <td>-253111.15</td>\n      <td>-253111.15</td>\n      <td>15700</td>\n      <td>BS</td>\n      <td>DEBIT</td>\n      <td>ASSETS</td>\n      <td>LONG_TERM_ASSETS</td>\n      <td>PROPERTY_AND_EQUIPMENT</td>\n      <td>Vehicles</td>\n    </tr>\n    <tr>\n      <th>13</th>\n      <td>333998.24</td>\n      <td>299526.04</td>\n      <td>328195.02</td>\n      <td>340534.20</td>\n      <td>298149.36</td>\n      <td>330161.27</td>\n      <td>332098.79</td>\n      <td>16000</td>\n      <td>BS</td>\n      <td>DEBIT</td>\n      <td>ASSETS</td>\n      <td>LONG_TERM_ASSETS</td>\n      <td>PROPERTY_AND_EQUIPMENT</td>\n      <td>Accumulated Depreciation</td>\n    </tr>\n    <tr>\n      <th>14</th>\n      <td>-9212.68</td>\n      <td>-106.36</td>\n      <td>-348.00</td>\n      <td>-232.00</td>\n      <td>-116.00</td>\n      <td>-377.00</td>\n      <td>-377.00</td>\n      <td>17500</td>\n      <td>BS</td>\n      <td>DEBIT</td>\n      <td>ASSETS</td>\n      <td>LONG_TERM_ASSETS</td>\n      <td>OTHER_ASSETS</td>\n      <td>Prepaid Expenses</td>\n    </tr>\n    <tr>\n      <th>15</th>\n      <td>-1942707.07</td>\n      <td>-1942707.07</td>\n      <td>-1942707.07</td>\n      <td>-1942707.07</td>\n      <td>-1942707.07</td>\n      <td>0.00</td>\n      <td>0.00</td>\n      <td>19200</td>\n      <td>BS</td>\n      <td>DEBIT</td>\n      <td>ASSETS</td>\n      <td>LONG_TERM_ASSETS</td>\n      <td>OTHER_ASSETS</td>\n      <td>Intangible Assets</td>\n    </tr>\n    <tr>\n      <th>16</th>\n      <td>1942707.07</td>\n      <td>1942707.07</td>\n      <td>1942707.07</td>\n      <td>1942707.07</td>\n      <td>1942707.07</td>\n      <td>0.00</td>\n      <td>0.00</td>\n      <td>19500</td>\n      <td>BS</td>\n      <td>DEBIT</td>\n      <td>ASSETS</td>\n      <td>LONG_TERM_ASSETS</td>\n      <td>OTHER_ASSETS</td>\n      <td>Accumulated Amortization</td>\n    </tr>\n    <tr>\n      <th>17</th>\n      <td>0.00</td>\n      <td>0.00</td>\n      <td>8931.79</td>\n      <td>4767.59</td>\n      <td>0.00</td>\n      <td>0.00</td>\n      <td>393362.46</td>\n      <td>20000</td>\n      <td>BS</td>\n      <td>CREDIT</td>\n      <td>LIABILITIES</td>\n      <td>CURRENT_LIABILITIES</td>\n      <td>ACCOUNTS_PAYABLE</td>\n      <td>Accounts Payable</td>\n    </tr>\n    <tr>\n      <th>18</th>\n      <td>0.00</td>\n      <td>0.00</td>\n      <td>23737.03</td>\n      <td>0.00</td>\n      <td>0.00</td>\n      <td>0.00</td>\n      <td>0.00</td>\n      <td>20005</td>\n      <td>BS</td>\n      <td>CREDIT</td>\n      <td>LIABILITIES</td>\n      <td>CURRENT_LIABILITIES</td>\n      <td>ACCOUNTS_PAYABLE</td>\n      <td>Negative Cash Balance</td>\n    </tr>\n    <tr>\n      <th>19</th>\n      <td>0.00</td>\n      <td>0.00</td>\n      <td>0.00</td>\n      <td>0.00</td>\n      <td>0.00</td>\n      <td>0.00</td>\n      <td>-1652.24</td>\n      <td>20020</td>\n      <td>BS</td>\n      <td>CREDIT</td>\n      <td>LIABILITIES</td>\n      <td>CURRENT_LIABILITIES</td>\n      <td>ACCOUNTS_PAYABLE</td>\n      <td>Accrued Accounts Payable</td>\n    </tr>\n    <tr>\n      <th>20</th>\n      <td>0.00</td>\n      <td>0.00</td>\n      <td>0.00</td>\n      <td>0.00</td>\n      <td>0.00</td>\n      <td>0.00</td>\n      <td>36000.00</td>\n      <td>20300</td>\n      <td>BS</td>\n      <td>CREDIT</td>\n      <td>LIABILITIES</td>\n      <td>CURRENT_LIABILITIES</td>\n      <td>ACCRUED_EXPENSES</td>\n      <td>Accrued Bonus Payable</td>\n    </tr>\n    <tr>\n      <th>21</th>\n      <td>15553.18</td>\n      <td>6771.88</td>\n      <td>0.00</td>\n      <td>0.00</td>\n      <td>0.00</td>\n      <td>0.00</td>\n      <td>0.00</td>\n      <td>20400</td>\n      <td>BS</td>\n      <td>CREDIT</td>\n      <td>LIABILITIES</td>\n      <td>CURRENT_LIABILITIES</td>\n      <td>OTHER_CURRENT_LIABILITIES</td>\n      <td>Notes Payable 2014 Infiniti JX</td>\n    </tr>\n    <tr>\n      <th>22</th>\n      <td>0.00</td>\n      <td>0.00</td>\n      <td>0.00</td>\n      <td>0.00</td>\n      <td>0.00</td>\n      <td>0.00</td>\n      <td>0.00</td>\n      <td>20500</td>\n      <td>BS</td>\n      <td>CREDIT</td>\n      <td>LIABILITIES</td>\n      <td>CURRENT_LIABILITIES</td>\n      <td>OTHER_CURRENT_LIABILITIES</td>\n      <td>Notes Payable Nat. Coop Bank</td>\n    </tr>\n    <tr>\n      <th>23</th>\n      <td>5291.68</td>\n      <td>0.00</td>\n      <td>0.00</td>\n      <td>0.00</td>\n      <td>0.00</td>\n      <td>0.00</td>\n      <td>0.00</td>\n      <td>20700</td>\n      <td>BS</td>\n      <td>CREDIT</td>\n      <td>LIABILITIES</td>\n      <td>CURRENT_LIABILITIES</td>\n      <td>OTHER_CURRENT_LIABILITIES</td>\n      <td>Notes Payable  2014 Transit</td>\n    </tr>\n    <tr>\n      <th>24</th>\n      <td>0.00</td>\n      <td>0.00</td>\n      <td>0.00</td>\n      <td>0.00</td>\n      <td>0.00</td>\n      <td>0.00</td>\n      <td>0.00</td>\n      <td>20750</td>\n      <td>BS</td>\n      <td>CREDIT</td>\n      <td>LIABILITIES</td>\n      <td>CURRENT_LIABILITIES</td>\n      <td>OTHER_CURRENT_LIABILITIES</td>\n      <td>Wells Fargo Line of Credit</td>\n    </tr>\n    <tr>\n      <th>25</th>\n      <td>0.00</td>\n      <td>24448.38</td>\n      <td>18695.82</td>\n      <td>12943.26</td>\n      <td>7190.70</td>\n      <td>1438.14</td>\n      <td>0.00</td>\n      <td>20800</td>\n      <td>BS</td>\n      <td>CREDIT</td>\n      <td>LIABILITIES</td>\n      <td>CURRENT_LIABILITIES</td>\n      <td>OTHER_CURRENT_LIABILITIES</td>\n      <td>Notes Payable 2018 Chrysler</td>\n    </tr>\n    <tr>\n      <th>26</th>\n      <td>0.00</td>\n      <td>0.00</td>\n      <td>0.00</td>\n      <td>0.00</td>\n      <td>0.00</td>\n      <td>0.00</td>\n      <td>0.00</td>\n      <td>20900</td>\n      <td>BS</td>\n      <td>CREDIT</td>\n      <td>LIABILITIES</td>\n      <td>CURRENT_LIABILITIES</td>\n      <td>OTHER_CURRENT_LIABILITIES</td>\n      <td>Payroll Protection Loan</td>\n    </tr>\n    <tr>\n      <th>27</th>\n      <td>133953.44</td>\n      <td>139895.15</td>\n      <td>109685.38</td>\n      <td>94395.76</td>\n      <td>87258.04</td>\n      <td>91980.11</td>\n      <td>84777.35</td>\n      <td>21000</td>\n      <td>BS</td>\n      <td>CREDIT</td>\n      <td>LIABILITIES</td>\n      <td>LONG_TERM_LIABILITIES</td>\n      <td>ACCRUED_EXPENSES</td>\n      <td>Accured PTO</td>\n    </tr>\n    <tr>\n      <th>28</th>\n      <td>0.00</td>\n      <td>0.00</td>\n      <td>8508.78</td>\n      <td>26239.94</td>\n      <td>25351.30</td>\n      <td>25701.71</td>\n      <td>25701.71</td>\n      <td>21050</td>\n      <td>BS</td>\n      <td>CREDIT</td>\n      <td>LIABILITIES</td>\n      <td>LONG_TERM_LIABILITIES</td>\n      <td>ACCRUED_EXPENSES</td>\n      <td>Accured Sick Leave</td>\n    </tr>\n    <tr>\n      <th>29</th>\n      <td>0.00</td>\n      <td>0.00</td>\n      <td>0.00</td>\n      <td>0.00</td>\n      <td>0.00</td>\n      <td>0.00</td>\n      <td>0.00</td>\n      <td>22250</td>\n      <td>BS</td>\n      <td>CREDIT</td>\n      <td>LIABILITIES</td>\n      <td>LONG_TERM_LIABILITIES</td>\n      <td>OTHER_LONG_TERM_LIABILITIES</td>\n      <td>FFCRA Tax Credit</td>\n    </tr>\n    <tr>\n      <th>30</th>\n      <td>0.00</td>\n      <td>0.00</td>\n      <td>0.00</td>\n      <td>0.00</td>\n      <td>0.00</td>\n      <td>0.00</td>\n      <td>0.00</td>\n      <td>22400</td>\n      <td>BS</td>\n      <td>CREDIT</td>\n      <td>LIABILITIES</td>\n      <td>LONG_TERM_LIABILITIES</td>\n      <td>OTHER_LONG_TERM_LIABILITIES</td>\n      <td>MD Unemployment</td>\n    </tr>\n    <tr>\n      <th>31</th>\n      <td>0.00</td>\n      <td>0.00</td>\n      <td>0.00</td>\n      <td>0.00</td>\n      <td>0.00</td>\n      <td>0.00</td>\n      <td>552.66</td>\n      <td>22550</td>\n      <td>BS</td>\n      <td>CREDIT</td>\n      <td>LIABILITIES</td>\n      <td>LONG_TERM_LIABILITIES</td>\n      <td>OTHER_LONG_TERM_LIABILITIES</td>\n      <td>AFLAC Insurance</td>\n    </tr>\n    <tr>\n      <th>32</th>\n      <td>0.00</td>\n      <td>0.00</td>\n      <td>0.00</td>\n      <td>0.00</td>\n      <td>0.00</td>\n      <td>0.00</td>\n      <td>0.00</td>\n      <td>22600</td>\n      <td>BS</td>\n      <td>CREDIT</td>\n      <td>LIABILITIES</td>\n      <td>LONG_TERM_LIABILITIES</td>\n      <td>OTHER_LONG_TERM_LIABILITIES</td>\n      <td>401 K Payable</td>\n    </tr>\n    <tr>\n      <th>33</th>\n      <td>0.00</td>\n      <td>0.00</td>\n      <td>0.00</td>\n      <td>0.00</td>\n      <td>0.00</td>\n      <td>0.00</td>\n      <td>0.00</td>\n      <td>22650</td>\n      <td>BS</td>\n      <td>CREDIT</td>\n      <td>LIABILITIES</td>\n      <td>LONG_TERM_LIABILITIES</td>\n      <td>OTHER_LONG_TERM_LIABILITIES</td>\n      <td>Employee 401 K Loan Payable</td>\n    </tr>\n    <tr>\n      <th>34</th>\n      <td>0.00</td>\n      <td>0.00</td>\n      <td>0.00</td>\n      <td>0.00</td>\n      <td>0.00</td>\n      <td>0.00</td>\n      <td>27500.00</td>\n      <td>23400</td>\n      <td>BS</td>\n      <td>CREDIT</td>\n      <td>LIABILITIES</td>\n      <td>LONG_TERM_LIABILITIES</td>\n      <td>OTHER_LONG_TERM_LIABILITIES</td>\n      <td>Deferred Income</td>\n    </tr>\n    <tr>\n      <th>35</th>\n      <td>0.00</td>\n      <td>0.00</td>\n      <td>0.00</td>\n      <td>0.00</td>\n      <td>0.00</td>\n      <td>0.00</td>\n      <td>0.00</td>\n      <td>24000</td>\n      <td>BS</td>\n      <td>CREDIT</td>\n      <td>LIABILITIES</td>\n      <td>LONG_TERM_LIABILITIES</td>\n      <td>OTHER_LONG_TERM_LIABILITIES</td>\n      <td>Notes Payable, NCB, Long Term</td>\n    </tr>\n    <tr>\n      <th>36</th>\n      <td>1000.00</td>\n      <td>1000.00</td>\n      <td>1000.00</td>\n      <td>1000.00</td>\n      <td>1000.00</td>\n      <td>1000.00</td>\n      <td>1000.00</td>\n      <td>27000</td>\n      <td>BS</td>\n      <td>CREDIT</td>\n      <td>EQUITY</td>\n      <td>STOCK</td>\n      <td>NONE</td>\n      <td>Capitol Stock</td>\n    </tr>\n    <tr>\n      <th>37</th>\n      <td>-991112.00</td>\n      <td>-983000.00</td>\n      <td>-1187309.11</td>\n      <td>-1567621.00</td>\n      <td>-2400000.00</td>\n      <td>-1000000.00</td>\n      <td>-750000.00</td>\n      <td>27100</td>\n      <td>BS</td>\n      <td>CREDIT</td>\n      <td>EQUITY</td>\n      <td>DISTRIBUTIONS</td>\n      <td>NONE</td>\n      <td>Distributions</td>\n    </tr>\n    <tr>\n      <th>38</th>\n      <td>162907.10</td>\n      <td>162907.10</td>\n      <td>162907.10</td>\n      <td>162907.10</td>\n      <td>162907.10</td>\n      <td>162907.10</td>\n      <td>162907.10</td>\n      <td>27600</td>\n      <td>BS</td>\n      <td>CREDIT</td>\n      <td>EQUITY</td>\n      <td>OWNERS_EQUITY</td>\n      <td>NONE</td>\n      <td>Owners Equity</td>\n    </tr>\n    <tr>\n      <th>39</th>\n      <td>535506.86</td>\n      <td>653911.81</td>\n      <td>668321.84</td>\n      <td>725496.21</td>\n      <td>1070709.01</td>\n      <td>1211695.00</td>\n      <td>1369607.08</td>\n      <td>28000</td>\n      <td>BS</td>\n      <td>CREDIT</td>\n      <td>EQUITY</td>\n      <td>OWNERS_EQUITY</td>\n      <td>NONE</td>\n      <td>Retained Earnings</td>\n    </tr>\n  </tbody>\n</table>\n</div>"
     },
     "execution_count": 11,
     "metadata": {},
     "output_type": "execute_result"
    }
   ],
   "source": [
    "from finance_model.finance_enums import IS_BS\n",
    "\n",
    "rows = tb[AccountLevel.IS_BS] == IS_BS.BS\n",
    "tb2 = tb[rows]\n",
    "tb2\n",
    "# grp2 = tb.loc[,:]"
   ],
   "metadata": {
    "collapsed": false,
    "ExecuteTime": {
     "end_time": "2023-11-07T00:20:14.366777800Z",
     "start_time": "2023-11-07T00:20:14.352946400Z"
    }
   }
  },
  {
   "cell_type": "code",
   "execution_count": 12,
   "outputs": [
    {
     "data": {
      "text/plain": "<pandas.core.groupby.generic.DataFrameGroupBy object at 0x00000243C958C410>"
     },
     "execution_count": 12,
     "metadata": {},
     "output_type": "execute_result"
    }
   ],
   "source": [
    "\n",
    "grp2 = tb2.groupby([AccountLevel.CATEGORY, AccountLevel.SUBCATEGORY, AccountLevel.SUBCATEGORY2])\n",
    "grp2\n",
    "# grp.get_group(CATEGORY.EQUITY)"
   ],
   "metadata": {
    "collapsed": false,
    "ExecuteTime": {
     "end_time": "2023-11-07T00:20:16.291519700Z",
     "start_time": "2023-11-07T00:20:16.260030200Z"
    }
   }
  },
  {
   "cell_type": "code",
   "execution_count": null,
   "outputs": [],
   "source": [
    "# grp2.get_group((CATEGORY.ASSETS, SUBCATEGORY.CURRENT_ASSETS))\n",
    "```for cat, df in grp2:\n",
    "`    print(f'cat = {cat}')\n",
    "    a = df\n",
    "`    break\n",
    "`space = ' ' * 3\n",
    "# print(a)\n",
    "print(f'Assets:')\n",
    "print(f\"{space * 1}Current Assets\")\n",
    "a = grp2.get_group((CATEGORY.ASSETS, SUBCATEGORY.CURRENT_ASSETS))\n",
    "a.index=a[AccountLevel.ACCOUNT]\n",
    "a = a.iloc[:, :-7]\n",
    "# .iloc[:, :-7]\n",
    "# print(a)\n",
    "# a"
   ],
   "metadata": {
    "collapsed": false
   }
  },
  {
   "cell_type": "markdown",
   "source": [
    "## Tree\n"
   ],
   "metadata": {
    "collapsed": false
   }
  },
  {
   "cell_type": "code",
   "execution_count": 13,
   "outputs": [
    {
     "name": "stdout",
     "output_type": "stream",
     "text": [
      "cat = (<CATEGORY.ASSETS: 'assets'>, <SUBCATEGORY.CURRENT_ASSETS: 'current assets'>, <SUBCATEGORY2.ACCOUNTS_RECEIVABLE: 'accounts receivable'>)\n",
      "cat = (<CATEGORY.ASSETS: 'assets'>, <SUBCATEGORY.CURRENT_ASSETS: 'current assets'>, <SUBCATEGORY2.CASH_AND_EQUIVALENTS: 'cash and equivalents'>)\n",
      "cat = (<CATEGORY.ASSETS: 'assets'>, <SUBCATEGORY.LONG_TERM_ASSETS: 'long term assets'>, <SUBCATEGORY2.OTHER_ASSETS: 'other assets'>)\n",
      "cat = (<CATEGORY.ASSETS: 'assets'>, <SUBCATEGORY.LONG_TERM_ASSETS: 'long term assets'>, <SUBCATEGORY2.PROPERTY_AND_EQUIPMENT: 'property and equipment'>)\n",
      "cat = (<CATEGORY.EQUITY: 'equity'>, <SUBCATEGORY.DISTRIBUTIONS: 'distributions'>, <SUBCATEGORY2.NONE: 'none'>)\n",
      "cat = (<CATEGORY.EQUITY: 'equity'>, <SUBCATEGORY.OWNERS_EQUITY: 'owners equity'>, <SUBCATEGORY2.NONE: 'none'>)\n",
      "cat = (<CATEGORY.EQUITY: 'equity'>, <SUBCATEGORY.STOCK: 'stock'>, <SUBCATEGORY2.NONE: 'none'>)\n",
      "cat = (<CATEGORY.LIABILITIES: 'liabilities'>, <SUBCATEGORY.CURRENT_LIABILITIES: 'current liabilities'>, <SUBCATEGORY2.ACCOUNTS_PAYABLE: 'accounts payable'>)\n",
      "cat = (<CATEGORY.LIABILITIES: 'liabilities'>, <SUBCATEGORY.CURRENT_LIABILITIES: 'current liabilities'>, <SUBCATEGORY2.ACCRUED_EXPENSES: 'accrued expenses'>)\n",
      "cat = (<CATEGORY.LIABILITIES: 'liabilities'>, <SUBCATEGORY.CURRENT_LIABILITIES: 'current liabilities'>, <SUBCATEGORY2.OTHER_CURRENT_LIABILITIES: 'other current liabilities'>)\n",
      "cat = (<CATEGORY.LIABILITIES: 'liabilities'>, <SUBCATEGORY.LONG_TERM_LIABILITIES: 'long term liabilities'>, <SUBCATEGORY2.ACCRUED_EXPENSES: 'accrued expenses'>)\n",
      "cat = (<CATEGORY.LIABILITIES: 'liabilities'>, <SUBCATEGORY.LONG_TERM_LIABILITIES: 'long term liabilities'>, <SUBCATEGORY2.OTHER_LONG_TERM_LIABILITIES: 'other long term liabilities'>)\n",
      "BS\n",
      "     ASSETS\n",
      "          CURRENT_ASSETS\n",
      "               ACCOUNTS_RECEIVABLE\n",
      "               CASH_AND_EQUIVALENTS\n",
      "          LONG_TERM_ASSETS\n",
      "               OTHER_ASSETS\n",
      "               PROPERTY_AND_EQUIPMENT\n",
      "     EQUITY\n",
      "          DISTRIBUTIONS\n",
      "          OWNERS_EQUITY\n",
      "          STOCK\n",
      "     LIABILITIES\n",
      "          CURRENT_LIABILITIES\n",
      "               ACCOUNTS_PAYABLE\n",
      "               ACCRUED_EXPENSES\n",
      "               OTHER_CURRENT_LIABILITIES\n",
      "          LONG_TERM_LIABILITIES\n",
      "               ACCRUED_EXPENSES\n",
      "               OTHER_LONG_TERM_LIABILITIES\n"
     ]
    }
   ],
   "source": [
    "from collections import OrderedDict, deque\n",
    "\n",
    "class FinNode:\n",
    "    def __init__(self, name):\n",
    "        self.name = name\n",
    "        self.children = OrderedDict()\n",
    "    \n",
    "    def insert_children(self, children: deque):\n",
    "        if len(children) == 0:\n",
    "            return\n",
    "        child_name = children.popleft()\n",
    "        if child_name == 'none':\n",
    "            return\n",
    "        if child_name in self.children.keys():\n",
    "            child = self.children[child_name]\n",
    "        else:\n",
    "            child = FinNode(child_name)\n",
    "            self.children[child_name] = child\n",
    "        child.insert_children(children)\n",
    "          \n",
    "    def print(self, pad=''):\n",
    "        print(f'{pad}{self.name}')\n",
    "        for child in self.children.values():\n",
    "            child.print(pad = pad + '     ')\n",
    "        \n",
    "top = FinNode('BS')\n",
    "for cat, df in grp2:\n",
    "    print(f'cat = {cat}')\n",
    "    catlist = deque(cat)\n",
    "    top.insert_children(catlist)\n",
    "    \n",
    "top.print()\n",
    "    "
   ],
   "metadata": {
    "collapsed": false,
    "ExecuteTime": {
     "end_time": "2023-11-07T00:20:41.053957800Z",
     "start_time": "2023-11-07T00:20:41.048465500Z"
    }
   }
  },
  {
   "cell_type": "markdown",
   "source": [
    "## Filter transposed trial balances\n",
    "### Filter by one category"
   ],
   "metadata": {
    "collapsed": false
   }
  },
  {
   "cell_type": "code",
   "execution_count": null,
   "outputs": [],
   "source": [
    "a = tb.loc[:,AccountLevel.CATEGORY:AccountLevel.ACCOUNT] == CATEGORY.ASSETS\n",
    "b= a.sum(axis=1) == 1\n",
    "tb[b]"
   ],
   "metadata": {
    "collapsed": false
   }
  },
  {
   "cell_type": "code",
   "execution_count": 22,
   "outputs": [
    {
     "data": {
      "text/plain": "[<CATEGORY.ASSETS: 'assets'>,\n <SUBCATEGORY.CURRENT_ASSETS: 'current assets'>,\n <SUBCATEGORY2.CASH_AND_EQUIVALENTS: 'cash and equivalents'>]"
     },
     "execution_count": 22,
     "metadata": {},
     "output_type": "execute_result"
    }
   ],
   "source": [
    "rows = accounts.account_map[AccountLevel.IS_BS] == IS_BS.BS\n",
    "a = accounts.account_map.loc[rows, AccountLevel.CATEGORY: AccountLevel.SUBCATEGORY2]\n",
    "a.iloc[0, :].to_list()"
   ],
   "metadata": {
    "collapsed": false,
    "ExecuteTime": {
     "end_time": "2023-11-07T00:28:08.139097100Z",
     "start_time": "2023-11-07T00:28:08.115767300Z"
    }
   }
  },
  {
   "cell_type": "code",
   "execution_count": null,
   "outputs": [],
   "source": [
    "tb"
   ],
   "metadata": {
    "collapsed": false
   }
  },
  {
   "cell_type": "code",
   "execution_count": null,
   "outputs": [],
   "source": [
    "len(tb)"
   ],
   "metadata": {
    "collapsed": false
   }
  },
  {
   "cell_type": "code",
   "execution_count": null,
   "outputs": [],
   "source": [
    "b == 1"
   ],
   "metadata": {
    "collapsed": false
   }
  },
  {
   "cell_type": "code",
   "execution_count": null,
   "outputs": [],
   "source": [
    "len(tb.columns)"
   ],
   "metadata": {
    "collapsed": false
   }
  },
  {
   "cell_type": "markdown",
   "source": [
    "---\n",
    "# Groupby practice"
   ],
   "metadata": {
    "collapsed": false
   }
  },
  {
   "cell_type": "code",
   "execution_count": null,
   "outputs": [],
   "source": [
    "food_data = {\n",
    "          \"Item\": [\"Banana\", \"Cucumber\", \"Orange\", \"Tomato\", \"Watermelon\"],\n",
    "          \"Type\": [\"Fruit\", \"Vegetable\", \"Fruit\", \"Vegetable\", \"Fruit\"],\n",
    "          \"Price\": [0.99, 1.25, 0.25, 0.33, 3.00]\n",
    "        }\n",
    " \n",
    "supermarket = pd.DataFrame(data = food_data)\n",
    "\n",
    "supermarket"
   ],
   "metadata": {
    "collapsed": false
   }
  },
  {
   "cell_type": "code",
   "execution_count": null,
   "outputs": [],
   "source": [
    "groups = supermarket.groupby(\"Type\")\n",
    "groups"
   ],
   "metadata": {
    "collapsed": false
   }
  },
  {
   "cell_type": "code",
   "execution_count": null,
   "outputs": [],
   "source": [
    "groups[\"Price\"].mean()"
   ],
   "metadata": {
    "collapsed": false
   }
  },
  {
   "cell_type": "code",
   "execution_count": null,
   "outputs": [],
   "source": [
    "groups.get_group(\"Vegetable\")"
   ],
   "metadata": {
    "collapsed": false
   }
  },
  {
   "cell_type": "code",
   "execution_count": null,
   "outputs": [],
   "source": [
    "from enum import Enum\n",
    "\n",
    "class cat_is(str, Enum):\n",
    "    ONE = 'one'\n",
    "    TWO = 'two'\n",
    "    THREE = 'three'\n",
    "    \n",
    "class cat_bs(str, Enum):\n",
    "    FOUR = 'four'\n",
    "    FIVE = 'five'\n",
    "    \n",
    "class categoryj(cat_is, cat_bs):\n",
    "    pass"
   ],
   "metadata": {
    "collapsed": false
   }
  },
  {
   "cell_type": "code",
   "execution_count": null,
   "outputs": [],
   "source": [
    "for i in cat_is:\n",
    "    print(f'cat_is={i}')\n",
    "for i in cat_bs:\n",
    "    print(f'cat_bs={i}')\n",
    "for i in category:\n",
    "    print(f'category={i}')"
   ],
   "metadata": {
    "collapsed": false
   }
  },
  {
   "cell_type": "code",
   "execution_count": null,
   "outputs": [],
   "source": [],
   "metadata": {
    "collapsed": false
   }
  }
 ],
 "metadata": {
  "kernelspec": {
   "display_name": "Python 3",
   "language": "python",
   "name": "python3"
  },
  "language_info": {
   "codemirror_mode": {
    "name": "ipython",
    "version": 2
   },
   "file_extension": ".py",
   "mimetype": "text/x-python",
   "name": "python",
   "nbconvert_exporter": "python",
   "pygments_lexer": "ipython2",
   "version": "2.7.6"
  }
 },
 "nbformat": 4,
 "nbformat_minor": 0
}
