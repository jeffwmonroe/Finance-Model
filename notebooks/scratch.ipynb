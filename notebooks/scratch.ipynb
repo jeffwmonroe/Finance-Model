{
 "cells": [
  {
   "cell_type": "markdown",
   "source": [
    "# scratch\n",
    "## This notebook is for working out temporary issues and as a practice / experimentation repl\n",
    "### Imports for reading in accounts"
   ],
   "metadata": {
    "collapsed": false
   }
  },
  {
   "cell_type": "code",
   "execution_count": 1,
   "outputs": [
    {
     "name": "stdout",
     "output_type": "stream",
     "text": [
      "loading environment variables\n",
      "cwd = C:\\Coding\\Finance-Model\\notebooks\n",
      "inside of notebook directory\n",
      "   setting new working directory: C:\\Coding\\Finance-Model\n"
     ]
    }
   ],
   "source": [
    "from finance_model.chart_of_accounts import ChartOfAccounts, unpickle_accounts\n",
    "from finance_model.finance_enums import AccountLevel, CATEGORY, SUBCATEGORY, SUBCATEGORY2, IS_BS\n",
    "import pandas as pd\n",
    "from config import config"
   ],
   "metadata": {
    "collapsed": false,
    "ExecuteTime": {
     "end_time": "2023-11-07T16:58:09.986445500Z",
     "start_time": "2023-11-07T16:58:09.122812200Z"
    }
   }
  },
  {
   "cell_type": "markdown",
   "source": [
    "### unpicle accounts"
   ],
   "metadata": {
    "collapsed": false
   }
  },
  {
   "cell_type": "code",
   "execution_count": 2,
   "outputs": [
    {
     "name": "stdout",
     "output_type": "stream",
     "text": [
      "Total duration for function <unpickle_accounts> is 0.0022349999635480344\n"
     ]
    }
   ],
   "source": [
    "pickle = True\n",
    "\n",
    "if pickle:\n",
    "    accounts = unpickle_accounts()\n",
    "else:\n",
    "    accounts = ChartOfAccounts()\n",
    "    accounts.account_map\n",
    "    accounts.trial_balances\n",
    "    "
   ],
   "metadata": {
    "collapsed": false,
    "ExecuteTime": {
     "end_time": "2023-11-07T16:58:12.033579600Z",
     "start_time": "2023-11-07T16:58:12.026162400Z"
    }
   }
  },
  {
   "cell_type": "markdown",
   "source": [
    "### Fill in the none values\n",
    "#### (This code is not integrated into the main code base)\n",
    "#### (remove after testing)"
   ],
   "metadata": {
    "collapsed": false
   }
  },
  {
   "cell_type": "code",
   "execution_count": null,
   "outputs": [],
   "source": [
    "# a = accounts.detailed_account_map[AccountLevel.SUBCATEGORY2].isna()\n",
    "# accounts.detailed_account_map[a] = SUBCATEGORY2.NONE\n",
    "# accounts.detailed_account_map.loc[a,AccountLevel.SUBCATEGORY2] = SUBCATEGORY2.NONE\n",
    "# accounts.detailed_account_map\n",
    "# a = accounts.trial_balances\n",
    "# a = a.columns.to_list()\n",
    "# a.sort()\n",
    "# a"
   ],
   "metadata": {
    "collapsed": false
   }
  },
  {
   "cell_type": "markdown",
   "source": [
    "#### write_accounts to csv file to double check accuracy\n",
    "#### (Integrate this into the command line)"
   ],
   "metadata": {
    "collapsed": false
   }
  },
  {
   "cell_type": "code",
   "execution_count": null,
   "outputs": [],
   "source": [
    "write_accounts = False\n",
    "if write_accounts:\n",
    "    accounts.write_accounts()"
   ],
   "metadata": {
    "collapsed": false
   }
  },
  {
   "cell_type": "markdown",
   "source": [
    "## Setup for manipulation of the trial balance dataframe\n",
    "### imports and copy the trial balances"
   ],
   "metadata": {
    "collapsed": false
   }
  },
  {
   "cell_type": "code",
   "execution_count": null,
   "outputs": [],
   "source": [
    "\n",
    "tb = accounts.trial_balances.copy()\n",
    "tb.T"
   ],
   "metadata": {
    "collapsed": false
   }
  },
  {
   "cell_type": "markdown",
   "source": [
    "---\n",
    "### Group by year"
   ],
   "metadata": {
    "collapsed": false
   }
  },
  {
   "cell_type": "code",
   "execution_count": null,
   "outputs": [],
   "source": [
    "yearly = True\n",
    "# yearly = False\n",
    "\n",
    "if yearly:\n",
    "    tb['year'] = [date[:4] for date in tb.index]\n",
    "    grp = tb.groupby('year')\n",
    "    # Choose the last of each grouping. This works because the data is cumulative\n",
    "    tb = grp.tail(1).iloc[:, :-1]\n",
    "tb.T"
   ],
   "metadata": {
    "collapsed": false
   }
  },
  {
   "cell_type": "markdown",
   "source": [
    "### Merge with detailed map"
   ],
   "metadata": {
    "collapsed": false
   }
  },
  {
   "cell_type": "code",
   "execution_count": null,
   "outputs": [],
   "source": [
    "tb = tb.T\n",
    "\n",
    "tb[AccountLevel.ACCOUNT_NO] = tb.index\n",
    "tb = tb.merge(accounts.detailed_account_map, how='left', on=AccountLevel.ACCOUNT_NO)\n",
    "# tb"
   ],
   "metadata": {
    "collapsed": false
   }
  },
  {
   "cell_type": "markdown",
   "source": [
    "## Grouping by a single category"
   ],
   "metadata": {
    "collapsed": false
   }
  },
  {
   "cell_type": "code",
   "execution_count": null,
   "outputs": [],
   "source": [
    "grp = tb.groupby(AccountLevel.CATEGORY)\n",
    "grp.first(2)\n",
    "grp.get_group(CATEGORY.ASSETS)\n",
    "a = grp.sum().iloc[:, :-6].T\n",
    "# a[CATEGORY.ASSETS]\n",
    "\n",
    "# a"
   ],
   "metadata": {
    "collapsed": false
   }
  },
  {
   "cell_type": "code",
   "execution_count": null,
   "outputs": [],
   "source": [
    "(a[CATEGORY.REVENUE] + a[CATEGORY.COGS] + a[CATEGORY.OPERATING_EXPENSES] + a[CATEGORY.OTHER_EXPENSES])/a[CATEGORY.REVENUE]\n",
    "# grp.get_group(CATEGORY.LIABILITIES)"
   ],
   "metadata": {
    "collapsed": false
   }
  },
  {
   "cell_type": "markdown",
   "source": [],
   "metadata": {
    "collapsed": false
   }
  },
  {
   "cell_type": "markdown",
   "source": [
    "---\n",
    "## Grouping by multiple categories\n",
    "### Filter by balance sheet"
   ],
   "metadata": {
    "collapsed": false
   }
  },
  {
   "cell_type": "code",
   "execution_count": null,
   "outputs": [],
   "source": [
    "\n",
    "rows = tb[AccountLevel.IS_BS] == IS_BS.BS\n",
    "tb2 = tb[rows]\n",
    "# tb2\n",
    "# grp2 = tb.loc[,:]"
   ],
   "metadata": {
    "collapsed": false
   }
  },
  {
   "cell_type": "code",
   "execution_count": null,
   "outputs": [],
   "source": [
    "\n",
    "grp2 = tb2.groupby([AccountLevel.CATEGORY, AccountLevel.SUBCATEGORY, AccountLevel.SUBCATEGORY2])\n",
    "grp2\n",
    "# grp.get_group(CATEGORY.EQUITY)"
   ],
   "metadata": {
    "collapsed": false
   }
  },
  {
   "cell_type": "code",
   "execution_count": null,
   "outputs": [],
   "source": [
    "# grp2.get_group((CATEGORY.ASSETS, SUBCATEGORY.CURRENT_ASSETS))\n",
    "```for cat, df in grp2:\n",
    "`    print(f'cat = {cat}')\n",
    "    a = df\n",
    "`    break\n",
    "`space = ' ' * 3\n",
    "# print(a)\n",
    "print(f'Assets:')\n",
    "print(f\"{space * 1}Current Assets\")\n",
    "a = grp2.get_group((CATEGORY.ASSETS, SUBCATEGORY.CURRENT_ASSETS))\n",
    "a.index=a[AccountLevel.ACCOUNT]\n",
    "a = a.iloc[:, :-7]\n",
    "# .iloc[:, :-7]\n",
    "# print(a)\n",
    "# a"
   ],
   "metadata": {
    "collapsed": false
   }
  },
  {
   "cell_type": "markdown",
   "source": [
    "## Tree\n"
   ],
   "metadata": {
    "collapsed": false
   }
  },
  {
   "cell_type": "code",
   "execution_count": null,
   "outputs": [],
   "source": [
    "from collections import OrderedDict, deque\n",
    "\n",
    "class FinNode:\n",
    "    def __init__(self, name):\n",
    "        self.name = name\n",
    "        self.children = OrderedDict()\n",
    "    \n",
    "    def insert_children(self, children: deque):\n",
    "        if len(children) == 0:\n",
    "            return\n",
    "        child_name = children.popleft()\n",
    "        if child_name == 'none':\n",
    "            return\n",
    "        if child_name in self.children.keys():\n",
    "            child = self.children[child_name]\n",
    "        else:\n",
    "            child = FinNode(child_name)\n",
    "            self.children[child_name] = child\n",
    "        child.insert_children(children)\n",
    "          \n",
    "    def print(self, pad=''):\n",
    "        print(f'{pad}{self.name}')\n",
    "        for child in self.children.values():\n",
    "            child.print(pad = pad + '     ')\n",
    "        \n",
    "top = FinNode('BS')\n",
    "for cat, df in grp2:\n",
    "    print(f'cat = {cat}')\n",
    "    catlist = deque(cat)\n",
    "    top.insert_children(catlist)\n",
    "    \n",
    "top.print()\n",
    "    "
   ],
   "metadata": {
    "collapsed": false
   }
  },
  {
   "cell_type": "markdown",
   "source": [
    "## Filter transposed trial balances\n",
    "### Filter by one category"
   ],
   "metadata": {
    "collapsed": false
   }
  },
  {
   "cell_type": "code",
   "execution_count": null,
   "outputs": [],
   "source": [
    "a = tb.loc[:,AccountLevel.CATEGORY:AccountLevel.ACCOUNT] == CATEGORY.ASSETS\n",
    "b= a.sum(axis=1) == 1\n",
    "tb[b]"
   ],
   "metadata": {
    "collapsed": false
   }
  },
  {
   "cell_type": "code",
   "execution_count": null,
   "outputs": [],
   "source": [
    "rows = accounts.account_map[AccountLevel.IS_BS] == IS_BS.BS\n",
    "a = accounts.account_map.loc[rows, AccountLevel.CATEGORY: AccountLevel.SUBCATEGORY2]\n",
    "a.iloc[0, :].to_list()"
   ],
   "metadata": {
    "collapsed": false
   }
  },
  {
   "cell_type": "code",
   "execution_count": null,
   "outputs": [],
   "source": [
    "tb"
   ],
   "metadata": {
    "collapsed": false
   }
  },
  {
   "cell_type": "code",
   "execution_count": null,
   "outputs": [],
   "source": [
    "len(tb)"
   ],
   "metadata": {
    "collapsed": false
   }
  },
  {
   "cell_type": "code",
   "execution_count": null,
   "outputs": [],
   "source": [
    "b == 1"
   ],
   "metadata": {
    "collapsed": false
   }
  },
  {
   "cell_type": "code",
   "execution_count": null,
   "outputs": [],
   "source": [
    "len(tb.columns)"
   ],
   "metadata": {
    "collapsed": false
   }
  },
  {
   "cell_type": "markdown",
   "source": [
    "---\n",
    "# Groupby practice"
   ],
   "metadata": {
    "collapsed": false
   }
  },
  {
   "cell_type": "code",
   "execution_count": null,
   "outputs": [],
   "source": [
    "food_data = {\n",
    "          \"Item\": [\"Banana\", \"Cucumber\", \"Orange\", \"Tomato\", \"Watermelon\"],\n",
    "          \"Type\": [\"Fruit\", \"Vegetable\", \"Fruit\", \"Vegetable\", \"Fruit\"],\n",
    "          \"Price\": [0.99, 1.25, 0.25, 0.33, 3.00]\n",
    "        }\n",
    " \n",
    "supermarket = pd.DataFrame(data = food_data)\n",
    "\n",
    "supermarket"
   ],
   "metadata": {
    "collapsed": false
   }
  },
  {
   "cell_type": "code",
   "execution_count": null,
   "outputs": [],
   "source": [
    "groups = supermarket.groupby(\"Type\")\n",
    "groups"
   ],
   "metadata": {
    "collapsed": false
   }
  },
  {
   "cell_type": "code",
   "execution_count": null,
   "outputs": [],
   "source": [
    "groups[\"Price\"].mean()"
   ],
   "metadata": {
    "collapsed": false
   }
  },
  {
   "cell_type": "code",
   "execution_count": null,
   "outputs": [],
   "source": [
    "groups.get_group(\"Vegetable\")"
   ],
   "metadata": {
    "collapsed": false
   }
  },
  {
   "cell_type": "code",
   "execution_count": null,
   "outputs": [],
   "source": [
    "from enum import Enum\n",
    "\n",
    "class cat_is(str, Enum):\n",
    "    ONE = 'one'\n",
    "    TWO = 'two'\n",
    "    THREE = 'three'\n",
    "    \n",
    "class cat_bs(str, Enum):\n",
    "    FOUR = 'four'\n",
    "    FIVE = 'five'\n",
    "    \n",
    "class categoryj(cat_is, cat_bs):\n",
    "    pass"
   ],
   "metadata": {
    "collapsed": false
   }
  },
  {
   "cell_type": "code",
   "execution_count": null,
   "outputs": [],
   "source": [
    "for i in cat_is:\n",
    "    print(f'cat_is={i}')\n",
    "for i in cat_bs:\n",
    "    print(f'cat_bs={i}')\n",
    "for i in category:\n",
    "    print(f'category={i}')"
   ],
   "metadata": {
    "collapsed": false
   }
  },
  {
   "cell_type": "code",
   "execution_count": null,
   "outputs": [],
   "source": [
    "accounts"
   ],
   "metadata": {
    "collapsed": false
   }
  },
  {
   "cell_type": "code",
   "execution_count": 14,
   "outputs": [
    {
     "name": "stdout",
     "output_type": "stream",
     "text": [
      "0 = (<CATEGORY.ASSETS: 'assets'>, <SUBCATEGORY.CURRENT_ASSETS: 'current assets'>, <SUBCATEGORY2.CASH_AND_EQUIVALENTS: 'cash and equivalents'>)\n",
      "1 = (<CATEGORY.ASSETS: 'assets'>, <SUBCATEGORY.CURRENT_ASSETS: 'current assets'>, <SUBCATEGORY2.ACCOUNTS_RECEIVABLE: 'accounts receivable'>)\n",
      "2 = (<CATEGORY.ASSETS: 'assets'>, <SUBCATEGORY.LONG_TERM_ASSETS: 'long term assets'>, <SUBCATEGORY2.PROPERTY_AND_EQUIPMENT: 'property and equipment'>)\n",
      "3 = (<CATEGORY.ASSETS: 'assets'>, <SUBCATEGORY.LONG_TERM_ASSETS: 'long term assets'>, <SUBCATEGORY2.OTHER_ASSETS: 'other assets'>)\n",
      "4 = (<CATEGORY.LIABILITIES: 'liabilities'>, <SUBCATEGORY.CURRENT_LIABILITIES: 'current liabilities'>, <SUBCATEGORY2.ACCOUNTS_PAYABLE: 'accounts payable'>)\n",
      "5 = (<CATEGORY.LIABILITIES: 'liabilities'>, <SUBCATEGORY.CURRENT_LIABILITIES: 'current liabilities'>, <SUBCATEGORY2.ACCRUED_EXPENSES: 'accrued expenses'>)\n",
      "6 = (<CATEGORY.LIABILITIES: 'liabilities'>, <SUBCATEGORY.CURRENT_LIABILITIES: 'current liabilities'>, <SUBCATEGORY2.OTHER_CURRENT_LIABILITIES: 'other current liabilities'>)\n",
      "7 = (<CATEGORY.LIABILITIES: 'liabilities'>, <SUBCATEGORY.LONG_TERM_LIABILITIES: 'long term liabilities'>, <SUBCATEGORY2.ACCRUED_EXPENSES: 'accrued expenses'>)\n",
      "8 = (<CATEGORY.LIABILITIES: 'liabilities'>, <SUBCATEGORY.LONG_TERM_LIABILITIES: 'long term liabilities'>, <SUBCATEGORY2.OTHER_LONG_TERM_LIABILITIES: 'other long term liabilities'>)\n",
      "9 = (<CATEGORY.EQUITY: 'equity'>, <SUBCATEGORY.STOCK: 'stock'>, <SUBCATEGORY2.NONE: 'none'>)\n",
      "10 = (<CATEGORY.EQUITY: 'equity'>, <SUBCATEGORY.DISTRIBUTIONS: 'distributions'>, <SUBCATEGORY2.NONE: 'none'>)\n",
      "11 = (<CATEGORY.EQUITY: 'equity'>, <SUBCATEGORY.OWNERS_EQUITY: 'owners equity'>, <SUBCATEGORY2.NONE: 'none'>)\n",
      "12 = (<CATEGORY.REVENUE: 'revenue'>, <SUBCATEGORY.CONTRACT_REVENUE: 'contract revenue'>, <SUBCATEGORY2.NONE: 'none'>)\n",
      "13 = (<CATEGORY.REVENUE: 'revenue'>, <SUBCATEGORY.CONTRACT_REVENUE: 'contract revenue'>, <SUBCATEGORY2.NONE: 'none'>)\n",
      "14 = (<CATEGORY.REVENUE: 'revenue'>, <SUBCATEGORY.CONTRACT_REVENUE: 'contract revenue'>, <SUBCATEGORY2.NONE: 'none'>)\n",
      "15 = (<CATEGORY.REVENUE: 'revenue'>, <SUBCATEGORY.OTHER_REVENUE: 'other revenue'>, <SUBCATEGORY2.NONE: 'none'>)\n",
      "16 = (<CATEGORY.REVENUE: 'revenue'>, <SUBCATEGORY.OTHER_REVENUE: 'other revenue'>, <SUBCATEGORY2.NONE: 'none'>)\n",
      "17 = (<CATEGORY.COGS: 'cost of goods sold'>, <SUBCATEGORY.DIRECT_LABOR: 'direct labor'>, <SUBCATEGORY2.NONE: 'none'>)\n",
      "18 = (<CATEGORY.COGS: 'cost of goods sold'>, <SUBCATEGORY.SUBCONTRACTORS: 'subcontractors'>, <SUBCATEGORY2.NONE: 'none'>)\n",
      "19 = (<CATEGORY.COGS: 'cost of goods sold'>, <SUBCATEGORY.OTHER_COSTS: 'other costs'>, <SUBCATEGORY2.NONE: 'none'>)\n",
      "20 = (<CATEGORY.OPERATING_EXPENSES: 'operating expenses'>, <SUBCATEGORY.FRINGE: 'fringe'>, <SUBCATEGORY2.NONE: 'none'>)\n",
      "21 = (<CATEGORY.OPERATING_EXPENSES: 'operating expenses'>, <SUBCATEGORY.FRINGE: 'fringe'>, <SUBCATEGORY2.NONE: 'none'>)\n",
      "22 = (<CATEGORY.OPERATING_EXPENSES: 'operating expenses'>, <SUBCATEGORY.FRINGE: 'fringe'>, <SUBCATEGORY2.NONE: 'none'>)\n",
      "23 = (<CATEGORY.OPERATING_EXPENSES: 'operating expenses'>, <SUBCATEGORY.FACILITIES: 'facilities'>, <SUBCATEGORY2.NONE: 'none'>)\n",
      "24 = (<CATEGORY.OPERATING_EXPENSES: 'operating expenses'>, <SUBCATEGORY.FACILITIES: 'facilities'>, <SUBCATEGORY2.NONE: 'none'>)\n",
      "25 = (<CATEGORY.OPERATING_EXPENSES: 'operating expenses'>, <SUBCATEGORY.OVERHEAD: 'overhead'>, <SUBCATEGORY2.NONE: 'none'>)\n",
      "26 = (<CATEGORY.OPERATING_EXPENSES: 'operating expenses'>, <SUBCATEGORY.OVERHEAD: 'overhead'>, <SUBCATEGORY2.NONE: 'none'>)\n",
      "27 = (<CATEGORY.OPERATING_EXPENSES: 'operating expenses'>, <SUBCATEGORY.OVERHEAD: 'overhead'>, <SUBCATEGORY2.NONE: 'none'>)\n",
      "28 = (<CATEGORY.OPERATING_EXPENSES: 'operating expenses'>, <SUBCATEGORY.GNA: 'g&a'>, <SUBCATEGORY2.NONE: 'none'>)\n",
      "29 = (<CATEGORY.OPERATING_EXPENSES: 'operating expenses'>, <SUBCATEGORY.GNA: 'g&a'>, <SUBCATEGORY2.NONE: 'none'>)\n",
      "30 = (<CATEGORY.OPERATING_EXPENSES: 'operating expenses'>, <SUBCATEGORY.GNA: 'g&a'>, <SUBCATEGORY2.NONE: 'none'>)\n",
      "31 = (<CATEGORY.OPERATING_EXPENSES: 'operating expenses'>, <SUBCATEGORY.GNA: 'g&a'>, <SUBCATEGORY2.NONE: 'none'>)\n",
      "32 = (<CATEGORY.OTHER_EXPENSES: 'other expenses'>, <SUBCATEGORY.UNALLOWABLE: 'unallowable'>, <SUBCATEGORY2.NONE: 'none'>)\n",
      "33 = (<CATEGORY.OTHER_INCOME: 'other income'>, <SUBCATEGORY.UNALLOWABLE: 'unallowable'>, <SUBCATEGORY2.NONE: 'none'>)\n"
     ]
    }
   ],
   "source": [
    "a = accounts.account_map.loc[:, AccountLevel.CATEGORY:AccountLevel.SUBCATEGORY2]\n",
    "odict = {}\n",
    "for i in range(len(a)):\n",
    "    b = tuple(a.iloc[i, :])\n",
    "    print(f'{i} = {b}')\n",
    "    odict[b] = i\n",
    "    "
   ],
   "metadata": {
    "collapsed": false,
    "ExecuteTime": {
     "end_time": "2023-11-07T17:23:43.534540700Z",
     "start_time": "2023-11-07T17:23:43.528976700Z"
    }
   }
  },
  {
   "cell_type": "code",
   "execution_count": 4,
   "outputs": [
    {
     "data": {
      "text/plain": "<AccountLevel.IS_BS: 'is_bs'>"
     },
     "execution_count": 4,
     "metadata": {},
     "output_type": "execute_result"
    }
   ],
   "source": [
    "AccountLevel.IS_BS"
   ],
   "metadata": {
    "collapsed": false,
    "ExecuteTime": {
     "end_time": "2023-11-07T16:59:03.807799800Z",
     "start_time": "2023-11-07T16:59:03.735020800Z"
    }
   }
  },
  {
   "cell_type": "code",
   "execution_count": 6,
   "outputs": [
    {
     "data": {
      "text/plain": "      low   high is_bs normal balance            category  \\\n0   11000  11999    BS          DEBIT              ASSETS   \n1   12000  13000    BS          DEBIT              ASSETS   \n2   14700  16000    BS          DEBIT              ASSETS   \n3   17500  19999    BS          DEBIT              ASSETS   \n4   20000  20200    BS         CREDIT         LIABILITIES   \n5   20300  20399    BS         CREDIT         LIABILITIES   \n6   20400  20999    BS         CREDIT         LIABILITIES   \n7   21000  21999    BS         CREDIT         LIABILITIES   \n8   22000  24999    BS         CREDIT         LIABILITIES   \n9   27000  27099    BS         CREDIT              EQUITY   \n10  27100  27599    BS         CREDIT              EQUITY   \n11  27600  28999    BS         CREDIT              EQUITY   \n12  30000  30250    IS         CREDIT             REVENUE   \n13  30300  30800    IS         CREDIT             REVENUE   \n14  30900  31100    IS         CREDIT             REVENUE   \n15  34500  34599    IS         CREDIT             REVENUE   \n16  34600  40999    IS         CREDIT             REVENUE   \n17  41000  41000    IS          DEBIT                COGS   \n18  42000  42000    IS          DEBIT                COGS   \n19  43000  48000    IS          DEBIT                COGS   \n20  50000  50200    IS          DEBIT  OPERATING_EXPENSES   \n21  50300  50400    IS          DEBIT  OPERATING_EXPENSES   \n22  50600  52600    IS          DEBIT  OPERATING_EXPENSES   \n23  53000  65000    IS          DEBIT  OPERATING_EXPENSES   \n24  67000  69000    IS          DEBIT  OPERATING_EXPENSES   \n25  70100  70100    IS          DEBIT  OPERATING_EXPENSES   \n26  71000  78500    IS          DEBIT  OPERATING_EXPENSES   \n27  79500  79500    IS          DEBIT  OPERATING_EXPENSES   \n28  80000  82000    IS          DEBIT  OPERATING_EXPENSES   \n29  83000  85000    IS          DEBIT  OPERATING_EXPENSES   \n30  86000  86000    IS          DEBIT  OPERATING_EXPENSES   \n31  87000  89000    IS          DEBIT  OPERATING_EXPENSES   \n32  90000  95999    IS          DEBIT      OTHER_EXPENSES   \n33  96000  96000    IS         CREDIT        OTHER_INCOME   \n\n              subcategory                 subcategory2 sub_category3  \n0          CURRENT_ASSETS         CASH_AND_EQUIVALENTS           NaN  \n1          CURRENT_ASSETS          ACCOUNTS_RECEIVABLE           NaN  \n2        LONG_TERM_ASSETS       PROPERTY_AND_EQUIPMENT           NaN  \n3        LONG_TERM_ASSETS                 OTHER_ASSETS           NaN  \n4     CURRENT_LIABILITIES             ACCOUNTS_PAYABLE           NaN  \n5     CURRENT_LIABILITIES             ACCRUED_EXPENSES           NaN  \n6     CURRENT_LIABILITIES    OTHER_CURRENT_LIABILITIES           NaN  \n7   LONG_TERM_LIABILITIES             ACCRUED_EXPENSES           NaN  \n8   LONG_TERM_LIABILITIES  OTHER_LONG_TERM_LIABILITIES           NaN  \n9                   STOCK                         NONE           NaN  \n10          DISTRIBUTIONS                         NONE           NaN  \n11          OWNERS_EQUITY                         NONE           NaN  \n12       CONTRACT_REVENUE                         NONE         cecos  \n13       CONTRACT_REVENUE                         NONE    government  \n14       CONTRACT_REVENUE                         NONE           gsa  \n15          OTHER_REVENUE                         NONE      interest  \n16          OTHER_REVENUE                         NONE         other  \n17           DIRECT_LABOR                         NONE           NaN  \n18         SUBCONTRACTORS                         NONE           NaN  \n19            OTHER_COSTS                         NONE           NaN  \n20                 FRINGE                         NONE  pto and 401k  \n21                 FRINGE                         NONE        health  \n22                 FRINGE                         NONE         other  \n23             FACILITIES                         NONE        office  \n24             FACILITIES                         NONE     utilities  \n25               OVERHEAD                         NONE         labor  \n26               OVERHEAD                         NONE         other  \n27               OVERHEAD                         NONE      vehicles  \n28                    GNA                         NONE         labor  \n29                    GNA                         NONE    consulting  \n30                    GNA                         NONE          rent  \n31                    GNA                         NONE         other  \n32            UNALLOWABLE                         NONE           NaN  \n33            UNALLOWABLE                         NONE           NaN  ",
      "text/html": "<div>\n<style scoped>\n    .dataframe tbody tr th:only-of-type {\n        vertical-align: middle;\n    }\n\n    .dataframe tbody tr th {\n        vertical-align: top;\n    }\n\n    .dataframe thead th {\n        text-align: right;\n    }\n</style>\n<table border=\"1\" class=\"dataframe\">\n  <thead>\n    <tr style=\"text-align: right;\">\n      <th></th>\n      <th>low</th>\n      <th>high</th>\n      <th>is_bs</th>\n      <th>normal balance</th>\n      <th>category</th>\n      <th>subcategory</th>\n      <th>subcategory2</th>\n      <th>sub_category3</th>\n    </tr>\n  </thead>\n  <tbody>\n    <tr>\n      <th>0</th>\n      <td>11000</td>\n      <td>11999</td>\n      <td>BS</td>\n      <td>DEBIT</td>\n      <td>ASSETS</td>\n      <td>CURRENT_ASSETS</td>\n      <td>CASH_AND_EQUIVALENTS</td>\n      <td>NaN</td>\n    </tr>\n    <tr>\n      <th>1</th>\n      <td>12000</td>\n      <td>13000</td>\n      <td>BS</td>\n      <td>DEBIT</td>\n      <td>ASSETS</td>\n      <td>CURRENT_ASSETS</td>\n      <td>ACCOUNTS_RECEIVABLE</td>\n      <td>NaN</td>\n    </tr>\n    <tr>\n      <th>2</th>\n      <td>14700</td>\n      <td>16000</td>\n      <td>BS</td>\n      <td>DEBIT</td>\n      <td>ASSETS</td>\n      <td>LONG_TERM_ASSETS</td>\n      <td>PROPERTY_AND_EQUIPMENT</td>\n      <td>NaN</td>\n    </tr>\n    <tr>\n      <th>3</th>\n      <td>17500</td>\n      <td>19999</td>\n      <td>BS</td>\n      <td>DEBIT</td>\n      <td>ASSETS</td>\n      <td>LONG_TERM_ASSETS</td>\n      <td>OTHER_ASSETS</td>\n      <td>NaN</td>\n    </tr>\n    <tr>\n      <th>4</th>\n      <td>20000</td>\n      <td>20200</td>\n      <td>BS</td>\n      <td>CREDIT</td>\n      <td>LIABILITIES</td>\n      <td>CURRENT_LIABILITIES</td>\n      <td>ACCOUNTS_PAYABLE</td>\n      <td>NaN</td>\n    </tr>\n    <tr>\n      <th>5</th>\n      <td>20300</td>\n      <td>20399</td>\n      <td>BS</td>\n      <td>CREDIT</td>\n      <td>LIABILITIES</td>\n      <td>CURRENT_LIABILITIES</td>\n      <td>ACCRUED_EXPENSES</td>\n      <td>NaN</td>\n    </tr>\n    <tr>\n      <th>6</th>\n      <td>20400</td>\n      <td>20999</td>\n      <td>BS</td>\n      <td>CREDIT</td>\n      <td>LIABILITIES</td>\n      <td>CURRENT_LIABILITIES</td>\n      <td>OTHER_CURRENT_LIABILITIES</td>\n      <td>NaN</td>\n    </tr>\n    <tr>\n      <th>7</th>\n      <td>21000</td>\n      <td>21999</td>\n      <td>BS</td>\n      <td>CREDIT</td>\n      <td>LIABILITIES</td>\n      <td>LONG_TERM_LIABILITIES</td>\n      <td>ACCRUED_EXPENSES</td>\n      <td>NaN</td>\n    </tr>\n    <tr>\n      <th>8</th>\n      <td>22000</td>\n      <td>24999</td>\n      <td>BS</td>\n      <td>CREDIT</td>\n      <td>LIABILITIES</td>\n      <td>LONG_TERM_LIABILITIES</td>\n      <td>OTHER_LONG_TERM_LIABILITIES</td>\n      <td>NaN</td>\n    </tr>\n    <tr>\n      <th>9</th>\n      <td>27000</td>\n      <td>27099</td>\n      <td>BS</td>\n      <td>CREDIT</td>\n      <td>EQUITY</td>\n      <td>STOCK</td>\n      <td>NONE</td>\n      <td>NaN</td>\n    </tr>\n    <tr>\n      <th>10</th>\n      <td>27100</td>\n      <td>27599</td>\n      <td>BS</td>\n      <td>CREDIT</td>\n      <td>EQUITY</td>\n      <td>DISTRIBUTIONS</td>\n      <td>NONE</td>\n      <td>NaN</td>\n    </tr>\n    <tr>\n      <th>11</th>\n      <td>27600</td>\n      <td>28999</td>\n      <td>BS</td>\n      <td>CREDIT</td>\n      <td>EQUITY</td>\n      <td>OWNERS_EQUITY</td>\n      <td>NONE</td>\n      <td>NaN</td>\n    </tr>\n    <tr>\n      <th>12</th>\n      <td>30000</td>\n      <td>30250</td>\n      <td>IS</td>\n      <td>CREDIT</td>\n      <td>REVENUE</td>\n      <td>CONTRACT_REVENUE</td>\n      <td>NONE</td>\n      <td>cecos</td>\n    </tr>\n    <tr>\n      <th>13</th>\n      <td>30300</td>\n      <td>30800</td>\n      <td>IS</td>\n      <td>CREDIT</td>\n      <td>REVENUE</td>\n      <td>CONTRACT_REVENUE</td>\n      <td>NONE</td>\n      <td>government</td>\n    </tr>\n    <tr>\n      <th>14</th>\n      <td>30900</td>\n      <td>31100</td>\n      <td>IS</td>\n      <td>CREDIT</td>\n      <td>REVENUE</td>\n      <td>CONTRACT_REVENUE</td>\n      <td>NONE</td>\n      <td>gsa</td>\n    </tr>\n    <tr>\n      <th>15</th>\n      <td>34500</td>\n      <td>34599</td>\n      <td>IS</td>\n      <td>CREDIT</td>\n      <td>REVENUE</td>\n      <td>OTHER_REVENUE</td>\n      <td>NONE</td>\n      <td>interest</td>\n    </tr>\n    <tr>\n      <th>16</th>\n      <td>34600</td>\n      <td>40999</td>\n      <td>IS</td>\n      <td>CREDIT</td>\n      <td>REVENUE</td>\n      <td>OTHER_REVENUE</td>\n      <td>NONE</td>\n      <td>other</td>\n    </tr>\n    <tr>\n      <th>17</th>\n      <td>41000</td>\n      <td>41000</td>\n      <td>IS</td>\n      <td>DEBIT</td>\n      <td>COGS</td>\n      <td>DIRECT_LABOR</td>\n      <td>NONE</td>\n      <td>NaN</td>\n    </tr>\n    <tr>\n      <th>18</th>\n      <td>42000</td>\n      <td>42000</td>\n      <td>IS</td>\n      <td>DEBIT</td>\n      <td>COGS</td>\n      <td>SUBCONTRACTORS</td>\n      <td>NONE</td>\n      <td>NaN</td>\n    </tr>\n    <tr>\n      <th>19</th>\n      <td>43000</td>\n      <td>48000</td>\n      <td>IS</td>\n      <td>DEBIT</td>\n      <td>COGS</td>\n      <td>OTHER_COSTS</td>\n      <td>NONE</td>\n      <td>NaN</td>\n    </tr>\n    <tr>\n      <th>20</th>\n      <td>50000</td>\n      <td>50200</td>\n      <td>IS</td>\n      <td>DEBIT</td>\n      <td>OPERATING_EXPENSES</td>\n      <td>FRINGE</td>\n      <td>NONE</td>\n      <td>pto and 401k</td>\n    </tr>\n    <tr>\n      <th>21</th>\n      <td>50300</td>\n      <td>50400</td>\n      <td>IS</td>\n      <td>DEBIT</td>\n      <td>OPERATING_EXPENSES</td>\n      <td>FRINGE</td>\n      <td>NONE</td>\n      <td>health</td>\n    </tr>\n    <tr>\n      <th>22</th>\n      <td>50600</td>\n      <td>52600</td>\n      <td>IS</td>\n      <td>DEBIT</td>\n      <td>OPERATING_EXPENSES</td>\n      <td>FRINGE</td>\n      <td>NONE</td>\n      <td>other</td>\n    </tr>\n    <tr>\n      <th>23</th>\n      <td>53000</td>\n      <td>65000</td>\n      <td>IS</td>\n      <td>DEBIT</td>\n      <td>OPERATING_EXPENSES</td>\n      <td>FACILITIES</td>\n      <td>NONE</td>\n      <td>office</td>\n    </tr>\n    <tr>\n      <th>24</th>\n      <td>67000</td>\n      <td>69000</td>\n      <td>IS</td>\n      <td>DEBIT</td>\n      <td>OPERATING_EXPENSES</td>\n      <td>FACILITIES</td>\n      <td>NONE</td>\n      <td>utilities</td>\n    </tr>\n    <tr>\n      <th>25</th>\n      <td>70100</td>\n      <td>70100</td>\n      <td>IS</td>\n      <td>DEBIT</td>\n      <td>OPERATING_EXPENSES</td>\n      <td>OVERHEAD</td>\n      <td>NONE</td>\n      <td>labor</td>\n    </tr>\n    <tr>\n      <th>26</th>\n      <td>71000</td>\n      <td>78500</td>\n      <td>IS</td>\n      <td>DEBIT</td>\n      <td>OPERATING_EXPENSES</td>\n      <td>OVERHEAD</td>\n      <td>NONE</td>\n      <td>other</td>\n    </tr>\n    <tr>\n      <th>27</th>\n      <td>79500</td>\n      <td>79500</td>\n      <td>IS</td>\n      <td>DEBIT</td>\n      <td>OPERATING_EXPENSES</td>\n      <td>OVERHEAD</td>\n      <td>NONE</td>\n      <td>vehicles</td>\n    </tr>\n    <tr>\n      <th>28</th>\n      <td>80000</td>\n      <td>82000</td>\n      <td>IS</td>\n      <td>DEBIT</td>\n      <td>OPERATING_EXPENSES</td>\n      <td>GNA</td>\n      <td>NONE</td>\n      <td>labor</td>\n    </tr>\n    <tr>\n      <th>29</th>\n      <td>83000</td>\n      <td>85000</td>\n      <td>IS</td>\n      <td>DEBIT</td>\n      <td>OPERATING_EXPENSES</td>\n      <td>GNA</td>\n      <td>NONE</td>\n      <td>consulting</td>\n    </tr>\n    <tr>\n      <th>30</th>\n      <td>86000</td>\n      <td>86000</td>\n      <td>IS</td>\n      <td>DEBIT</td>\n      <td>OPERATING_EXPENSES</td>\n      <td>GNA</td>\n      <td>NONE</td>\n      <td>rent</td>\n    </tr>\n    <tr>\n      <th>31</th>\n      <td>87000</td>\n      <td>89000</td>\n      <td>IS</td>\n      <td>DEBIT</td>\n      <td>OPERATING_EXPENSES</td>\n      <td>GNA</td>\n      <td>NONE</td>\n      <td>other</td>\n    </tr>\n    <tr>\n      <th>32</th>\n      <td>90000</td>\n      <td>95999</td>\n      <td>IS</td>\n      <td>DEBIT</td>\n      <td>OTHER_EXPENSES</td>\n      <td>UNALLOWABLE</td>\n      <td>NONE</td>\n      <td>NaN</td>\n    </tr>\n    <tr>\n      <th>33</th>\n      <td>96000</td>\n      <td>96000</td>\n      <td>IS</td>\n      <td>CREDIT</td>\n      <td>OTHER_INCOME</td>\n      <td>UNALLOWABLE</td>\n      <td>NONE</td>\n      <td>NaN</td>\n    </tr>\n  </tbody>\n</table>\n</div>"
     },
     "execution_count": 6,
     "metadata": {},
     "output_type": "execute_result"
    }
   ],
   "source": [
    "accounts.account_map"
   ],
   "metadata": {
    "collapsed": false,
    "ExecuteTime": {
     "end_time": "2023-11-07T16:59:48.895826200Z",
     "start_time": "2023-11-07T16:59:48.854435900Z"
    }
   }
  },
  {
   "cell_type": "code",
   "execution_count": null,
   "outputs": [],
   "source": [],
   "metadata": {
    "collapsed": false
   }
  }
 ],
 "metadata": {
  "kernelspec": {
   "display_name": "Python 3",
   "language": "python",
   "name": "python3"
  },
  "language_info": {
   "codemirror_mode": {
    "name": "ipython",
    "version": 2
   },
   "file_extension": ".py",
   "mimetype": "text/x-python",
   "name": "python",
   "nbconvert_exporter": "python",
   "pygments_lexer": "ipython2",
   "version": "2.7.6"
  }
 },
 "nbformat": 4,
 "nbformat_minor": 0
}
