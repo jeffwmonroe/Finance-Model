{
 "cells": [
  {
   "cell_type": "markdown",
   "source": [
    "# scratch\n",
    "### This notebook is for working out temporary issues and as a practice / experimentation repl"
   ],
   "metadata": {
    "collapsed": false
   }
  },
  {
   "cell_type": "code",
   "execution_count": null,
   "outputs": [],
   "source": [
    "from finance_model.chart_of_accounts import ChartOfAccounts, unpickle_accounts\n",
    "import pandas as pd"
   ],
   "metadata": {
    "collapsed": false
   }
  },
  {
   "cell_type": "code",
   "execution_count": null,
   "outputs": [],
   "source": [
    "pickle = True\n",
    "\n",
    "if pickle:\n",
    "    accounts = unpickle_accounts()\n",
    "else:\n",
    "    accounts = ChartOfAccounts()\n",
    "    accounts.account_mapping\n",
    "    accounts.trial_balances"
   ],
   "metadata": {
    "collapsed": false
   }
  },
  {
   "cell_type": "code",
   "execution_count": null,
   "outputs": [],
   "source": [
    "import os\n",
    "from pathlib import Path\n",
    "\n",
    "from dotenv import dotenv_values, load_dotenv\n",
    "\n",
    "dev_env = Path(\"./.env\")-\n",
    "\n",
    "if dev_env.is_file():\n",
    "    print('loading dev')\n",
    "    config = {\n",
    "        **dotenv_values(\".env\"),\n",
    "        **dotenv_values(\".dev_env\"),\n",
    "    }\n",
    "else:\n",
    "    print('not loading dev')\n"
   ],
   "metadata": {
    "collapsed": false
   }
  },
  {
   "cell_type": "code",
   "execution_count": null,
   "outputs": [],
   "source": [],
   "metadata": {
    "collapsed": false
   }
  },
  {
   "cell_type": "code",
   "execution_count": 1,
   "outputs": [
    {
     "name": "stdout",
     "output_type": "stream",
     "text": [
      "loading environment variables\n",
      "cwd = D:\\Coding\\Finance-Model\\notebooks\n",
      "inside of notebook directory\n",
      "setting new working directory: D:\\Coding\\Finance-Model\n"
     ]
    }
   ],
   "source": [
    "from config import config"
   ],
   "metadata": {
    "collapsed": false,
    "ExecuteTime": {
     "end_time": "2023-11-02T00:15:44.789037300Z",
     "start_time": "2023-11-02T00:15:44.779789500Z"
    }
   }
  },
  {
   "cell_type": "code",
   "execution_count": 1,
   "outputs": [],
   "source": [],
   "metadata": {
    "collapsed": false,
    "ExecuteTime": {
     "end_time": "2023-11-02T00:13:54.315866100Z",
     "start_time": "2023-11-02T00:13:54.308859300Z"
    }
   }
  },
  {
   "cell_type": "code",
   "execution_count": 2,
   "outputs": [
    {
     "data": {
      "text/plain": "'notebooks'"
     },
     "execution_count": 2,
     "metadata": {},
     "output_type": "execute_result"
    }
   ],
   "source": [
    "from pathlib import Path\n",
    "import os\n",
    "\n",
    "Path.cwd().parts[-1]"
   ],
   "metadata": {
    "collapsed": false,
    "ExecuteTime": {
     "end_time": "2023-11-02T00:13:55.016361900Z",
     "start_time": "2023-11-02T00:13:55.009336100Z"
    }
   }
  },
  {
   "cell_type": "code",
   "execution_count": 3,
   "outputs": [
    {
     "data": {
      "text/plain": "WindowsPath('D:/Coding/Finance-Model/notebooks')"
     },
     "execution_count": 3,
     "metadata": {},
     "output_type": "execute_result"
    }
   ],
   "source": [
    "Path.cwd()"
   ],
   "metadata": {
    "collapsed": false,
    "ExecuteTime": {
     "end_time": "2023-11-02T00:13:57.592144600Z",
     "start_time": "2023-11-02T00:13:57.584497600Z"
    }
   }
  },
  {
   "cell_type": "code",
   "execution_count": 4,
   "outputs": [
    {
     "data": {
      "text/plain": "WindowsPath('D:/Coding/Finance-Model')"
     },
     "execution_count": 4,
     "metadata": {},
     "output_type": "execute_result"
    }
   ],
   "source": [
    "a = Path.cwd().parts[:-1]\n",
    "apath = Path(*a)\n",
    "apath"
   ],
   "metadata": {
    "collapsed": false,
    "ExecuteTime": {
     "end_time": "2023-11-02T00:13:59.397748300Z",
     "start_time": "2023-11-02T00:13:59.391326400Z"
    }
   }
  },
  {
   "cell_type": "code",
   "execution_count": 5,
   "outputs": [],
   "source": [
    "os.chdir(apath)"
   ],
   "metadata": {
    "collapsed": false,
    "ExecuteTime": {
     "end_time": "2023-11-02T00:14:01.861068400Z",
     "start_time": "2023-11-02T00:14:01.857057100Z"
    }
   }
  },
  {
   "cell_type": "code",
   "execution_count": 6,
   "outputs": [
    {
     "data": {
      "text/plain": "WindowsPath('D:/Coding/Finance-Model')"
     },
     "execution_count": 6,
     "metadata": {},
     "output_type": "execute_result"
    }
   ],
   "source": [
    "Path.cwd()"
   ],
   "metadata": {
    "collapsed": false,
    "ExecuteTime": {
     "end_time": "2023-11-02T00:14:07.950544600Z",
     "start_time": "2023-11-02T00:14:07.946045300Z"
    }
   }
  },
  {
   "cell_type": "code",
   "execution_count": null,
   "outputs": [],
   "source": [],
   "metadata": {
    "collapsed": false
   }
  }
 ],
 "metadata": {
  "kernelspec": {
   "display_name": "Python 3",
   "language": "python",
   "name": "python3"
  },
  "language_info": {
   "codemirror_mode": {
    "name": "ipython",
    "version": 2
   },
   "file_extension": ".py",
   "mimetype": "text/x-python",
   "name": "python",
   "nbconvert_exporter": "python",
   "pygments_lexer": "ipython2",
   "version": "2.7.6"
  }
 },
 "nbformat": 4,
 "nbformat_minor": 0
}
