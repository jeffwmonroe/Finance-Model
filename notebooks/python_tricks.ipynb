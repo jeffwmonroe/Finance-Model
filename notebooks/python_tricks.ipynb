{
 "cells": [
  {
   "cell_type": "markdown",
   "source": [
    "# Python Tricks!"
   ],
   "metadata": {
    "collapsed": false
   },
   "id": "20900aff1e8c8703"
  },
  {
   "cell_type": "code",
   "execution_count": 13,
   "outputs": [
    {
     "name": "stdout",
     "output_type": "stream",
     "text": [
      "type(a) = <class 'str'>\n"
     ]
    },
    {
     "data": {
      "text/plain": "'jeffmike'"
     },
     "execution_count": 13,
     "metadata": {},
     "output_type": "execute_result"
    }
   ],
   "source": [
    "import time\n",
    "\n",
    "a = (\n",
    "    'jeff'\n",
    "    'mike'\n",
    ")\n",
    "print(f'type(a) = {type(a)}')\n",
    "a"
   ],
   "metadata": {
    "collapsed": false,
    "ExecuteTime": {
     "end_time": "2024-02-12T21:48:54.430992900Z",
     "start_time": "2024-02-12T21:48:54.423830Z"
    }
   },
   "id": "5162f5981e7f412f"
  },
  {
   "cell_type": "code",
   "execution_count": 8,
   "outputs": [
    {
     "data": {
      "text/plain": "('jeff', 'mike')"
     },
     "execution_count": 8,
     "metadata": {},
     "output_type": "execute_result"
    }
   ],
   "source": [
    "a"
   ],
   "metadata": {
    "collapsed": false,
    "ExecuteTime": {
     "end_time": "2024-02-12T21:46:56.451157400Z",
     "start_time": "2024-02-12T21:46:56.444079900Z"
    }
   },
   "id": "da81d870a9346a9c"
  },
  {
   "cell_type": "markdown",
   "source": [
    "## Context Managers"
   ],
   "metadata": {
    "collapsed": false
   },
   "id": "14953da22fef5fbd"
  },
  {
   "cell_type": "code",
   "execution_count": 33,
   "outputs": [
    {
     "name": "stdout",
     "output_type": "stream",
     "text": [
      "I hi!\n",
      "I    hello\n",
      "I       bonjour\n",
      "I hey\n"
     ]
    }
   ],
   "source": [
    "class Indenter:\n",
    "    # indent_level: int = 0\n",
    "    \n",
    "    def __init__(self):\n",
    "        self.indent_level = 0\n",
    "        \n",
    "    def __enter__(self):\n",
    "        # self.__class__.indent_level += \n",
    "        self.indent_level += 1\n",
    "        return self\n",
    "    \n",
    "    def __exit__(self, exc_type, exc_val, exc_tb):\n",
    "        # self.__class__.indent_level -= 1\n",
    "        self.indent_level -= 1\n",
    "        \n",
    "    def print(self, pstr: str):\n",
    "        # print(f\"I {' '*self.__class__.indent_level}{pstr}\")\n",
    "        print(f\"I {'   '*(self.indent_level-1)}{pstr}\")\n",
    "        # print(f\"I {pstr}\")\n",
    "\n",
    "with Indenter() as indent:\n",
    "    indent.print('hi!')\n",
    "    with indent:\n",
    "        indent.print('hello')\n",
    "        with indent:\n",
    "            indent.print('bonjour')\n",
    "    indent.print('hey')"
   ],
   "metadata": {
    "collapsed": false,
    "ExecuteTime": {
     "end_time": "2024-02-12T22:47:07.419607Z",
     "start_time": "2024-02-12T22:47:07.410820700Z"
    }
   },
   "id": "3b09f3487e453d39"
  },
  {
   "cell_type": "code",
   "execution_count": 22,
   "outputs": [
    {
     "name": "stdout",
     "output_type": "stream",
     "text": [
      "a = ClassInst(6)\n",
      "b = ClassInst(13)\n"
     ]
    },
    {
     "data": {
      "text/plain": "7"
     },
     "execution_count": 22,
     "metadata": {},
     "output_type": "execute_result"
    }
   ],
   "source": [
    "class ClassInst:\n",
    "    class_var: int = 7\n",
    "    \n",
    "    def __init__(self, val: int):\n",
    "        self.inst_var = val\n",
    "        \n",
    "    def __repr__(self):\n",
    "        return f'ClassInst({self.inst_var})'\n",
    "        \n",
    "a = ClassInst(6)\n",
    "b = ClassInst(13)\n",
    "\n",
    "print (f\"a = {a}\")\n",
    "print (f\"b = {b}\")\n",
    "\n",
    "b.class_var = 666\n",
    "a.class_var\n",
    "# b.class_var"
   ],
   "metadata": {
    "collapsed": false,
    "ExecuteTime": {
     "end_time": "2024-02-12T22:19:01.515726900Z",
     "start_time": "2024-02-12T22:19:01.505169200Z"
    }
   },
   "id": "68daa634fc798541"
  },
  {
   "cell_type": "code",
   "execution_count": 43,
   "outputs": [
    {
     "name": "stdout",
     "output_type": "stream",
     "text": [
      "execution time = 0.0093536376953125\n"
     ]
    }
   ],
   "source": [
    "import time\n",
    "class Timer:\n",
    "    def __init__(self):\n",
    "        self.start = None\n",
    "        self.end = None\n",
    "        \n",
    "    def __enter__(self):\n",
    "        self.start = time.time()\n",
    "        return self\n",
    "    \n",
    "    def __exit__(self, exc_type, exc_val, exc_tb):\n",
    "        self.end = time.time()\n",
    "        print(f'execution time = {self.end-self.start}')\n",
    "        \n",
    "with Timer():\n",
    "    x = 7\n",
    "    for i in range(100000):\n",
    "        x = i ** 2"
   ],
   "metadata": {
    "collapsed": false,
    "ExecuteTime": {
     "end_time": "2024-02-12T22:55:48.049314500Z",
     "start_time": "2024-02-12T22:55:48.046302400Z"
    }
   },
   "id": "8f0d3597fad3d00b"
  },
  {
   "cell_type": "code",
   "execution_count": 46,
   "outputs": [
    {
     "name": "stdout",
     "output_type": "stream",
     "text": [
      "decorator time = 0.02744603157043457\n"
     ]
    }
   ],
   "source": [
    "from contextlib import contextmanager\n",
    "\n",
    "@contextmanager\n",
    "def timer():\n",
    "    try:\n",
    "        start = time.time()\n",
    "        yield start\n",
    "    finally:\n",
    "        end = time.time()\n",
    "        print(f\"decorator time = {end-start}\")\n",
    "        \n",
    "with timer():\n",
    "    for i in range(100000):\n",
    "        x = i ** 2\n",
    "        \n",
    "        "
   ],
   "metadata": {
    "collapsed": false,
    "ExecuteTime": {
     "end_time": "2024-02-12T23:02:35.536620200Z",
     "start_time": "2024-02-12T23:02:35.497067700Z"
    }
   },
   "id": "6f8db172cde4fc78"
  },
  {
   "cell_type": "code",
   "execution_count": null,
   "outputs": [],
   "source": [],
   "metadata": {
    "collapsed": false
   },
   "id": "4274f8ba4e673c99"
  }
 ],
 "metadata": {
  "kernelspec": {
   "display_name": "Python 3",
   "language": "python",
   "name": "python3"
  },
  "language_info": {
   "codemirror_mode": {
    "name": "ipython",
    "version": 2
   },
   "file_extension": ".py",
   "mimetype": "text/x-python",
   "name": "python",
   "nbconvert_exporter": "python",
   "pygments_lexer": "ipython2",
   "version": "2.7.6"
  }
 },
 "nbformat": 4,
 "nbformat_minor": 5
}
