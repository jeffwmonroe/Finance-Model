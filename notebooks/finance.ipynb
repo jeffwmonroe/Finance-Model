{
 "cells": [
  {
   "cell_type": "code",
   "execution_count": 1,
   "outputs": [
    {
     "name": "stdout",
     "output_type": "stream",
     "text": [
      "loading environment variables\n",
      "cwd = D:\\Coding\\Finance-Model\\notebooks\n",
      "inside of notebook directory\n",
      "   setting new working directory: D:\\Coding\\Finance-Model\n"
     ]
    }
   ],
   "source": [
    "from finance_model.chart_of_accounts import ChartOfAccounts, unpickle_accounts\n",
    "import pandas as pd\n",
    "import matplotlib.pyplot as plt\n",
    "import numpy as np\n",
    "import pickle"
   ],
   "metadata": {
    "collapsed": false,
    "ExecuteTime": {
     "end_time": "2023-11-05T01:42:11.020466800Z",
     "start_time": "2023-11-05T01:42:10.575217Z"
    }
   }
  },
  {
   "cell_type": "code",
   "execution_count": 2,
   "outputs": [
    {
     "name": "stdout",
     "output_type": "stream",
     "text": [
      "Total duration for function <unpickle_accounts> is 0.0011537999962456524\n"
     ]
    }
   ],
   "source": [
    "pickle = True\n",
    "\n",
    "if pickle:\n",
    "    accounts = unpickle_accounts()\n",
    "else:\n",
    "    accounts = ChartOfAccounts()\n",
    "    accounts.account_map\n",
    "    accounts.trial_balances"
   ],
   "metadata": {
    "collapsed": false,
    "ExecuteTime": {
     "end_time": "2023-11-05T01:42:12.052201600Z",
     "start_time": "2023-11-05T01:42:12.040762900Z"
    }
   }
  },
  {
   "cell_type": "code",
   "execution_count": 4,
   "outputs": [
    {
     "data": {
      "text/plain": "     AccountLevel.ACCOUNT_NO AccountLevel.IS_BS AccountLevel.NORMAL_BALANCE  \\\n0                      11040                 BS                       DEBIT   \n1                      11050                 BS                       DEBIT   \n2                      11100                 BS                       DEBIT   \n3                      11500                 BS                       DEBIT   \n4                      12000                 BS                       DEBIT   \n..                       ...                ...                         ...   \n114                    22400                 BS                      CREDIT   \n115                    60500                 IS                       DEBIT   \n116                    50800                 IS                       DEBIT   \n117                    34600                 IS                      CREDIT   \n118                    23400                 BS                      CREDIT   \n\n    AccountLevel.CATEGORY AccountLevel.SUBCATEGORY  \\\n0                  ASSETS           CURRENT_ASSETS   \n1                  ASSETS           CURRENT_ASSETS   \n2                  ASSETS           CURRENT_ASSETS   \n3                  ASSETS           CURRENT_ASSETS   \n4                  ASSETS           CURRENT_ASSETS   \n..                    ...                      ...   \n114           LIABILITIES    LONG_TERM_LIABILITIES   \n115    OPERATING_EXPENSES               FACILITIES   \n116    OPERATING_EXPENSES                   FRINGE   \n117               REVENUE            OTHER_REVENUE   \n118           LIABILITIES    LONG_TERM_LIABILITIES   \n\n       AccountLevel.SUBCATEGORY2       AccountLevel.ACCOUNT  \n0                            NaN              PNC Operating  \n1                            NaN                PNC Payroll  \n2                            NaN           Wells Fargo Bank  \n3                            NaN   Cash on Hand, Petty Cash  \n4            ACCOUNTS_RECEIVABLE        Accounts Receivable  \n..                           ...                        ...  \n114  OTHER_LONG_TERM_LIABILITIES            MD Unemployment  \n115                          NaN           Payroll Suspense  \n116                          NaN  401 K Adm. Fees/Principal  \n117                          NaN               Other Income  \n118  OTHER_LONG_TERM_LIABILITIES            Deferred Income  \n\n[119 rows x 7 columns]",
      "text/html": "<div>\n<style scoped>\n    .dataframe tbody tr th:only-of-type {\n        vertical-align: middle;\n    }\n\n    .dataframe tbody tr th {\n        vertical-align: top;\n    }\n\n    .dataframe thead th {\n        text-align: right;\n    }\n</style>\n<table border=\"1\" class=\"dataframe\">\n  <thead>\n    <tr style=\"text-align: right;\">\n      <th></th>\n      <th>AccountLevel.ACCOUNT_NO</th>\n      <th>AccountLevel.IS_BS</th>\n      <th>AccountLevel.NORMAL_BALANCE</th>\n      <th>AccountLevel.CATEGORY</th>\n      <th>AccountLevel.SUBCATEGORY</th>\n      <th>AccountLevel.SUBCATEGORY2</th>\n      <th>AccountLevel.ACCOUNT</th>\n    </tr>\n  </thead>\n  <tbody>\n    <tr>\n      <th>0</th>\n      <td>11040</td>\n      <td>BS</td>\n      <td>DEBIT</td>\n      <td>ASSETS</td>\n      <td>CURRENT_ASSETS</td>\n      <td>NaN</td>\n      <td>PNC Operating</td>\n    </tr>\n    <tr>\n      <th>1</th>\n      <td>11050</td>\n      <td>BS</td>\n      <td>DEBIT</td>\n      <td>ASSETS</td>\n      <td>CURRENT_ASSETS</td>\n      <td>NaN</td>\n      <td>PNC Payroll</td>\n    </tr>\n    <tr>\n      <th>2</th>\n      <td>11100</td>\n      <td>BS</td>\n      <td>DEBIT</td>\n      <td>ASSETS</td>\n      <td>CURRENT_ASSETS</td>\n      <td>NaN</td>\n      <td>Wells Fargo Bank</td>\n    </tr>\n    <tr>\n      <th>3</th>\n      <td>11500</td>\n      <td>BS</td>\n      <td>DEBIT</td>\n      <td>ASSETS</td>\n      <td>CURRENT_ASSETS</td>\n      <td>NaN</td>\n      <td>Cash on Hand, Petty Cash</td>\n    </tr>\n    <tr>\n      <th>4</th>\n      <td>12000</td>\n      <td>BS</td>\n      <td>DEBIT</td>\n      <td>ASSETS</td>\n      <td>CURRENT_ASSETS</td>\n      <td>ACCOUNTS_RECEIVABLE</td>\n      <td>Accounts Receivable</td>\n    </tr>\n    <tr>\n      <th>...</th>\n      <td>...</td>\n      <td>...</td>\n      <td>...</td>\n      <td>...</td>\n      <td>...</td>\n      <td>...</td>\n      <td>...</td>\n    </tr>\n    <tr>\n      <th>114</th>\n      <td>22400</td>\n      <td>BS</td>\n      <td>CREDIT</td>\n      <td>LIABILITIES</td>\n      <td>LONG_TERM_LIABILITIES</td>\n      <td>OTHER_LONG_TERM_LIABILITIES</td>\n      <td>MD Unemployment</td>\n    </tr>\n    <tr>\n      <th>115</th>\n      <td>60500</td>\n      <td>IS</td>\n      <td>DEBIT</td>\n      <td>OPERATING_EXPENSES</td>\n      <td>FACILITIES</td>\n      <td>NaN</td>\n      <td>Payroll Suspense</td>\n    </tr>\n    <tr>\n      <th>116</th>\n      <td>50800</td>\n      <td>IS</td>\n      <td>DEBIT</td>\n      <td>OPERATING_EXPENSES</td>\n      <td>FRINGE</td>\n      <td>NaN</td>\n      <td>401 K Adm. Fees/Principal</td>\n    </tr>\n    <tr>\n      <th>117</th>\n      <td>34600</td>\n      <td>IS</td>\n      <td>CREDIT</td>\n      <td>REVENUE</td>\n      <td>OTHER_REVENUE</td>\n      <td>NaN</td>\n      <td>Other Income</td>\n    </tr>\n    <tr>\n      <th>118</th>\n      <td>23400</td>\n      <td>BS</td>\n      <td>CREDIT</td>\n      <td>LIABILITIES</td>\n      <td>LONG_TERM_LIABILITIES</td>\n      <td>OTHER_LONG_TERM_LIABILITIES</td>\n      <td>Deferred Income</td>\n    </tr>\n  </tbody>\n</table>\n<p>119 rows × 7 columns</p>\n</div>"
     },
     "execution_count": 4,
     "metadata": {},
     "output_type": "execute_result"
    }
   ],
   "source": [
    "# accounts.trial_balances.columns\n",
    "# accounts.build_detailed_account_mapping()\n",
    "from finance_model.finance_enums import AccountLevel\n",
    "accounts.detailed_account_map.loc[:, AccountLevel.ACCOUNT_NO]\n",
    "accounts.detailed_account_map\n",
    "# accounts.sorted_accounts()"
   ],
   "metadata": {
    "collapsed": false,
    "ExecuteTime": {
     "end_time": "2023-11-05T01:42:22.365741100Z",
     "start_time": "2023-11-05T01:42:22.355635400Z"
    }
   }
  },
  {
   "cell_type": "markdown",
   "source": [
    "# Revenue Calculations"
   ],
   "metadata": {
    "collapsed": false
   }
  },
  {
   "cell_type": "code",
   "execution_count": null,
   "outputs": [],
   "source": [
    "data, label, sub_data_names = accounts.get_data_to_plot('bs_is', 'is', 'category', yearly=True)\n",
    "gross_profit = data['revenue'] + data['cost of goods sold']\n",
    "net_profit = gross_profit + data['operating expenses'] + data['other expenses']\n",
    "\n",
    "revenue = data['revenue']\n",
    "revenue\n",
    "# revenue[6] * 12 / 7\n"
   ],
   "metadata": {
    "collapsed": false
   }
  },
  {
   "cell_type": "markdown",
   "source": [
    "# Margin Calculations"
   ],
   "metadata": {
    "collapsed": false
   }
  },
  {
   "cell_type": "code",
   "execution_count": null,
   "outputs": [],
   "source": [
    "\n",
    "net_margin = net_profit / revenue\n",
    "net_margin.name = 'net margin'\n",
    "gross_margin = gross_profit / revenue\n",
    "gross_margin.name = 'gross margin'\n",
    "\n",
    "margins = pd.concat([gross_margin,net_margin], axis=1)\n",
    "margins\n",
    "\n"
   ],
   "metadata": {
    "collapsed": false
   }
  },
  {
   "cell_type": "markdown",
   "source": [
    "# Working Capital Calculations"
   ],
   "metadata": {
    "collapsed": false
   }
  },
  {
   "cell_type": "code",
   "execution_count": null,
   "outputs": [],
   "source": [
    "asset_data, asset_label, sub_data_names = accounts.get_data_to_plot('category', 'assets', 'sub_category', yearly=True)\n",
    "liability_data, liability_label, sub_data_names = accounts.get_data_to_plot('category', 'Liabilities', 'sub_category', yearly=True)\n",
    "al_data = pd.concat([asset_data, liability_data], axis=1)\n",
    "working_capital = al_data['current assets'] + al_data['current liabilities']\n",
    "working_capital.name = 'working capital'\n",
    "working_capital"
   ],
   "metadata": {
    "collapsed": false
   }
  },
  {
   "cell_type": "code",
   "execution_count": null,
   "outputs": [],
   "source": [
    "asset_data\n",
    "data"
   ],
   "metadata": {
    "collapsed": false
   }
  },
  {
   "cell_type": "code",
   "execution_count": null,
   "outputs": [],
   "source": [
    "current_asset_data, ca_label, ca_sub_data = accounts.get_data_to_plot('sub_category', 'current assets', 'sub_account', yearly=True)\n",
    "current_asset_data"
   ],
   "metadata": {
    "collapsed": false
   }
  },
  {
   "cell_type": "code",
   "execution_count": null,
   "outputs": [],
   "source": [
    "working_capital - current_asset_data['cash and equivelents']\n"
   ],
   "metadata": {
    "collapsed": false
   }
  },
  {
   "cell_type": "markdown",
   "source": [
    "## Getting Working Capital Info for Export"
   ],
   "metadata": {
    "collapsed": false
   }
  },
  {
   "cell_type": "code",
   "execution_count": null,
   "outputs": [],
   "source": [
    "categories = [\"current assets\", \"other assets\", \"property and equiptment\", \"accounts payable\", \"current liabilities\", \"long term liabilities\"]\n",
    "data = accounts.get_data_rows('sub_category', categories, yearly=True)\n",
    "data"
   ],
   "metadata": {
    "collapsed": false
   }
  },
  {
   "cell_type": "code",
   "execution_count": null,
   "outputs": [],
   "source": [
    "data.to_csv('working capital.csv')"
   ],
   "metadata": {
    "collapsed": false
   }
  },
  {
   "cell_type": "code",
   "execution_count": null,
   "outputs": [],
   "source": [
    "accounts.detailed_account_mapping"
   ],
   "metadata": {
    "collapsed": false
   }
  },
  {
   "cell_type": "code",
   "execution_count": null,
   "outputs": [],
   "source": [
    "data['cost of goods sold'] / data['revenue']"
   ],
   "metadata": {
    "collapsed": false
   }
  },
  {
   "cell_type": "code",
   "execution_count": null,
   "outputs": [],
   "source": [
    "accounts.trial_balances[70100]"
   ],
   "metadata": {
    "collapsed": false
   }
  },
  {
   "cell_type": "markdown",
   "source": [
    "# Discresionary Expenses"
   ],
   "metadata": {
    "collapsed": false
   }
  },
  {
   "cell_type": "code",
   "execution_count": null,
   "outputs": [],
   "source": [
    "dis_oh  = accounts.get_data_to_plot('sub_account', 'Overhead', 'account', yearly=True)[0]\n",
    "\n",
    "dis_oh[['Travel, Not job related', 'Meals & Entertainment']]\n",
    "\n",
    "\n",
    "# accounts.accounts"
   ],
   "metadata": {
    "collapsed": false
   }
  },
  {
   "cell_type": "code",
   "execution_count": null,
   "outputs": [],
   "source": [
    "dis_unallowable  = accounts.get_data_to_plot('sub_account', 'Unallowable', 'account', yearly=True)[0]\n",
    "dis_unallowable"
   ],
   "metadata": {
    "collapsed": false
   }
  },
  {
   "cell_type": "code",
   "execution_count": null,
   "outputs": [],
   "source": [
    "nonrecurring  = accounts.get_data_to_plot('sub_account', 'other revenue', 'account', yearly=True)[0]\n",
    "nonrecurring\n",
    "# accounts.accounts\n",
    "# accounts.trial_balances"
   ],
   "metadata": {
    "collapsed": false
   }
  },
  {
   "cell_type": "markdown",
   "source": [
    "# Calculations\n"
   ],
   "metadata": {
    "collapsed": false
   }
  },
  {
   "cell_type": "code",
   "execution_count": null,
   "outputs": [],
   "source": [
    "accounts.account_mapping"
   ],
   "metadata": {
    "collapsed": false
   }
  },
  {
   "cell_type": "code",
   "execution_count": null,
   "outputs": [],
   "source": [
    "accounts.account_mapping.columns.to_list()[2:]"
   ],
   "metadata": {
    "collapsed": false
   }
  },
  {
   "cell_type": "code",
   "execution_count": null,
   "outputs": [],
   "source": [
    "rev_data, label, sub_data_names = accounts.get_data_to_plot('sub_account', 'contract', 'account', yearly=True)"
   ],
   "metadata": {
    "collapsed": false
   }
  },
  {
   "cell_type": "code",
   "execution_count": null,
   "outputs": [],
   "source": [
    "rev_data = rev_data.T * -1\n",
    "\n",
    "rev_data"
   ],
   "metadata": {
    "collapsed": false
   }
  },
  {
   "cell_type": "code",
   "execution_count": null,
   "outputs": [],
   "source": [
    "rev_data.to_excel(\"documents/revenue by contracts.xlsx\")"
   ],
   "metadata": {
    "collapsed": false
   }
  },
  {
   "cell_type": "code",
   "execution_count": null,
   "outputs": [],
   "source": [
    "sub_data_names"
   ],
   "metadata": {
    "collapsed": false
   }
  },
  {
   "cell_type": "code",
   "execution_count": null,
   "outputs": [],
   "source": [
    "exp_data, label, sub_data_names = accounts.get_data_to_plot('category', 'operating expenses', 'account', yearly=True)"
   ],
   "metadata": {
    "collapsed": false
   }
  },
  {
   "cell_type": "code",
   "execution_count": null,
   "outputs": [],
   "source": [
    "exp_data"
   ],
   "metadata": {
    "collapsed": false
   }
  },
  {
   "cell_type": "code",
   "execution_count": null,
   "outputs": [],
   "source": [
    "exp_data['PTO']"
   ],
   "metadata": {
    "collapsed": false
   }
  },
  {
   "cell_type": "code",
   "execution_count": null,
   "outputs": [],
   "source": [
    "salaries = ['Bonus Expense', 'Direct  Overhead Labor', 'Gen. & Admin Labor']\n",
    "exp_data.loc[:, salaries].sum(axis=1)"
   ],
   "metadata": {
    "collapsed": false
   }
  },
  {
   "cell_type": "code",
   "execution_count": null,
   "outputs": [],
   "source": [
    "fin_map = pd.read_excel('documents/finance map.xlsx')\n",
    "benefit_bool = fin_map['bank cat'] == 'Employee Benefits'\n",
    "wage_bool = fin_map['bank cat'] == 'Salaries & Wages'"
   ],
   "metadata": {
    "collapsed": false
   }
  },
  {
   "cell_type": "code",
   "execution_count": null,
   "outputs": [],
   "source": [
    "wage = fin_map.loc[wage_bool, 'trial balance'].to_list()\n",
    "exp_data.loc[:, wage].T"
   ],
   "metadata": {
    "collapsed": false
   }
  },
  {
   "cell_type": "code",
   "execution_count": null,
   "outputs": [],
   "source": [
    "benefit = fin_map.loc[benefit_bool, 'trial balance'].to_list()\n",
    "exp_data.loc[:, benefit].T"
   ],
   "metadata": {
    "collapsed": false
   }
  },
  {
   "cell_type": "code",
   "execution_count": null,
   "outputs": [],
   "source": [
    "fica = exp_data['FICA & Med. Withholding']"
   ],
   "metadata": {
    "collapsed": false
   }
  },
  {
   "cell_type": "code",
   "execution_count": null,
   "outputs": [],
   "source": [
    "fica / revenue"
   ],
   "metadata": {
    "collapsed": false
   }
  },
  {
   "cell_type": "code",
   "execution_count": null,
   "outputs": [],
   "source": [
    "cogs_data, label, sub_data_names = accounts.get_data_to_plot('sub_account', 'cost of goods sold', 'account', yearly=True)"
   ],
   "metadata": {
    "collapsed": false
   }
  },
  {
   "cell_type": "code",
   "execution_count": null,
   "outputs": [],
   "source": [
    "cogs_data.T"
   ],
   "metadata": {
    "collapsed": false
   }
  },
  {
   "cell_type": "code",
   "execution_count": null,
   "outputs": [],
   "source": [
    "revenue"
   ],
   "metadata": {
    "collapsed": false
   }
  },
  {
   "cell_type": "markdown",
   "source": [
    "# Trial Balance Read Code"
   ],
   "metadata": {
    "collapsed": false
   }
  },
  {
   "cell_type": "code",
   "execution_count": null,
   "outputs": [],
   "source": [
    "from finance_model.read_trial_balances import read_trial_balance, clean_trial_balance\n",
    "\n",
    "file_name = 'HazTrain TB.2023 by month GENAESIS Confidential.xlsx'\n",
    "path = f'documents\\\\trial_balances\\\\{file_name}'\n",
    "xls = pd.ExcelFile(path)\n",
    "year = 2023\n",
    "month = 5\n",
    "\n",
    "jun23 = read_trial_balance(xls, year, month)"
   ],
   "metadata": {
    "collapsed": false
   }
  },
  {
   "cell_type": "code",
   "execution_count": null,
   "outputs": [],
   "source": [
    "jun23"
   ],
   "metadata": {
    "collapsed": false
   }
  },
  {
   "cell_type": "code",
   "execution_count": null,
   "outputs": [],
   "source": [
    "clean_trial_balance(jun23)"
   ],
   "metadata": {
    "collapsed": false
   }
  },
  {
   "cell_type": "code",
   "execution_count": null,
   "outputs": [],
   "source": [
    "jun23"
   ],
   "metadata": {
    "collapsed": false
   }
  },
  {
   "cell_type": "code",
   "execution_count": null,
   "outputs": [],
   "source": [
    "jun23[[0]]"
   ],
   "metadata": {
    "collapsed": false
   }
  },
  {
   "cell_type": "code",
   "execution_count": null,
   "outputs": [],
   "source": [
    "xls.close()"
   ],
   "metadata": {
    "collapsed": false
   }
  },
  {
   "cell_type": "code",
   "execution_count": null,
   "outputs": [],
   "source": [
    "0 in jun23.index"
   ],
   "metadata": {
    "collapsed": false
   }
  },
  {
   "cell_type": "code",
   "execution_count": null,
   "outputs": [],
   "source": [],
   "metadata": {
    "collapsed": false
   }
  }
 ],
 "metadata": {
  "kernelspec": {
   "display_name": "Python 3",
   "language": "python",
   "name": "python3"
  },
  "language_info": {
   "codemirror_mode": {
    "name": "ipython",
    "version": 2
   },
   "file_extension": ".py",
   "mimetype": "text/x-python",
   "name": "python",
   "nbconvert_exporter": "python",
   "pygments_lexer": "ipython2",
   "version": "2.7.6"
  }
 },
 "nbformat": 4,
 "nbformat_minor": 0
}
