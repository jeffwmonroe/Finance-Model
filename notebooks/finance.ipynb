{
 "cells": [
  {
   "cell_type": "code",
   "execution_count": 1,
   "outputs": [
    {
     "name": "stdout",
     "output_type": "stream",
     "text": [
      "loading environment variables\n",
      "cwd = D:\\Coding\\Finance-Model\\notebooks\n",
      "inside of notebook directory\n",
      "   setting new working directory: D:\\Coding\\Finance-Model\n"
     ]
    }
   ],
   "source": [
    "from finance_model.chart_of_accounts import ChartOfAccounts, unpickle_accounts\n",
    "import pandas as pd\n",
    "import matplotlib.pyplot as plt\n",
    "import numpy as np\n",
    "import pickle"
   ],
   "metadata": {
    "collapsed": false,
    "ExecuteTime": {
     "end_time": "2023-11-02T00:18:37.255194900Z",
     "start_time": "2023-11-02T00:18:36.747658800Z"
    }
   }
  },
  {
   "cell_type": "code",
   "execution_count": 2,
   "outputs": [
    {
     "name": "stdout",
     "output_type": "stream",
     "text": [
      "Total duration for function <unpickle_accounts> is 0.0016279999981634319\n"
     ]
    }
   ],
   "source": [
    "pickle = True\n",
    "\n",
    "if pickle:\n",
    "    accounts = unpickle_accounts()\n",
    "else:\n",
    "    accounts = ChartOfAccounts()\n",
    "    accounts.account_mapping\n",
    "    accounts.trial_balances"
   ],
   "metadata": {
    "collapsed": false,
    "ExecuteTime": {
     "end_time": "2023-11-02T00:18:38.278951600Z",
     "start_time": "2023-11-02T00:18:38.269137700Z"
    }
   }
  },
  {
   "cell_type": "markdown",
   "source": [
    "# Revenue Calculations"
   ],
   "metadata": {
    "collapsed": false
   }
  },
  {
   "cell_type": "code",
   "execution_count": 3,
   "outputs": [
    {
     "name": "stdout",
     "output_type": "stream",
     "text": [
      "get_data_to_plot bs_is\n",
      "level = bs_is\n",
      "Total duration for function <get_data_to_plot> is 0.004703399958088994\n"
     ]
    },
    {
     "data": {
      "text/plain": "2017-12-31   -7652539.23\n2018-12-31   -7742140.86\n2019-12-31   -8539304.75\n2020-12-31   -8348033.51\n2021-12-31   -7731340.50\n2022-12-31   -9089565.49\n2023-08-31   -6926625.16\nName: revenue, dtype: float64"
     },
     "execution_count": 3,
     "metadata": {},
     "output_type": "execute_result"
    }
   ],
   "source": [
    "data, label, sub_data_names = accounts.get_data_to_plot('bs_is', 'is', 'category', yearly=True)\n",
    "gross_profit = data['revenue'] + data['cost of goods sold']\n",
    "net_profit = gross_profit + data['operating expenses'] + data['other expenses']\n",
    "\n",
    "revenue = data['revenue']\n",
    "revenue\n",
    "# revenue[6] * 12 / 7\n"
   ],
   "metadata": {
    "collapsed": false,
    "ExecuteTime": {
     "end_time": "2023-11-02T00:19:27.719282600Z",
     "start_time": "2023-11-02T00:19:27.703728Z"
    }
   }
  },
  {
   "cell_type": "markdown",
   "source": [
    "# Margin Calculations"
   ],
   "metadata": {
    "collapsed": false
   }
  },
  {
   "cell_type": "code",
   "execution_count": null,
   "outputs": [],
   "source": [
    "\n",
    "net_margin = net_profit / revenue\n",
    "net_margin.name = 'net margin'\n",
    "gross_margin = gross_profit / revenue\n",
    "gross_margin.name = 'gross margin'\n",
    "\n",
    "margins = pd.concat([gross_margin,net_margin], axis=1)\n",
    "margins\n",
    "\n"
   ],
   "metadata": {
    "collapsed": false
   }
  },
  {
   "cell_type": "markdown",
   "source": [
    "# Working Capital Calculations"
   ],
   "metadata": {
    "collapsed": false
   }
  },
  {
   "cell_type": "code",
   "execution_count": null,
   "outputs": [],
   "source": [
    "asset_data, asset_label, sub_data_names = accounts.get_data_to_plot('category', 'assets', 'sub_category', yearly=True)\n",
    "liability_data, liability_label, sub_data_names = accounts.get_data_to_plot('category', 'Liabilities', 'sub_category', yearly=True)\n",
    "al_data = pd.concat([asset_data, liability_data], axis=1)\n",
    "working_capital = al_data['current assets'] + al_data['current liabilities']\n",
    "working_capital.name = 'working capital'\n",
    "working_capital"
   ],
   "metadata": {
    "collapsed": false
   }
  },
  {
   "cell_type": "code",
   "execution_count": null,
   "outputs": [],
   "source": [
    "asset_data\n",
    "data"
   ],
   "metadata": {
    "collapsed": false
   }
  },
  {
   "cell_type": "code",
   "execution_count": null,
   "outputs": [],
   "source": [
    "current_asset_data, ca_label, ca_sub_data = accounts.get_data_to_plot('sub_category', 'current assets', 'sub_account', yearly=True)\n",
    "current_asset_data"
   ],
   "metadata": {
    "collapsed": false
   }
  },
  {
   "cell_type": "code",
   "execution_count": null,
   "outputs": [],
   "source": [
    "working_capital - current_asset_data['cash and equivelents']\n"
   ],
   "metadata": {
    "collapsed": false
   }
  },
  {
   "cell_type": "markdown",
   "source": [
    "## Getting Working Capital Info for Export"
   ],
   "metadata": {
    "collapsed": false
   }
  },
  {
   "cell_type": "code",
   "execution_count": null,
   "outputs": [],
   "source": [
    "categories = [\"current assets\", \"other assets\", \"property and equiptment\", \"accounts payable\", \"current liabilities\", \"long term liabilities\"]\n",
    "data = accounts.get_data_rows('sub_category', categories, yearly=True)\n",
    "data"
   ],
   "metadata": {
    "collapsed": false
   }
  },
  {
   "cell_type": "code",
   "execution_count": null,
   "outputs": [],
   "source": [
    "data.to_csv('working capital.csv')"
   ],
   "metadata": {
    "collapsed": false
   }
  },
  {
   "cell_type": "code",
   "execution_count": null,
   "outputs": [],
   "source": [
    "accounts.detailed_account_mapping"
   ],
   "metadata": {
    "collapsed": false
   }
  },
  {
   "cell_type": "code",
   "execution_count": null,
   "outputs": [],
   "source": [
    "data['cost of goods sold'] / data['revenue']"
   ],
   "metadata": {
    "collapsed": false
   }
  },
  {
   "cell_type": "code",
   "execution_count": null,
   "outputs": [],
   "source": [
    "accounts.trial_balances[70100]"
   ],
   "metadata": {
    "collapsed": false
   }
  },
  {
   "cell_type": "markdown",
   "source": [
    "# Discresionary Expenses"
   ],
   "metadata": {
    "collapsed": false
   }
  },
  {
   "cell_type": "code",
   "execution_count": null,
   "outputs": [],
   "source": [
    "dis_oh  = accounts.get_data_to_plot('sub_account', 'Overhead', 'account', yearly=True)[0]\n",
    "\n",
    "dis_oh[['Travel, Not job related', 'Meals & Entertainment']]\n",
    "\n",
    "\n",
    "# accounts.accounts"
   ],
   "metadata": {
    "collapsed": false
   }
  },
  {
   "cell_type": "code",
   "execution_count": null,
   "outputs": [],
   "source": [
    "dis_unallowable  = accounts.get_data_to_plot('sub_account', 'Unallowable', 'account', yearly=True)[0]\n",
    "dis_unallowable"
   ],
   "metadata": {
    "collapsed": false
   }
  },
  {
   "cell_type": "code",
   "execution_count": null,
   "outputs": [],
   "source": [
    "nonrecurring  = accounts.get_data_to_plot('sub_account', 'other revenue', 'account', yearly=True)[0]\n",
    "nonrecurring\n",
    "# accounts.accounts\n",
    "# accounts.trial_balances"
   ],
   "metadata": {
    "collapsed": false
   }
  },
  {
   "cell_type": "markdown",
   "source": [
    "# Calculations\n"
   ],
   "metadata": {
    "collapsed": false
   }
  },
  {
   "cell_type": "code",
   "execution_count": null,
   "outputs": [],
   "source": [
    "accounts.account_mapping"
   ],
   "metadata": {
    "collapsed": false
   }
  },
  {
   "cell_type": "code",
   "execution_count": null,
   "outputs": [],
   "source": [
    "accounts.account_mapping.columns.to_list()[2:]"
   ],
   "metadata": {
    "collapsed": false
   }
  },
  {
   "cell_type": "code",
   "execution_count": null,
   "outputs": [],
   "source": [
    "rev_data, label, sub_data_names = accounts.get_data_to_plot('sub_account', 'contract', 'account', yearly=True)"
   ],
   "metadata": {
    "collapsed": false
   }
  },
  {
   "cell_type": "code",
   "execution_count": null,
   "outputs": [],
   "source": [
    "rev_data = rev_data.T * -1\n",
    "\n",
    "rev_data"
   ],
   "metadata": {
    "collapsed": false
   }
  },
  {
   "cell_type": "code",
   "execution_count": null,
   "outputs": [],
   "source": [
    "rev_data.to_excel(\"documents/revenue by contracts.xlsx\")"
   ],
   "metadata": {
    "collapsed": false
   }
  },
  {
   "cell_type": "code",
   "execution_count": null,
   "outputs": [],
   "source": [
    "sub_data_names"
   ],
   "metadata": {
    "collapsed": false
   }
  },
  {
   "cell_type": "code",
   "execution_count": null,
   "outputs": [],
   "source": [
    "exp_data, label, sub_data_names = accounts.get_data_to_plot('category', 'operating expenses', 'account', yearly=True)"
   ],
   "metadata": {
    "collapsed": false
   }
  },
  {
   "cell_type": "code",
   "execution_count": null,
   "outputs": [],
   "source": [
    "exp_data"
   ],
   "metadata": {
    "collapsed": false
   }
  },
  {
   "cell_type": "code",
   "execution_count": null,
   "outputs": [],
   "source": [
    "exp_data['PTO']"
   ],
   "metadata": {
    "collapsed": false
   }
  },
  {
   "cell_type": "code",
   "execution_count": null,
   "outputs": [],
   "source": [
    "salaries = ['Bonus Expense', 'Direct  Overhead Labor', 'Gen. & Admin Labor']\n",
    "exp_data.loc[:, salaries].sum(axis=1)"
   ],
   "metadata": {
    "collapsed": false
   }
  },
  {
   "cell_type": "code",
   "execution_count": null,
   "outputs": [],
   "source": [
    "fin_map = pd.read_excel('documents/finance map.xlsx')\n",
    "benefit_bool = fin_map['bank cat'] == 'Employee Benefits'\n",
    "wage_bool = fin_map['bank cat'] == 'Salaries & Wages'"
   ],
   "metadata": {
    "collapsed": false
   }
  },
  {
   "cell_type": "code",
   "execution_count": null,
   "outputs": [],
   "source": [
    "wage = fin_map.loc[wage_bool, 'trial balance'].to_list()\n",
    "exp_data.loc[:, wage].T"
   ],
   "metadata": {
    "collapsed": false
   }
  },
  {
   "cell_type": "code",
   "execution_count": null,
   "outputs": [],
   "source": [
    "benefit = fin_map.loc[benefit_bool, 'trial balance'].to_list()\n",
    "exp_data.loc[:, benefit].T"
   ],
   "metadata": {
    "collapsed": false
   }
  },
  {
   "cell_type": "code",
   "execution_count": null,
   "outputs": [],
   "source": [
    "fica = exp_data['FICA & Med. Withholding']"
   ],
   "metadata": {
    "collapsed": false
   }
  },
  {
   "cell_type": "code",
   "execution_count": null,
   "outputs": [],
   "source": [
    "fica / revenue"
   ],
   "metadata": {
    "collapsed": false
   }
  },
  {
   "cell_type": "code",
   "execution_count": null,
   "outputs": [],
   "source": [
    "cogs_data, label, sub_data_names = accounts.get_data_to_plot('sub_account', 'cost of goods sold', 'account', yearly=True)"
   ],
   "metadata": {
    "collapsed": false
   }
  },
  {
   "cell_type": "code",
   "execution_count": null,
   "outputs": [],
   "source": [
    "cogs_data.T"
   ],
   "metadata": {
    "collapsed": false
   }
  },
  {
   "cell_type": "code",
   "execution_count": null,
   "outputs": [],
   "source": [
    "revenue"
   ],
   "metadata": {
    "collapsed": false
   }
  },
  {
   "cell_type": "markdown",
   "source": [
    "# Trial Balance Read Code"
   ],
   "metadata": {
    "collapsed": false
   }
  },
  {
   "cell_type": "code",
   "execution_count": null,
   "outputs": [],
   "source": [
    "from finance_model.read_trial_balances import read_trial_balance, clean_trial_balance\n",
    "\n",
    "file_name = 'HazTrain TB.2023 by month GENAESIS Confidential.xlsx'\n",
    "path = f'documents\\\\trial_balances\\\\{file_name}'\n",
    "xls = pd.ExcelFile(path)\n",
    "year = 2023\n",
    "month = 5\n",
    "\n",
    "jun23 = read_trial_balance(xls, year, month)"
   ],
   "metadata": {
    "collapsed": false
   }
  },
  {
   "cell_type": "code",
   "execution_count": null,
   "outputs": [],
   "source": [
    "jun23"
   ],
   "metadata": {
    "collapsed": false
   }
  },
  {
   "cell_type": "code",
   "execution_count": null,
   "outputs": [],
   "source": [
    "clean_trial_balance(jun23)"
   ],
   "metadata": {
    "collapsed": false
   }
  },
  {
   "cell_type": "code",
   "execution_count": null,
   "outputs": [],
   "source": [
    "jun23"
   ],
   "metadata": {
    "collapsed": false
   }
  },
  {
   "cell_type": "code",
   "execution_count": null,
   "outputs": [],
   "source": [
    "jun23[[0]]"
   ],
   "metadata": {
    "collapsed": false
   }
  },
  {
   "cell_type": "code",
   "execution_count": null,
   "outputs": [],
   "source": [
    "xls.close()"
   ],
   "metadata": {
    "collapsed": false
   }
  },
  {
   "cell_type": "code",
   "execution_count": null,
   "outputs": [],
   "source": [
    "0 in jun23.index"
   ],
   "metadata": {
    "collapsed": false
   }
  },
  {
   "cell_type": "code",
   "execution_count": null,
   "outputs": [],
   "source": [],
   "metadata": {
    "collapsed": false
   }
  }
 ],
 "metadata": {
  "kernelspec": {
   "display_name": "Python 3",
   "language": "python",
   "name": "python3"
  },
  "language_info": {
   "codemirror_mode": {
    "name": "ipython",
    "version": 2
   },
   "file_extension": ".py",
   "mimetype": "text/x-python",
   "name": "python",
   "nbconvert_exporter": "python",
   "pygments_lexer": "ipython2",
   "version": "2.7.6"
  }
 },
 "nbformat": 4,
 "nbformat_minor": 0
}
